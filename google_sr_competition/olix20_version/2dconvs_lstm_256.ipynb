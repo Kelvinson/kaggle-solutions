{
 "cells": [
  {
   "cell_type": "code",
   "execution_count": 2,
   "metadata": {
    "ExecuteTime": {
     "end_time": "2017-11-17T09:03:29.196238Z",
     "start_time": "2017-11-17T09:03:28.644004Z"
    },
    "_cell_guid": "679e0d3e-646d-4e96-9eb0-b362d8c6e51f",
    "_uuid": "0d05e5ce89af3e25d1c1fb244d021a1cfa1a058c"
   },
   "outputs": [
    {
     "name": "stderr",
     "output_type": "stream",
     "text": [
      "Using TensorFlow backend.\n"
     ]
    }
   ],
   "source": [
    "from utils import *\n",
    "import array \n",
    "\n",
    "from pydub import AudioSegment\n",
    "import tensorflow as tf\n",
    "\n",
    "from keras.models import Model, Sequential\n",
    "from keras.layers import Input, Conv2D, Flatten, GlobalMaxPooling2D , GlobalMaxPooling1D, MaxPooling2D, Activation, BatchNormalization, GlobalAveragePooling2D, GlobalMaxPool2D, concatenate, Dense, Dropout\n",
    "from keras.optimizers import Adam\n",
    "from tensorflow.python.keras.utils import to_categorical\n",
    "\n",
    "from keras.layers import Input, GRU, RepeatVector, BatchNormalization, TimeDistributed, Conv1D\n",
    "from keras.layers import GlobalAveragePooling1D, LSTM, MaxPooling1D\n",
    "from keras import backend as K\n",
    "from keras.layers import  Conv2D, MaxPooling2D, UpSampling2D, Lambda, Reshape\n",
    "import keras\n",
    "from keras.layers import AveragePooling1D\n",
    "from keras.layers import ConvLSTM2D, Bidirectional, CuDNNLSTM, LSTM\n",
    "\n",
    "from keras_tqdm import TQDMNotebookCallback\n",
    "from keras.callbacks import EarlyStopping, ModelCheckpoint, ReduceLROnPlateau\n",
    "import matplotlib.pyplot as plt\n",
    "import numba\n",
    "\n",
    "import dask.dataframe as dd\n",
    "from dask.multiprocessing import get\n",
    "\n",
    "%matplotlib inline"
   ]
  },
  {
   "cell_type": "code",
   "execution_count": 9,
   "metadata": {
    "ExecuteTime": {
     "end_time": "2017-11-17T09:03:29.210749Z",
     "start_time": "2017-11-17T09:03:29.19832Z"
    },
    "_cell_guid": "8ab00801-08b9-44d3-a063-32e82dbf8f58",
    "_uuid": "53c19941676690454dd4b91109976b6c59cb7a40"
   },
   "outputs": [
    {
     "data": {
      "text/plain": [
       "12"
      ]
     },
     "execution_count": 9,
     "metadata": {},
     "output_type": "execute_result"
    }
   ],
   "source": [
    "POSSIBLE_LABELS = 'yes no up down left right on off stop go silence unknown'.split()\n",
    "id2name = {i: name for i, name in enumerate(POSSIBLE_LABELS)}\n",
    "name2id = {name: i for i, name in id2name.items()}\n",
    "len(id2name)"
   ]
  },
  {
   "cell_type": "code",
   "execution_count": 3,
   "metadata": {},
   "outputs": [
    {
     "name": "stdout",
     "output_type": "stream",
     "text": [
      "CPU times: user 17.4 s, sys: 37.2 s, total: 54.6 s\n",
      "Wall time: 5min 32s\n"
     ]
    }
   ],
   "source": [
    "%%time \n",
    "\n",
    "train_df = pickle.load( open(\"cache/train_df_256_aug.pik\",\"rb\"))\n",
    "valid_df = pickle.load( open(\"cache/valid_df_256.pik\",\"rb\"))\n",
    "silent_df = pickle.load(open(\"cache/silent_df_256.pik\",\"rb\"))\n",
    "unknown_df = pickle.load(open(\"cache/unknown_df_256_aug.pik\",\"rb\"))\n",
    "test_df =  pickle.load(open(\"cache/test_df_256.pik\",\"rb\"))"
   ]
  },
  {
   "cell_type": "code",
   "execution_count": 4,
   "metadata": {},
   "outputs": [],
   "source": [
    "train_df.reset_index(inplace=True)\n",
    "valid_df.reset_index(inplace=True)\n",
    "unknown_df.reset_index(inplace=True)\n",
    "silent_df.reset_index(inplace=True)"
   ]
  },
  {
   "cell_type": "code",
   "execution_count": 5,
   "metadata": {},
   "outputs": [],
   "source": [
    "test_preds = np.load(\"cache/predictions_conv2dlstm_plus_longblend1.npy\")"
   ]
  },
  {
   "cell_type": "code",
   "execution_count": 6,
   "metadata": {
    "ExecuteTime": {
     "end_time": "2017-11-17T09:03:32.519795Z",
     "start_time": "2017-11-17T09:03:32.483881Z"
    },
    "_cell_guid": "144c6e60-8a83-437d-8b8a-ea065af90923",
    "_uuid": "22e0e6c718171167089fb6df36d3dc43a1029992"
   },
   "outputs": [],
   "source": [
    "#no augmentation since the auto encoder has already seen all the train AND test files \n",
    "\n",
    "def train_generator(train_batch_size):\n",
    "    while True:\n",
    "        \n",
    "        this_train = train_df.groupby('label_id').apply(lambda x: x.sample(n = 2000))\n",
    "        extra_data_size = int(this_train.shape[0]* 0.1)\n",
    "        this_train = pd.concat([silent_df.sample(extra_data_size),\n",
    "                                this_train,\n",
    "                                unknown_df.sample(extra_data_size*2)],axis=0 )\n",
    "        \n",
    "        this_train.reset_index(drop=True,inplace=True)\n",
    "        \n",
    "        shuffled_ids = random.sample(range(this_train.shape[0]), this_train.shape[0])\n",
    "        \n",
    "        for start in range(0, len(shuffled_ids), train_batch_size):\n",
    "            x_batch = []\n",
    "            y_batch = []\n",
    "            \n",
    "            end = min(start + train_batch_size, len(shuffled_ids))\n",
    "            i_train_batch = shuffled_ids[start:end]\n",
    "            for i in i_train_batch:\n",
    "                x_batch.append(this_train.loc[i,'raw'].T)\n",
    "#                 x_batch.append(process_wav_file(this_train.iloc[i], augment=True).T)\n",
    "\n",
    "                y_batch.append(this_train.label_id.values[i])\n",
    "                \n",
    "            x_batch = 1.- np.array(x_batch)/-80.\n",
    "            y_batch = to_categorical(y_batch, num_classes = len(POSSIBLE_LABELS))\n",
    "            \n",
    "            yield x_batch, y_batch"
   ]
  },
  {
   "cell_type": "code",
   "execution_count": 6,
   "metadata": {},
   "outputs": [
    {
     "name": "stdout",
     "output_type": "stream",
     "text": [
      "CPU times: user 124 ms, sys: 8 ms, total: 132 ms\n",
      "Wall time: 138 ms\n"
     ]
    }
   ],
   "source": [
    "%time t = next(train_generator(256))[0][0].T"
   ]
  },
  {
   "cell_type": "code",
   "execution_count": 7,
   "metadata": {
    "ExecuteTime": {
     "end_time": "2017-11-17T09:03:32.624289Z",
     "start_time": "2017-11-17T09:03:32.521828Z"
    },
    "_cell_guid": "59a13393-9bc3-4b27-abe2-9c78b3c32ead",
    "_uuid": "6f9a8fbf6e352b1c77b9c22dddf1c5d69382bd5b"
   },
   "outputs": [],
   "source": [
    "def valid_generator(val_batch_size):\n",
    "    while True:\n",
    "        ids = list(range(valid_df.shape[0]))\n",
    "        for start in range(0, len(ids), val_batch_size):\n",
    "            x_batch = []\n",
    "            y_batch = []\n",
    "            end = min(start + val_batch_size, len(ids))\n",
    "            i_val_batch = ids[start:end]\n",
    "            for i in i_val_batch:\n",
    "                x_batch.append(valid_df.loc[i,'raw'].T)\n",
    "                y_batch.append(valid_df.label_id.values[i])\n",
    "\n",
    "            x_batch = 1.- np.array(x_batch)/-80.\n",
    "            y_batch = to_categorical(y_batch, num_classes = len(POSSIBLE_LABELS))\n",
    "            yield x_batch, y_batch"
   ]
  },
  {
   "cell_type": "markdown",
   "metadata": {},
   "source": [
    "### forcing test predictions (hard - not soft)"
   ]
  },
  {
   "cell_type": "code",
   "execution_count": 32,
   "metadata": {},
   "outputs": [
    {
     "data": {
      "text/plain": [
       "array([ 0.,  0.,  0.,  0.,  0.,  0.,  0.,  0.,  0.,  0.,  0.,  1.])"
      ]
     },
     "execution_count": 32,
     "metadata": {},
     "output_type": "execute_result"
    }
   ],
   "source": [
    "to_categorical(name2id[\"unknown\"],num_classes = len(POSSIBLE_LABELS))[0]"
   ]
  },
  {
   "cell_type": "code",
   "execution_count": 8,
   "metadata": {},
   "outputs": [],
   "source": [
    "test_preds[np.where(test_preds.max(axis=1)<0.5)[0]] = to_categorical(name2id[\"unknown\"],num_classes = len(POSSIBLE_LABELS))[0]\n",
    "\n",
    "test_preds = to_categorical(np.argmax(test_preds, axis=1),num_classes = len(POSSIBLE_LABELS))\n"
   ]
  },
  {
   "cell_type": "code",
   "execution_count": 48,
   "metadata": {},
   "outputs": [],
   "source": [
    "# test_df[\"id\"] = test_df.index.values"
   ]
  },
  {
   "cell_type": "code",
   "execution_count": 50,
   "metadata": {},
   "outputs": [],
   "source": [
    "# test_df.reset_index(drop=True,inplace=True)\n",
    "\n",
    "# test_df.drop([\"level_0\",\"index\"],axis=1,inplace=True)"
   ]
  },
  {
   "cell_type": "code",
   "execution_count": 10,
   "metadata": {},
   "outputs": [],
   "source": [
    "def test_pseudo_generator(test_batch_size):\n",
    "    this_test = test_df #.sample(int(train_df.shape[0]//5* 0.1))\n",
    "    this_test[\"id\"] = this_test.index.values\n",
    "    \n",
    "#     this_test.reset_index(inplace=True)\n",
    "    while True:\n",
    "\n",
    "        shuffled_ids = random.sample(range(test_df.shape[0]), test_df.shape[0])\n",
    "\n",
    "        for start in range(0, len(test_df), test_batch_size):\n",
    "            x_batch = []\n",
    "            y_batch = []\n",
    "\n",
    "            end = min(start + test_batch_size, len(shuffled_ids))\n",
    "            i_test_batch = shuffled_ids[start:end]\n",
    "\n",
    "            for i in i_test_batch:\n",
    "                x_batch.append(test_df.loc[i,'raw'].T)\n",
    "    #                 x_batch.append(process_wav_file(this_train.iloc[i], augment=True).T)\n",
    "\n",
    "                y_batch.append(test_preds[test_df.loc[i,'id']])\n",
    "\n",
    "            x_batch = 1.- np.array(x_batch)/-80.\n",
    "            y_batch = np.array(y_batch)\n",
    "\n",
    "            yield x_batch, y_batch"
   ]
  },
  {
   "cell_type": "code",
   "execution_count": 42,
   "metadata": {},
   "outputs": [
    {
     "data": {
      "text/plain": [
       "1.0"
      ]
     },
     "execution_count": 42,
     "metadata": {},
     "output_type": "execute_result"
    }
   ],
   "source": [
    "next(test_pseudo_generator(14))[1].max()"
   ]
  },
  {
   "cell_type": "code",
   "execution_count": 11,
   "metadata": {},
   "outputs": [],
   "source": [
    "class MixIterator(object):\n",
    "    def __init__(self, iters):\n",
    "        self.iters = iters\n",
    "        self.multi = type(iters) is list\n",
    "\n",
    "        self.N = 64 \n",
    "\n",
    "    def reset(self):\n",
    "        for it in self.iters: it.reset()\n",
    "\n",
    "    def __iter__(self):\n",
    "        return self\n",
    "\n",
    "    def next(self, *args, **kwargs):\n",
    "\n",
    "        nexts = [next(it) for it in self.iters]\n",
    "#         print nexts[0][0].shape, nexts[1][0].shape\n",
    "        n0 = np.concatenate([n[0] for n in nexts])\n",
    "        n1 = np.concatenate([n[1] for n in nexts])\n",
    "        return (n0, n1)"
   ]
  },
  {
   "cell_type": "code",
   "execution_count": 44,
   "metadata": {},
   "outputs": [],
   "source": [
    "mi = MixIterator([train_generator(50), test_pseudo_generator(14)])\n"
   ]
  },
  {
   "cell_type": "code",
   "execution_count": 14,
   "metadata": {},
   "outputs": [],
   "source": [
    "# next(mi)"
   ]
  },
  {
   "cell_type": "code",
   "execution_count": 31,
   "metadata": {},
   "outputs": [
    {
     "data": {
      "text/plain": [
       "11    4221\n",
       "1      270\n",
       "3      264\n",
       "0      261\n",
       "2      260\n",
       "9      260\n",
       "10     257\n",
       "6      257\n",
       "7      256\n",
       "5      256\n",
       "4      247\n",
       "8      246\n",
       "Name: label_id, dtype: int64"
      ]
     },
     "execution_count": 31,
     "metadata": {},
     "output_type": "execute_result"
    }
   ],
   "source": [
    "valid_df.label_id.value_counts()"
   ]
  },
  {
   "cell_type": "code",
   "execution_count": 67,
   "metadata": {},
   "outputs": [
    {
     "name": "stdout",
     "output_type": "stream",
     "text": [
      "CPU times: user 8 ms, sys: 0 ns, total: 8 ms\n",
      "Wall time: 5.89 ms\n"
     ]
    }
   ],
   "source": [
    "%time t = next(valid_generator(64))"
   ]
  },
  {
   "cell_type": "code",
   "execution_count": 68,
   "metadata": {},
   "outputs": [
    {
     "data": {
      "text/plain": [
       "(256, 32)"
      ]
     },
     "execution_count": 68,
     "metadata": {},
     "output_type": "execute_result"
    }
   ],
   "source": [
    "valid_df.loc[0,'raw'].shape"
   ]
  },
  {
   "cell_type": "code",
   "execution_count": 69,
   "metadata": {
    "scrolled": true
   },
   "outputs": [
    {
     "data": {
      "text/plain": [
       "(64, 32, 256)"
      ]
     },
     "execution_count": 69,
     "metadata": {},
     "output_type": "execute_result"
    }
   ],
   "source": [
    "t[0].shape"
   ]
  },
  {
   "cell_type": "code",
   "execution_count": 7,
   "metadata": {},
   "outputs": [],
   "source": [
    "#a common practice is to choose a filter size in time which spans 2/3 o"
   ]
  },
  {
   "cell_type": "code",
   "execution_count": 8,
   "metadata": {},
   "outputs": [],
   "source": [
    "p = 0.3\n"
   ]
  },
  {
   "cell_type": "markdown",
   "metadata": {},
   "source": [
    "### Model"
   ]
  },
  {
   "cell_type": "code",
   "execution_count": 12,
   "metadata": {},
   "outputs": [],
   "source": [
    "def batch_relu(x):\n",
    "    x = BatchNormalization()(x)    \n",
    "    x = Activation('relu')(x)\n",
    "    \n",
    "    return x "
   ]
  },
  {
   "cell_type": "code",
   "execution_count": 13,
   "metadata": {},
   "outputs": [],
   "source": [
    "p = 0.\n",
    "\n",
    "def get_conv_stacks( x_in, filter_size=2):\n",
    "    \n",
    "#     x = BatchNormalization()(x_in)\n",
    "    \n",
    "    x =  Reshape((timesteps, input_dim,1))(x_in)\n",
    "    \n",
    "    \n",
    "    \n",
    "    x = Conv2D(32,(7,7),padding='same')(x) #was 32\n",
    "    x = batch_relu(x)\n",
    "\n",
    "    x = Conv2D(64,(3,3),padding='same')(x)\n",
    "    x = batch_relu(x)\n",
    "\n",
    "    \n",
    "    x = MaxPooling2D((1,3))(x)\n",
    "    \n",
    "    x = Conv2D(64,(3,3),padding='same')(x)\n",
    "    x = batch_relu(x)\n",
    "    x = Conv2D(64,(3,3),padding='same')(x)\n",
    "    x = batch_relu(x)\n",
    "\n",
    "    \n",
    "    \n",
    "    x = MaxPooling2D((2,3))(x)\n",
    "    \n",
    "\n",
    "    x = Conv2D(128,(3,3),padding='same')(x)\n",
    "    x = batch_relu(x)\n",
    "    x = Conv2D(128,(3,3),padding='same')(x)\n",
    "    x = batch_relu(x)\n",
    "\n",
    "    x = MaxPooling2D((1,3))(x)\n",
    "    \n",
    "    \n",
    "    x = Conv2D(128,(3,3),padding='same')(x)\n",
    "    x = batch_relu(x)\n",
    "    x = Conv2D(128,(3,3),padding='same')(x)\n",
    "    x = batch_relu(x)\n",
    "    print int(x.shape[-1]) * int(x.shape[-2])\n",
    "    x = Reshape((16,9*128))(x)\n",
    "    \n",
    "    x = Bidirectional(CuDNNLSTM(128,return_sequences=False))(x)\n",
    "\n",
    "\n",
    "\n",
    "    \n",
    "    return x"
   ]
  },
  {
   "cell_type": "code",
   "execution_count": 14,
   "metadata": {},
   "outputs": [
    {
     "name": "stdout",
     "output_type": "stream",
     "text": [
      "1152\n"
     ]
    }
   ],
   "source": [
    "# p = 0.3\n",
    "\n",
    "timesteps, input_dim , latent_dim = 32,256, 128\n",
    "\n",
    "x_logml = Input(shape=(timesteps, input_dim)) #1 channel, 99 time, 161 freqs # S : np.ndarray [shape=(n_mels, t)]\n",
    "\n",
    "x = get_conv_stacks(x_logml)\n",
    "# speaker_embedding = embedding(x_logml)\n",
    "\n",
    "\n",
    "# x = concatenate([x,speaker_embedding])\n",
    "x = Dense(128, activation = 'relu')(x) #\n",
    "x = Dropout(0.3)(x)\n",
    "\n",
    "\n",
    "\n",
    "x = Dense(len(POSSIBLE_LABELS), activation = 'softmax', name='targets')(x)\n",
    "\n",
    "\n"
   ]
  },
  {
   "cell_type": "code",
   "execution_count": 15,
   "metadata": {},
   "outputs": [],
   "source": [
    "\n",
    "model = Model(inputs = x_logml, outputs = x)\n",
    "model.compile(optimizer=Adam(lr=5*1e-5), loss='categorical_crossentropy', metrics=['accuracy'])\n"
   ]
  },
  {
   "cell_type": "code",
   "execution_count": 16,
   "metadata": {
    "scrolled": false
   },
   "outputs": [],
   "source": [
    "model.load_weights(\"weights/conv2d_wlstm_hardpseudo_withval.hdf5\")"
   ]
  },
  {
   "cell_type": "code",
   "execution_count": 52,
   "metadata": {},
   "outputs": [],
   "source": [
    "from keras.callbacks import TensorBoard\n",
    "exp_name = \"conv2d_wlstm_hardpseudo\" #max_freqconvs_2510_avgshortcuts\n",
    "callbacks = [EarlyStopping(monitor='val_loss',\n",
    "                           patience=5,\n",
    "                           verbose=1),\n",
    "             \n",
    "             ReduceLROnPlateau(monitor='val_loss',\n",
    "                               factor=0.1,\n",
    "                               patience=3,\n",
    "                               verbose=1,\n",
    "                               epsilon=0.01,\n",
    "                              min_lr=1e-5),\n",
    "             ModelCheckpoint(monitor='val_loss',\n",
    "                             filepath='weights/{}.hdf5'.format(exp_name),\n",
    "                             save_best_only=True,\n",
    "                             save_weights_only=True,\n",
    "                             mode='min')\n",
    "#              , TensorBoard(log_dir='./logs/logs_{}'.format(exp_name), histogram_freq=0, batch_size=64, write_graph=True)\n",
    "            ]"
   ]
  },
  {
   "cell_type": "markdown",
   "metadata": {},
   "source": [
    "soft pseudo:\n",
    "Epoch 4/100\n",
    "329/329 [==============================] - 105s 320ms/step - loss: 0.1513 - acc: 0.9739 - val_loss: 0.0916 - val_acc: 0.9724\n",
    "\n",
    "soft pseudo - with val Epoch 10/10\n",
    "329/329 [==============================] - 105s 320ms/step - loss: 0.1532 - acc: 0.9735 - val_loss: 0.0827 - val_acc: 0.9753\n",
    "\n",
    "\n",
    "hard pseudo \n",
    "Epoch 4/100\n",
    "329/329 [==============================] - 105s 321ms/step - loss: 0.0783 - acc: 0.9731 - val_loss: 0.0953 - val_acc: 0.9743\n",
    "\n",
    "\n",
    "hard pseudo + val \n",
    "Epoch 10/100\n",
    "329/329 [==============================] - 106s 323ms/step - loss: 0.0637 - acc: 0.9801 - val_loss: 0.0532 - val_acc: 0.9850"
   ]
  },
  {
   "cell_type": "code",
   "execution_count": 53,
   "metadata": {
    "ExecuteTime": {
     "end_time": "2017-11-17T09:42:31.48233Z",
     "start_time": "2017-11-17T09:03:33.355603Z"
    },
    "_cell_guid": "5f3d1b09-500f-410e-820a-8eaab24b6ebb",
    "_uuid": "528ec66a0a6caca952273ab916e609625839b19e",
    "scrolled": false
   },
   "outputs": [
    {
     "name": "stdout",
     "output_type": "stream",
     "text": [
      "Epoch 1/100\n",
      "329/329 [==============================] - 110s 333ms/step - loss: 0.0863 - acc: 0.9712 - val_loss: 0.1016 - val_acc: 0.9724\n",
      "Epoch 2/100\n",
      "329/329 [==============================] - 106s 321ms/step - loss: 0.0841 - acc: 0.9708 - val_loss: 0.0973 - val_acc: 0.9748\n",
      "Epoch 3/100\n",
      "329/329 [==============================] - 106s 321ms/step - loss: 0.0753 - acc: 0.9745 - val_loss: 0.0980 - val_acc: 0.9735\n",
      "Epoch 4/100\n",
      "329/329 [==============================] - 105s 321ms/step - loss: 0.0783 - acc: 0.9731 - val_loss: 0.0953 - val_acc: 0.9743\n",
      "Epoch 5/100\n",
      "328/329 [============================>.] - ETA: 0s - loss: 0.0783 - acc: 0.9750\n",
      "Epoch 00005: reducing learning rate to 1e-05.\n",
      "329/329 [==============================] - 105s 320ms/step - loss: 0.0782 - acc: 0.9750 - val_loss: 0.1039 - val_acc: 0.9740\n",
      "Epoch 6/100\n",
      "329/329 [==============================] - 106s 321ms/step - loss: 0.0710 - acc: 0.9758 - val_loss: 0.0966 - val_acc: 0.9754\n",
      "Epoch 7/100\n",
      "329/329 [==============================] - 105s 321ms/step - loss: 0.0742 - acc: 0.9757 - val_loss: 0.0974 - val_acc: 0.9751\n",
      "Epoch 8/100\n",
      "329/329 [==============================] - 105s 321ms/step - loss: 0.0668 - acc: 0.9793 - val_loss: 0.0953 - val_acc: 0.9750\n",
      "Epoch 9/100\n",
      "329/329 [==============================] - 106s 321ms/step - loss: 0.0659 - acc: 0.9787 - val_loss: 0.0965 - val_acc: 0.9751\n",
      "Epoch 00009: early stopping\n"
     ]
    }
   ],
   "source": [
    "batch_size = 64\n",
    "\n",
    "history = model.fit_generator(generator=mi,#train_generator(batch_size),\n",
    "                              steps_per_epoch=train_df.shape[0]*(1./5)//batch_size,\n",
    "                              epochs=100,\n",
    "                              callbacks=callbacks,\n",
    "                              validation_data=valid_generator(batch_size),\n",
    "                              validation_steps=int(np.ceil(valid_df.shape[0]/batch_size)))"
   ]
  },
  {
   "cell_type": "code",
   "execution_count": 55,
   "metadata": {},
   "outputs": [],
   "source": [
    "model.load_weights('./weights/{}.hdf5'.format(exp_name))"
   ]
  },
  {
   "cell_type": "code",
   "execution_count": 19,
   "metadata": {},
   "outputs": [],
   "source": [
    "mi = MixIterator([train_generator(45), valid_generator(5),test_pseudo_generator(14)])\n"
   ]
  },
  {
   "cell_type": "code",
   "execution_count": 20,
   "metadata": {},
   "outputs": [],
   "source": [
    "from keras.callbacks import TensorBoard\n",
    "exp_name = \"conv2d_wlstm_hardpseudo_withval_c2\" #max_freqconvs_2510_avgshortcuts\n",
    "callbacks = [EarlyStopping(monitor='val_loss',\n",
    "                           patience=5,\n",
    "                           verbose=1),\n",
    "             \n",
    "             ReduceLROnPlateau(monitor='val_loss',\n",
    "                               factor=0.1,\n",
    "                               patience=3,\n",
    "                               verbose=1,\n",
    "                               epsilon=0.01,\n",
    "                              min_lr=1e-5),\n",
    "             ModelCheckpoint(monitor='val_loss',\n",
    "                             filepath='weights/{}.hdf5'.format(exp_name),\n",
    "                             save_best_only=True,\n",
    "                             save_weights_only=True,\n",
    "                             mode='min')\n",
    "#              , TensorBoard(log_dir='./logs/logs_{}'.format(exp_name), histogram_freq=0, batch_size=64, write_graph=True)\n",
    "            ]"
   ]
  },
  {
   "cell_type": "code",
   "execution_count": 21,
   "metadata": {},
   "outputs": [
    {
     "name": "stdout",
     "output_type": "stream",
     "text": [
      "Epoch 1/100\n",
      "329/329 [==============================] - 111s 337ms/step - loss: 0.0670 - acc: 0.9776 - val_loss: 0.0788 - val_acc: 0.9788\n",
      "Epoch 2/100\n",
      "329/329 [==============================] - 107s 325ms/step - loss: 0.0683 - acc: 0.9777 - val_loss: 0.0769 - val_acc: 0.9795\n",
      "Epoch 3/100\n",
      "329/329 [==============================] - 106s 323ms/step - loss: 0.0730 - acc: 0.9762 - val_loss: 0.0715 - val_acc: 0.9808\n",
      "Epoch 4/100\n",
      "329/329 [==============================] - 106s 323ms/step - loss: 0.0726 - acc: 0.9767 - val_loss: 0.0641 - val_acc: 0.9813\n",
      "Epoch 5/100\n",
      "329/329 [==============================] - 106s 323ms/step - loss: 0.0648 - acc: 0.9785 - val_loss: 0.0641 - val_acc: 0.9823\n",
      "Epoch 6/100\n",
      "329/329 [==============================] - 106s 323ms/step - loss: 0.0648 - acc: 0.9786 - val_loss: 0.0648 - val_acc: 0.9820\n",
      "Epoch 7/100\n",
      "329/329 [==============================] - 106s 323ms/step - loss: 0.0635 - acc: 0.9787 - val_loss: 0.0632 - val_acc: 0.9827\n",
      "Epoch 8/100\n",
      "328/329 [============================>.] - ETA: 0s - loss: 0.0666 - acc: 0.9781\n",
      "Epoch 00008: reducing learning rate to 1e-05.\n",
      "329/329 [==============================] - 107s 324ms/step - loss: 0.0666 - acc: 0.9780 - val_loss: 0.0554 - val_acc: 0.9841\n",
      "Epoch 9/100\n",
      "329/329 [==============================] - 106s 323ms/step - loss: 0.0647 - acc: 0.9795 - val_loss: 0.0543 - val_acc: 0.9838\n",
      "Epoch 10/100\n",
      "329/329 [==============================] - 106s 323ms/step - loss: 0.0637 - acc: 0.9801 - val_loss: 0.0532 - val_acc: 0.9850\n",
      "Epoch 11/100\n",
      "329/329 [==============================] - 106s 323ms/step - loss: 0.0631 - acc: 0.9799 - val_loss: 0.0546 - val_acc: 0.9846\n",
      "Epoch 12/100\n",
      " 88/329 [=======>......................] - ETA: 1:10 - loss: 0.0689 - acc: 0.9780"
     ]
    },
    {
     "ename": "KeyboardInterrupt",
     "evalue": "",
     "output_type": "error",
     "traceback": [
      "\u001b[0;31m---------------------------------------------------------------------------\u001b[0m",
      "\u001b[0;31mKeyboardInterrupt\u001b[0m                         Traceback (most recent call last)",
      "\u001b[0;32m<ipython-input-21-df4e9de12109>\u001b[0m in \u001b[0;36m<module>\u001b[0;34m()\u001b[0m\n\u001b[1;32m      6\u001b[0m                               \u001b[0mcallbacks\u001b[0m\u001b[0;34m=\u001b[0m\u001b[0mcallbacks\u001b[0m\u001b[0;34m,\u001b[0m\u001b[0;34m\u001b[0m\u001b[0m\n\u001b[1;32m      7\u001b[0m                               \u001b[0mvalidation_data\u001b[0m\u001b[0;34m=\u001b[0m\u001b[0mvalid_generator\u001b[0m\u001b[0;34m(\u001b[0m\u001b[0mbatch_size\u001b[0m\u001b[0;34m)\u001b[0m\u001b[0;34m,\u001b[0m\u001b[0;34m\u001b[0m\u001b[0m\n\u001b[0;32m----> 8\u001b[0;31m                               validation_steps=int(np.ceil(valid_df.shape[0]/batch_size)))\n\u001b[0m",
      "\u001b[0;32m/home/ubuntu/anaconda2/lib/python2.7/site-packages/keras/legacy/interfaces.pyc\u001b[0m in \u001b[0;36mwrapper\u001b[0;34m(*args, **kwargs)\u001b[0m\n\u001b[1;32m     85\u001b[0m                 warnings.warn('Update your `' + object_name +\n\u001b[1;32m     86\u001b[0m                               '` call to the Keras 2 API: ' + signature, stacklevel=2)\n\u001b[0;32m---> 87\u001b[0;31m             \u001b[0;32mreturn\u001b[0m \u001b[0mfunc\u001b[0m\u001b[0;34m(\u001b[0m\u001b[0;34m*\u001b[0m\u001b[0margs\u001b[0m\u001b[0;34m,\u001b[0m \u001b[0;34m**\u001b[0m\u001b[0mkwargs\u001b[0m\u001b[0;34m)\u001b[0m\u001b[0;34m\u001b[0m\u001b[0m\n\u001b[0m\u001b[1;32m     88\u001b[0m         \u001b[0mwrapper\u001b[0m\u001b[0;34m.\u001b[0m\u001b[0m_original_function\u001b[0m \u001b[0;34m=\u001b[0m \u001b[0mfunc\u001b[0m\u001b[0;34m\u001b[0m\u001b[0m\n\u001b[1;32m     89\u001b[0m         \u001b[0;32mreturn\u001b[0m \u001b[0mwrapper\u001b[0m\u001b[0;34m\u001b[0m\u001b[0m\n",
      "\u001b[0;32m/home/ubuntu/anaconda2/lib/python2.7/site-packages/keras/engine/training.pyc\u001b[0m in \u001b[0;36mfit_generator\u001b[0;34m(self, generator, steps_per_epoch, epochs, verbose, callbacks, validation_data, validation_steps, class_weight, max_queue_size, workers, use_multiprocessing, shuffle, initial_epoch)\u001b[0m\n\u001b[1;32m   2145\u001b[0m                     outs = self.train_on_batch(x, y,\n\u001b[1;32m   2146\u001b[0m                                                \u001b[0msample_weight\u001b[0m\u001b[0;34m=\u001b[0m\u001b[0msample_weight\u001b[0m\u001b[0;34m,\u001b[0m\u001b[0;34m\u001b[0m\u001b[0m\n\u001b[0;32m-> 2147\u001b[0;31m                                                class_weight=class_weight)\n\u001b[0m\u001b[1;32m   2148\u001b[0m \u001b[0;34m\u001b[0m\u001b[0m\n\u001b[1;32m   2149\u001b[0m                     \u001b[0;32mif\u001b[0m \u001b[0;32mnot\u001b[0m \u001b[0misinstance\u001b[0m\u001b[0;34m(\u001b[0m\u001b[0mouts\u001b[0m\u001b[0;34m,\u001b[0m \u001b[0mlist\u001b[0m\u001b[0;34m)\u001b[0m\u001b[0;34m:\u001b[0m\u001b[0;34m\u001b[0m\u001b[0m\n",
      "\u001b[0;32m/home/ubuntu/anaconda2/lib/python2.7/site-packages/keras/engine/training.pyc\u001b[0m in \u001b[0;36mtrain_on_batch\u001b[0;34m(self, x, y, sample_weight, class_weight)\u001b[0m\n\u001b[1;32m   1837\u001b[0m             \u001b[0mins\u001b[0m \u001b[0;34m=\u001b[0m \u001b[0mx\u001b[0m \u001b[0;34m+\u001b[0m \u001b[0my\u001b[0m \u001b[0;34m+\u001b[0m \u001b[0msample_weights\u001b[0m\u001b[0;34m\u001b[0m\u001b[0m\n\u001b[1;32m   1838\u001b[0m         \u001b[0mself\u001b[0m\u001b[0;34m.\u001b[0m\u001b[0m_make_train_function\u001b[0m\u001b[0;34m(\u001b[0m\u001b[0;34m)\u001b[0m\u001b[0;34m\u001b[0m\u001b[0m\n\u001b[0;32m-> 1839\u001b[0;31m         \u001b[0moutputs\u001b[0m \u001b[0;34m=\u001b[0m \u001b[0mself\u001b[0m\u001b[0;34m.\u001b[0m\u001b[0mtrain_function\u001b[0m\u001b[0;34m(\u001b[0m\u001b[0mins\u001b[0m\u001b[0;34m)\u001b[0m\u001b[0;34m\u001b[0m\u001b[0m\n\u001b[0m\u001b[1;32m   1840\u001b[0m         \u001b[0;32mif\u001b[0m \u001b[0mlen\u001b[0m\u001b[0;34m(\u001b[0m\u001b[0moutputs\u001b[0m\u001b[0;34m)\u001b[0m \u001b[0;34m==\u001b[0m \u001b[0;36m1\u001b[0m\u001b[0;34m:\u001b[0m\u001b[0;34m\u001b[0m\u001b[0m\n\u001b[1;32m   1841\u001b[0m             \u001b[0;32mreturn\u001b[0m \u001b[0moutputs\u001b[0m\u001b[0;34m[\u001b[0m\u001b[0;36m0\u001b[0m\u001b[0;34m]\u001b[0m\u001b[0;34m\u001b[0m\u001b[0m\n",
      "\u001b[0;32m/home/ubuntu/anaconda2/lib/python2.7/site-packages/keras/backend/tensorflow_backend.pyc\u001b[0m in \u001b[0;36m__call__\u001b[0;34m(self, inputs)\u001b[0m\n\u001b[1;32m   2355\u001b[0m         \u001b[0msession\u001b[0m \u001b[0;34m=\u001b[0m \u001b[0mget_session\u001b[0m\u001b[0;34m(\u001b[0m\u001b[0;34m)\u001b[0m\u001b[0;34m\u001b[0m\u001b[0m\n\u001b[1;32m   2356\u001b[0m         updated = session.run(fetches=fetches, feed_dict=feed_dict,\n\u001b[0;32m-> 2357\u001b[0;31m                               **self.session_kwargs)\n\u001b[0m\u001b[1;32m   2358\u001b[0m         \u001b[0;32mreturn\u001b[0m \u001b[0mupdated\u001b[0m\u001b[0;34m[\u001b[0m\u001b[0;34m:\u001b[0m\u001b[0mlen\u001b[0m\u001b[0;34m(\u001b[0m\u001b[0mself\u001b[0m\u001b[0;34m.\u001b[0m\u001b[0moutputs\u001b[0m\u001b[0;34m)\u001b[0m\u001b[0;34m]\u001b[0m\u001b[0;34m\u001b[0m\u001b[0m\n\u001b[1;32m   2359\u001b[0m \u001b[0;34m\u001b[0m\u001b[0m\n",
      "\u001b[0;32m/home/ubuntu/anaconda2/lib/python2.7/site-packages/tensorflow/python/client/session.pyc\u001b[0m in \u001b[0;36mrun\u001b[0;34m(self, fetches, feed_dict, options, run_metadata)\u001b[0m\n\u001b[1;32m    887\u001b[0m     \u001b[0;32mtry\u001b[0m\u001b[0;34m:\u001b[0m\u001b[0;34m\u001b[0m\u001b[0m\n\u001b[1;32m    888\u001b[0m       result = self._run(None, fetches, feed_dict, options_ptr,\n\u001b[0;32m--> 889\u001b[0;31m                          run_metadata_ptr)\n\u001b[0m\u001b[1;32m    890\u001b[0m       \u001b[0;32mif\u001b[0m \u001b[0mrun_metadata\u001b[0m\u001b[0;34m:\u001b[0m\u001b[0;34m\u001b[0m\u001b[0m\n\u001b[1;32m    891\u001b[0m         \u001b[0mproto_data\u001b[0m \u001b[0;34m=\u001b[0m \u001b[0mtf_session\u001b[0m\u001b[0;34m.\u001b[0m\u001b[0mTF_GetBuffer\u001b[0m\u001b[0;34m(\u001b[0m\u001b[0mrun_metadata_ptr\u001b[0m\u001b[0;34m)\u001b[0m\u001b[0;34m\u001b[0m\u001b[0m\n",
      "\u001b[0;32m/home/ubuntu/anaconda2/lib/python2.7/site-packages/tensorflow/python/client/session.pyc\u001b[0m in \u001b[0;36m_run\u001b[0;34m(self, handle, fetches, feed_dict, options, run_metadata)\u001b[0m\n\u001b[1;32m   1118\u001b[0m     \u001b[0;32mif\u001b[0m \u001b[0mfinal_fetches\u001b[0m \u001b[0;32mor\u001b[0m \u001b[0mfinal_targets\u001b[0m \u001b[0;32mor\u001b[0m \u001b[0;34m(\u001b[0m\u001b[0mhandle\u001b[0m \u001b[0;32mand\u001b[0m \u001b[0mfeed_dict_tensor\u001b[0m\u001b[0;34m)\u001b[0m\u001b[0;34m:\u001b[0m\u001b[0;34m\u001b[0m\u001b[0m\n\u001b[1;32m   1119\u001b[0m       results = self._do_run(handle, final_targets, final_fetches,\n\u001b[0;32m-> 1120\u001b[0;31m                              feed_dict_tensor, options, run_metadata)\n\u001b[0m\u001b[1;32m   1121\u001b[0m     \u001b[0;32melse\u001b[0m\u001b[0;34m:\u001b[0m\u001b[0;34m\u001b[0m\u001b[0m\n\u001b[1;32m   1122\u001b[0m       \u001b[0mresults\u001b[0m \u001b[0;34m=\u001b[0m \u001b[0;34m[\u001b[0m\u001b[0;34m]\u001b[0m\u001b[0;34m\u001b[0m\u001b[0m\n",
      "\u001b[0;32m/home/ubuntu/anaconda2/lib/python2.7/site-packages/tensorflow/python/client/session.pyc\u001b[0m in \u001b[0;36m_do_run\u001b[0;34m(self, handle, target_list, fetch_list, feed_dict, options, run_metadata)\u001b[0m\n\u001b[1;32m   1315\u001b[0m     \u001b[0;32mif\u001b[0m \u001b[0mhandle\u001b[0m \u001b[0;32mis\u001b[0m \u001b[0mNone\u001b[0m\u001b[0;34m:\u001b[0m\u001b[0;34m\u001b[0m\u001b[0m\n\u001b[1;32m   1316\u001b[0m       return self._do_call(_run_fn, self._session, feeds, fetches, targets,\n\u001b[0;32m-> 1317\u001b[0;31m                            options, run_metadata)\n\u001b[0m\u001b[1;32m   1318\u001b[0m     \u001b[0;32melse\u001b[0m\u001b[0;34m:\u001b[0m\u001b[0;34m\u001b[0m\u001b[0m\n\u001b[1;32m   1319\u001b[0m       \u001b[0;32mreturn\u001b[0m \u001b[0mself\u001b[0m\u001b[0;34m.\u001b[0m\u001b[0m_do_call\u001b[0m\u001b[0;34m(\u001b[0m\u001b[0m_prun_fn\u001b[0m\u001b[0;34m,\u001b[0m \u001b[0mself\u001b[0m\u001b[0;34m.\u001b[0m\u001b[0m_session\u001b[0m\u001b[0;34m,\u001b[0m \u001b[0mhandle\u001b[0m\u001b[0;34m,\u001b[0m \u001b[0mfeeds\u001b[0m\u001b[0;34m,\u001b[0m \u001b[0mfetches\u001b[0m\u001b[0;34m)\u001b[0m\u001b[0;34m\u001b[0m\u001b[0m\n",
      "\u001b[0;32m/home/ubuntu/anaconda2/lib/python2.7/site-packages/tensorflow/python/client/session.pyc\u001b[0m in \u001b[0;36m_do_call\u001b[0;34m(self, fn, *args)\u001b[0m\n\u001b[1;32m   1321\u001b[0m   \u001b[0;32mdef\u001b[0m \u001b[0m_do_call\u001b[0m\u001b[0;34m(\u001b[0m\u001b[0mself\u001b[0m\u001b[0;34m,\u001b[0m \u001b[0mfn\u001b[0m\u001b[0;34m,\u001b[0m \u001b[0;34m*\u001b[0m\u001b[0margs\u001b[0m\u001b[0;34m)\u001b[0m\u001b[0;34m:\u001b[0m\u001b[0;34m\u001b[0m\u001b[0m\n\u001b[1;32m   1322\u001b[0m     \u001b[0;32mtry\u001b[0m\u001b[0;34m:\u001b[0m\u001b[0;34m\u001b[0m\u001b[0m\n\u001b[0;32m-> 1323\u001b[0;31m       \u001b[0;32mreturn\u001b[0m \u001b[0mfn\u001b[0m\u001b[0;34m(\u001b[0m\u001b[0;34m*\u001b[0m\u001b[0margs\u001b[0m\u001b[0;34m)\u001b[0m\u001b[0;34m\u001b[0m\u001b[0m\n\u001b[0m\u001b[1;32m   1324\u001b[0m     \u001b[0;32mexcept\u001b[0m \u001b[0merrors\u001b[0m\u001b[0;34m.\u001b[0m\u001b[0mOpError\u001b[0m \u001b[0;32mas\u001b[0m \u001b[0me\u001b[0m\u001b[0;34m:\u001b[0m\u001b[0;34m\u001b[0m\u001b[0m\n\u001b[1;32m   1325\u001b[0m       \u001b[0mmessage\u001b[0m \u001b[0;34m=\u001b[0m \u001b[0mcompat\u001b[0m\u001b[0;34m.\u001b[0m\u001b[0mas_text\u001b[0m\u001b[0;34m(\u001b[0m\u001b[0me\u001b[0m\u001b[0;34m.\u001b[0m\u001b[0mmessage\u001b[0m\u001b[0;34m)\u001b[0m\u001b[0;34m\u001b[0m\u001b[0m\n",
      "\u001b[0;32m/home/ubuntu/anaconda2/lib/python2.7/site-packages/tensorflow/python/client/session.pyc\u001b[0m in \u001b[0;36m_run_fn\u001b[0;34m(session, feed_dict, fetch_list, target_list, options, run_metadata)\u001b[0m\n\u001b[1;32m   1300\u001b[0m           return tf_session.TF_Run(session, options,\n\u001b[1;32m   1301\u001b[0m                                    \u001b[0mfeed_dict\u001b[0m\u001b[0;34m,\u001b[0m \u001b[0mfetch_list\u001b[0m\u001b[0;34m,\u001b[0m \u001b[0mtarget_list\u001b[0m\u001b[0;34m,\u001b[0m\u001b[0;34m\u001b[0m\u001b[0m\n\u001b[0;32m-> 1302\u001b[0;31m                                    status, run_metadata)\n\u001b[0m\u001b[1;32m   1303\u001b[0m \u001b[0;34m\u001b[0m\u001b[0m\n\u001b[1;32m   1304\u001b[0m     \u001b[0;32mdef\u001b[0m \u001b[0m_prun_fn\u001b[0m\u001b[0;34m(\u001b[0m\u001b[0msession\u001b[0m\u001b[0;34m,\u001b[0m \u001b[0mhandle\u001b[0m\u001b[0;34m,\u001b[0m \u001b[0mfeed_dict\u001b[0m\u001b[0;34m,\u001b[0m \u001b[0mfetch_list\u001b[0m\u001b[0;34m)\u001b[0m\u001b[0;34m:\u001b[0m\u001b[0;34m\u001b[0m\u001b[0m\n",
      "\u001b[0;31mKeyboardInterrupt\u001b[0m: "
     ]
    }
   ],
   "source": [
    "batch_size = 64\n",
    "\n",
    "history = model.fit_generator(generator=mi,#train_generator(batch_size),\n",
    "                              steps_per_epoch=train_df.shape[0]*(1./5)//batch_size,\n",
    "                              epochs=100,\n",
    "                              callbacks=callbacks,\n",
    "                              validation_data=valid_generator(batch_size),\n",
    "                              validation_steps=int(np.ceil(valid_df.shape[0]/batch_size)))"
   ]
  },
  {
   "cell_type": "code",
   "execution_count": 34,
   "metadata": {},
   "outputs": [],
   "source": [
    "model.load_weights('./weights/conv2d_wlstm_hardpseudo_withval_c2.hdf5')"
   ]
  },
  {
   "cell_type": "markdown",
   "metadata": {},
   "source": [
    "### valid evaluation"
   ]
  },
  {
   "cell_type": "code",
   "execution_count": 35,
   "metadata": {},
   "outputs": [],
   "source": [
    "from sklearn.preprocessing import OneHotEncoder\n",
    "from sklearn.metrics import classification_report"
   ]
  },
  {
   "cell_type": "code",
   "execution_count": 36,
   "metadata": {},
   "outputs": [],
   "source": [
    "val_preds = model.predict_generator(valid_generator(64),steps=int(np.ceil(valid_df.shape[0]/64.)))\n",
    "val_preds = np.argmax(val_preds,axis=1)"
   ]
  },
  {
   "cell_type": "code",
   "execution_count": 37,
   "metadata": {},
   "outputs": [
    {
     "data": {
      "text/plain": [
       "(7055,)"
      ]
     },
     "execution_count": 37,
     "metadata": {},
     "output_type": "execute_result"
    }
   ],
   "source": [
    "val_preds.shape"
   ]
  },
  {
   "cell_type": "code",
   "execution_count": 38,
   "metadata": {},
   "outputs": [],
   "source": [
    "oe = OneHotEncoder()"
   ]
  },
  {
   "cell_type": "code",
   "execution_count": 39,
   "metadata": {},
   "outputs": [],
   "source": [
    "y_true = oe.fit_transform(valid_df.label_id.values.reshape(-1, 1)).todense()\n",
    "\n"
   ]
  },
  {
   "cell_type": "code",
   "execution_count": 40,
   "metadata": {},
   "outputs": [],
   "source": [
    "val_preds = oe.transform(val_preds.reshape(-1, 1)).todense()\n"
   ]
  },
  {
   "cell_type": "code",
   "execution_count": 41,
   "metadata": {},
   "outputs": [
    {
     "name": "stdout",
     "output_type": "stream",
     "text": [
      "             precision    recall  f1-score   support\n",
      "\n",
      "        yes       1.00      0.97      0.98       261\n",
      "         no       0.97      0.98      0.97       270\n",
      "         up       0.95      0.96      0.96       260\n",
      "       down       0.99      0.98      0.98       264\n",
      "       left       0.99      0.99      0.99       247\n",
      "      right       0.99      0.98      0.99       256\n",
      "         on       0.99      0.96      0.98       257\n",
      "        off       0.97      0.96      0.96       256\n",
      "       stop       0.98      0.97      0.98       246\n",
      "         go       0.96      0.94      0.95       260\n",
      "    silence       0.99      1.00      0.99       257\n",
      "    unknown       0.99      0.99      0.99      4221\n",
      "\n",
      "avg / total       0.98      0.98      0.98      7055\n",
      "\n"
     ]
    }
   ],
   "source": [
    "print classification_report(y_true,val_preds,target_names=POSSIBLE_LABELS)"
   ]
  },
  {
   "cell_type": "code",
   "execution_count": 29,
   "metadata": {},
   "outputs": [
    {
     "name": "stdout",
     "output_type": "stream",
     "text": [
      "             precision    recall  f1-score   support\n",
      "\n",
      "        yes       1.00      0.97      0.98       261\n",
      "         no       0.97      0.98      0.97       270\n",
      "         up       0.95      0.96      0.96       260\n",
      "       down       0.99      0.98      0.98       264\n",
      "       left       0.99      0.99      0.99       247\n",
      "      right       0.99      0.98      0.99       256\n",
      "         on       0.99      0.96      0.98       257\n",
      "        off       0.97      0.96      0.96       256\n",
      "       stop       0.98      0.97      0.98       246\n",
      "         go       0.96      0.94      0.95       260\n",
      "    silence       0.99      1.00      0.99       257\n",
      "    unknown       0.99      0.99      0.99      4221\n",
      "\n",
      "avg / total       0.98      0.98      0.98      7055\n",
      "\n"
     ]
    }
   ],
   "source": [
    "print classification_report(y_true,val_preds,target_names=POSSIBLE_LABELS)"
   ]
  },
  {
   "cell_type": "code",
   "execution_count": 57,
   "metadata": {},
   "outputs": [
    {
     "name": "stdout",
     "output_type": "stream",
     "text": [
      "             precision    recall  f1-score   support\n",
      "\n",
      "        yes       0.99      0.97      0.98       261\n",
      "         no       0.91      0.97      0.94       270\n",
      "         up       0.92      0.95      0.93       260\n",
      "       down       0.98      0.96      0.97       264\n",
      "       left       0.97      0.99      0.98       247\n",
      "      right       0.98      0.98      0.98       256\n",
      "         on       0.95      0.95      0.95       257\n",
      "        off       0.94      0.96      0.95       256\n",
      "       stop       0.96      0.96      0.96       246\n",
      "         go       0.93      0.93      0.93       260\n",
      "    silence       0.96      1.00      0.98       257\n",
      "    unknown       0.99      0.98      0.99      4221\n",
      "\n",
      "avg / total       0.98      0.98      0.98      7055\n",
      "\n"
     ]
    }
   ],
   "source": [
    "print classification_report(y_true,val_preds,target_names=POSSIBLE_LABELS)"
   ]
  },
  {
   "cell_type": "code",
   "execution_count": 46,
   "metadata": {},
   "outputs": [
    {
     "name": "stdout",
     "output_type": "stream",
     "text": [
      "             precision    recall  f1-score   support\n",
      "\n",
      "        yes       0.99      0.97      0.98       261\n",
      "         no       0.91      0.97      0.94       270\n",
      "         up       0.92      0.94      0.93       260\n",
      "       down       0.98      0.96      0.97       264\n",
      "       left       0.97      0.99      0.98       247\n",
      "      right       0.98      0.98      0.98       256\n",
      "         on       0.95      0.95      0.95       257\n",
      "        off       0.93      0.96      0.94       256\n",
      "       stop       0.96      0.96      0.96       246\n",
      "         go       0.93      0.92      0.92       260\n",
      "    silence       0.96      1.00      0.98       257\n",
      "    unknown       0.99      0.98      0.99      4221\n",
      "\n",
      "avg / total       0.97      0.97      0.97      7055\n",
      "\n"
     ]
    }
   ],
   "source": [
    "print classification_report(y_true,val_preds,target_names=POSSIBLE_LABELS)"
   ]
  },
  {
   "cell_type": "code",
   "execution_count": 35,
   "metadata": {},
   "outputs": [
    {
     "name": "stdout",
     "output_type": "stream",
     "text": [
      "             precision    recall  f1-score   support\n",
      "\n",
      "        yes       0.99      0.97      0.98       261\n",
      "         no       0.91      0.96      0.93       270\n",
      "         up       0.92      0.94      0.93       260\n",
      "       down       0.97      0.96      0.97       264\n",
      "       left       0.97      0.99      0.98       247\n",
      "      right       0.97      0.98      0.98       256\n",
      "         on       0.94      0.95      0.94       257\n",
      "        off       0.92      0.96      0.94       256\n",
      "       stop       0.96      0.96      0.96       246\n",
      "         go       0.92      0.92      0.92       260\n",
      "    silence       0.95      1.00      0.98       257\n",
      "    unknown       0.99      0.98      0.98      4221\n",
      "\n",
      "avg / total       0.97      0.97      0.97      7055\n",
      "\n"
     ]
    }
   ],
   "source": [
    "print classification_report(y_true,val_preds,target_names=POSSIBLE_LABELS)"
   ]
  },
  {
   "cell_type": "code",
   "execution_count": 21,
   "metadata": {},
   "outputs": [
    {
     "name": "stdout",
     "output_type": "stream",
     "text": [
      "             precision    recall  f1-score   support\n",
      "\n",
      "        yes       0.98      0.97      0.97       261\n",
      "         no       0.91      0.95      0.93       270\n",
      "         up       0.93      0.94      0.94       260\n",
      "       down       0.96      0.97      0.96       264\n",
      "       left       0.95      0.99      0.97       247\n",
      "      right       0.95      0.97      0.96       256\n",
      "         on       0.95      0.95      0.95       257\n",
      "        off       0.92      0.96      0.94       256\n",
      "       stop       0.95      0.96      0.95       246\n",
      "         go       0.92      0.92      0.92       260\n",
      "    silence       0.96      1.00      0.98       257\n",
      "    unknown       0.99      0.98      0.98      4221\n",
      "\n",
      "avg / total       0.97      0.97      0.97      7055\n",
      "\n"
     ]
    }
   ],
   "source": [
    "print classification_report(y_true,val_preds,target_names=POSSIBLE_LABELS)"
   ]
  },
  {
   "cell_type": "markdown",
   "metadata": {},
   "source": [
    "#### tta test"
   ]
  },
  {
   "cell_type": "code",
   "execution_count": 11,
   "metadata": {},
   "outputs": [],
   "source": [
    "\n",
    "\n",
    "def augment_wav(wav,pval=0.5):\n",
    "    sample_rate = 16000\n",
    "    L = 1000 #16000  # 1 sec\n",
    "    \n",
    "#     adjust speed, with 50% chance\n",
    "    wav = speed_change(wav,1.+ random.choice([.1,-0.1,0])) #random.uniform(-1, 1)*0.05) if np.random.random() < pval else wav\n",
    "    \n",
    "    \n",
    "    #adjust volume\n",
    "#     db_adjustment = random.uniform(-1, 1)*10\n",
    "    wav = wav + random.choice([-10,-5,0,5,10]) #randodb_adjustment if np.random.random() < pval else wav\n",
    "     \n",
    "        \n",
    "    #fill to 1 second\n",
    "    wav = fill_to_1sec(wav)        \n",
    "        \n",
    "    #shift the audio by 10 ms\n",
    "    shift_length = 100\n",
    "    if np.random.random() < 0.5: #shift to left\n",
    "        wav = wav[:L-shift_length]+ AudioSegment.silent(shift_length,frame_rate=sample_rate)\n",
    "    else: #shift to right\n",
    "        wav = AudioSegment.silent(shift_length,frame_rate=sample_rate) + wav[shift_length:]\n",
    "        \n",
    "        \n",
    "        \n",
    "    #blend original file with background noise     \n",
    "#     if np.random.random() < pval:\n",
    "    noise = random.choice(silence_files_AS)\n",
    "    db_delta = (wav.dBFS - noise.dBFS) -10.\n",
    "\n",
    "    if db_delta< 0: #reduce intensity of loud background; if it's too silent, leave it be\n",
    "        noise = noise  + db_delta\n",
    "    wav = wav.overlay(noise)\n",
    " \n",
    "    return wav\n",
    "\n",
    "\n",
    "def process_wav_file(record, reshape=False, augment=False,pval=0.5 ,output_format='logmel',n_mels=128 ):\n",
    "    \n",
    "    if type(record) == str: # test files\n",
    "        fname = record\n",
    "        label = \"test\"\n",
    "    else:    \n",
    "        fname  = record.wav_file\n",
    "        label = record.label\n",
    "\n",
    "        \n",
    "        \n",
    "        \n",
    "        \n",
    "    if \"raw_AS_wav\" in record: \n",
    "        wav = record.raw_AS_wav\n",
    "    else:\n",
    "        wav = AudioSegment.from_wav(fname.replace(\"\\\\\",\"/\"))\n",
    "        \n",
    "        \n",
    "    \n",
    "    if (not label in [\"silence\"]) and augment: #no augmentation for sample files \n",
    "        wav = augment_wav(wav,pval)\n",
    "\n",
    "    else: #make sure segment is 1 second\n",
    "        wav = fill_to_1sec(wav)\n",
    "\n",
    "        \n",
    "    samples = AS_to_raw(wav)\n",
    "    \n",
    "    \n",
    "    \n",
    "    if output_format == \"logmel\":\n",
    "        output = log_mel(samples,reshape=reshape,n_mels=n_mels)\n",
    "        \n",
    "    elif output_format == \"mfcc\":\n",
    "        log_S = log_mel(samples,reshape=False,n_mels=n_mels)\n",
    "        mfcc = librosa.feature.mfcc(S=log_S, n_mfcc=40) #hirese mfcc\n",
    "        delta1 = librosa.feature.delta(mfcc, order=1)#hirese mfcc\n",
    "        delta2 = librosa.feature.delta(mfcc, order=2)\n",
    "\n",
    "        output = np.stack([mfcc,delta1,delta2])\n",
    "        \n",
    "    elif  output_format == \"cqt\":   \n",
    "        output = librosa.cqt(samples, sr=16000)\n",
    "    else:\n",
    "        output = samples\n",
    "    \n",
    "    \n",
    "    return output\n"
   ]
  },
  {
   "cell_type": "code",
   "execution_count": 14,
   "metadata": {},
   "outputs": [],
   "source": [
    "silence_files_AS = [AudioSegment.from_wav(x) for x in silent_df.wav_file.values]\n",
    "\n",
    "filler = AudioSegment.silent(duration=1000, frame_rate = 16000)\n",
    "\n",
    "def valid_generator_aug(val_batch_size):\n",
    "    while True:\n",
    "        ids = list(range(valid_df.shape[0]))\n",
    "        for start in range(0, len(ids), val_batch_size):\n",
    "            x_batch = []\n",
    "            y_batch = []\n",
    "            end = min(start + val_batch_size, len(ids))\n",
    "            i_val_batch = ids[start:end]\n",
    "            for i in i_val_batch:\n",
    "                x_batch.append(process_wav_file(valid_df.loc[i],n_mels=256,augment=True).T)\n",
    "                y_batch.append(valid_df.label_id.values[i])\n",
    "\n",
    "            x_batch = 1.- np.array(x_batch)/-80.\n",
    "            y_batch = to_categorical(y_batch, num_classes = len(POSSIBLE_LABELS))\n",
    "            yield x_batch, y_batch"
   ]
  },
  {
   "cell_type": "code",
   "execution_count": 31,
   "metadata": {},
   "outputs": [
    {
     "name": "stdout",
     "output_type": "stream",
     "text": [
      "111/111 [==============================] - 77s 690ms/step\n",
      "111/111 [==============================] - 77s 698ms/step\n"
     ]
    }
   ],
   "source": [
    "augs= []\n",
    "num_augs = 2\n",
    "for i in range(num_augs):\n",
    "    tmp_gen = valid_generator_aug(64)\n",
    "    augs.append(model.predict_generator(tmp_gen,steps=int(np.ceil(valid_df.shape[0]/64.)),verbose=1))\n",
    "    del tmp_gen"
   ]
  },
  {
   "cell_type": "code",
   "execution_count": 32,
   "metadata": {},
   "outputs": [],
   "source": [
    "augs.append(val_preds)"
   ]
  },
  {
   "cell_type": "code",
   "execution_count": 33,
   "metadata": {},
   "outputs": [],
   "source": [
    "val_blend = np.mean(augs,axis=0) #np.mean([val_preds,preds_aug1],axis=0)\n",
    "val_blend = np.argmax(val_blend,axis=1)\n",
    "val_blend = oe.transform(val_blend.reshape(-1, 1)).todense()"
   ]
  },
  {
   "cell_type": "code",
   "execution_count": 34,
   "metadata": {},
   "outputs": [
    {
     "name": "stdout",
     "output_type": "stream",
     "text": [
      "             precision    recall  f1-score   support\n",
      "\n",
      "        yes       0.98      0.97      0.98       261\n",
      "         no       0.90      0.94      0.92       270\n",
      "         up       0.92      0.95      0.94       260\n",
      "       down       0.94      0.96      0.95       264\n",
      "       left       0.95      0.98      0.97       247\n",
      "      right       0.94      0.98      0.96       256\n",
      "         on       0.94      0.94      0.94       257\n",
      "        off       0.92      0.96      0.94       256\n",
      "       stop       0.95      0.96      0.95       246\n",
      "         go       0.89      0.90      0.90       260\n",
      "    silence       0.96      1.00      0.98       257\n",
      "    unknown       0.99      0.97      0.98      4221\n",
      "\n",
      "avg / total       0.97      0.97      0.97      7055\n",
      "\n"
     ]
    }
   ],
   "source": [
    "print classification_report(y_true,val_blend,target_names=POSSIBLE_LABELS)"
   ]
  },
  {
   "cell_type": "code",
   "execution_count": 113,
   "metadata": {},
   "outputs": [
    {
     "name": "stdout",
     "output_type": "stream",
     "text": [
      "             precision    recall  f1-score   support\n",
      "\n",
      "        yes       0.98      0.97      0.97       261\n",
      "         no       0.92      0.94      0.93       270\n",
      "         up       0.89      0.93      0.91       260\n",
      "       down       0.96      0.97      0.96       264\n",
      "       left       0.95      0.99      0.97       247\n",
      "      right       0.96      0.97      0.97       256\n",
      "         on       0.91      0.95      0.93       257\n",
      "        off       0.92      0.95      0.93       256\n",
      "       stop       0.97      0.95      0.96       246\n",
      "         go       0.93      0.93      0.93       260\n",
      "    silence       0.99      1.00      0.99       257\n",
      "    unknown       0.99      0.98      0.98      4221\n",
      "\n",
      "avg / total       0.97      0.97      0.97      7055\n",
      "\n"
     ]
    }
   ],
   "source": [
    "print classification_report(y_true,val_preds,target_names=POSSIBLE_LABELS)"
   ]
  },
  {
   "cell_type": "code",
   "execution_count": 63,
   "metadata": {},
   "outputs": [
    {
     "name": "stdout",
     "output_type": "stream",
     "text": [
      "             precision    recall  f1-score   support\n",
      "\n",
      "        yes       0.99      0.96      0.97       261\n",
      "         no       0.91      0.94      0.92       270\n",
      "         up       0.93      0.92      0.92       260\n",
      "       down       0.93      0.97      0.95       264\n",
      "       left       0.95      0.98      0.96       247\n",
      "      right       0.95      0.95      0.95       256\n",
      "         on       0.93      0.93      0.93       257\n",
      "        off       0.87      0.95      0.91       256\n",
      "       stop       0.96      0.94      0.95       246\n",
      "         go       0.90      0.91      0.90       260\n",
      "    silence       0.99      1.00      0.99       257\n",
      "    unknown       0.98      0.97      0.98      4221\n",
      "\n",
      "avg / total       0.96      0.96      0.96      7055\n",
      "\n"
     ]
    }
   ],
   "source": [
    "print classification_report(y_true,val_preds,target_names=POSSIBLE_LABELS)"
   ]
  },
  {
   "cell_type": "code",
   "execution_count": 32,
   "metadata": {},
   "outputs": [
    {
     "name": "stdout",
     "output_type": "stream",
     "text": [
      "             precision    recall  f1-score   support\n",
      "\n",
      "        yes       0.99      0.97      0.98       261\n",
      "         no       0.91      0.93      0.92       270\n",
      "         up       0.91      0.93      0.92       260\n",
      "       down       0.97      0.95      0.96       264\n",
      "       left       0.97      0.98      0.97       247\n",
      "      right       0.97      0.94      0.96       256\n",
      "         on       0.95      0.94      0.95       257\n",
      "        off       0.94      0.96      0.95       256\n",
      "       stop       0.97      0.91      0.94       246\n",
      "         go       0.88      0.87      0.87       260\n",
      "    silence       0.99      1.00      1.00       257\n",
      "    unknown       0.98      0.98      0.98      4221\n",
      "\n",
      "avg / total       0.97      0.97      0.97      7055\n",
      "\n"
     ]
    }
   ],
   "source": [
    "print classification_report(y_true,val_preds,target_names=POSSIBLE_LABELS)"
   ]
  },
  {
   "cell_type": "code",
   "execution_count": 176,
   "metadata": {},
   "outputs": [
    {
     "name": "stdout",
     "output_type": "stream",
     "text": [
      "             precision    recall  f1-score   support\n",
      "\n",
      "        yes       0.99      0.96      0.97       261\n",
      "         no       0.92      0.93      0.92       270\n",
      "         up       0.83      0.95      0.89       260\n",
      "       down       0.95      0.96      0.96       264\n",
      "       left       0.95      0.98      0.97       247\n",
      "      right       0.97      0.95      0.96       256\n",
      "         on       0.94      0.94      0.94       257\n",
      "        off       0.90      0.95      0.92       256\n",
      "       stop       0.96      0.94      0.95       246\n",
      "         go       0.92      0.92      0.92       260\n",
      "    silence       1.00      1.00      1.00       257\n",
      "    unknown       0.99      0.98      0.98      4221\n",
      "\n",
      "avg / total       0.97      0.97      0.97      7055\n",
      "\n"
     ]
    }
   ],
   "source": [
    "print classification_report(y_true,val_preds,target_names=POSSIBLE_LABELS)"
   ]
  },
  {
   "cell_type": "code",
   "execution_count": 107,
   "metadata": {},
   "outputs": [
    {
     "name": "stdout",
     "output_type": "stream",
     "text": [
      "             precision    recall  f1-score   support\n",
      "\n",
      "        yes       0.98      0.97      0.98       261\n",
      "         no       0.89      0.92      0.90       270\n",
      "         up       0.92      0.94      0.93       260\n",
      "       down       0.96      0.97      0.96       264\n",
      "       left       0.96      0.98      0.97       247\n",
      "      right       0.97      0.97      0.97       256\n",
      "         on       0.93      0.95      0.94       257\n",
      "        off       0.92      0.97      0.94       256\n",
      "       stop       0.97      0.94      0.96       246\n",
      "         go       0.91      0.91      0.91       260\n",
      "    silence       0.99      1.00      1.00       257\n",
      "    unknown       0.99      0.98      0.98      4221\n",
      "\n",
      "avg / total       0.97      0.97      0.97      7055\n",
      "\n"
     ]
    }
   ],
   "source": [
    "print classification_report(y_true,val_preds,target_names=POSSIBLE_LABELS)"
   ]
  },
  {
   "cell_type": "code",
   "execution_count": 78,
   "metadata": {},
   "outputs": [
    {
     "name": "stdout",
     "output_type": "stream",
     "text": [
      "             precision    recall  f1-score   support\n",
      "\n",
      "        yes       0.98      0.96      0.97       261\n",
      "         no       0.88      0.91      0.89       270\n",
      "         up       0.86      0.95      0.90       260\n",
      "       down       0.92      0.95      0.93       264\n",
      "       left       0.94      0.98      0.96       247\n",
      "      right       0.94      0.95      0.95       256\n",
      "         on       0.83      0.94      0.88       257\n",
      "        off       0.87      0.94      0.90       256\n",
      "       stop       0.98      0.93      0.95       246\n",
      "         go       0.80      0.90      0.85       260\n",
      "    silence       0.95      1.00      0.98       257\n",
      "    unknown       0.98      0.95      0.97      4221\n",
      "\n",
      "avg / total       0.95      0.95      0.95      7055\n",
      "\n"
     ]
    }
   ],
   "source": [
    "print classification_report(y_true,val_preds,target_names=POSSIBLE_LABELS)"
   ]
  },
  {
   "cell_type": "code",
   "execution_count": 41,
   "metadata": {},
   "outputs": [
    {
     "name": "stdout",
     "output_type": "stream",
     "text": [
      "             precision    recall  f1-score   support\n",
      "\n",
      "        yes       0.99      0.96      0.97       261\n",
      "         no       0.92      0.92      0.92       270\n",
      "         up       0.93      0.93      0.93       260\n",
      "       down       0.99      0.95      0.97       264\n",
      "       left       0.98      0.97      0.97       247\n",
      "      right       0.99      0.95      0.97       256\n",
      "         on       0.97      0.92      0.95       257\n",
      "        off       0.94      0.92      0.93       256\n",
      "       stop       0.99      0.94      0.97       246\n",
      "         go       0.95      0.88      0.92       260\n",
      "    silence       0.97      1.00      0.98       257\n",
      "    unknown       0.76      0.98      0.86       257\n",
      "\n",
      "avg / total       0.95      0.94      0.94      3091\n",
      "\n"
     ]
    }
   ],
   "source": [
    "print classification_report(y_true,val_preds,target_names=POSSIBLE_LABELS)"
   ]
  },
  {
   "cell_type": "code",
   "execution_count": 95,
   "metadata": {},
   "outputs": [
    {
     "name": "stdout",
     "output_type": "stream",
     "text": [
      "             precision    recall  f1-score   support\n",
      "\n",
      "        yes       0.98      0.96      0.97       261\n",
      "         no       0.92      0.94      0.93       270\n",
      "         up       0.92      0.93      0.93       260\n",
      "       down       0.98      0.94      0.96       264\n",
      "       left       0.97      0.97      0.97       247\n",
      "      right       0.95      0.96      0.96       256\n",
      "         on       0.96      0.95      0.96       257\n",
      "        off       0.94      0.92      0.93       256\n",
      "       stop       1.00      0.94      0.97       246\n",
      "         go       0.96      0.89      0.92       260\n",
      "    silence       0.98      1.00      0.99       257\n",
      "    unknown       0.82      0.95      0.88       257\n",
      "\n",
      "avg / total       0.95      0.95      0.95      3091\n",
      "\n"
     ]
    }
   ],
   "source": [
    "print classification_report(y_true,val_preds,target_names=POSSIBLE_LABELS)"
   ]
  },
  {
   "cell_type": "code",
   "execution_count": 19,
   "metadata": {},
   "outputs": [
    {
     "name": "stdout",
     "output_type": "stream",
     "text": [
      "             precision    recall  f1-score   support\n",
      "\n",
      "        yes       0.99      0.95      0.97       261\n",
      "         no       0.94      0.95      0.95       270\n",
      "         up       0.92      0.95      0.93       260\n",
      "       down       0.99      0.95      0.97       264\n",
      "       left       0.97      0.96      0.96       247\n",
      "      right       0.99      0.95      0.97       256\n",
      "         on       0.99      0.92      0.95       257\n",
      "        off       0.93      0.94      0.93       256\n",
      "       stop       0.98      0.95      0.97       246\n",
      "         go       0.94      0.90      0.92       260\n",
      "    silence       0.99      1.00      1.00       257\n",
      "    unknown       0.80      0.96      0.88       257\n",
      "\n",
      "avg / total       0.95      0.95      0.95      3091\n",
      "\n"
     ]
    }
   ],
   "source": [
    "print classification_report(y_true,val_preds,target_names=POSSIBLE_LABELS)"
   ]
  },
  {
   "cell_type": "code",
   "execution_count": 197,
   "metadata": {},
   "outputs": [
    {
     "name": "stdout",
     "output_type": "stream",
     "text": [
      "             precision    recall  f1-score   support\n",
      "\n",
      "        yes       1.00      0.96      0.98       261\n",
      "         no       0.91      0.94      0.93       270\n",
      "         up       0.90      0.95      0.92       260\n",
      "       down       0.99      0.94      0.96       264\n",
      "       left       0.98      0.98      0.98       247\n",
      "      right       0.98      0.96      0.97       256\n",
      "         on       0.98      0.93      0.95       257\n",
      "        off       0.93      0.93      0.93       256\n",
      "       stop       0.96      0.93      0.95       246\n",
      "         go       0.95      0.90      0.92       260\n",
      "    silence       0.98      1.00      0.99       257\n",
      "    unknown       0.82      0.94      0.87       257\n",
      "\n",
      "avg / total       0.95      0.95      0.95      3091\n",
      "\n"
     ]
    }
   ],
   "source": [
    "print classification_report(y_true,val_preds,target_names=POSSIBLE_LABELS)"
   ]
  },
  {
   "cell_type": "markdown",
   "metadata": {},
   "source": [
    "### submission\n"
   ]
  },
  {
   "cell_type": "code",
   "execution_count": 6,
   "metadata": {
    "ExecuteTime": {
     "end_time": "2017-11-17T10:28:14.451612Z",
     "start_time": "2017-11-17T10:28:13.307142Z"
    },
    "_cell_guid": "72f27090-c0d1-4d0b-8027-34c915429a79",
    "_uuid": "1007977fccadecdae582ec5d8d52dd3c4c3010aa"
   },
   "outputs": [],
   "source": [
    "test_paths = glob(os.path.join('./data/', 'test/audio/*wav'))"
   ]
  },
  {
   "cell_type": "code",
   "execution_count": 7,
   "metadata": {},
   "outputs": [
    {
     "data": {
      "text/plain": [
       "158538"
      ]
     },
     "execution_count": 7,
     "metadata": {},
     "output_type": "execute_result"
    }
   ],
   "source": [
    "len(test_paths)"
   ]
  },
  {
   "cell_type": "code",
   "execution_count": 19,
   "metadata": {},
   "outputs": [],
   "source": [
    "test_df = pickle.load( open(\"cache/test_df_256.pik\",\"rb\"))\n"
   ]
  },
  {
   "cell_type": "code",
   "execution_count": 20,
   "metadata": {},
   "outputs": [
    {
     "data": {
      "text/plain": [
       "(158538, 5)"
      ]
     },
     "execution_count": 20,
     "metadata": {},
     "output_type": "execute_result"
    }
   ],
   "source": [
    "test_df.shape"
   ]
  },
  {
   "cell_type": "code",
   "execution_count": 16,
   "metadata": {
    "scrolled": true
   },
   "outputs": [
    {
     "data": {
      "text/html": [
       "<div>\n",
       "<style scoped>\n",
       "    .dataframe tbody tr th:only-of-type {\n",
       "        vertical-align: middle;\n",
       "    }\n",
       "\n",
       "    .dataframe tbody tr th {\n",
       "        vertical-align: top;\n",
       "    }\n",
       "\n",
       "    .dataframe thead th {\n",
       "        text-align: right;\n",
       "    }\n",
       "</style>\n",
       "<table border=\"1\" class=\"dataframe\">\n",
       "  <thead>\n",
       "    <tr style=\"text-align: right;\">\n",
       "      <th></th>\n",
       "      <th>label</th>\n",
       "      <th>label_id</th>\n",
       "      <th>user_id</th>\n",
       "      <th>wav_file</th>\n",
       "      <th>raw</th>\n",
       "    </tr>\n",
       "  </thead>\n",
       "  <tbody>\n",
       "    <tr>\n",
       "      <th>0</th>\n",
       "      <td>test</td>\n",
       "      <td>-1</td>\n",
       "      <td>test</td>\n",
       "      <td>./data/test/audio/clip_bd6d0fb25.wav</td>\n",
       "      <td>[[-57.2323073539, -62.8251292953, -75.84322783...</td>\n",
       "    </tr>\n",
       "    <tr>\n",
       "      <th>1</th>\n",
       "      <td>test</td>\n",
       "      <td>-1</td>\n",
       "      <td>test</td>\n",
       "      <td>./data/test/audio/clip_3e7a56353.wav</td>\n",
       "      <td>[[-58.4158758303, -52.5011356178, -53.86649120...</td>\n",
       "    </tr>\n",
       "    <tr>\n",
       "      <th>2</th>\n",
       "      <td>test</td>\n",
       "      <td>-1</td>\n",
       "      <td>test</td>\n",
       "      <td>./data/test/audio/clip_c5884a6cb.wav</td>\n",
       "      <td>[[-73.8001558488, -76.330194253, -72.386112091...</td>\n",
       "    </tr>\n",
       "    <tr>\n",
       "      <th>3</th>\n",
       "      <td>test</td>\n",
       "      <td>-1</td>\n",
       "      <td>test</td>\n",
       "      <td>./data/test/audio/clip_ebf0d1f7b.wav</td>\n",
       "      <td>[[-71.7484306025, -64.9348066752, -62.39292603...</td>\n",
       "    </tr>\n",
       "    <tr>\n",
       "      <th>4</th>\n",
       "      <td>test</td>\n",
       "      <td>-1</td>\n",
       "      <td>test</td>\n",
       "      <td>./data/test/audio/clip_2f714f052.wav</td>\n",
       "      <td>[[-49.6434011746, -49.9060486303, -49.58891626...</td>\n",
       "    </tr>\n",
       "  </tbody>\n",
       "</table>\n",
       "</div>"
      ],
      "text/plain": [
       "  label  label_id user_id                              wav_file  \\\n",
       "0  test        -1    test  ./data/test/audio/clip_bd6d0fb25.wav   \n",
       "1  test        -1    test  ./data/test/audio/clip_3e7a56353.wav   \n",
       "2  test        -1    test  ./data/test/audio/clip_c5884a6cb.wav   \n",
       "3  test        -1    test  ./data/test/audio/clip_ebf0d1f7b.wav   \n",
       "4  test        -1    test  ./data/test/audio/clip_2f714f052.wav   \n",
       "\n",
       "                                                 raw  \n",
       "0  [[-57.2323073539, -62.8251292953, -75.84322783...  \n",
       "1  [[-58.4158758303, -52.5011356178, -53.86649120...  \n",
       "2  [[-73.8001558488, -76.330194253, -72.386112091...  \n",
       "3  [[-71.7484306025, -64.9348066752, -62.39292603...  \n",
       "4  [[-49.6434011746, -49.9060486303, -49.58891626...  "
      ]
     },
     "execution_count": 16,
     "metadata": {},
     "output_type": "execute_result"
    }
   ],
   "source": [
    "test_df.head()"
   ]
  },
  {
   "cell_type": "code",
   "execution_count": 15,
   "metadata": {},
   "outputs": [
    {
     "data": {
      "text/plain": [
       "['./data/test/audio/clip_bd6d0fb25.wav',\n",
       " './data/test/audio/clip_3e7a56353.wav',\n",
       " './data/test/audio/clip_c5884a6cb.wav',\n",
       " './data/test/audio/clip_ebf0d1f7b.wav',\n",
       " './data/test/audio/clip_2f714f052.wav',\n",
       " './data/test/audio/clip_05bfe5e6a.wav',\n",
       " './data/test/audio/clip_317b4a205.wav',\n",
       " './data/test/audio/clip_292983fee.wav',\n",
       " './data/test/audio/clip_e086bfc8e.wav',\n",
       " './data/test/audio/clip_d0d7fa566.wav',\n",
       " './data/test/audio/clip_b6ad181d9.wav',\n",
       " './data/test/audio/clip_738893dd9.wav',\n",
       " './data/test/audio/clip_c9eb8d1a9.wav',\n",
       " './data/test/audio/clip_d79dd9bf8.wav',\n",
       " './data/test/audio/clip_e40213c24.wav',\n",
       " './data/test/audio/clip_a72ff422a.wav',\n",
       " './data/test/audio/clip_cc61982d4.wav',\n",
       " './data/test/audio/clip_8e1fa0dee.wav',\n",
       " './data/test/audio/clip_0713f99f1.wav',\n",
       " './data/test/audio/clip_9592bad93.wav',\n",
       " './data/test/audio/clip_f3fe04537.wav',\n",
       " './data/test/audio/clip_0e044ee58.wav',\n",
       " './data/test/audio/clip_654389dc0.wav',\n",
       " './data/test/audio/clip_88505d8a5.wav',\n",
       " './data/test/audio/clip_40ea16c6b.wav',\n",
       " './data/test/audio/clip_eb4ba59f8.wav',\n",
       " './data/test/audio/clip_d32e78089.wav',\n",
       " './data/test/audio/clip_1aa0e6858.wav',\n",
       " './data/test/audio/clip_4b0477055.wav',\n",
       " './data/test/audio/clip_bb88fb22b.wav',\n",
       " './data/test/audio/clip_11935b0ae.wav',\n",
       " './data/test/audio/clip_7be97e288.wav',\n",
       " './data/test/audio/clip_0ac9b2db3.wav',\n",
       " './data/test/audio/clip_9d22b7f6b.wav',\n",
       " './data/test/audio/clip_af90c2c40.wav',\n",
       " './data/test/audio/clip_4a8605cc5.wav',\n",
       " './data/test/audio/clip_6bd6992a9.wav',\n",
       " './data/test/audio/clip_fa2427823.wav',\n",
       " './data/test/audio/clip_b79cc8d26.wav',\n",
       " './data/test/audio/clip_8054ecf5e.wav',\n",
       " './data/test/audio/clip_b32974acd.wav',\n",
       " './data/test/audio/clip_60d40986d.wav',\n",
       " './data/test/audio/clip_0195ecefa.wav',\n",
       " './data/test/audio/clip_5cf35d11d.wav',\n",
       " './data/test/audio/clip_e0212f376.wav',\n",
       " './data/test/audio/clip_cbb0f2634.wav',\n",
       " './data/test/audio/clip_b86b802d3.wav',\n",
       " './data/test/audio/clip_8c6c8d957.wav',\n",
       " './data/test/audio/clip_ae178e1dc.wav',\n",
       " './data/test/audio/clip_29a6ab9a2.wav',\n",
       " './data/test/audio/clip_68a8e44e0.wav',\n",
       " './data/test/audio/clip_24ebb9493.wav',\n",
       " './data/test/audio/clip_705dbdc2b.wav',\n",
       " './data/test/audio/clip_453c33319.wav',\n",
       " './data/test/audio/clip_7718903a1.wav',\n",
       " './data/test/audio/clip_798d53c32.wav',\n",
       " './data/test/audio/clip_8f447dd8a.wav',\n",
       " './data/test/audio/clip_ee03d91c6.wav',\n",
       " './data/test/audio/clip_ee2adf651.wav',\n",
       " './data/test/audio/clip_43dafaa12.wav',\n",
       " './data/test/audio/clip_68e5b9599.wav',\n",
       " './data/test/audio/clip_cb738d9de.wav',\n",
       " './data/test/audio/clip_03d621cff.wav',\n",
       " './data/test/audio/clip_8f08d541a.wav',\n",
       " './data/test/audio/clip_c479403f9.wav',\n",
       " './data/test/audio/clip_8fc056261.wav',\n",
       " './data/test/audio/clip_22f23974e.wav',\n",
       " './data/test/audio/clip_5216234fb.wav',\n",
       " './data/test/audio/clip_66fde554f.wav',\n",
       " './data/test/audio/clip_4046558bb.wav',\n",
       " './data/test/audio/clip_0583ee332.wav',\n",
       " './data/test/audio/clip_47a10cf1a.wav',\n",
       " './data/test/audio/clip_a88663f46.wav',\n",
       " './data/test/audio/clip_ff9e3729a.wav',\n",
       " './data/test/audio/clip_7dddd539d.wav',\n",
       " './data/test/audio/clip_c8299562a.wav',\n",
       " './data/test/audio/clip_5491fe786.wav',\n",
       " './data/test/audio/clip_f9faf965f.wav',\n",
       " './data/test/audio/clip_214e10790.wav',\n",
       " './data/test/audio/clip_c67f0c504.wav',\n",
       " './data/test/audio/clip_ec9f9a4ac.wav',\n",
       " './data/test/audio/clip_31813edba.wav',\n",
       " './data/test/audio/clip_f2bf7e43c.wav',\n",
       " './data/test/audio/clip_54385d8a3.wav',\n",
       " './data/test/audio/clip_9a47f86e2.wav',\n",
       " './data/test/audio/clip_066318268.wav',\n",
       " './data/test/audio/clip_4a5ce5ff9.wav',\n",
       " './data/test/audio/clip_808a5e199.wav',\n",
       " './data/test/audio/clip_d4edc8d20.wav',\n",
       " './data/test/audio/clip_447cee2ed.wav',\n",
       " './data/test/audio/clip_393124ce0.wav',\n",
       " './data/test/audio/clip_b994bb987.wav',\n",
       " './data/test/audio/clip_df3655512.wav',\n",
       " './data/test/audio/clip_222e312ee.wav',\n",
       " './data/test/audio/clip_d8bee01e4.wav',\n",
       " './data/test/audio/clip_6ac57cee6.wav',\n",
       " './data/test/audio/clip_fcda2ca4d.wav',\n",
       " './data/test/audio/clip_4b1936faf.wav',\n",
       " './data/test/audio/clip_1adcd9c5a.wav',\n",
       " './data/test/audio/clip_8f246ebf4.wav',\n",
       " './data/test/audio/clip_6d8e3d2ea.wav',\n",
       " './data/test/audio/clip_c688d45ce.wav',\n",
       " './data/test/audio/clip_e541c9424.wav',\n",
       " './data/test/audio/clip_4d5aad452.wav',\n",
       " './data/test/audio/clip_aa93abd32.wav',\n",
       " './data/test/audio/clip_da25b986b.wav',\n",
       " './data/test/audio/clip_589fc09f3.wav',\n",
       " './data/test/audio/clip_bf4421552.wav',\n",
       " './data/test/audio/clip_a5731c6a5.wav',\n",
       " './data/test/audio/clip_cb82d0ad5.wav',\n",
       " './data/test/audio/clip_5deed4ae4.wav',\n",
       " './data/test/audio/clip_b9347ef2d.wav',\n",
       " './data/test/audio/clip_3718fef24.wav',\n",
       " './data/test/audio/clip_df65f8281.wav',\n",
       " './data/test/audio/clip_ad2dec79a.wav',\n",
       " './data/test/audio/clip_a52960d5e.wav',\n",
       " './data/test/audio/clip_171111a16.wav',\n",
       " './data/test/audio/clip_0b2ec62de.wav',\n",
       " './data/test/audio/clip_f56b550b8.wav',\n",
       " './data/test/audio/clip_2b41e8c78.wav',\n",
       " './data/test/audio/clip_bcbe9b789.wav',\n",
       " './data/test/audio/clip_32e7c0c82.wav',\n",
       " './data/test/audio/clip_c17b33d92.wav',\n",
       " './data/test/audio/clip_f008f372c.wav',\n",
       " './data/test/audio/clip_e6192f800.wav',\n",
       " './data/test/audio/clip_080e960e1.wav',\n",
       " './data/test/audio/clip_84234e19d.wav',\n",
       " './data/test/audio/clip_84240a8e6.wav',\n",
       " './data/test/audio/clip_bb56b13dd.wav',\n",
       " './data/test/audio/clip_fb93eb2b3.wav',\n",
       " './data/test/audio/clip_82b4d8d25.wav',\n",
       " './data/test/audio/clip_15f04643b.wav',\n",
       " './data/test/audio/clip_e0044be59.wav',\n",
       " './data/test/audio/clip_fe6514db2.wav',\n",
       " './data/test/audio/clip_1b487764e.wav',\n",
       " './data/test/audio/clip_e89ba68b0.wav',\n",
       " './data/test/audio/clip_10221e8db.wav',\n",
       " './data/test/audio/clip_159080518.wav',\n",
       " './data/test/audio/clip_5f2d518a4.wav',\n",
       " './data/test/audio/clip_aa61291af.wav',\n",
       " './data/test/audio/clip_dc41bfd86.wav',\n",
       " './data/test/audio/clip_7e5723e1a.wav',\n",
       " './data/test/audio/clip_f90f91542.wav',\n",
       " './data/test/audio/clip_6cb32c3a2.wav',\n",
       " './data/test/audio/clip_bfacc567f.wav',\n",
       " './data/test/audio/clip_703dccb76.wav',\n",
       " './data/test/audio/clip_af487ff5c.wav',\n",
       " './data/test/audio/clip_e83115c0e.wav',\n",
       " './data/test/audio/clip_6e86785d0.wav',\n",
       " './data/test/audio/clip_3652c87f6.wav',\n",
       " './data/test/audio/clip_7e100a86a.wav',\n",
       " './data/test/audio/clip_e57333d0f.wav',\n",
       " './data/test/audio/clip_04ceb5a98.wav',\n",
       " './data/test/audio/clip_684791b3a.wav',\n",
       " './data/test/audio/clip_6aaaaa406.wav',\n",
       " './data/test/audio/clip_b69277c44.wav',\n",
       " './data/test/audio/clip_1d2769341.wav',\n",
       " './data/test/audio/clip_bcd7f0c99.wav',\n",
       " './data/test/audio/clip_f20fb26dd.wav',\n",
       " './data/test/audio/clip_7d8b61656.wav',\n",
       " './data/test/audio/clip_2d25ca51f.wav',\n",
       " './data/test/audio/clip_2e1cb0e33.wav',\n",
       " './data/test/audio/clip_9ae78a153.wav',\n",
       " './data/test/audio/clip_9a7a74529.wav',\n",
       " './data/test/audio/clip_fd2689824.wav',\n",
       " './data/test/audio/clip_cd6589672.wav',\n",
       " './data/test/audio/clip_32455718e.wav',\n",
       " './data/test/audio/clip_f292c59ae.wav',\n",
       " './data/test/audio/clip_a5732d063.wav',\n",
       " './data/test/audio/clip_1a25be616.wav',\n",
       " './data/test/audio/clip_ceb938797.wav',\n",
       " './data/test/audio/clip_29b9eeeb0.wav',\n",
       " './data/test/audio/clip_ce26210af.wav',\n",
       " './data/test/audio/clip_f062158b4.wav',\n",
       " './data/test/audio/clip_4f1ee8f9a.wav',\n",
       " './data/test/audio/clip_b186fad3f.wav',\n",
       " './data/test/audio/clip_172d689f1.wav',\n",
       " './data/test/audio/clip_c69c3c788.wav',\n",
       " './data/test/audio/clip_440379ccb.wav',\n",
       " './data/test/audio/clip_d88ff1593.wav',\n",
       " './data/test/audio/clip_158b69120.wav',\n",
       " './data/test/audio/clip_855447bbc.wav',\n",
       " './data/test/audio/clip_aafc7b2c4.wav',\n",
       " './data/test/audio/clip_2e671438d.wav',\n",
       " './data/test/audio/clip_75e7a4044.wav',\n",
       " './data/test/audio/clip_4a2fb9adf.wav',\n",
       " './data/test/audio/clip_f589b68ae.wav',\n",
       " './data/test/audio/clip_fcd756f92.wav',\n",
       " './data/test/audio/clip_6143fc0aa.wav',\n",
       " './data/test/audio/clip_529844525.wav',\n",
       " './data/test/audio/clip_86771a128.wav',\n",
       " './data/test/audio/clip_f7146ff75.wav',\n",
       " './data/test/audio/clip_ffe41873c.wav',\n",
       " './data/test/audio/clip_4345265f0.wav',\n",
       " './data/test/audio/clip_7dd9570a3.wav',\n",
       " './data/test/audio/clip_715f719fc.wav',\n",
       " './data/test/audio/clip_2b1797225.wav',\n",
       " './data/test/audio/clip_41b2d1ac7.wav',\n",
       " './data/test/audio/clip_b188229f3.wav',\n",
       " './data/test/audio/clip_5711fd76c.wav',\n",
       " './data/test/audio/clip_7a0e556bb.wav',\n",
       " './data/test/audio/clip_058ab94e2.wav',\n",
       " './data/test/audio/clip_bdf3acc07.wav',\n",
       " './data/test/audio/clip_7c0bb1ba6.wav',\n",
       " './data/test/audio/clip_e4691e6ec.wav',\n",
       " './data/test/audio/clip_d38f3a03b.wav',\n",
       " './data/test/audio/clip_867f675ec.wav',\n",
       " './data/test/audio/clip_b8ca02574.wav',\n",
       " './data/test/audio/clip_2df9fa4a3.wav',\n",
       " './data/test/audio/clip_b316d1a5a.wav',\n",
       " './data/test/audio/clip_a26bb8f8c.wav',\n",
       " './data/test/audio/clip_96f03a398.wav',\n",
       " './data/test/audio/clip_79bb03ade.wav',\n",
       " './data/test/audio/clip_4485c6c50.wav',\n",
       " './data/test/audio/clip_3eeacf499.wav',\n",
       " './data/test/audio/clip_109e6aab7.wav',\n",
       " './data/test/audio/clip_597462600.wav',\n",
       " './data/test/audio/clip_8b47022d6.wav',\n",
       " './data/test/audio/clip_fcc1e6101.wav',\n",
       " './data/test/audio/clip_f3392e9a6.wav',\n",
       " './data/test/audio/clip_fd7e581e0.wav',\n",
       " './data/test/audio/clip_ee5b2a17a.wav',\n",
       " './data/test/audio/clip_768450a70.wav',\n",
       " './data/test/audio/clip_5f8733040.wav',\n",
       " './data/test/audio/clip_88eef8c12.wav',\n",
       " './data/test/audio/clip_1a2a56c37.wav',\n",
       " './data/test/audio/clip_fbba06b16.wav',\n",
       " './data/test/audio/clip_5de32c897.wav',\n",
       " './data/test/audio/clip_4c41471a0.wav',\n",
       " './data/test/audio/clip_0251c5e2f.wav',\n",
       " './data/test/audio/clip_c923b6f3c.wav',\n",
       " './data/test/audio/clip_431470d69.wav',\n",
       " './data/test/audio/clip_e0cac1816.wav',\n",
       " './data/test/audio/clip_71b109080.wav',\n",
       " './data/test/audio/clip_dde04b12f.wav',\n",
       " './data/test/audio/clip_95072761d.wav',\n",
       " './data/test/audio/clip_a48c5d968.wav',\n",
       " './data/test/audio/clip_91b7b4a61.wav',\n",
       " './data/test/audio/clip_679ceb7a4.wav',\n",
       " './data/test/audio/clip_abc356f0a.wav',\n",
       " './data/test/audio/clip_6364a79cc.wav',\n",
       " './data/test/audio/clip_4cc7616d3.wav',\n",
       " './data/test/audio/clip_bd23961cf.wav',\n",
       " './data/test/audio/clip_22840559c.wav',\n",
       " './data/test/audio/clip_c599d1d35.wav',\n",
       " './data/test/audio/clip_b7fdf5d30.wav',\n",
       " './data/test/audio/clip_fef8bd124.wav',\n",
       " './data/test/audio/clip_2abb00b80.wav',\n",
       " './data/test/audio/clip_905448c30.wav',\n",
       " './data/test/audio/clip_f0bcd3989.wav',\n",
       " './data/test/audio/clip_2e57f7dae.wav',\n",
       " './data/test/audio/clip_46929ed3f.wav',\n",
       " './data/test/audio/clip_023277f9b.wav',\n",
       " './data/test/audio/clip_794280f78.wav',\n",
       " './data/test/audio/clip_723a2718d.wav',\n",
       " './data/test/audio/clip_731c80c58.wav',\n",
       " './data/test/audio/clip_d39528de5.wav',\n",
       " './data/test/audio/clip_7a74d1281.wav',\n",
       " './data/test/audio/clip_a710b0ce1.wav',\n",
       " './data/test/audio/clip_0492df39c.wav',\n",
       " './data/test/audio/clip_880b8e160.wav',\n",
       " './data/test/audio/clip_995d147c6.wav',\n",
       " './data/test/audio/clip_640f1a5d7.wav',\n",
       " './data/test/audio/clip_46200fe67.wav',\n",
       " './data/test/audio/clip_db71a6fd6.wav',\n",
       " './data/test/audio/clip_8ef7195bc.wav',\n",
       " './data/test/audio/clip_578b21acb.wav',\n",
       " './data/test/audio/clip_f984baf51.wav',\n",
       " './data/test/audio/clip_c45b9b982.wav',\n",
       " './data/test/audio/clip_843b0faa3.wav',\n",
       " './data/test/audio/clip_cb86139cf.wav',\n",
       " './data/test/audio/clip_491e4f434.wav',\n",
       " './data/test/audio/clip_e5a84cdcd.wav',\n",
       " './data/test/audio/clip_5fe28aa7b.wav',\n",
       " './data/test/audio/clip_39af2b8a5.wav',\n",
       " './data/test/audio/clip_6ecaa8f26.wav',\n",
       " './data/test/audio/clip_85152e331.wav',\n",
       " './data/test/audio/clip_5c4f7ca89.wav',\n",
       " './data/test/audio/clip_6b29f434d.wav',\n",
       " './data/test/audio/clip_20d28be43.wav',\n",
       " './data/test/audio/clip_65ad2c78f.wav',\n",
       " './data/test/audio/clip_407a07cb6.wav',\n",
       " './data/test/audio/clip_59bd22c1d.wav',\n",
       " './data/test/audio/clip_97dfb1a1d.wav',\n",
       " './data/test/audio/clip_63c5e6f98.wav',\n",
       " './data/test/audio/clip_6108c576a.wav',\n",
       " './data/test/audio/clip_4d84f30e0.wav',\n",
       " './data/test/audio/clip_150ee7697.wav',\n",
       " './data/test/audio/clip_9851435ed.wav',\n",
       " './data/test/audio/clip_fcc87b56c.wav',\n",
       " './data/test/audio/clip_9aec2b374.wav',\n",
       " './data/test/audio/clip_5fd32d65e.wav',\n",
       " './data/test/audio/clip_66dc8c9db.wav',\n",
       " './data/test/audio/clip_e6831208b.wav',\n",
       " './data/test/audio/clip_ff446ab10.wav',\n",
       " './data/test/audio/clip_aa201e091.wav',\n",
       " './data/test/audio/clip_f1d59a295.wav',\n",
       " './data/test/audio/clip_bb3e31d92.wav',\n",
       " './data/test/audio/clip_628f219dd.wav',\n",
       " './data/test/audio/clip_9a78815a3.wav',\n",
       " './data/test/audio/clip_6455fac9f.wav',\n",
       " './data/test/audio/clip_0e3d33392.wav',\n",
       " './data/test/audio/clip_13ab9015f.wav',\n",
       " './data/test/audio/clip_9d97c8fe4.wav',\n",
       " './data/test/audio/clip_9a6766a39.wav',\n",
       " './data/test/audio/clip_68361700a.wav',\n",
       " './data/test/audio/clip_d2f038ec6.wav',\n",
       " './data/test/audio/clip_fe259bd55.wav',\n",
       " './data/test/audio/clip_0ac1aee98.wav',\n",
       " './data/test/audio/clip_f8f96beb2.wav',\n",
       " './data/test/audio/clip_eb4aa1318.wav',\n",
       " './data/test/audio/clip_89f802fd1.wav',\n",
       " './data/test/audio/clip_2a7d93eac.wav',\n",
       " './data/test/audio/clip_0f65104b5.wav',\n",
       " './data/test/audio/clip_57abea149.wav',\n",
       " './data/test/audio/clip_044a72bf1.wav',\n",
       " './data/test/audio/clip_687fe8953.wav',\n",
       " './data/test/audio/clip_577a05b49.wav',\n",
       " './data/test/audio/clip_c4313218a.wav',\n",
       " './data/test/audio/clip_9efb1b28f.wav',\n",
       " './data/test/audio/clip_3fff7f8cd.wav',\n",
       " './data/test/audio/clip_5fbd48459.wav',\n",
       " './data/test/audio/clip_a4d82c57b.wav',\n",
       " './data/test/audio/clip_160918f10.wav',\n",
       " './data/test/audio/clip_dc65655b4.wav',\n",
       " './data/test/audio/clip_f7bd39451.wav',\n",
       " './data/test/audio/clip_74d386a24.wav',\n",
       " './data/test/audio/clip_a34d0c71c.wav',\n",
       " './data/test/audio/clip_268f8fbc3.wav',\n",
       " './data/test/audio/clip_6f3dabaee.wav',\n",
       " './data/test/audio/clip_0328d13af.wav',\n",
       " './data/test/audio/clip_a628642f5.wav',\n",
       " './data/test/audio/clip_babe1e1b9.wav',\n",
       " './data/test/audio/clip_6817a4c89.wav',\n",
       " './data/test/audio/clip_ebd6ded81.wav',\n",
       " './data/test/audio/clip_0319ebe38.wav',\n",
       " './data/test/audio/clip_fc61eb5b7.wav',\n",
       " './data/test/audio/clip_fe3f1bd9c.wav',\n",
       " './data/test/audio/clip_0ddb1c05c.wav',\n",
       " './data/test/audio/clip_7511233bf.wav',\n",
       " './data/test/audio/clip_bacc6943b.wav',\n",
       " './data/test/audio/clip_db0a92972.wav',\n",
       " './data/test/audio/clip_189b4a5d8.wav',\n",
       " './data/test/audio/clip_8d8e4a2ba.wav',\n",
       " './data/test/audio/clip_c57189b5c.wav',\n",
       " './data/test/audio/clip_54032cf53.wav',\n",
       " './data/test/audio/clip_35d8a355b.wav',\n",
       " './data/test/audio/clip_50729e020.wav',\n",
       " './data/test/audio/clip_1e54cef99.wav',\n",
       " './data/test/audio/clip_be0ca15d2.wav',\n",
       " './data/test/audio/clip_7b15fe5d2.wav',\n",
       " './data/test/audio/clip_0ce1759f5.wav',\n",
       " './data/test/audio/clip_d4e89c385.wav',\n",
       " './data/test/audio/clip_f63cca74a.wav',\n",
       " './data/test/audio/clip_43c4fda1c.wav',\n",
       " './data/test/audio/clip_2c633c9bc.wav',\n",
       " './data/test/audio/clip_2589fc531.wav',\n",
       " './data/test/audio/clip_719715527.wav',\n",
       " './data/test/audio/clip_8b493c13d.wav',\n",
       " './data/test/audio/clip_507fa5326.wav',\n",
       " './data/test/audio/clip_3ae7c3c81.wav',\n",
       " './data/test/audio/clip_959094616.wav',\n",
       " './data/test/audio/clip_65c902747.wav',\n",
       " './data/test/audio/clip_f44771e3a.wav',\n",
       " './data/test/audio/clip_468da9d6d.wav',\n",
       " './data/test/audio/clip_e1f9f1f48.wav',\n",
       " './data/test/audio/clip_f01962ccb.wav',\n",
       " './data/test/audio/clip_0385cfc08.wav',\n",
       " './data/test/audio/clip_9a23c24a2.wav',\n",
       " './data/test/audio/clip_0a40e8431.wav',\n",
       " './data/test/audio/clip_7e1be2dc7.wav',\n",
       " './data/test/audio/clip_4ee047161.wav',\n",
       " './data/test/audio/clip_7b9b98f02.wav',\n",
       " './data/test/audio/clip_d9f08cd27.wav',\n",
       " './data/test/audio/clip_e9437c83f.wav',\n",
       " './data/test/audio/clip_a56e5f176.wav',\n",
       " './data/test/audio/clip_76810de20.wav',\n",
       " './data/test/audio/clip_25bc7b457.wav',\n",
       " './data/test/audio/clip_1f9744cca.wav',\n",
       " './data/test/audio/clip_d135fb326.wav',\n",
       " './data/test/audio/clip_d792e71b5.wav',\n",
       " './data/test/audio/clip_04a5bb330.wav',\n",
       " './data/test/audio/clip_16b7d7d91.wav',\n",
       " './data/test/audio/clip_56939e9a7.wav',\n",
       " './data/test/audio/clip_1e817248f.wav',\n",
       " './data/test/audio/clip_82e2c3a1b.wav',\n",
       " './data/test/audio/clip_1833e93b8.wav',\n",
       " './data/test/audio/clip_7e6ca06a1.wav',\n",
       " './data/test/audio/clip_6b1784ec9.wav',\n",
       " './data/test/audio/clip_b38b3639f.wav',\n",
       " './data/test/audio/clip_23067eccf.wav',\n",
       " './data/test/audio/clip_2f5e561e8.wav',\n",
       " './data/test/audio/clip_0562c25db.wav',\n",
       " './data/test/audio/clip_f2cbd43df.wav',\n",
       " './data/test/audio/clip_52ec82551.wav',\n",
       " './data/test/audio/clip_b5da8e6e5.wav',\n",
       " './data/test/audio/clip_d924b0a72.wav',\n",
       " './data/test/audio/clip_680a8706c.wav',\n",
       " './data/test/audio/clip_8ea152f31.wav',\n",
       " './data/test/audio/clip_270699396.wav',\n",
       " './data/test/audio/clip_fc8819178.wav',\n",
       " './data/test/audio/clip_fd2ed3cf0.wav',\n",
       " './data/test/audio/clip_02b51e63c.wav',\n",
       " './data/test/audio/clip_181abb4e9.wav',\n",
       " './data/test/audio/clip_8cdd90f0c.wav',\n",
       " './data/test/audio/clip_f7ab295eb.wav',\n",
       " './data/test/audio/clip_df6ff3640.wav',\n",
       " './data/test/audio/clip_623a54a45.wav',\n",
       " './data/test/audio/clip_4446ecf99.wav',\n",
       " './data/test/audio/clip_5ec839d6b.wav',\n",
       " './data/test/audio/clip_c9e7b40ef.wav',\n",
       " './data/test/audio/clip_e7294278f.wav',\n",
       " './data/test/audio/clip_bec892b29.wav',\n",
       " './data/test/audio/clip_91d8e0871.wav',\n",
       " './data/test/audio/clip_97c7ac3c0.wav',\n",
       " './data/test/audio/clip_aaa75716a.wav',\n",
       " './data/test/audio/clip_6294133fa.wav',\n",
       " './data/test/audio/clip_3e95cfdb8.wav',\n",
       " './data/test/audio/clip_d9353f2c6.wav',\n",
       " './data/test/audio/clip_719e83a70.wav',\n",
       " './data/test/audio/clip_0576aafc5.wav',\n",
       " './data/test/audio/clip_aa578732e.wav',\n",
       " './data/test/audio/clip_e443f6ab6.wav',\n",
       " './data/test/audio/clip_f8bb6e63d.wav',\n",
       " './data/test/audio/clip_59dba6295.wav',\n",
       " './data/test/audio/clip_f539b68f0.wav',\n",
       " './data/test/audio/clip_a5a0668fc.wav',\n",
       " './data/test/audio/clip_0871bb15c.wav',\n",
       " './data/test/audio/clip_7c8893f2e.wav',\n",
       " './data/test/audio/clip_db0ede3f5.wav',\n",
       " './data/test/audio/clip_6b9bc738c.wav',\n",
       " './data/test/audio/clip_d6eaf64b7.wav',\n",
       " './data/test/audio/clip_562b9bfaa.wav',\n",
       " './data/test/audio/clip_cce1094e2.wav',\n",
       " './data/test/audio/clip_1dd077568.wav',\n",
       " './data/test/audio/clip_2594321cf.wav',\n",
       " './data/test/audio/clip_8394b6d51.wav',\n",
       " './data/test/audio/clip_a64f85f57.wav',\n",
       " './data/test/audio/clip_c28083ca9.wav',\n",
       " './data/test/audio/clip_96edf9942.wav',\n",
       " './data/test/audio/clip_ee58738cd.wav',\n",
       " './data/test/audio/clip_15737ca02.wav',\n",
       " './data/test/audio/clip_0dde5fabc.wav',\n",
       " './data/test/audio/clip_279d396ff.wav',\n",
       " './data/test/audio/clip_4f3f37f61.wav',\n",
       " './data/test/audio/clip_4b2f95f49.wav',\n",
       " './data/test/audio/clip_8770c52a1.wav',\n",
       " './data/test/audio/clip_0cbcc6467.wav',\n",
       " './data/test/audio/clip_f7e6d925d.wav',\n",
       " './data/test/audio/clip_74622817a.wav',\n",
       " './data/test/audio/clip_39b0d0a8e.wav',\n",
       " './data/test/audio/clip_b78070af2.wav',\n",
       " './data/test/audio/clip_3ab9871e1.wav',\n",
       " './data/test/audio/clip_0de5bc624.wav',\n",
       " './data/test/audio/clip_02cee2176.wav',\n",
       " './data/test/audio/clip_60f3f74e1.wav',\n",
       " './data/test/audio/clip_c7f60501e.wav',\n",
       " './data/test/audio/clip_d942af61c.wav',\n",
       " './data/test/audio/clip_60225ab2d.wav',\n",
       " './data/test/audio/clip_601107ab2.wav',\n",
       " './data/test/audio/clip_9a48bdc77.wav',\n",
       " './data/test/audio/clip_9eaa768ad.wav',\n",
       " './data/test/audio/clip_881dd11cb.wav',\n",
       " './data/test/audio/clip_d036e4eb1.wav',\n",
       " './data/test/audio/clip_a24e10af2.wav',\n",
       " './data/test/audio/clip_0327b5152.wav',\n",
       " './data/test/audio/clip_dd1a50cfc.wav',\n",
       " './data/test/audio/clip_48f578101.wav',\n",
       " './data/test/audio/clip_23566ddb4.wav',\n",
       " './data/test/audio/clip_ea1619741.wav',\n",
       " './data/test/audio/clip_3fc7ee66f.wav',\n",
       " './data/test/audio/clip_37cedf99f.wav',\n",
       " './data/test/audio/clip_802ed5af4.wav',\n",
       " './data/test/audio/clip_3919b9a23.wav',\n",
       " './data/test/audio/clip_e4f940bce.wav',\n",
       " './data/test/audio/clip_f945f8604.wav',\n",
       " './data/test/audio/clip_8afc68787.wav',\n",
       " './data/test/audio/clip_726230147.wav',\n",
       " './data/test/audio/clip_ead24a845.wav',\n",
       " './data/test/audio/clip_8a1f2a1fa.wav',\n",
       " './data/test/audio/clip_c8a4ba9a6.wav',\n",
       " './data/test/audio/clip_63321a74f.wav',\n",
       " './data/test/audio/clip_0ae1843bc.wav',\n",
       " './data/test/audio/clip_c4cf4df89.wav',\n",
       " './data/test/audio/clip_d2857109c.wav',\n",
       " './data/test/audio/clip_2e7dd0de8.wav',\n",
       " './data/test/audio/clip_4054a5e78.wav',\n",
       " './data/test/audio/clip_243080ce9.wav',\n",
       " './data/test/audio/clip_686b2c506.wav',\n",
       " './data/test/audio/clip_5c34dd28d.wav',\n",
       " './data/test/audio/clip_70a6d2003.wav',\n",
       " './data/test/audio/clip_09c2d8ee3.wav',\n",
       " './data/test/audio/clip_fdf562921.wav',\n",
       " './data/test/audio/clip_8571c7fb2.wav',\n",
       " './data/test/audio/clip_6435d6c90.wav',\n",
       " './data/test/audio/clip_65de55fd6.wav',\n",
       " './data/test/audio/clip_335c01a45.wav',\n",
       " './data/test/audio/clip_1b669c8c2.wav',\n",
       " './data/test/audio/clip_bf8d4e5a9.wav',\n",
       " './data/test/audio/clip_9c9085283.wav',\n",
       " './data/test/audio/clip_73b3a98d7.wav',\n",
       " './data/test/audio/clip_f45436270.wav',\n",
       " './data/test/audio/clip_153d7cf47.wav',\n",
       " './data/test/audio/clip_0b6142956.wav',\n",
       " './data/test/audio/clip_662fa82d3.wav',\n",
       " './data/test/audio/clip_00f83db51.wav',\n",
       " './data/test/audio/clip_c045be220.wav',\n",
       " './data/test/audio/clip_03a70bd31.wav',\n",
       " './data/test/audio/clip_092fb13ea.wav',\n",
       " './data/test/audio/clip_ce06a4915.wav',\n",
       " './data/test/audio/clip_92b2e98af.wav',\n",
       " './data/test/audio/clip_5af70eb50.wav',\n",
       " './data/test/audio/clip_0db088acb.wav',\n",
       " './data/test/audio/clip_146da301d.wav',\n",
       " './data/test/audio/clip_7599ce2a8.wav',\n",
       " './data/test/audio/clip_b04afb098.wav',\n",
       " './data/test/audio/clip_4bde1ecb3.wav',\n",
       " './data/test/audio/clip_bbcc9ff16.wav',\n",
       " './data/test/audio/clip_9bfde907c.wav',\n",
       " './data/test/audio/clip_6b7bcaf64.wav',\n",
       " './data/test/audio/clip_a48d10b66.wav',\n",
       " './data/test/audio/clip_23877588f.wav',\n",
       " './data/test/audio/clip_41212eda6.wav',\n",
       " './data/test/audio/clip_554d11dee.wav',\n",
       " './data/test/audio/clip_4cd01889b.wav',\n",
       " './data/test/audio/clip_98e1e480b.wav',\n",
       " './data/test/audio/clip_924d1ece7.wav',\n",
       " './data/test/audio/clip_62402ed0f.wav',\n",
       " './data/test/audio/clip_71ae2932e.wav',\n",
       " './data/test/audio/clip_b48fbbe2c.wav',\n",
       " './data/test/audio/clip_7f2e41682.wav',\n",
       " './data/test/audio/clip_45b04253f.wav',\n",
       " './data/test/audio/clip_f1118335f.wav',\n",
       " './data/test/audio/clip_d75372942.wav',\n",
       " './data/test/audio/clip_5f212fc09.wav',\n",
       " './data/test/audio/clip_3adb5de65.wav',\n",
       " './data/test/audio/clip_4cceb8f10.wav',\n",
       " './data/test/audio/clip_63309f100.wav',\n",
       " './data/test/audio/clip_cd5d44f21.wav',\n",
       " './data/test/audio/clip_2546fcb8f.wav',\n",
       " './data/test/audio/clip_68b513e65.wav',\n",
       " './data/test/audio/clip_69be48c0d.wav',\n",
       " './data/test/audio/clip_a4961cb6d.wav',\n",
       " './data/test/audio/clip_3ab02b67c.wav',\n",
       " './data/test/audio/clip_de3c78ef2.wav',\n",
       " './data/test/audio/clip_ba0f4fce9.wav',\n",
       " './data/test/audio/clip_293d28629.wav',\n",
       " './data/test/audio/clip_7dec00a0d.wav',\n",
       " './data/test/audio/clip_01d0bc405.wav',\n",
       " './data/test/audio/clip_85bcfa954.wav',\n",
       " './data/test/audio/clip_dc1cbf4cf.wav',\n",
       " './data/test/audio/clip_29087238a.wav',\n",
       " './data/test/audio/clip_8933228d5.wav',\n",
       " './data/test/audio/clip_40d87b2e6.wav',\n",
       " './data/test/audio/clip_ad4db2b8c.wav',\n",
       " './data/test/audio/clip_5e904425a.wav',\n",
       " './data/test/audio/clip_f68d8b2ba.wav',\n",
       " './data/test/audio/clip_32c60ad12.wav',\n",
       " './data/test/audio/clip_8d94890f2.wav',\n",
       " './data/test/audio/clip_f75185656.wav',\n",
       " './data/test/audio/clip_cbbf9bda0.wav',\n",
       " './data/test/audio/clip_fc61baf19.wav',\n",
       " './data/test/audio/clip_9706ec8c5.wav',\n",
       " './data/test/audio/clip_83349a033.wav',\n",
       " './data/test/audio/clip_5385b77d0.wav',\n",
       " './data/test/audio/clip_bbc456dcd.wav',\n",
       " './data/test/audio/clip_1d4cbb87e.wav',\n",
       " './data/test/audio/clip_b77964f60.wav',\n",
       " './data/test/audio/clip_9b0c56b78.wav',\n",
       " './data/test/audio/clip_c589c1cb7.wav',\n",
       " './data/test/audio/clip_d26e66755.wav',\n",
       " './data/test/audio/clip_c5b557a29.wav',\n",
       " './data/test/audio/clip_076fab93b.wav',\n",
       " './data/test/audio/clip_946085287.wav',\n",
       " './data/test/audio/clip_953106e08.wav',\n",
       " './data/test/audio/clip_72a6c0b44.wav',\n",
       " './data/test/audio/clip_5d1ca58f3.wav',\n",
       " './data/test/audio/clip_9a473abf5.wav',\n",
       " './data/test/audio/clip_4d77ae926.wav',\n",
       " './data/test/audio/clip_1045eeb86.wav',\n",
       " './data/test/audio/clip_8e8daadd4.wav',\n",
       " './data/test/audio/clip_30c16a3ba.wav',\n",
       " './data/test/audio/clip_24eabeab2.wav',\n",
       " './data/test/audio/clip_70d0542c3.wav',\n",
       " './data/test/audio/clip_2ee2ce2bb.wav',\n",
       " './data/test/audio/clip_1f3aefdaa.wav',\n",
       " './data/test/audio/clip_477c61707.wav',\n",
       " './data/test/audio/clip_985f9f244.wav',\n",
       " './data/test/audio/clip_2882c8d3f.wav',\n",
       " './data/test/audio/clip_dbbda1eae.wav',\n",
       " './data/test/audio/clip_6ead216fa.wav',\n",
       " './data/test/audio/clip_7229fd0d2.wav',\n",
       " './data/test/audio/clip_45f9c1145.wav',\n",
       " './data/test/audio/clip_32c0fbc46.wav',\n",
       " './data/test/audio/clip_4cea84aa9.wav',\n",
       " './data/test/audio/clip_75ed7de82.wav',\n",
       " './data/test/audio/clip_400a9418d.wav',\n",
       " './data/test/audio/clip_d6411eb61.wav',\n",
       " './data/test/audio/clip_1c4f6995e.wav',\n",
       " './data/test/audio/clip_af94244ee.wav',\n",
       " './data/test/audio/clip_9460c547a.wav',\n",
       " './data/test/audio/clip_f7254c6ff.wav',\n",
       " './data/test/audio/clip_99197fb4b.wav',\n",
       " './data/test/audio/clip_cb0a415ee.wav',\n",
       " './data/test/audio/clip_c9f74aed2.wav',\n",
       " './data/test/audio/clip_1629c89ef.wav',\n",
       " './data/test/audio/clip_e2f97ce86.wav',\n",
       " './data/test/audio/clip_0c035d9b9.wav',\n",
       " './data/test/audio/clip_fbcba5bbf.wav',\n",
       " './data/test/audio/clip_7de4b140c.wav',\n",
       " './data/test/audio/clip_97c7e2a13.wav',\n",
       " './data/test/audio/clip_7cc1cb03f.wav',\n",
       " './data/test/audio/clip_9fcfcc1ad.wav',\n",
       " './data/test/audio/clip_9f9dcda3e.wav',\n",
       " './data/test/audio/clip_a955eca02.wav',\n",
       " './data/test/audio/clip_d0dd4218f.wav',\n",
       " './data/test/audio/clip_8e929848e.wav',\n",
       " './data/test/audio/clip_9fee1a592.wav',\n",
       " './data/test/audio/clip_3c63a3052.wav',\n",
       " './data/test/audio/clip_96bdc4793.wav',\n",
       " './data/test/audio/clip_bfa230965.wav',\n",
       " './data/test/audio/clip_701b7bb17.wav',\n",
       " './data/test/audio/clip_304f81210.wav',\n",
       " './data/test/audio/clip_7060bb6a2.wav',\n",
       " './data/test/audio/clip_7e5a93de5.wav',\n",
       " './data/test/audio/clip_42f5a7a75.wav',\n",
       " './data/test/audio/clip_5a4a8522c.wav',\n",
       " './data/test/audio/clip_3a9ad4ea8.wav',\n",
       " './data/test/audio/clip_ae9c5f742.wav',\n",
       " './data/test/audio/clip_4f117392e.wav',\n",
       " './data/test/audio/clip_4932fd03e.wav',\n",
       " './data/test/audio/clip_66db992e2.wav',\n",
       " './data/test/audio/clip_220949de6.wav',\n",
       " './data/test/audio/clip_c457a4c28.wav',\n",
       " './data/test/audio/clip_d52c45deb.wav',\n",
       " './data/test/audio/clip_373da96d3.wav',\n",
       " './data/test/audio/clip_7a9e4ced0.wav',\n",
       " './data/test/audio/clip_926f3813a.wav',\n",
       " './data/test/audio/clip_7e6ebd700.wav',\n",
       " './data/test/audio/clip_ff4d45c05.wav',\n",
       " './data/test/audio/clip_d1d28391c.wav',\n",
       " './data/test/audio/clip_aadec9b7e.wav',\n",
       " './data/test/audio/clip_6955f2a56.wav',\n",
       " './data/test/audio/clip_1c024a0e6.wav',\n",
       " './data/test/audio/clip_b9f9949f1.wav',\n",
       " './data/test/audio/clip_84cb2d9e5.wav',\n",
       " './data/test/audio/clip_69e7472a7.wav',\n",
       " './data/test/audio/clip_f3bee5ce0.wav',\n",
       " './data/test/audio/clip_85d89f659.wav',\n",
       " './data/test/audio/clip_1e5b3c193.wav',\n",
       " './data/test/audio/clip_779900c06.wav',\n",
       " './data/test/audio/clip_41834a673.wav',\n",
       " './data/test/audio/clip_f868b1960.wav',\n",
       " './data/test/audio/clip_aee812232.wav',\n",
       " './data/test/audio/clip_1f77efca5.wav',\n",
       " './data/test/audio/clip_c3721b349.wav',\n",
       " './data/test/audio/clip_b16bb8272.wav',\n",
       " './data/test/audio/clip_a17ed3668.wav',\n",
       " './data/test/audio/clip_ef1650d0e.wav',\n",
       " './data/test/audio/clip_f150fe92f.wav',\n",
       " './data/test/audio/clip_a30e086db.wav',\n",
       " './data/test/audio/clip_2666f0303.wav',\n",
       " './data/test/audio/clip_06da69e2c.wav',\n",
       " './data/test/audio/clip_4c71bf840.wav',\n",
       " './data/test/audio/clip_1cf679071.wav',\n",
       " './data/test/audio/clip_6027f3c27.wav',\n",
       " './data/test/audio/clip_a07460795.wav',\n",
       " './data/test/audio/clip_eaf3b8228.wav',\n",
       " './data/test/audio/clip_6e715acd9.wav',\n",
       " './data/test/audio/clip_a068ac022.wav',\n",
       " './data/test/audio/clip_ddbfb2b4e.wav',\n",
       " './data/test/audio/clip_e45278f5f.wav',\n",
       " './data/test/audio/clip_ef4d2c845.wav',\n",
       " './data/test/audio/clip_75f85352b.wav',\n",
       " './data/test/audio/clip_1ea5b3c50.wav',\n",
       " './data/test/audio/clip_8488edc44.wav',\n",
       " './data/test/audio/clip_8c5f5e4a0.wav',\n",
       " './data/test/audio/clip_ee463b6cc.wav',\n",
       " './data/test/audio/clip_36b5ba4f4.wav',\n",
       " './data/test/audio/clip_03897b67d.wav',\n",
       " './data/test/audio/clip_080f870cc.wav',\n",
       " './data/test/audio/clip_7d5e4e466.wav',\n",
       " './data/test/audio/clip_255bbbf51.wav',\n",
       " './data/test/audio/clip_a3a8a166f.wav',\n",
       " './data/test/audio/clip_ae4a75d6a.wav',\n",
       " './data/test/audio/clip_5e939382d.wav',\n",
       " './data/test/audio/clip_19396aa15.wav',\n",
       " './data/test/audio/clip_2ae1cd6b5.wav',\n",
       " './data/test/audio/clip_0665b9589.wav',\n",
       " './data/test/audio/clip_22070e90f.wav',\n",
       " './data/test/audio/clip_7308c4382.wav',\n",
       " './data/test/audio/clip_703a4b778.wav',\n",
       " './data/test/audio/clip_d373d87fd.wav',\n",
       " './data/test/audio/clip_2b9efc520.wav',\n",
       " './data/test/audio/clip_24ee82f7f.wav',\n",
       " './data/test/audio/clip_187861f45.wav',\n",
       " './data/test/audio/clip_e187cd337.wav',\n",
       " './data/test/audio/clip_96e1801c7.wav',\n",
       " './data/test/audio/clip_c8dee49b2.wav',\n",
       " './data/test/audio/clip_4c33e3570.wav',\n",
       " './data/test/audio/clip_159e84375.wav',\n",
       " './data/test/audio/clip_ba6eec00c.wav',\n",
       " './data/test/audio/clip_11eedb3c1.wav',\n",
       " './data/test/audio/clip_29a9ae08e.wav',\n",
       " './data/test/audio/clip_f37747d8c.wav',\n",
       " './data/test/audio/clip_a52541f53.wav',\n",
       " './data/test/audio/clip_8ac46158e.wav',\n",
       " './data/test/audio/clip_9e7b02afb.wav',\n",
       " './data/test/audio/clip_3de5bc03e.wav',\n",
       " './data/test/audio/clip_0cc7685ad.wav',\n",
       " './data/test/audio/clip_aeaf4f111.wav',\n",
       " './data/test/audio/clip_d8b59e204.wav',\n",
       " './data/test/audio/clip_4c896026e.wav',\n",
       " './data/test/audio/clip_705ddf01c.wav',\n",
       " './data/test/audio/clip_6d5451417.wav',\n",
       " './data/test/audio/clip_2836fab53.wav',\n",
       " './data/test/audio/clip_f75974158.wav',\n",
       " './data/test/audio/clip_3db21b991.wav',\n",
       " './data/test/audio/clip_a30126f49.wav',\n",
       " './data/test/audio/clip_d99e4821d.wav',\n",
       " './data/test/audio/clip_db62f11da.wav',\n",
       " './data/test/audio/clip_af02f93b6.wav',\n",
       " './data/test/audio/clip_4c6fc284f.wav',\n",
       " './data/test/audio/clip_5c4001cd1.wav',\n",
       " './data/test/audio/clip_c178caabd.wav',\n",
       " './data/test/audio/clip_7d946466e.wav',\n",
       " './data/test/audio/clip_be6333f47.wav',\n",
       " './data/test/audio/clip_6089b94bd.wav',\n",
       " './data/test/audio/clip_841b78442.wav',\n",
       " './data/test/audio/clip_de9ae55f3.wav',\n",
       " './data/test/audio/clip_66c99ecdf.wav',\n",
       " './data/test/audio/clip_9e63bcebd.wav',\n",
       " './data/test/audio/clip_617921ad4.wav',\n",
       " './data/test/audio/clip_580a3de41.wav',\n",
       " './data/test/audio/clip_b681167d7.wav',\n",
       " './data/test/audio/clip_265063c57.wav',\n",
       " './data/test/audio/clip_e8e8be595.wav',\n",
       " './data/test/audio/clip_54fa5505a.wav',\n",
       " './data/test/audio/clip_08b721077.wav',\n",
       " './data/test/audio/clip_bbb2bcb3c.wav',\n",
       " './data/test/audio/clip_263f5614b.wav',\n",
       " './data/test/audio/clip_4754107d4.wav',\n",
       " './data/test/audio/clip_c888ce4e0.wav',\n",
       " './data/test/audio/clip_047d052ba.wav',\n",
       " './data/test/audio/clip_bdecd162f.wav',\n",
       " './data/test/audio/clip_6cd80223d.wav',\n",
       " './data/test/audio/clip_05fe4b92d.wav',\n",
       " './data/test/audio/clip_554fcec93.wav',\n",
       " './data/test/audio/clip_88083cae6.wav',\n",
       " './data/test/audio/clip_2cafcd99d.wav',\n",
       " './data/test/audio/clip_47641040d.wav',\n",
       " './data/test/audio/clip_8158b5031.wav',\n",
       " './data/test/audio/clip_a3bde1db0.wav',\n",
       " './data/test/audio/clip_fc3100186.wav',\n",
       " './data/test/audio/clip_42d748c53.wav',\n",
       " './data/test/audio/clip_97e0e793d.wav',\n",
       " './data/test/audio/clip_2fd184179.wav',\n",
       " './data/test/audio/clip_4a31a9f7e.wav',\n",
       " './data/test/audio/clip_70b98cec3.wav',\n",
       " './data/test/audio/clip_9ad0bd076.wav',\n",
       " './data/test/audio/clip_27195341a.wav',\n",
       " './data/test/audio/clip_079323e33.wav',\n",
       " './data/test/audio/clip_0db584835.wav',\n",
       " './data/test/audio/clip_12b544986.wav',\n",
       " './data/test/audio/clip_26dddcbb7.wav',\n",
       " './data/test/audio/clip_9971daad3.wav',\n",
       " './data/test/audio/clip_48e542e7e.wav',\n",
       " './data/test/audio/clip_d1a475df3.wav',\n",
       " './data/test/audio/clip_264569d79.wav',\n",
       " './data/test/audio/clip_d1839f281.wav',\n",
       " './data/test/audio/clip_289cf61cc.wav',\n",
       " './data/test/audio/clip_3a74ac001.wav',\n",
       " './data/test/audio/clip_ccf6d01fc.wav',\n",
       " './data/test/audio/clip_d216433e1.wav',\n",
       " './data/test/audio/clip_53dd5481e.wav',\n",
       " './data/test/audio/clip_0534abcf6.wav',\n",
       " './data/test/audio/clip_34f5f44de.wav',\n",
       " './data/test/audio/clip_6e667be98.wav',\n",
       " './data/test/audio/clip_5bed1aafa.wav',\n",
       " './data/test/audio/clip_561e2dd97.wav',\n",
       " './data/test/audio/clip_d344ee13f.wav',\n",
       " './data/test/audio/clip_903c753fc.wav',\n",
       " './data/test/audio/clip_45d68bee8.wav',\n",
       " './data/test/audio/clip_5e63cd204.wav',\n",
       " './data/test/audio/clip_d0fe3c0a5.wav',\n",
       " './data/test/audio/clip_7a27f4005.wav',\n",
       " './data/test/audio/clip_6fe51efd7.wav',\n",
       " './data/test/audio/clip_cb50bf6da.wav',\n",
       " './data/test/audio/clip_5dcca0286.wav',\n",
       " './data/test/audio/clip_789e9014f.wav',\n",
       " './data/test/audio/clip_5f2484901.wav',\n",
       " './data/test/audio/clip_aa8bd32fd.wav',\n",
       " './data/test/audio/clip_c94580922.wav',\n",
       " './data/test/audio/clip_6cfbf0e25.wav',\n",
       " './data/test/audio/clip_5afca2955.wav',\n",
       " './data/test/audio/clip_b2d088d8e.wav',\n",
       " './data/test/audio/clip_5ac0f94ec.wav',\n",
       " './data/test/audio/clip_eafc8c232.wav',\n",
       " './data/test/audio/clip_779adc227.wav',\n",
       " './data/test/audio/clip_2c4bb0074.wav',\n",
       " './data/test/audio/clip_449636da7.wav',\n",
       " './data/test/audio/clip_5e4da7e7f.wav',\n",
       " './data/test/audio/clip_8bda49e84.wav',\n",
       " './data/test/audio/clip_3509bdafa.wav',\n",
       " './data/test/audio/clip_a6bb9fb55.wav',\n",
       " './data/test/audio/clip_b6a662758.wav',\n",
       " './data/test/audio/clip_4834918e7.wav',\n",
       " './data/test/audio/clip_601ad16fe.wav',\n",
       " './data/test/audio/clip_5ff569ba8.wav',\n",
       " './data/test/audio/clip_04d85e9f0.wav',\n",
       " './data/test/audio/clip_d4617d25e.wav',\n",
       " './data/test/audio/clip_f6902d2ff.wav',\n",
       " './data/test/audio/clip_8d0f12dd6.wav',\n",
       " './data/test/audio/clip_9f228bf6e.wav',\n",
       " './data/test/audio/clip_c2ab6dca6.wav',\n",
       " './data/test/audio/clip_3774ad13c.wav',\n",
       " './data/test/audio/clip_567a20f11.wav',\n",
       " './data/test/audio/clip_bcea5a52c.wav',\n",
       " './data/test/audio/clip_a486f24ce.wav',\n",
       " './data/test/audio/clip_8ea78355e.wav',\n",
       " './data/test/audio/clip_1499d3be0.wav',\n",
       " './data/test/audio/clip_7a4ddf0bb.wav',\n",
       " './data/test/audio/clip_893b50f36.wav',\n",
       " './data/test/audio/clip_ac5535b4a.wav',\n",
       " './data/test/audio/clip_dd9d4f7b4.wav',\n",
       " './data/test/audio/clip_812503369.wav',\n",
       " './data/test/audio/clip_4202cba40.wav',\n",
       " './data/test/audio/clip_9d59ab3fc.wav',\n",
       " './data/test/audio/clip_05746d98c.wav',\n",
       " './data/test/audio/clip_0c7470155.wav',\n",
       " './data/test/audio/clip_62ae4f79f.wav',\n",
       " './data/test/audio/clip_b5e6d83e1.wav',\n",
       " './data/test/audio/clip_227a29f1d.wav',\n",
       " './data/test/audio/clip_c46bf17b2.wav',\n",
       " './data/test/audio/clip_e8c6c5ddb.wav',\n",
       " './data/test/audio/clip_e34906f47.wav',\n",
       " './data/test/audio/clip_64994c0d8.wav',\n",
       " './data/test/audio/clip_fd6ff3d5c.wav',\n",
       " './data/test/audio/clip_590571477.wav',\n",
       " './data/test/audio/clip_d5a16c6bc.wav',\n",
       " './data/test/audio/clip_9ad5650ba.wav',\n",
       " './data/test/audio/clip_6a23025fa.wav',\n",
       " './data/test/audio/clip_4d902aacb.wav',\n",
       " './data/test/audio/clip_ab3a35f5f.wav',\n",
       " './data/test/audio/clip_ae3b327e3.wav',\n",
       " './data/test/audio/clip_3b9e7407f.wav',\n",
       " './data/test/audio/clip_a610a5344.wav',\n",
       " './data/test/audio/clip_bb5d2b8bc.wav',\n",
       " './data/test/audio/clip_955699c38.wav',\n",
       " './data/test/audio/clip_4d310db64.wav',\n",
       " './data/test/audio/clip_5c8b7d3d8.wav',\n",
       " './data/test/audio/clip_3ddbcbf76.wav',\n",
       " './data/test/audio/clip_fe492bee4.wav',\n",
       " './data/test/audio/clip_6a29559f9.wav',\n",
       " './data/test/audio/clip_4ac7d8694.wav',\n",
       " './data/test/audio/clip_e85c008ab.wav',\n",
       " './data/test/audio/clip_71ea5e0d3.wav',\n",
       " './data/test/audio/clip_f4a4ff87c.wav',\n",
       " './data/test/audio/clip_4e5a4e556.wav',\n",
       " './data/test/audio/clip_a818ab2ce.wav',\n",
       " './data/test/audio/clip_096a7978f.wav',\n",
       " './data/test/audio/clip_ee087a655.wav',\n",
       " './data/test/audio/clip_3bb836087.wav',\n",
       " './data/test/audio/clip_2d0ae00f3.wav',\n",
       " './data/test/audio/clip_1e37a10e9.wav',\n",
       " './data/test/audio/clip_8f6203654.wav',\n",
       " './data/test/audio/clip_b37d44806.wav',\n",
       " './data/test/audio/clip_18973295f.wav',\n",
       " './data/test/audio/clip_3b126d00c.wav',\n",
       " './data/test/audio/clip_723d8add3.wav',\n",
       " './data/test/audio/clip_365739f3b.wav',\n",
       " './data/test/audio/clip_8544b9eb7.wav',\n",
       " './data/test/audio/clip_5cefbd6a7.wav',\n",
       " './data/test/audio/clip_759778ef4.wav',\n",
       " './data/test/audio/clip_a3d6a25d7.wav',\n",
       " './data/test/audio/clip_1621c460d.wav',\n",
       " './data/test/audio/clip_5abc34672.wav',\n",
       " './data/test/audio/clip_8a21a348e.wav',\n",
       " './data/test/audio/clip_ed56303ff.wav',\n",
       " './data/test/audio/clip_2359f96e5.wav',\n",
       " './data/test/audio/clip_35da4bfcb.wav',\n",
       " './data/test/audio/clip_264a30461.wav',\n",
       " './data/test/audio/clip_efd3c88c3.wav',\n",
       " './data/test/audio/clip_d64b13fee.wav',\n",
       " './data/test/audio/clip_d9c84f631.wav',\n",
       " './data/test/audio/clip_d4852399f.wav',\n",
       " './data/test/audio/clip_adffdcf44.wav',\n",
       " './data/test/audio/clip_00ae6199e.wav',\n",
       " './data/test/audio/clip_bb96d3a22.wav',\n",
       " './data/test/audio/clip_2575d0260.wav',\n",
       " './data/test/audio/clip_b62b6fa47.wav',\n",
       " './data/test/audio/clip_cb24f43f6.wav',\n",
       " './data/test/audio/clip_cbc87f487.wav',\n",
       " './data/test/audio/clip_f1058e11a.wav',\n",
       " './data/test/audio/clip_8947beee7.wav',\n",
       " './data/test/audio/clip_3a1810e56.wav',\n",
       " './data/test/audio/clip_64ba5b718.wav',\n",
       " './data/test/audio/clip_abcf9ee57.wav',\n",
       " './data/test/audio/clip_2ae808500.wav',\n",
       " './data/test/audio/clip_da35123c1.wav',\n",
       " './data/test/audio/clip_72097af68.wav',\n",
       " './data/test/audio/clip_1f61e52e1.wav',\n",
       " './data/test/audio/clip_7380137cc.wav',\n",
       " './data/test/audio/clip_07a9ea6e5.wav',\n",
       " './data/test/audio/clip_68ac3810e.wav',\n",
       " './data/test/audio/clip_3fb74ba3c.wav',\n",
       " './data/test/audio/clip_38b39827e.wav',\n",
       " './data/test/audio/clip_f68d0c841.wav',\n",
       " './data/test/audio/clip_b27675c99.wav',\n",
       " './data/test/audio/clip_4a6348fa3.wav',\n",
       " './data/test/audio/clip_b076a2578.wav',\n",
       " './data/test/audio/clip_3f770fd79.wav',\n",
       " './data/test/audio/clip_baf379ad8.wav',\n",
       " './data/test/audio/clip_0c85df504.wav',\n",
       " './data/test/audio/clip_7ac651fdf.wav',\n",
       " './data/test/audio/clip_90115e668.wav',\n",
       " './data/test/audio/clip_c6bff1d2b.wav',\n",
       " './data/test/audio/clip_d3e000ad2.wav',\n",
       " './data/test/audio/clip_8cac54301.wav',\n",
       " './data/test/audio/clip_91fa43a5f.wav',\n",
       " './data/test/audio/clip_3e8dca8bf.wav',\n",
       " './data/test/audio/clip_f9d57d594.wav',\n",
       " './data/test/audio/clip_9276227fd.wav',\n",
       " './data/test/audio/clip_64fa409f8.wav',\n",
       " './data/test/audio/clip_4346bbcdf.wav',\n",
       " './data/test/audio/clip_e473e54f7.wav',\n",
       " './data/test/audio/clip_f762e895e.wav',\n",
       " './data/test/audio/clip_2f7957804.wav',\n",
       " './data/test/audio/clip_eb87a0f8f.wav',\n",
       " './data/test/audio/clip_3eb34a252.wav',\n",
       " './data/test/audio/clip_9404cb36c.wav',\n",
       " './data/test/audio/clip_ecd2e27ea.wav',\n",
       " './data/test/audio/clip_a069e84a5.wav',\n",
       " './data/test/audio/clip_222af40de.wav',\n",
       " './data/test/audio/clip_bfe46b58b.wav',\n",
       " './data/test/audio/clip_9f9889726.wav',\n",
       " './data/test/audio/clip_4620fadb8.wav',\n",
       " './data/test/audio/clip_b0753d1d0.wav',\n",
       " './data/test/audio/clip_5edafc701.wav',\n",
       " './data/test/audio/clip_97a56578c.wav',\n",
       " './data/test/audio/clip_b2fb38cae.wav',\n",
       " './data/test/audio/clip_ec55c6cf6.wav',\n",
       " './data/test/audio/clip_ed89f79ff.wav',\n",
       " './data/test/audio/clip_4e81900d0.wav',\n",
       " './data/test/audio/clip_be7dedb95.wav',\n",
       " './data/test/audio/clip_42028370f.wav',\n",
       " './data/test/audio/clip_a98598505.wav',\n",
       " './data/test/audio/clip_c767fa2c0.wav',\n",
       " './data/test/audio/clip_c6e480034.wav',\n",
       " './data/test/audio/clip_b0c59ea18.wav',\n",
       " './data/test/audio/clip_8c4e51e83.wav',\n",
       " './data/test/audio/clip_1aec8ccef.wav',\n",
       " './data/test/audio/clip_379a607b8.wav',\n",
       " './data/test/audio/clip_786bdb993.wav',\n",
       " './data/test/audio/clip_bde333061.wav',\n",
       " './data/test/audio/clip_cc101d34c.wav',\n",
       " './data/test/audio/clip_72935f199.wav',\n",
       " './data/test/audio/clip_2a0b966d2.wav',\n",
       " './data/test/audio/clip_e83a27708.wav',\n",
       " './data/test/audio/clip_6b16837d4.wav',\n",
       " './data/test/audio/clip_02dc8e466.wav',\n",
       " './data/test/audio/clip_b805a399c.wav',\n",
       " './data/test/audio/clip_ca3ba3123.wav',\n",
       " './data/test/audio/clip_89edfc2a5.wav',\n",
       " './data/test/audio/clip_b241174e7.wav',\n",
       " './data/test/audio/clip_d0c5dcd5c.wav',\n",
       " './data/test/audio/clip_051a7f37f.wav',\n",
       " './data/test/audio/clip_5b3b84e35.wav',\n",
       " './data/test/audio/clip_0a59145ac.wav',\n",
       " './data/test/audio/clip_b72dd2ff6.wav',\n",
       " './data/test/audio/clip_19eded9e7.wav',\n",
       " './data/test/audio/clip_a11a0394a.wav',\n",
       " './data/test/audio/clip_01cdc0a3a.wav',\n",
       " './data/test/audio/clip_b500e87d5.wav',\n",
       " './data/test/audio/clip_3adbd2545.wav',\n",
       " './data/test/audio/clip_73c6a5358.wav',\n",
       " './data/test/audio/clip_dc3e07bf4.wav',\n",
       " './data/test/audio/clip_c598b8b02.wav',\n",
       " './data/test/audio/clip_c058003a4.wav',\n",
       " './data/test/audio/clip_a04cf6631.wav',\n",
       " './data/test/audio/clip_12ce857bb.wav',\n",
       " './data/test/audio/clip_45fa376f4.wav',\n",
       " './data/test/audio/clip_a6774c6a0.wav',\n",
       " './data/test/audio/clip_a012ed1e7.wav',\n",
       " './data/test/audio/clip_619bf0518.wav',\n",
       " './data/test/audio/clip_20b50610a.wav',\n",
       " './data/test/audio/clip_827364487.wav',\n",
       " './data/test/audio/clip_6a57f2576.wav',\n",
       " './data/test/audio/clip_f48e824bf.wav',\n",
       " './data/test/audio/clip_26cb39afc.wav',\n",
       " './data/test/audio/clip_794d9d281.wav',\n",
       " './data/test/audio/clip_ef1d2603d.wav',\n",
       " './data/test/audio/clip_0054c42fd.wav',\n",
       " './data/test/audio/clip_f1f984eee.wav',\n",
       " './data/test/audio/clip_31c2ca65f.wav',\n",
       " './data/test/audio/clip_b3009945e.wav',\n",
       " './data/test/audio/clip_bf4a88416.wav',\n",
       " './data/test/audio/clip_95fa2ca37.wav',\n",
       " './data/test/audio/clip_720762866.wav',\n",
       " './data/test/audio/clip_b432f79e5.wav',\n",
       " ...]"
      ]
     },
     "execution_count": 15,
     "metadata": {},
     "output_type": "execute_result"
    }
   ],
   "source": [
    "test_paths"
   ]
  },
  {
   "cell_type": "code",
   "execution_count": 42,
   "metadata": {
    "ExecuteTime": {
     "end_time": "2017-11-17T10:32:14.882322Z",
     "start_time": "2017-11-17T10:32:14.863617Z"
    },
    "_cell_guid": "c6d9b369-9979-4bcd-8540-4653e6544f84",
    "_uuid": "6a0bb3c22b7b5c43db0ec5673333ab3de8f08724"
   },
   "outputs": [],
   "source": [
    "batch_size = 64 \n",
    "\n",
    "def test_generator(test_batch_size,augment=False):\n",
    "    while True:\n",
    "        ids = list(range(test_df.shape[0]))\n",
    "        \n",
    "        for start in range(0, len(ids), test_batch_size):\n",
    "            x_batch = []\n",
    "            end = min(start + test_batch_size, len(ids))\n",
    "            i_test_batch = ids[start:end]\n",
    "#             this_paths = test_paths[start:end]\n",
    "#             for x in this_paths:\n",
    "            for i in i_test_batch:\n",
    "                if augment:\n",
    "                    x_batch.append(process_wav_file(test_df.loc[i],n_mels=256,augment=True).T) #,reshape=False,augment=augment,pval=0.5))\n",
    "                else:    \n",
    "                    x_batch.append(test_df.loc[i,'raw'].T)\n",
    "\n",
    "            x_batch = np.array(x_batch)\n",
    "            x_batch = 1.- np.array(x_batch)/-80.\n",
    "            \n",
    "            yield x_batch"
   ]
  },
  {
   "cell_type": "code",
   "execution_count": 43,
   "metadata": {
    "ExecuteTime": {
     "start_time": "2017-11-17T10:32:45.947Z"
    },
    "_cell_guid": "1fb8aed4-de12-43c5-84bf-b803e3d640fa",
    "_uuid": "631a38cb0013e5772f6987854145ad76ecf6c430"
   },
   "outputs": [
    {
     "name": "stdout",
     "output_type": "stream",
     "text": [
      "2478/2478 [==============================] - 226s 91ms/step\n"
     ]
    }
   ],
   "source": [
    "predictions = model.predict_generator(test_generator(batch_size), int(np.ceil(len(test_paths)/float(batch_size))), verbose=1)"
   ]
  },
  {
   "cell_type": "code",
   "execution_count": 44,
   "metadata": {},
   "outputs": [],
   "source": [
    "np.save(\"cache/predictions_{}.npy\".format(exp_name),predictions)"
   ]
  },
  {
   "cell_type": "code",
   "execution_count": 4,
   "metadata": {},
   "outputs": [],
   "source": [
    "predictions = np.load(\"cache/predictions_conv2d_wlstm_pseudo_wval.npy\")"
   ]
  },
  {
   "cell_type": "code",
   "execution_count": null,
   "metadata": {},
   "outputs": [
    {
     "name": "stdout",
     "output_type": "stream",
     "text": [
      "2478/2478 [==============================] - 1705s 688ms/step\n",
      "2478/2478 [==============================] - 1541s 622ms/step\n",
      "2478/2478 [==============================] - 1544s 623ms/step\n",
      "2476/2478 [============================>.] - ETA: 1s"
     ]
    }
   ],
   "source": [
    "tta_preds = []\n",
    "num_aug = 4\n",
    "for i in range(num_aug):\n",
    "    tta_preds.append(model.predict_generator(test_generator(batch_size,augment=True), int(np.ceil(len(test_paths)/float(batch_size))), verbose=1))"
   ]
  },
  {
   "cell_type": "code",
   "execution_count": null,
   "metadata": {},
   "outputs": [],
   "source": [
    "# import pickle\n",
    "\n",
    "# pickle.dump(tta_preds,open(\"cache/test_preds_aug_4x.pik\",'wb'),pickle.HIGHEST_PROTOCOL)\n",
    "\n",
    "# tta_preds = pickle.load(open(\"cache/test_preds_aug_4x.pik\",'rb'))\n",
    "\n",
    "# tta_preds.append(predictions)"
   ]
  },
  {
   "cell_type": "code",
   "execution_count": 8,
   "metadata": {},
   "outputs": [],
   "source": [
    "predictions = np.mean(tta_preds,axis=0)"
   ]
  },
  {
   "cell_type": "code",
   "execution_count": 9,
   "metadata": {},
   "outputs": [
    {
     "data": {
      "text/plain": [
       "(158538, 12)"
      ]
     },
     "execution_count": 9,
     "metadata": {},
     "output_type": "execute_result"
    }
   ],
   "source": [
    "predictions.shape"
   ]
  },
  {
   "cell_type": "markdown",
   "metadata": {},
   "source": [
    "#### blending"
   ]
  },
  {
   "cell_type": "code",
   "execution_count": 53,
   "metadata": {},
   "outputs": [],
   "source": [
    "# predictions_pyramid_noaug = np.load('cache/predictions_pyramid_noaug.npy')\n",
    "# predictions_model_with_ae_base_drp2_1 = np.load('cache/predictions_model_with_ae_base_drp2_1.npy')\n",
    "# blend1 = np.load('cache/predictions_blend_dilated_conv1d_timek123_n_freqk48_pseudo_mixtimefreq1ds_plus_samewithlstm_plus_aebased_conv2d_finetuned.npy')\n",
    "# predictions_aebase_aug_drp3_finetune = np.load('cache/predictions_aebase_aug_drp3_finetune.npy')\n",
    "# predictions_conv_n_lstm = np.load(\"cache/predictions_dilated_conv_n_lstm.npy\")\n",
    "blend2 = np.load('cache/predictions_frqmaxpool256_plus_longblend1.npy')"
   ]
  },
  {
   "cell_type": "code",
   "execution_count": 54,
   "metadata": {},
   "outputs": [],
   "source": [
    "blend3 = np.mean([predictions,\n",
    "                       blend2], axis=0)\n"
   ]
  },
  {
   "cell_type": "code",
   "execution_count": 55,
   "metadata": {},
   "outputs": [],
   "source": [
    "np.save(\"cache/predictions_{}_{}.npy\".format(exp_name,\"plus_blend2\"),blend3)"
   ]
  },
  {
   "cell_type": "code",
   "execution_count": 156,
   "metadata": {},
   "outputs": [
    {
     "name": "stdout",
     "output_type": "stream",
     "text": [
      "2477/2478 [============================>.] - ETA: 0s"
     ]
    }
   ],
   "source": [
    "# num_aug = 2 \n",
    "# for i in range(num_aug):\n",
    "#     predictions +=  model.predict_generator(test_generator(64,augment=True), int(np.ceil(len(test_paths)/64.)), verbose=1)\n",
    "    \n",
    "\n",
    "# predictions = predictions/(num_aug + 1.0)"
   ]
  },
  {
   "cell_type": "markdown",
   "metadata": {},
   "source": [
    "#### class assignment"
   ]
  },
  {
   "cell_type": "code",
   "execution_count": 56,
   "metadata": {
    "ExecuteTime": {
     "end_time": "2017-11-17T11:30:44.236246Z",
     "start_time": "2017-11-17T11:30:44.21858Z"
    },
    "_cell_guid": "b1cdab5c-9816-4690-87d8-de2c97cf0e7d",
    "_uuid": "24eb7e512eace4567494e0a8e356a826f4283c4d"
   },
   "outputs": [],
   "source": [
    "classes = np.argmax(blend3, axis=1)"
   ]
  },
  {
   "cell_type": "code",
   "execution_count": 57,
   "metadata": {},
   "outputs": [
    {
     "data": {
      "text/plain": [
       "(array([  11595.,    5486.,    5235.,    5880.,    5344.,    5915.,\n",
       "           6014.,    5536.,    5239.,  102294.]),\n",
       " array([  0. ,   1.1,   2.2,   3.3,   4.4,   5.5,   6.6,   7.7,   8.8,\n",
       "          9.9,  11. ]),\n",
       " <a list of 10 Patch objects>)"
      ]
     },
     "execution_count": 57,
     "metadata": {},
     "output_type": "execute_result"
    },
    {
     "data": {
      "image/png": "[encoded data removed]",
      "text/plain": [
       "<matplotlib.figure.Figure at 0x7f0fa1625cd0>"
      ]
     },
     "metadata": {},
     "output_type": "display_data"
    }
   ],
   "source": [
    "plt.hist(classes,bins=10)"
   ]
  },
  {
   "cell_type": "code",
   "execution_count": 46,
   "metadata": {},
   "outputs": [
    {
     "data": {
      "text/plain": [
       "(array([  11493.,    5413.,    5266.,    5854.,    5354.,    5840.,\n",
       "           5999.,    5560.,    5174.,  102585.]),\n",
       " array([  0. ,   1.1,   2.2,   3.3,   4.4,   5.5,   6.6,   7.7,   8.8,\n",
       "          9.9,  11. ]),\n",
       " <a list of 10 Patch objects>)"
      ]
     },
     "execution_count": 46,
     "metadata": {},
     "output_type": "execute_result"
    },
    {
     "data": {
      "image/png": "[encoded data removed]",
      "text/plain": [
       "<matplotlib.figure.Figure at 0x7f0fa90e30d0>"
      ]
     },
     "metadata": {},
     "output_type": "display_data"
    }
   ],
   "source": [
    "plt.hist(classes,bins=10)"
   ]
  },
  {
   "cell_type": "code",
   "execution_count": 11,
   "metadata": {},
   "outputs": [
    {
     "data": {
      "text/plain": [
       "(array([ 12543.,   6661.,   5327.,   6491.,   5741.,   6487.,   7599.,\n",
       "          5891.,   5620.,  96178.]),\n",
       " array([  0. ,   1.1,   2.2,   3.3,   4.4,   5.5,   6.6,   7.7,   8.8,\n",
       "          9.9,  11. ]),\n",
       " <a list of 10 Patch objects>)"
      ]
     },
     "execution_count": 11,
     "metadata": {},
     "output_type": "execute_result"
    },
    {
     "data": {
      "image/png": "[encoded data removed]",
      "text/plain": [
       "<matplotlib.figure.Figure at 0x7f6603f6e8d0>"
      ]
     },
     "metadata": {},
     "output_type": "display_data"
    }
   ],
   "source": [
    "plt.hist(classes,bins=10)"
   ]
  },
  {
   "cell_type": "code",
   "execution_count": 75,
   "metadata": {},
   "outputs": [
    {
     "data": {
      "text/plain": [
       "(array([ 12300.,   6025.,   5316.,   6262.,   5586.,   6258.,   6430.,\n",
       "          5676.,   5577.,  99108.]),\n",
       " array([  0. ,   1.1,   2.2,   3.3,   4.4,   5.5,   6.6,   7.7,   8.8,\n",
       "          9.9,  11. ]),\n",
       " <a list of 10 Patch objects>)"
      ]
     },
     "execution_count": 75,
     "metadata": {},
     "output_type": "execute_result"
    },
    {
     "data": {
      "image/png": "[encoded data removed]",
      "text/plain": [
       "<matplotlib.figure.Figure at 0x7f4ed25995d0>"
      ]
     },
     "metadata": {},
     "output_type": "display_data"
    }
   ],
   "source": [
    "plt.hist(classes,bins=10)"
   ]
  },
  {
   "cell_type": "markdown",
   "metadata": {},
   "source": [
    "### submission"
   ]
  },
  {
   "cell_type": "code",
   "execution_count": 58,
   "metadata": {
    "ExecuteTime": {
     "end_time": "2017-11-17T11:31:11.212517Z",
     "start_time": "2017-11-17T11:31:10.786357Z"
    },
    "_cell_guid": "1da523cf-fdbf-4ab1-9300-0147155aa247",
    "_uuid": "f25d4e626202aa115bd0460f4de8d07f9727c83e"
   },
   "outputs": [],
   "source": [
    "### last batch will contain padding, so remove duplicates\n",
    "submission = dict()\n",
    "for i in range(len(test_paths)):\n",
    "    fname, label = os.path.basename(test_paths[i]), id2name[classes[i]]\n",
    "    submission[fname] = label"
   ]
  },
  {
   "cell_type": "code",
   "execution_count": 59,
   "metadata": {
    "ExecuteTime": {
     "end_time": "2017-11-17T11:32:05.154527Z",
     "start_time": "2017-11-17T11:32:04.983371Z"
    },
    "_cell_guid": "9a95d147-3f4b-4386-8597-5fa60be43542",
    "_uuid": "bdf63bce43a0525a02ac18ca3f90aeba06ce6e99"
   },
   "outputs": [],
   "source": [
    "with open('subm/{}_plus_blend2.csv'.format(exp_name), 'w') as fout: #_blend_conv1dlstm_and_aebased_conv2d_finetuned\n",
    "    fout.write('fname,label\\n')\n",
    "    for fname, label in submission.items():\n",
    "        fout.write('{},{}\\n'.format(fname, label))"
   ]
  },
  {
   "cell_type": "code",
   "execution_count": 60,
   "metadata": {
    "_cell_guid": "8bea6850-15c6-44e7-bdb4-9555ad196f85",
    "_uuid": "555315ef622793711ff5643928dac874c8cb0ed2"
   },
   "outputs": [
    {
     "data": {
      "text/html": [
       "<a href='subm/conv2d_wlstm_hardpseudo_withval_c2_plus_blend2.csv' target='_blank'>subm/conv2d_wlstm_hardpseudo_withval_c2_plus_blend2.csv</a><br>"
      ],
      "text/plain": [
       "/home/ubuntu/keyword_spotting/subm/conv2d_wlstm_hardpseudo_withval_c2_plus_blend2.csv"
      ]
     },
     "execution_count": 60,
     "metadata": {},
     "output_type": "execute_result"
    }
   ],
   "source": [
    "from IPython.lib.display import FileLink\n",
    "\n",
    "FileLink('subm/{}_plus_blend2.csv'.format(exp_name))\n"
   ]
  },
  {
   "cell_type": "markdown",
   "metadata": {},
   "source": [
    "#### creae logits \n"
   ]
  },
  {
   "cell_type": "code",
   "execution_count": 1,
   "metadata": {},
   "outputs": [
    {
     "ename": "NameError",
     "evalue": "name 'np' is not defined",
     "output_type": "error",
     "traceback": [
      "\u001b[0;31m---------------------------------------------------------------------------\u001b[0m",
      "\u001b[0;31mNameError\u001b[0m                                 Traceback (most recent call last)",
      "\u001b[0;32m<ipython-input-1-21627561b003>\u001b[0m in \u001b[0;36m<module>\u001b[0;34m()\u001b[0m\n\u001b[0;32m----> 1\u001b[0;31m \u001b[0mtest_preds\u001b[0m \u001b[0;34m=\u001b[0m \u001b[0mnp\u001b[0m\u001b[0;34m.\u001b[0m\u001b[0mload\u001b[0m\u001b[0;34m(\u001b[0m\u001b[0;34m\"cache/predictions_frqmaxpool256_plus_longblend1.npy\"\u001b[0m\u001b[0;34m)\u001b[0m\u001b[0;34m\u001b[0m\u001b[0m\n\u001b[0m\u001b[1;32m      2\u001b[0m \u001b[0;31m# (\"cache/predictions_conv2dlstm_plus_longblend1.npy\") > best of 0.88\u001b[0m\u001b[0;34m\u001b[0m\u001b[0;34m\u001b[0m\u001b[0m\n",
      "\u001b[0;31mNameError\u001b[0m: name 'np' is not defined"
     ]
    }
   ],
   "source": [
    "test_preds = np.load(\"cache/predictions_frqmaxpool256_plus_longblend1.npy\")\n",
    "# (\"cache/predictions_conv2dlstm_plus_longblend1.npy\") > best of 0.88"
   ]
  },
  {
   "cell_type": "code",
   "execution_count": 39,
   "metadata": {},
   "outputs": [],
   "source": [
    "classes = np.argmax(test_preds, axis=1)"
   ]
  },
  {
   "cell_type": "code",
   "execution_count": 40,
   "metadata": {},
   "outputs": [],
   "source": [
    "class_labels = []\n",
    "\n",
    "for i in range(len(test_paths)):\n",
    "    class_labels.append(id2name[classes[i]])\n",
    "    \n"
   ]
  },
  {
   "cell_type": "code",
   "execution_count": 41,
   "metadata": {},
   "outputs": [],
   "source": [
    "test_file_names = []\n",
    "for i in range(len(test_paths)):\n",
    "    test_file_names.append(os.path.basename(test_paths[i]))\n"
   ]
  },
  {
   "cell_type": "code",
   "execution_count": 42,
   "metadata": {},
   "outputs": [
    {
     "data": {
      "text/plain": [
       "'clip_bd6d0fb25.wav'"
      ]
     },
     "execution_count": 42,
     "metadata": {},
     "output_type": "execute_result"
    }
   ],
   "source": [
    "test_file_names[0]"
   ]
  },
  {
   "cell_type": "code",
   "execution_count": 28,
   "metadata": {
    "scrolled": true
   },
   "outputs": [
    {
     "data": {
      "text/plain": [
       "array([  2.40163718e-04,   7.72146583e-01,   2.43576164e-06,\n",
       "         1.97014995e-02,   4.51893255e-04,   3.37923157e-05,\n",
       "         4.46151826e-05,   9.43910982e-06,   2.77688541e-05,\n",
       "         8.60303640e-03,   1.87455362e-09,   1.98738813e-01], dtype=float32)"
      ]
     },
     "execution_count": 28,
     "metadata": {},
     "output_type": "execute_result"
    }
   ],
   "source": [
    "test_preds[0]"
   ]
  },
  {
   "cell_type": "code",
   "execution_count": 43,
   "metadata": {},
   "outputs": [],
   "source": [
    "logits = pd.concat([pd.DataFrame(data=test_file_names,columns=[\"fname\"]) ,\n",
    "                    pd.DataFrame(data=class_labels,columns=[\"label\"]), \n",
    "           pd.DataFrame(data = test_preds, columns=POSSIBLE_LABELS)],axis=1)"
   ]
  },
  {
   "cell_type": "code",
   "execution_count": 44,
   "metadata": {},
   "outputs": [
    {
     "data": {
      "text/html": [
       "<div>\n",
       "<style scoped>\n",
       "    .dataframe tbody tr th:only-of-type {\n",
       "        vertical-align: middle;\n",
       "    }\n",
       "\n",
       "    .dataframe tbody tr th {\n",
       "        vertical-align: top;\n",
       "    }\n",
       "\n",
       "    .dataframe thead th {\n",
       "        text-align: right;\n",
       "    }\n",
       "</style>\n",
       "<table border=\"1\" class=\"dataframe\">\n",
       "  <thead>\n",
       "    <tr style=\"text-align: right;\">\n",
       "      <th></th>\n",
       "      <th>fname</th>\n",
       "      <th>label</th>\n",
       "      <th>yes</th>\n",
       "      <th>no</th>\n",
       "      <th>up</th>\n",
       "      <th>down</th>\n",
       "      <th>left</th>\n",
       "      <th>right</th>\n",
       "      <th>on</th>\n",
       "      <th>off</th>\n",
       "      <th>stop</th>\n",
       "      <th>go</th>\n",
       "      <th>silence</th>\n",
       "      <th>unknown</th>\n",
       "    </tr>\n",
       "  </thead>\n",
       "  <tbody>\n",
       "    <tr>\n",
       "      <th>158533</th>\n",
       "      <td>clip_46e677bad.wav</td>\n",
       "      <td>off</td>\n",
       "      <td>1.213022e-08</td>\n",
       "      <td>1.026436e-08</td>\n",
       "      <td>0.000003</td>\n",
       "      <td>5.558455e-10</td>\n",
       "      <td>6.842185e-08</td>\n",
       "      <td>2.489757e-07</td>\n",
       "      <td>0.004123</td>\n",
       "      <td>0.995703</td>\n",
       "      <td>1.205144e-07</td>\n",
       "      <td>1.519155e-08</td>\n",
       "      <td>1.237315e-12</td>\n",
       "      <td>0.000170</td>\n",
       "    </tr>\n",
       "    <tr>\n",
       "      <th>158534</th>\n",
       "      <td>clip_13f4f3999.wav</td>\n",
       "      <td>off</td>\n",
       "      <td>1.239585e-07</td>\n",
       "      <td>1.203242e-07</td>\n",
       "      <td>0.000026</td>\n",
       "      <td>2.914093e-09</td>\n",
       "      <td>3.340961e-06</td>\n",
       "      <td>3.997619e-07</td>\n",
       "      <td>0.000219</td>\n",
       "      <td>0.999574</td>\n",
       "      <td>7.774687e-07</td>\n",
       "      <td>5.715653e-08</td>\n",
       "      <td>1.044358e-11</td>\n",
       "      <td>0.000177</td>\n",
       "    </tr>\n",
       "    <tr>\n",
       "      <th>158535</th>\n",
       "      <td>clip_74cb41418.wav</td>\n",
       "      <td>unknown</td>\n",
       "      <td>6.449070e-02</td>\n",
       "      <td>2.337105e-02</td>\n",
       "      <td>0.000352</td>\n",
       "      <td>8.286643e-03</td>\n",
       "      <td>9.265405e-03</td>\n",
       "      <td>4.419450e-03</td>\n",
       "      <td>0.000641</td>\n",
       "      <td>0.001358</td>\n",
       "      <td>3.103460e-04</td>\n",
       "      <td>1.224301e-02</td>\n",
       "      <td>1.957201e-05</td>\n",
       "      <td>0.875242</td>\n",
       "    </tr>\n",
       "    <tr>\n",
       "      <th>158536</th>\n",
       "      <td>clip_ffac8a06e.wav</td>\n",
       "      <td>on</td>\n",
       "      <td>2.791232e-07</td>\n",
       "      <td>3.442871e-07</td>\n",
       "      <td>0.000003</td>\n",
       "      <td>4.526026e-05</td>\n",
       "      <td>2.326786e-07</td>\n",
       "      <td>1.508896e-05</td>\n",
       "      <td>0.986539</td>\n",
       "      <td>0.000149</td>\n",
       "      <td>3.914220e-07</td>\n",
       "      <td>3.409091e-06</td>\n",
       "      <td>5.354774e-10</td>\n",
       "      <td>0.013244</td>\n",
       "    </tr>\n",
       "    <tr>\n",
       "      <th>158537</th>\n",
       "      <td>clip_c6798b35f.wav</td>\n",
       "      <td>no</td>\n",
       "      <td>1.660232e-03</td>\n",
       "      <td>8.252926e-01</td>\n",
       "      <td>0.000270</td>\n",
       "      <td>1.455574e-02</td>\n",
       "      <td>1.109665e-03</td>\n",
       "      <td>8.043834e-04</td>\n",
       "      <td>0.001901</td>\n",
       "      <td>0.000378</td>\n",
       "      <td>5.720982e-04</td>\n",
       "      <td>7.625429e-02</td>\n",
       "      <td>3.337102e-06</td>\n",
       "      <td>0.077198</td>\n",
       "    </tr>\n",
       "  </tbody>\n",
       "</table>\n",
       "</div>"
      ],
      "text/plain": [
       "                     fname    label           yes            no        up  \\\n",
       "158533  clip_46e677bad.wav      off  1.213022e-08  1.026436e-08  0.000003   \n",
       "158534  clip_13f4f3999.wav      off  1.239585e-07  1.203242e-07  0.000026   \n",
       "158535  clip_74cb41418.wav  unknown  6.449070e-02  2.337105e-02  0.000352   \n",
       "158536  clip_ffac8a06e.wav       on  2.791232e-07  3.442871e-07  0.000003   \n",
       "158537  clip_c6798b35f.wav       no  1.660232e-03  8.252926e-01  0.000270   \n",
       "\n",
       "                down          left         right        on       off  \\\n",
       "158533  5.558455e-10  6.842185e-08  2.489757e-07  0.004123  0.995703   \n",
       "158534  2.914093e-09  3.340961e-06  3.997619e-07  0.000219  0.999574   \n",
       "158535  8.286643e-03  9.265405e-03  4.419450e-03  0.000641  0.001358   \n",
       "158536  4.526026e-05  2.326786e-07  1.508896e-05  0.986539  0.000149   \n",
       "158537  1.455574e-02  1.109665e-03  8.043834e-04  0.001901  0.000378   \n",
       "\n",
       "                stop            go       silence   unknown  \n",
       "158533  1.205144e-07  1.519155e-08  1.237315e-12  0.000170  \n",
       "158534  7.774687e-07  5.715653e-08  1.044358e-11  0.000177  \n",
       "158535  3.103460e-04  1.224301e-02  1.957201e-05  0.875242  \n",
       "158536  3.914220e-07  3.409091e-06  5.354774e-10  0.013244  \n",
       "158537  5.720982e-04  7.625429e-02  3.337102e-06  0.077198  "
      ]
     },
     "execution_count": 44,
     "metadata": {},
     "output_type": "execute_result"
    }
   ],
   "source": [
    "logits.tail()"
   ]
  },
  {
   "cell_type": "code",
   "execution_count": 45,
   "metadata": {},
   "outputs": [],
   "source": [
    "logits.to_csv(\"cache/armin_logits_88.csv\",index=False)"
   ]
  },
  {
   "cell_type": "code",
   "execution_count": null,
   "metadata": {},
   "outputs": [],
   "source": []
  }
 ],
 "metadata": {
  "anaconda-cloud": {},
  "kernelspec": {
   "display_name": "Python [conda root]",
   "language": "python",
   "name": "conda-root-py"
  },
  "language_info": {
   "codemirror_mode": {
    "name": "ipython",
    "version": 2
   },
   "file_extension": ".py",
   "mimetype": "text/x-python",
   "name": "python",
   "nbconvert_exporter": "python",
   "pygments_lexer": "ipython2",
   "version": "2.7.14"
  },
  "toc": {
   "nav_menu": {},
   "number_sections": true,
   "sideBar": true,
   "skip_h1_title": false,
   "toc_cell": false,
   "toc_position": {},
   "toc_section_display": "block",
   "toc_window_display": true
  }
 },
 "nbformat": 4,
 "nbformat_minor": 1
}
