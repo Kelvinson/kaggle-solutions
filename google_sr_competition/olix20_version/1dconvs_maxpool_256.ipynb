{
 "cells": [
  {
   "cell_type": "code",
   "execution_count": 1,
   "metadata": {
    "ExecuteTime": {
     "end_time": "2017-11-17T09:03:29.196238Z",
     "start_time": "2017-11-17T09:03:28.644004Z"
    },
    "_cell_guid": "679e0d3e-646d-4e96-9eb0-b362d8c6e51f",
    "_uuid": "0d05e5ce89af3e25d1c1fb244d021a1cfa1a058c"
   },
   "outputs": [
    {
     "name": "stderr",
     "output_type": "stream",
     "text": [
      "Using TensorFlow backend.\n"
     ]
    }
   ],
   "source": [
    "from utils import *\n",
    "import array \n",
    "\n",
    "from pydub import AudioSegment\n",
    "import tensorflow as tf\n",
    "\n",
    "from keras.models import Model, Sequential\n",
    "from keras.layers import Input, Conv2D, Flatten, GlobalMaxPooling1D, MaxPooling2D, Activation, BatchNormalization, GlobalAveragePooling2D, GlobalMaxPool2D, concatenate, Dense, Dropout\n",
    "from keras.optimizers import Adam\n",
    "from tensorflow.python.keras.utils import to_categorical\n",
    "\n",
    "from keras.layers import Input, GRU, RepeatVector, BatchNormalization, TimeDistributed, Conv1D\n",
    "from keras.layers import GlobalAveragePooling1D, LSTM, MaxPooling1D, CuDNNLSTM, Bidirectional\n",
    "from keras import backend as K\n",
    "from keras.layers import  Conv2D, MaxPooling2D, UpSampling2D, Lambda, Reshape\n",
    "import keras\n",
    "from keras.layers import AveragePooling1D\n",
    "\n",
    "from keras_tqdm import TQDMNotebookCallback\n",
    "from keras.callbacks import EarlyStopping, ModelCheckpoint, ReduceLROnPlateau\n",
    "import matplotlib.pyplot as plt\n",
    "import numba\n",
    "\n",
    "import dask.dataframe as dd\n",
    "from dask.multiprocessing import get\n",
    "\n",
    "%matplotlib inline"
   ]
  },
  {
   "cell_type": "code",
   "execution_count": 2,
   "metadata": {
    "ExecuteTime": {
     "end_time": "2017-11-17T09:03:29.210749Z",
     "start_time": "2017-11-17T09:03:29.19832Z"
    },
    "_cell_guid": "8ab00801-08b9-44d3-a063-32e82dbf8f58",
    "_uuid": "53c19941676690454dd4b91109976b6c59cb7a40"
   },
   "outputs": [
    {
     "data": {
      "text/plain": [
       "12"
      ]
     },
     "execution_count": 2,
     "metadata": {},
     "output_type": "execute_result"
    }
   ],
   "source": [
    "POSSIBLE_LABELS = 'yes no up down left right on off stop go silence unknown'.split()\n",
    "id2name = {i: name for i, name in enumerate(POSSIBLE_LABELS)}\n",
    "name2id = {name: i for i, name in id2name.items()}\n",
    "len(id2name)"
   ]
  },
  {
   "cell_type": "code",
   "execution_count": 3,
   "metadata": {},
   "outputs": [
    {
     "name": "stdout",
     "output_type": "stream",
     "text": [
      "CPU times: user 14.2 s, sys: 28.1 s, total: 42.4 s\n",
      "Wall time: 3min 41s\n"
     ]
    }
   ],
   "source": [
    "%%time \n",
    "\n",
    "train_df = pickle.load( open(\"cache/train_df_256_aug.pik\",\"rb\"))\n",
    "valid_df = pickle.load( open(\"cache/valid_df_256.pik\",\"rb\"))\n",
    "silent_df = pickle.load(open(\"cache/silent_df_256.pik\",\"rb\"))\n",
    "unknown_df = pickle.load(open(\"cache/unknown_df_256_aug.pik\",\"rb\"))\n"
   ]
  },
  {
   "cell_type": "code",
   "execution_count": 48,
   "metadata": {},
   "outputs": [],
   "source": [
    "test_df =  pickle.load(open(\"cache/test_df_256.pik\",\"rb\"))"
   ]
  },
  {
   "cell_type": "code",
   "execution_count": 4,
   "metadata": {},
   "outputs": [],
   "source": [
    "train_df.reset_index(inplace=True,drop=True)\n",
    "valid_df.reset_index(inplace=True,drop=True)\n",
    "unknown_df.reset_index(inplace=True,drop=True)\n",
    "silent_df.reset_index(inplace=True,drop=True)"
   ]
  },
  {
   "cell_type": "code",
   "execution_count": 5,
   "metadata": {
    "ExecuteTime": {
     "end_time": "2017-11-17T09:03:32.519795Z",
     "start_time": "2017-11-17T09:03:32.483881Z"
    },
    "_cell_guid": "144c6e60-8a83-437d-8b8a-ea065af90923",
    "_uuid": "22e0e6c718171167089fb6df36d3dc43a1029992"
   },
   "outputs": [],
   "source": [
    "#no augmentation since the auto encoder has already seen all the train AND test files \n",
    "\n",
    "def train_generator(train_batch_size):\n",
    "    while True:\n",
    "        \n",
    "        this_train = train_df.groupby('label_id').apply(lambda x: x.sample(n = 2000))\n",
    "        extra_data_size = int(this_train.shape[0]* 0.1)\n",
    "        this_train = pd.concat([silent_df.sample(extra_data_size),\n",
    "                                this_train,\n",
    "                                unknown_df.sample(extra_data_size*2)],axis=0 )\n",
    "        \n",
    "        this_train.reset_index(drop=True,inplace=True)\n",
    "        \n",
    "        shuffled_ids = random.sample(range(this_train.shape[0]), this_train.shape[0])\n",
    "        \n",
    "        for start in range(0, len(shuffled_ids), train_batch_size):\n",
    "            x_batch = []\n",
    "            y_batch = []\n",
    "            \n",
    "            end = min(start + train_batch_size, len(shuffled_ids))\n",
    "            i_train_batch = shuffled_ids[start:end]\n",
    "            for i in i_train_batch:\n",
    "                x_batch.append(this_train.loc[i,'raw'].T)\n",
    "#                 x_batch.append(process_wav_file(this_train.iloc[i], augment=True).T)\n",
    "\n",
    "                y_batch.append(this_train.label_id.values[i])\n",
    "                \n",
    "            x_batch = 1.- np.array(x_batch)/-80.\n",
    "            y_batch = to_categorical(y_batch, num_classes = len(POSSIBLE_LABELS))\n",
    "            \n",
    "            yield x_batch, y_batch"
   ]
  },
  {
   "cell_type": "code",
   "execution_count": 30,
   "metadata": {},
   "outputs": [],
   "source": [
    "# %time t = next(train_generator(256))[0][0].T"
   ]
  },
  {
   "cell_type": "code",
   "execution_count": 6,
   "metadata": {
    "ExecuteTime": {
     "end_time": "2017-11-17T09:03:32.624289Z",
     "start_time": "2017-11-17T09:03:32.521828Z"
    },
    "_cell_guid": "59a13393-9bc3-4b27-abe2-9c78b3c32ead",
    "_uuid": "6f9a8fbf6e352b1c77b9c22dddf1c5d69382bd5b"
   },
   "outputs": [],
   "source": [
    "def valid_generator(val_batch_size):\n",
    "    while True:\n",
    "        ids = list(range(valid_df.shape[0]))\n",
    "        for start in range(0, len(ids), val_batch_size):\n",
    "            x_batch = []\n",
    "            y_batch = []\n",
    "            end = min(start + val_batch_size, len(ids))\n",
    "            i_val_batch = ids[start:end]\n",
    "            for i in i_val_batch:\n",
    "                x_batch.append(valid_df.loc[i,'raw'].T)\n",
    "                y_batch.append(valid_df.label_id.values[i])\n",
    "\n",
    "            x_batch = 1.- np.array(x_batch)/-80.\n",
    "            y_batch = to_categorical(y_batch, num_classes = len(POSSIBLE_LABELS))\n",
    "            yield x_batch, y_batch"
   ]
  },
  {
   "cell_type": "code",
   "execution_count": 49,
   "metadata": {},
   "outputs": [],
   "source": [
    "test_preds = np.load(\"cache/predictions_conv2dlstm_plus_longblend1.npy\")"
   ]
  },
  {
   "cell_type": "code",
   "execution_count": 50,
   "metadata": {},
   "outputs": [],
   "source": [
    "test_preds[np.where(test_preds.max(axis=1)<0.5)[0]] = to_categorical(name2id[\"unknown\"],num_classes = len(POSSIBLE_LABELS))[0]\n",
    "\n",
    "test_preds = to_categorical(np.argmax(test_preds, axis=1),num_classes = len(POSSIBLE_LABELS))\n"
   ]
  },
  {
   "cell_type": "code",
   "execution_count": 51,
   "metadata": {},
   "outputs": [],
   "source": [
    "def test_pseudo_generator(test_batch_size):\n",
    "    this_test = test_df #.sample(int(train_df.shape[0]//5* 0.1))\n",
    "    this_test[\"id\"] = this_test.index.values\n",
    "    \n",
    "#     this_test.reset_index(inplace=True)\n",
    "    while True:\n",
    "\n",
    "        shuffled_ids = random.sample(range(test_df.shape[0]), test_df.shape[0])\n",
    "\n",
    "        for start in range(0, len(test_df), test_batch_size):\n",
    "            x_batch = []\n",
    "            y_batch = []\n",
    "\n",
    "            end = min(start + test_batch_size, len(shuffled_ids))\n",
    "            i_test_batch = shuffled_ids[start:end]\n",
    "\n",
    "            for i in i_test_batch:\n",
    "                x_batch.append(test_df.loc[i,'raw'].T)\n",
    "    #                 x_batch.append(process_wav_file(this_train.iloc[i], augment=True).T)\n",
    "\n",
    "                y_batch.append(test_preds[test_df.loc[i,'id']])\n",
    "\n",
    "            x_batch = 1.- np.array(x_batch)/-80.\n",
    "            y_batch = np.array(y_batch)\n",
    "\n",
    "            yield x_batch, y_batch"
   ]
  },
  {
   "cell_type": "code",
   "execution_count": 52,
   "metadata": {},
   "outputs": [],
   "source": [
    "class MixIterator(object):\n",
    "    def __init__(self, iters):\n",
    "        self.iters = iters\n",
    "        self.multi = type(iters) is list\n",
    "\n",
    "        self.N = 64 \n",
    "\n",
    "    def reset(self):\n",
    "        for it in self.iters: it.reset()\n",
    "\n",
    "    def __iter__(self):\n",
    "        return self\n",
    "\n",
    "    def next(self, *args, **kwargs):\n",
    "\n",
    "        nexts = [next(it) for it in self.iters]\n",
    "#         print nexts[0][0].shape, nexts[1][0].shape\n",
    "        n0 = np.concatenate([n[0] for n in nexts])\n",
    "        n1 = np.concatenate([n[1] for n in nexts])\n",
    "        return (n0, n1)"
   ]
  },
  {
   "cell_type": "code",
   "execution_count": 53,
   "metadata": {},
   "outputs": [],
   "source": [
    "mi = MixIterator([train_generator(50), test_pseudo_generator(14)])\n"
   ]
  },
  {
   "cell_type": "code",
   "execution_count": 31,
   "metadata": {},
   "outputs": [
    {
     "data": {
      "text/plain": [
       "11    4221\n",
       "1      270\n",
       "3      264\n",
       "0      261\n",
       "2      260\n",
       "9      260\n",
       "10     257\n",
       "6      257\n",
       "7      256\n",
       "5      256\n",
       "4      247\n",
       "8      246\n",
       "Name: label_id, dtype: int64"
      ]
     },
     "execution_count": 31,
     "metadata": {},
     "output_type": "execute_result"
    }
   ],
   "source": [
    "valid_df.label_id.value_counts()"
   ]
  },
  {
   "cell_type": "code",
   "execution_count": 67,
   "metadata": {},
   "outputs": [
    {
     "name": "stdout",
     "output_type": "stream",
     "text": [
      "CPU times: user 8 ms, sys: 0 ns, total: 8 ms\n",
      "Wall time: 5.89 ms\n"
     ]
    }
   ],
   "source": [
    "%time t = next(valid_generator(64))"
   ]
  },
  {
   "cell_type": "code",
   "execution_count": 68,
   "metadata": {},
   "outputs": [
    {
     "data": {
      "text/plain": [
       "(256, 32)"
      ]
     },
     "execution_count": 68,
     "metadata": {},
     "output_type": "execute_result"
    }
   ],
   "source": [
    "valid_df.loc[0,'raw'].shape"
   ]
  },
  {
   "cell_type": "code",
   "execution_count": 69,
   "metadata": {},
   "outputs": [
    {
     "data": {
      "text/plain": [
       "(64, 32, 256)"
      ]
     },
     "execution_count": 69,
     "metadata": {},
     "output_type": "execute_result"
    }
   ],
   "source": [
    "t[0].shape"
   ]
  },
  {
   "cell_type": "code",
   "execution_count": 7,
   "metadata": {},
   "outputs": [],
   "source": [
    "#a common practice is to choose a filter size in time which spans 2/3 o"
   ]
  },
  {
   "cell_type": "markdown",
   "metadata": {},
   "source": [
    "### Model"
   ]
  },
  {
   "cell_type": "code",
   "execution_count": 7,
   "metadata": {},
   "outputs": [],
   "source": [
    "p = 0.\n"
   ]
  },
  {
   "cell_type": "code",
   "execution_count": 8,
   "metadata": {},
   "outputs": [],
   "source": [
    "def batch_relu(x):\n",
    "    x = BatchNormalization()(x)    \n",
    "    x = Activation('relu')(x)\n",
    "    \n",
    "    return x "
   ]
  },
  {
   "cell_type": "code",
   "execution_count": 22,
   "metadata": {},
   "outputs": [],
   "source": [
    "p =0.\n",
    "def get_1dconvs_maxpool_freq_deep( x_in, filter_size=2):\n",
    "    \n",
    "    x = BatchNormalization()(x_in)\n",
    "    \n",
    "    x = Conv1D(64,filter_size,activation='relu',padding='same')(x)\n",
    "    x = Conv1D(64,filter_size,activation='relu',padding='same')(x)\n",
    "    \n",
    "    x = Dropout(p/2)(x)\n",
    "\n",
    "    x = BatchNormalization()(x)\n",
    "    x  = MaxPooling1D(2)(x)   \n",
    "\n",
    "    \n",
    "    x = Conv1D(128,filter_size,activation='relu',padding='same')(x)\n",
    "    x = Conv1D(128,filter_size,activation='relu',padding='same')(x)\n",
    "\n",
    "    x = Dropout(p/2)(x)\n",
    "    \n",
    "    \n",
    "    x = BatchNormalization()(x)\n",
    "    x  = MaxPooling1D(2)(x)   \n",
    "\n",
    "    x = Conv1D(256,filter_size,activation='relu',padding='same')(x)\n",
    "    x = Conv1D(256,filter_size,activation='relu',padding='same')(x)\n",
    "\n",
    "    x = Dropout(p/2)(x)    \n",
    "    \n",
    "    \n",
    "    x = BatchNormalization()(x)\n",
    "    x  = MaxPooling1D(2)(x) \n",
    "    \n",
    "\n",
    "    x = Conv1D(512,filter_size,activation='relu',padding='same')(x)\n",
    "    x = Conv1D(512,filter_size,activation='relu',padding='same')(x)\n",
    "\n",
    "    x = Dropout(p/2)(x)    \n",
    "    \n",
    "    \n",
    "    x = BatchNormalization()(x)\n",
    "    x  = AveragePooling1D(2)(x) \n",
    "    \n",
    "    \n",
    "    \n",
    "    x_max = GlobalMaxPooling1D()(x)\n",
    "#     x_avg = GlobalAveragePooling1D()(x)\n",
    "\n",
    "#     x = concatenate([x_max,x_avg])\n",
    "    \n",
    "    return x_max"
   ]
  },
  {
   "cell_type": "code",
   "execution_count": 178,
   "metadata": {},
   "outputs": [],
   "source": [
    "def dilated_timeconvs( x_in, filter_size=2):\n",
    "    \n",
    "    x = BatchNormalization()(x_in)\n",
    "    \n",
    "    x = Conv1D(64,filter_size,activation='relu',padding='same',dilation_rate=2)(x)\n",
    "    x = Conv1D(64,filter_size,activation='relu',padding='same',dilation_rate=2)(x)\n",
    "    x = Conv1D(64,filter_size,activation='relu',padding='same',dilation_rate=2)(x)\n",
    "    \n",
    "    x = Dropout(p/2)(x)\n",
    "    x = BatchNormalization()(x)\n",
    "\n",
    "#     x = LSTM(128,return_sequences=True)(x)\n",
    "\n",
    "    x = Conv1D(128,filter_size,activation='relu')(x)\n",
    "    x = Conv1D(128,filter_size,activation='relu')(x)\n",
    "    x = Conv1D(128,filter_size,activation='relu')(x)\n",
    "    \n",
    "    x = Dropout(p/2)(x)\n",
    "    x = BatchNormalization()(x)\n",
    "\n",
    "\n",
    "\n",
    "#     x = LSTM(128,return_sequences=True)(x)\n",
    "\n",
    "    x = Conv1D(128,filter_size,activation='relu')(x)\n",
    "    x = Conv1D(128,filter_size,activation='relu')(x)\n",
    "    x = Conv1D(128,filter_size,activation='relu')(x)\n",
    "\n",
    "    x = Dropout(p/2)(x)\n",
    "\n",
    "    x = AveragePooling1D()(x)\n",
    "    x = BatchNormalization()(x)\n",
    "\n",
    "\n",
    "    x_max = GlobalMaxPooling1D()(x)\n",
    "\n",
    "    \n",
    "    return x_max"
   ]
  },
  {
   "cell_type": "code",
   "execution_count": 9,
   "metadata": {},
   "outputs": [],
   "source": [
    "def get_conv_stacks( x_in, filter_size=5):\n",
    "    x = BatchNormalization()(x_in)\n",
    "    \n",
    "    x = Conv1D(32,filter_size,padding='same')(x)\n",
    "    x = batch_relu(x)\n",
    "    x = Conv1D(64,3,padding='same')(x)\n",
    "    x = batch_relu(x)\n",
    "    \n",
    "    x = Conv1D(128,3,padding='same')(x)\n",
    "    x = batch_relu(x)\n",
    "    x = Conv1D(128,3,padding='same')(x)\n",
    "    x = batch_relu(x)\n",
    "       \n",
    "    x = MaxPooling1D()(x)\n",
    "    \n",
    "    x = Conv1D(128,3,padding='same')(x)\n",
    "    x = batch_relu(x)\n",
    "    x = Conv1D(128,3,padding='same')(x)\n",
    "    x = batch_relu(x)    \n",
    "        \n",
    "\n",
    "#     x = Conv1D(256,3,padding='same')(x)\n",
    "#     x = batch_relu(x)\n",
    "#     x = Conv1D(256,3,padding='same')(x)\n",
    "#     x = batch_relu(x)  \n",
    "    \n",
    "    x = Bidirectional(CuDNNLSTM(128,return_sequences=False))(x)\n",
    "    \n",
    "#     x = AveragePooling1D()(x)\n",
    "#     x = GlobalMaxPooling1D()(x)\n",
    "\n",
    "\n",
    "    \n",
    "    return x"
   ]
  },
  {
   "cell_type": "code",
   "execution_count": 17,
   "metadata": {},
   "outputs": [],
   "source": [
    "p = 0.0\n",
    "\n",
    "\n",
    "def get_freqconv_lstm( x_in, filter_size=2):\n",
    "    \n",
    "    x = BatchNormalization()(x_in)\n",
    "    \n",
    "    \n",
    "    x = Conv1D(64,filter_size,padding='same')(x)\n",
    "    x = batch_relu(x)\n",
    "    x = Conv1D(64,filter_size,padding='same')(x)\n",
    "    x = batch_relu(x)\n",
    "    \n",
    "    \n",
    "    x = Dropout(p/2)(x)\n",
    "    x  = MaxPooling1D(2)(x)   \n",
    "\n",
    "\n",
    "\n",
    "    x = Conv1D(128,3,padding='same')(x)\n",
    "    x = batch_relu(x)\n",
    "    x = Conv1D(128,3,padding='same')(x)\n",
    "    x = batch_relu(x)\n",
    "\n",
    "    x = Dropout(p/2)(x)    \n",
    "    x  = MaxPooling1D(2)(x) \n",
    "    \n",
    "\n",
    "    x = Conv1D(128,3,padding='same')(x)\n",
    "    x = batch_relu(x)\n",
    "    x = Conv1D(128,3,padding='same')(x)\n",
    "    x = batch_relu(x)\n",
    "\n",
    "    x  = MaxPooling1D(2)(x) \n",
    "    \n",
    "\n",
    "    x = Conv1D(128,3,padding='same')(x)\n",
    "    x = batch_relu(x)\n",
    "    x = Conv1D(128,3,padding='same')(x)\n",
    "    x = batch_relu(x)\n",
    "    \n",
    "    x = Bidirectional(CuDNNLSTM(128,return_sequences=False))(x)\n",
    "\n",
    "    return x"
   ]
  },
  {
   "cell_type": "code",
   "execution_count": 29,
   "metadata": {},
   "outputs": [],
   "source": [
    "p = 0.0\n",
    "\n",
    "\n",
    "def get_1dconvs_maxpool_freq_deep_fixed( x_in, kernel_size=10):\n",
    "    \n",
    "    x = BatchNormalization()(x_in)\n",
    "    \n",
    "    \n",
    "    x = Conv1D(64,kernel_size,padding='same')(x)\n",
    "    x = batch_relu(x)\n",
    "    x = Conv1D(64,kernel_size,padding='same')(x)\n",
    "    x = batch_relu(x)\n",
    "    \n",
    "    \n",
    "    x = Dropout(p/2)(x)\n",
    "    x  = MaxPooling1D(2)(x)   \n",
    "\n",
    "\n",
    "\n",
    "    x = Conv1D(128,3,padding='same')(x)\n",
    "    x = batch_relu(x)\n",
    "    x = Conv1D(128,3,padding='same')(x)\n",
    "    x = batch_relu(x)\n",
    "\n",
    "    x = Dropout(p/2)(x)    \n",
    "    x  = MaxPooling1D(2)(x) \n",
    "    \n",
    "\n",
    "    x = Conv1D(128,3,padding='same')(x)\n",
    "    x = batch_relu(x)\n",
    "    x = Conv1D(128,3,padding='same')(x)\n",
    "    x = batch_relu(x)\n",
    "    \n",
    "    x = Dropout(p/2)(x)    \n",
    "    x  = MaxPooling1D(2)(x) \n",
    "    \n",
    "    \n",
    "    x = Conv1D(128,3,padding='same')(x)\n",
    "    x = batch_relu(x)\n",
    "    x = Conv1D(128,3,padding='same')(x)\n",
    "    x = batch_relu(x)\n",
    "    \n",
    "    x = Dropout(p/2)(x)     \n",
    "    x  = AveragePooling1D(2)(x) \n",
    "    \n",
    "    \n",
    "    \n",
    "    x_max = GlobalMaxPooling1D()(x)\n",
    "#     x_avg = GlobalAveragePooling1D()(x)\n",
    "\n",
    "#     x = concatenate([x_max,x_avg])\n",
    "    \n",
    "    return x_max"
   ]
  },
  {
   "cell_type": "code",
   "execution_count": 30,
   "metadata": {},
   "outputs": [],
   "source": [
    "from keras.layers import *"
   ]
  },
  {
   "cell_type": "code",
   "execution_count": 31,
   "metadata": {},
   "outputs": [],
   "source": [
    "# p = 0.3\n",
    "\n",
    "timesteps, input_dim , latent_dim = 32,256, 128\n",
    "\n",
    "x_logml = Input(shape=(timesteps, input_dim)) #1 channel, 99 time, 161 freqs # S : np.ndarray [shape=(n_mels, t)]\n",
    "x_freq = Reshape((input_dim, timesteps))(x_logml)\n",
    "\n",
    "\n",
    "# x_3 = get_conv_stacks(x_logml,3)\n",
    "# x_5 = get_conv_stacks(x_logml,5)\n",
    "# x_1 = max_timeconvs(x_logml,2)\n",
    "\n",
    "# x_time = concatenate([x_1,x_2,x_3])\n",
    "\n",
    "# x_3 = get_1dconvs_maxpool_residuals(x_freq)\n",
    "\n",
    "\n",
    "\n",
    "\n",
    "# 0.86\n",
    "# xf_2= get_1dconvs_maxpool_freq_deep(x_freq,2)\n",
    "xf_5 = get_1dconvs_maxpool_freq_deep_fixed(x_freq,10)\n",
    "# xf_10 = get_1dconvs_maxpool_freq_deep_shortcut(x_freq,10)\n",
    "\n",
    "# x_freq = concatenate([xf_2,xf_5,xf_10])\n",
    "\n",
    "\n",
    "# xf_2= get_1dconvs_maxpool_freq_deep_shortcut (x_freq,2)\n",
    "# xf_5 = get_1dconvs_maxpool_freq_deep_shortcut(x_freq,5)\n",
    "# xf_10 = get_1dconvs_maxpool_freq_deep_shortcut(x_freq,10)\n",
    "\n",
    "# x_freq = concatenate([xf_2,xf_5,xf_10])\n",
    "\n",
    "# x = add([x_3,xf_5])\n",
    "# x_3 = get_1dconvs_maxpool_residuals(x_freq)\n",
    "\n",
    "x = Dense(128, activation = 'relu')(xf_5) #\n",
    "x = Dropout(0.3)(x)\n",
    "\n",
    "\n",
    "# x = Dense(200, activation = 'relu')(x) #\n",
    "# x = Dropout(0.1)(x)\n",
    "\n",
    "\n",
    "x = Dense(len(POSSIBLE_LABELS), activation = 'softmax', name='targets')(x)\n",
    "\n",
    "\n"
   ]
  },
  {
   "cell_type": "code",
   "execution_count": 32,
   "metadata": {},
   "outputs": [],
   "source": [
    "from keras.optimizers import SGD\n",
    "\n",
    "# optimizer = SGD(lr=1e-3, decay=1e-6, momentum=0.9, nesterov=True)\n",
    "#Adam(lr=1e-3)\n",
    "model = Model(inputs = x_logml, outputs = x)\n",
    "model.compile(optimizer=Adam(lr=1e-3), loss='categorical_crossentropy', metrics=['accuracy'])\n"
   ]
  },
  {
   "cell_type": "code",
   "execution_count": 33,
   "metadata": {},
   "outputs": [],
   "source": [
    "timesteps, input_dim , latent_dim = 32,256, 128\n"
   ]
  },
  {
   "cell_type": "code",
   "execution_count": 34,
   "metadata": {
    "scrolled": false
   },
   "outputs": [
    {
     "name": "stdout",
     "output_type": "stream",
     "text": [
      "_________________________________________________________________\n",
      "Layer (type)                 Output Shape              Param #   \n",
      "=================================================================\n",
      "input_5 (InputLayer)         (None, 32, 256)           0         \n",
      "_________________________________________________________________\n",
      "reshape_5 (Reshape)          (None, 256, 32)           0         \n",
      "_________________________________________________________________\n",
      "batch_normalization_28 (Batc (None, 256, 32)           128       \n",
      "_________________________________________________________________\n",
      "conv1d_25 (Conv1D)           (None, 256, 64)           20544     \n",
      "_________________________________________________________________\n",
      "batch_normalization_29 (Batc (None, 256, 64)           256       \n",
      "_________________________________________________________________\n",
      "activation_25 (Activation)   (None, 256, 64)           0         \n",
      "_________________________________________________________________\n",
      "conv1d_26 (Conv1D)           (None, 256, 64)           41024     \n",
      "_________________________________________________________________\n",
      "batch_normalization_30 (Batc (None, 256, 64)           256       \n",
      "_________________________________________________________________\n",
      "activation_26 (Activation)   (None, 256, 64)           0         \n",
      "_________________________________________________________________\n",
      "dropout_16 (Dropout)         (None, 256, 64)           0         \n",
      "_________________________________________________________________\n",
      "max_pooling1d_10 (MaxPooling (None, 128, 64)           0         \n",
      "_________________________________________________________________\n",
      "conv1d_27 (Conv1D)           (None, 128, 128)          24704     \n",
      "_________________________________________________________________\n",
      "batch_normalization_31 (Batc (None, 128, 128)          512       \n",
      "_________________________________________________________________\n",
      "activation_27 (Activation)   (None, 128, 128)          0         \n",
      "_________________________________________________________________\n",
      "conv1d_28 (Conv1D)           (None, 128, 128)          49280     \n",
      "_________________________________________________________________\n",
      "batch_normalization_32 (Batc (None, 128, 128)          512       \n",
      "_________________________________________________________________\n",
      "activation_28 (Activation)   (None, 128, 128)          0         \n",
      "_________________________________________________________________\n",
      "dropout_17 (Dropout)         (None, 128, 128)          0         \n",
      "_________________________________________________________________\n",
      "max_pooling1d_11 (MaxPooling (None, 64, 128)           0         \n",
      "_________________________________________________________________\n",
      "conv1d_29 (Conv1D)           (None, 64, 128)           49280     \n",
      "_________________________________________________________________\n",
      "batch_normalization_33 (Batc (None, 64, 128)           512       \n",
      "_________________________________________________________________\n",
      "activation_29 (Activation)   (None, 64, 128)           0         \n",
      "_________________________________________________________________\n",
      "conv1d_30 (Conv1D)           (None, 64, 128)           49280     \n",
      "_________________________________________________________________\n",
      "batch_normalization_34 (Batc (None, 64, 128)           512       \n",
      "_________________________________________________________________\n",
      "activation_30 (Activation)   (None, 64, 128)           0         \n",
      "_________________________________________________________________\n",
      "dropout_18 (Dropout)         (None, 64, 128)           0         \n",
      "_________________________________________________________________\n",
      "max_pooling1d_12 (MaxPooling (None, 32, 128)           0         \n",
      "_________________________________________________________________\n",
      "conv1d_31 (Conv1D)           (None, 32, 128)           49280     \n",
      "_________________________________________________________________\n",
      "batch_normalization_35 (Batc (None, 32, 128)           512       \n",
      "_________________________________________________________________\n",
      "activation_31 (Activation)   (None, 32, 128)           0         \n",
      "_________________________________________________________________\n",
      "conv1d_32 (Conv1D)           (None, 32, 128)           49280     \n",
      "_________________________________________________________________\n",
      "batch_normalization_36 (Batc (None, 32, 128)           512       \n",
      "_________________________________________________________________\n",
      "activation_32 (Activation)   (None, 32, 128)           0         \n",
      "_________________________________________________________________\n",
      "dropout_19 (Dropout)         (None, 32, 128)           0         \n",
      "_________________________________________________________________\n",
      "average_pooling1d_4 (Average (None, 16, 128)           0         \n",
      "_________________________________________________________________\n",
      "global_max_pooling1d_4 (Glob (None, 128)               0         \n",
      "_________________________________________________________________\n",
      "dense_4 (Dense)              (None, 128)               16512     \n",
      "_________________________________________________________________\n",
      "dropout_20 (Dropout)         (None, 128)               0         \n",
      "_________________________________________________________________\n",
      "targets (Dense)              (None, 12)                1548      \n",
      "=================================================================\n",
      "Total params: 354,444\n",
      "Trainable params: 352,588\n",
      "Non-trainable params: 1,856\n",
      "_________________________________________________________________\n"
     ]
    }
   ],
   "source": [
    "model.summary()"
   ]
  },
  {
   "cell_type": "markdown",
   "metadata": {},
   "source": [
    "\n",
    "one conv, one lstm, 128\n",
    "Epoch 00029: \n",
    "461/461 [==============================] - 9s 20ms/step - loss: 0.2684 - acc: 0.9172 - val_loss: 0.1769 - val_acc: 0.9465\n",
    "\n",
    "\n",
    "Epoch 34/100, 256\n",
    "461/461 [==============================] - 10s 22ms/step - loss: 0.2585 - acc: 0.9220 - val_loss: 0.1716 - val_acc: 0.9458\n",
    "\n",
    "Epoch 28/100, 128 (3 convs, 16,8,4)\n",
    "461/461 [==============================] - 12s 27ms/step - loss: 0.2704 - acc: 0.9181 - val_loss: 0.1600 - val_acc: 0.9476\n",
    "\n",
    "\n",
    "above lstm 64\n",
    "Epoch 33/100\n",
    "461/461 [==============================] - 14s 31ms/step - loss: 0.2349 - acc: 0.9271 - val_loss: 0.1589 - val_acc: 0.9484\n",
    "lstm 128\n",
    "Epoch 23/100\n",
    "461/461 [==============================] - 14s 30ms/step - loss: 0.2068 - acc: 0.9349 - val_loss: 0.1487 - val_acc: 0.9535\n",
    "above, dense 64\n",
    "Epoch 34/100\n",
    "461/461 [==============================] - 14s 30ms/step - loss: 0.1626 - acc: 0.9467 - val_loss: 0.1455 - val_acc: 0.9552\n",
    "double lstm\n",
    "Epoch 39/100\n",
    "461/461 [==============================] - 18s 38ms/step - loss: 0.1516 - acc: 0.9497 - val_loss: 0.1462 - val_acc: 0.9565\n",
    "\n",
    "bilstm\n",
    "Epoch 23/100\n",
    "461/461 [==============================] - 19s 41ms/step - loss: 0.1740 - acc: 0.9435 - val_loss: 0.1382 - val_acc: 0.9584\n",
    "\n",
    "extra layers\n",
    "Epoch 27/100\n",
    "461/461 [==============================] - 21s 45ms/step - loss: 0.1681 - acc: 0.9451 - val_loss: 0.1474 - val_acc: 0.9577\n",
    "\n",
    "shrinking filters\n",
    "Epoch 42/100\n",
    "461/461 [==============================] - 22s 47ms/step - loss: 0.1486 - acc: 0.9499 - val_loss: 0.1383 - val_acc: 0.9575\n",
    "\n",
    "convs between 2 lstms \n",
    "Epoch 20/100\n",
    "461/461 [==============================] - 44s 96ms/step - loss: 0.2450 - acc: 0.9212 - val_loss: 0.1574 - val_acc: 0.9515\n",
    "\n",
    "\n",
    "\n",
    "\n",
    "\n",
    "Epoch 25/100\n",
    "461/461 [==============================] - 23s 50ms/step - loss: 0.1748 - acc: 0.9426 - val_loss: 0.1267 - val_acc: 0.9617\n",
    "Epoch 25/100 double lstm\n",
    "461/461 [==============================] - 38s 82ms/step - loss: 0.1680 - acc: 0.9459 - val_loss: 0.1415 - val_acc: 0.9599\n",
    "\n",
    "\n",
    "freqconv_deep_buggy?\n",
    "Epoch 2/100\n",
    "461/461 [==============================] - 46s 100ms/step - loss: 0.1698 - acc: 0.9460 - val_loss: 0.1111 - val_acc: 0.9644\n",
    "Epoch 34/100_fixed..\n",
    "461/461 [==============================] - 17s 38ms/step - loss: 0.1404 - acc: 0.9543 - val_loss: 0.1085 - val_acc: 0.9681\n",
    "Epoch 27/100_fixed_extralayers\n",
    "461/461 [==============================] - 30s 65ms/step - loss: 0.1244 - acc: 0.9589 - val_loss: 0.0972 - val_acc: 0.9721\n",
    "Epoch 27/100_with_maxresiduals\n",
    "461/461 [==============================] - 30s 66ms/step - loss: 0.2305 - acc: 0.9226 - val_loss: 0.1161 - val_acc: 0.9665\n",
    "Epoch 45/100 (with lstm)\n",
    "461/461 [==============================] - 44s 95ms/step - loss: 0.1339 - acc: 0.9561 - val_loss: 0.1117 - val_acc: 0.9654\n",
    "\n",
    "\n",
    "deep 128x (freq10_max_deep_cone_64_deeper)\n",
    "Epoch 27/100\n",
    "461/461 [==============================] - 32s 69ms/step - loss: 0.1274 - acc: 0.9570 - val_loss: 0.1002 - val_acc: 0.9697\n",
    "Epoch 27/100\n",
    "461/461 [==============================] - 35s 75ms/step - loss: 0.1133 - acc: 0.9623 - val_loss: 0.0997 - val_acc: 0.9707\n",
    "\n",
    "--- \n",
    "\n",
    "1.2 unknown\n",
    "Epoch 00021: reducing learning rate to 1.0000000475e-05.\n",
    "395/395 [==============================] - 24s 61ms/step - loss: 0.1702 - acc: 0.9448 - val_loss: 0.1342 - val_acc: 0.9589\n",
    "\n",
    "\n",
    "10x unknown\n",
    "Epoch 39/100\n",
    "329/329 [==============================] - 20s 62ms/step - loss: 0.1576 - acc: 0.9495 - val_loss: 0.1028 - val_acc: 0.9681\n",
    "\n",
    "\n",
    "sgd 2x unknown \n",
    "Epoch 15/100\n",
    "329/329 [==============================] - 20s 59ms/step - loss: 0.1909 - acc: 0.9368 - val_loss: 0.1554 - val_acc: 0.9505\n",
    "\n",
    "\n",
    "--time convs\n",
    "Epoch 24/100\n",
    "329/329 [==============================] - 13s 38ms/step - loss: 0.2242 - acc: 0.9275 - val_loss: 0.1671 - val_acc: 0.9419\n"
   ]
  },
  {
   "cell_type": "code",
   "execution_count": 35,
   "metadata": {},
   "outputs": [],
   "source": [
    "exp_name = \"conv1d_2xunk_kernel10\" #max_freqconvs_2510_avgshortcuts\n",
    "callbacks = [EarlyStopping(monitor='val_loss',\n",
    "                           patience=5,\n",
    "                           verbose=1),\n",
    "             \n",
    "             ReduceLROnPlateau(monitor='val_loss',\n",
    "                               factor=0.1,\n",
    "                               patience=3,\n",
    "                               verbose=1,\n",
    "                               epsilon=0.01,\n",
    "                              min_lr=1e-5),\n",
    "             ModelCheckpoint(monitor='val_loss',\n",
    "                             filepath='weights/{}.hdf5'.format(exp_name),\n",
    "                             save_best_only=True,\n",
    "                             save_weights_only=True,\n",
    "                             mode='min')\n",
    "            ]"
   ]
  },
  {
   "cell_type": "code",
   "execution_count": 36,
   "metadata": {
    "ExecuteTime": {
     "end_time": "2017-11-17T09:42:31.48233Z",
     "start_time": "2017-11-17T09:03:33.355603Z"
    },
    "_cell_guid": "5f3d1b09-500f-410e-820a-8eaab24b6ebb",
    "_uuid": "528ec66a0a6caca952273ab916e609625839b19e",
    "scrolled": false
   },
   "outputs": [
    {
     "name": "stdout",
     "output_type": "stream",
     "text": [
      "Epoch 1/100\n",
      "329/329 [==============================] - 23s 71ms/step - loss: 1.2915 - acc: 0.5619 - val_loss: 0.8283 - val_acc: 0.7077\n",
      "Epoch 2/100\n",
      "329/329 [==============================] - 16s 50ms/step - loss: 0.7094 - acc: 0.7655 - val_loss: 0.6390 - val_acc: 0.7793\n",
      "Epoch 3/100\n",
      "329/329 [==============================] - 16s 49ms/step - loss: 0.5593 - acc: 0.8193 - val_loss: 0.4922 - val_acc: 0.8339\n",
      "Epoch 4/100\n",
      "329/329 [==============================] - 16s 49ms/step - loss: 0.5004 - acc: 0.8380 - val_loss: 0.3855 - val_acc: 0.8615\n",
      "Epoch 5/100\n",
      "329/329 [==============================] - 16s 49ms/step - loss: 0.4450 - acc: 0.8548 - val_loss: 0.4224 - val_acc: 0.8591\n",
      "Epoch 6/100\n",
      "329/329 [==============================] - 16s 49ms/step - loss: 0.4068 - acc: 0.8679 - val_loss: 0.3807 - val_acc: 0.8713\n",
      "Epoch 7/100\n",
      "329/329 [==============================] - 16s 49ms/step - loss: 0.3759 - acc: 0.8781 - val_loss: 0.2908 - val_acc: 0.9002\n",
      "Epoch 8/100\n",
      "329/329 [==============================] - 16s 49ms/step - loss: 0.3635 - acc: 0.8832 - val_loss: 0.2446 - val_acc: 0.9170\n",
      "Epoch 9/100\n",
      "329/329 [==============================] - 16s 49ms/step - loss: 0.3484 - acc: 0.8874 - val_loss: 0.3194 - val_acc: 0.8924\n",
      "Epoch 10/100\n",
      "329/329 [==============================] - 16s 49ms/step - loss: 0.3165 - acc: 0.8969 - val_loss: 0.2537 - val_acc: 0.9119\n",
      "Epoch 11/100\n",
      "329/329 [==============================] - 16s 49ms/step - loss: 0.3166 - acc: 0.8969 - val_loss: 0.2246 - val_acc: 0.9275\n",
      "Epoch 12/100\n",
      "329/329 [==============================] - 16s 49ms/step - loss: 0.3034 - acc: 0.8997 - val_loss: 0.2957 - val_acc: 0.9020\n",
      "Epoch 13/100\n",
      "329/329 [==============================] - 16s 49ms/step - loss: 0.2935 - acc: 0.9044 - val_loss: 0.4595 - val_acc: 0.8537\n",
      "Epoch 14/100\n",
      "329/329 [==============================] - 16s 49ms/step - loss: 0.2934 - acc: 0.9044 - val_loss: 0.1874 - val_acc: 0.9392\n",
      "Epoch 15/100\n",
      "329/329 [==============================] - 16s 49ms/step - loss: 0.2871 - acc: 0.9091 - val_loss: 0.2395 - val_acc: 0.9228\n",
      "Epoch 16/100\n",
      "329/329 [==============================] - 16s 49ms/step - loss: 0.2713 - acc: 0.9115 - val_loss: 0.2148 - val_acc: 0.9289\n",
      "Epoch 17/100\n",
      "329/329 [==============================] - 16s 49ms/step - loss: 0.2612 - acc: 0.9135 - val_loss: 0.2959 - val_acc: 0.9012\n",
      "Epoch 18/100\n",
      "328/329 [============================>.] - ETA: 0s - loss: 0.2586 - acc: 0.9136\n",
      "Epoch 00018: reducing learning rate to 0.00010000000475.\n",
      "329/329 [==============================] - 16s 49ms/step - loss: 0.2582 - acc: 0.9137 - val_loss: 0.2196 - val_acc: 0.9250\n",
      "Epoch 19/100\n",
      "329/329 [==============================] - 16s 49ms/step - loss: 0.2057 - acc: 0.9333 - val_loss: 0.1711 - val_acc: 0.9416\n",
      "Epoch 20/100\n",
      "329/329 [==============================] - 16s 49ms/step - loss: 0.1771 - acc: 0.9415 - val_loss: 0.1469 - val_acc: 0.9521\n",
      "Epoch 21/100\n",
      "329/329 [==============================] - 16s 49ms/step - loss: 0.1740 - acc: 0.9422 - val_loss: 0.1504 - val_acc: 0.9484\n",
      "Epoch 22/100\n",
      "329/329 [==============================] - 16s 49ms/step - loss: 0.1717 - acc: 0.9430 - val_loss: 0.1365 - val_acc: 0.9538\n",
      "Epoch 23/100\n",
      "329/329 [==============================] - 16s 49ms/step - loss: 0.1666 - acc: 0.9454 - val_loss: 0.1415 - val_acc: 0.9517\n",
      "Epoch 24/100\n",
      "329/329 [==============================] - 16s 49ms/step - loss: 0.1511 - acc: 0.9506 - val_loss: 0.1554 - val_acc: 0.9476\n",
      "Epoch 25/100\n",
      "329/329 [==============================] - 16s 49ms/step - loss: 0.1575 - acc: 0.9478 - val_loss: 0.1348 - val_acc: 0.9547\n",
      "Epoch 26/100\n",
      "328/329 [============================>.] - ETA: 0s - loss: 0.1505 - acc: 0.9495\n",
      "Epoch 00026: reducing learning rate to 1.0000000475e-05.\n",
      "329/329 [==============================] - 16s 48ms/step - loss: 0.1505 - acc: 0.9494 - val_loss: 0.1396 - val_acc: 0.9541\n",
      "Epoch 27/100\n",
      "329/329 [==============================] - 16s 48ms/step - loss: 0.1572 - acc: 0.9481 - val_loss: 0.1293 - val_acc: 0.9572\n",
      "Epoch 28/100\n",
      "329/329 [==============================] - 16s 48ms/step - loss: 0.1502 - acc: 0.9512 - val_loss: 0.1262 - val_acc: 0.9585\n",
      "Epoch 29/100\n",
      "329/329 [==============================] - 16s 49ms/step - loss: 0.1476 - acc: 0.9514 - val_loss: 0.1292 - val_acc: 0.9571\n",
      "Epoch 30/100\n",
      "329/329 [==============================] - 16s 49ms/step - loss: 0.1434 - acc: 0.9514 - val_loss: 0.1273 - val_acc: 0.9582\n",
      "Epoch 31/100\n",
      "329/329 [==============================] - 16s 49ms/step - loss: 0.1438 - acc: 0.9509 - val_loss: 0.1262 - val_acc: 0.9588\n",
      "Epoch 32/100\n",
      "329/329 [==============================] - 16s 49ms/step - loss: 0.1431 - acc: 0.9533 - val_loss: 0.1284 - val_acc: 0.9577\n",
      "Epoch 33/100\n",
      "329/329 [==============================] - 16s 49ms/step - loss: 0.1457 - acc: 0.9529 - val_loss: 0.1259 - val_acc: 0.9597\n",
      "Epoch 34/100\n",
      "329/329 [==============================] - 16s 50ms/step - loss: 0.1471 - acc: 0.9514 - val_loss: 0.1263 - val_acc: 0.9589\n",
      "Epoch 35/100\n",
      "329/329 [==============================] - 16s 49ms/step - loss: 0.1438 - acc: 0.9521 - val_loss: 0.1266 - val_acc: 0.9585\n",
      "Epoch 36/100\n",
      "329/329 [==============================] - 16s 49ms/step - loss: 0.1402 - acc: 0.9539 - val_loss: 0.1248 - val_acc: 0.9595\n",
      "Epoch 37/100\n",
      "329/329 [==============================] - 16s 49ms/step - loss: 0.1458 - acc: 0.9523 - val_loss: 0.1282 - val_acc: 0.9587\n",
      "Epoch 38/100\n",
      "329/329 [==============================] - 16s 49ms/step - loss: 0.1386 - acc: 0.9549 - val_loss: 0.1261 - val_acc: 0.9595\n",
      "Epoch 39/100\n",
      "329/329 [==============================] - 16s 49ms/step - loss: 0.1463 - acc: 0.9517 - val_loss: 0.1248 - val_acc: 0.9602\n",
      "Epoch 40/100\n",
      "329/329 [==============================] - 16s 49ms/step - loss: 0.1360 - acc: 0.9540 - val_loss: 0.1265 - val_acc: 0.9602\n",
      "Epoch 41/100\n",
      "329/329 [==============================] - 16s 49ms/step - loss: 0.1390 - acc: 0.9533 - val_loss: 0.1263 - val_acc: 0.9605\n",
      "Epoch 00041: early stopping\n"
     ]
    }
   ],
   "source": [
    "batch_size = 64\n",
    "\n",
    "history = model.fit_generator(generator=train_generator(batch_size),\n",
    "                              steps_per_epoch=train_df.shape[0]*(1./5)//batch_size,\n",
    "                              epochs=100,\n",
    "                              callbacks=callbacks,\n",
    "                              validation_data=valid_generator(batch_size),\n",
    "                              validation_steps=int(np.ceil(valid_df.shape[0]/batch_size)))"
   ]
  },
  {
   "cell_type": "code",
   "execution_count": 57,
   "metadata": {},
   "outputs": [],
   "source": [
    "model = Model(inputs = x_logml, outputs = x)\n",
    "model.compile(optimizer=Adam(lr=1e-4), loss='categorical_crossentropy', metrics=['accuracy'])\n",
    "model.load_weights('./weights/{}.hdf5'.format(exp_name))"
   ]
  },
  {
   "cell_type": "code",
   "execution_count": 58,
   "metadata": {},
   "outputs": [],
   "source": [
    "exp_name = \"timeconv5_freqconv10_wlstm128_pseudo\" #max_freqconvs_2510_avgshortcuts\n",
    "callbacks = [EarlyStopping(monitor='val_loss',\n",
    "                           patience=5,\n",
    "                           verbose=1),\n",
    "             \n",
    "             ReduceLROnPlateau(monitor='val_loss',\n",
    "                               factor=0.1,\n",
    "                               patience=3,\n",
    "                               verbose=1,\n",
    "                               epsilon=0.01,\n",
    "                              min_lr=1e-5),\n",
    "             ModelCheckpoint(monitor='val_loss',\n",
    "                             filepath='weights/{}.hdf5'.format(exp_name),\n",
    "                             save_best_only=True,\n",
    "                             save_weights_only=True,\n",
    "                             mode='min')\n",
    "            ]"
   ]
  },
  {
   "cell_type": "code",
   "execution_count": 59,
   "metadata": {},
   "outputs": [],
   "source": [
    "model.load_weights('./weights/{}.hdf5'.format(\"time1d_2xunk_kernel35_wlstm128\"))"
   ]
  },
  {
   "cell_type": "code",
   "execution_count": 60,
   "metadata": {},
   "outputs": [
    {
     "name": "stdout",
     "output_type": "stream",
     "text": [
      "Epoch 1/100\n",
      "329/329 [==============================] - 35s 105ms/step - loss: 0.1911 - acc: 0.9357 - val_loss: 0.1213 - val_acc: 0.9626\n",
      "Epoch 2/100\n",
      "329/329 [==============================] - 30s 91ms/step - loss: 0.1786 - acc: 0.9405 - val_loss: 0.1179 - val_acc: 0.9632\n",
      "Epoch 3/100\n",
      "329/329 [==============================] - 30s 91ms/step - loss: 0.1794 - acc: 0.9402 - val_loss: 0.1181 - val_acc: 0.9618\n",
      "Epoch 4/100\n",
      "329/329 [==============================] - 30s 91ms/step - loss: 0.1717 - acc: 0.9441 - val_loss: 0.1166 - val_acc: 0.9648\n",
      "Epoch 5/100\n",
      "328/329 [============================>.] - ETA: 0s - loss: 0.1658 - acc: 0.9454\n",
      "Epoch 00005: reducing learning rate to 1e-05.\n",
      "329/329 [==============================] - 31s 94ms/step - loss: 0.1658 - acc: 0.9454 - val_loss: 0.1174 - val_acc: 0.9622\n",
      "Epoch 6/100\n",
      "329/329 [==============================] - 30s 92ms/step - loss: 0.1729 - acc: 0.9429 - val_loss: 0.1106 - val_acc: 0.9657\n",
      "Epoch 7/100\n",
      "329/329 [==============================] - 30s 91ms/step - loss: 0.1645 - acc: 0.9452 - val_loss: 0.1106 - val_acc: 0.9652\n",
      "Epoch 8/100\n",
      "329/329 [==============================] - 30s 91ms/step - loss: 0.1635 - acc: 0.9445 - val_loss: 0.1092 - val_acc: 0.9660\n",
      "Epoch 9/100\n",
      "329/329 [==============================] - 30s 91ms/step - loss: 0.1650 - acc: 0.9447 - val_loss: 0.1091 - val_acc: 0.9655\n",
      "Epoch 10/100\n",
      "329/329 [==============================] - 30s 91ms/step - loss: 0.1600 - acc: 0.9466 - val_loss: 0.1089 - val_acc: 0.9660\n",
      "Epoch 11/100\n",
      "329/329 [==============================] - 30s 91ms/step - loss: 0.1621 - acc: 0.9459 - val_loss: 0.1091 - val_acc: 0.9672\n",
      "Epoch 12/100\n",
      "329/329 [==============================] - 30s 91ms/step - loss: 0.1595 - acc: 0.9460 - val_loss: 0.1089 - val_acc: 0.9668\n",
      "Epoch 13/100\n",
      "329/329 [==============================] - 30s 91ms/step - loss: 0.1575 - acc: 0.9475 - val_loss: 0.1100 - val_acc: 0.9661\n",
      "Epoch 14/100\n",
      "329/329 [==============================] - 30s 91ms/step - loss: 0.1593 - acc: 0.9459 - val_loss: 0.1095 - val_acc: 0.9662\n",
      "Epoch 15/100\n",
      "329/329 [==============================] - 30s 91ms/step - loss: 0.1585 - acc: 0.9483 - val_loss: 0.1093 - val_acc: 0.9662\n",
      "Epoch 00015: early stopping\n"
     ]
    }
   ],
   "source": [
    "batch_size = 64\n",
    "\n",
    "history = model.fit_generator(generator=mi,#train_generator(batch_size),\n",
    "                              steps_per_epoch=train_df.shape[0]*(1./5)//batch_size,\n",
    "                              epochs=100,\n",
    "                              callbacks=callbacks,\n",
    "                              validation_data=valid_generator(batch_size),\n",
    "                              validation_steps=int(np.ceil(valid_df.shape[0]/batch_size)))"
   ]
  },
  {
   "cell_type": "code",
   "execution_count": 70,
   "metadata": {},
   "outputs": [],
   "source": [
    "model = Model(inputs = x_logml, outputs = x)\n",
    "model.compile(optimizer=Adam(lr=1e-4), loss='categorical_crossentropy', metrics=['accuracy'])\n",
    "model.load_weights('./weights/{}.hdf5'.format(\"timeconv5_freqconv10_wlstm128_pseudo\"))"
   ]
  },
  {
   "cell_type": "code",
   "execution_count": 71,
   "metadata": {},
   "outputs": [],
   "source": [
    "exp_name = \"timeconv5_freqconv10_wlstm128_pseudowval\" #max_freqconvs_2510_avgshortcuts\n",
    "callbacks = [EarlyStopping(monitor='val_loss',\n",
    "                           patience=5,\n",
    "                           verbose=1),\n",
    "             \n",
    "             ReduceLROnPlateau(monitor='val_loss',\n",
    "                               factor=0.1,\n",
    "                               patience=3,\n",
    "                               verbose=1,\n",
    "                               epsilon=0.01,\n",
    "                              min_lr=1e-5),\n",
    "             ModelCheckpoint(monitor='val_loss',\n",
    "                             filepath='weights/{}.hdf5'.format(exp_name),\n",
    "                             save_best_only=True,\n",
    "                             save_weights_only=True,\n",
    "                             mode='min')\n",
    "            ]"
   ]
  },
  {
   "cell_type": "code",
   "execution_count": 73,
   "metadata": {},
   "outputs": [
    {
     "name": "stdout",
     "output_type": "stream",
     "text": [
      "Epoch 1/5\n",
      "329/329 [==============================] - 35s 106ms/step - loss: 0.1659 - acc: 0.9440 - val_loss: 0.1080 - val_acc: 0.9655\n",
      "Epoch 2/5\n",
      "329/329 [==============================] - 31s 93ms/step - loss: 0.1641 - acc: 0.9446 - val_loss: 0.0997 - val_acc: 0.9692\n",
      "Epoch 3/5\n",
      "329/329 [==============================] - 30s 91ms/step - loss: 0.1663 - acc: 0.9445 - val_loss: 0.0949 - val_acc: 0.9707\n",
      "Epoch 4/5\n",
      "329/329 [==============================] - 30s 92ms/step - loss: 0.1593 - acc: 0.9475 - val_loss: 0.0896 - val_acc: 0.9707\n",
      "Epoch 5/5\n",
      "329/329 [==============================] - 30s 91ms/step - loss: 0.1637 - acc: 0.9452 - val_loss: 0.0889 - val_acc: 0.9718\n"
     ]
    }
   ],
   "source": [
    "batch_size = 64\n",
    "mi = MixIterator([train_generator(45), valid_generator(5), test_pseudo_generator(14)])\n",
    "history = model.fit_generator(generator=mi,#train_generator(batch_size),\n",
    "                              steps_per_epoch=train_df.shape[0]*(1./5)//batch_size,\n",
    "                              epochs=5,\n",
    "                              callbacks=callbacks,\n",
    "                              validation_data=valid_generator(batch_size),\n",
    "                              validation_steps=int(np.ceil(valid_df.shape[0]/batch_size)))"
   ]
  },
  {
   "cell_type": "markdown",
   "metadata": {},
   "source": [
    "### valid evaluation"
   ]
  },
  {
   "cell_type": "code",
   "execution_count": 37,
   "metadata": {},
   "outputs": [],
   "source": [
    "from sklearn.preprocessing import OneHotEncoder\n",
    "from sklearn.metrics import classification_report"
   ]
  },
  {
   "cell_type": "code",
   "execution_count": 38,
   "metadata": {},
   "outputs": [],
   "source": [
    "model.load_weights('./weights/{}.hdf5'.format(exp_name))"
   ]
  },
  {
   "cell_type": "code",
   "execution_count": 39,
   "metadata": {},
   "outputs": [],
   "source": [
    "val_preds = model.predict_generator(valid_generator(64),steps=int(np.ceil(valid_df.shape[0]/64.)))\n",
    "val_preds = np.argmax(val_preds,axis=1)"
   ]
  },
  {
   "cell_type": "code",
   "execution_count": 40,
   "metadata": {},
   "outputs": [
    {
     "data": {
      "text/plain": [
       "(7055,)"
      ]
     },
     "execution_count": 40,
     "metadata": {},
     "output_type": "execute_result"
    }
   ],
   "source": [
    "val_preds.shape"
   ]
  },
  {
   "cell_type": "code",
   "execution_count": 41,
   "metadata": {},
   "outputs": [],
   "source": [
    "oe = OneHotEncoder()"
   ]
  },
  {
   "cell_type": "code",
   "execution_count": 42,
   "metadata": {},
   "outputs": [],
   "source": [
    "y_true = oe.fit_transform(valid_df.label_id.values.reshape(-1, 1)).todense()\n",
    "\n"
   ]
  },
  {
   "cell_type": "code",
   "execution_count": 43,
   "metadata": {},
   "outputs": [],
   "source": [
    "val_preds = oe.transform(val_preds.reshape(-1, 1)).todense()\n"
   ]
  },
  {
   "cell_type": "code",
   "execution_count": 45,
   "metadata": {},
   "outputs": [],
   "source": [
    "silence_files_AS = [AudioSegment.from_wav(x) for x in silent_df.wav_file.values]\n",
    "\n",
    "filler = AudioSegment.silent(duration=1000, frame_rate = 16000)\n",
    "\n",
    "def valid_generator_aug(val_batch_size):\n",
    "    while True:\n",
    "        ids = list(range(valid_df.shape[0]))\n",
    "        for start in range(0, len(ids), val_batch_size):\n",
    "            x_batch = []\n",
    "            y_batch = []\n",
    "            end = min(start + val_batch_size, len(ids))\n",
    "            i_val_batch = ids[start:end]\n",
    "            for i in i_val_batch:\n",
    "                x_batch.append(process_wav_file(valid_df.loc[i],n_mels=256,augment=True).T)\n",
    "                y_batch.append(valid_df.label_id.values[i])\n",
    "\n",
    "            x_batch = 1.- np.array(x_batch)/-80.\n",
    "            y_batch = to_categorical(y_batch, num_classes = len(POSSIBLE_LABELS))\n",
    "            yield x_batch, y_batch"
   ]
  },
  {
   "cell_type": "code",
   "execution_count": 108,
   "metadata": {},
   "outputs": [
    {
     "name": "stdout",
     "output_type": "stream",
     "text": [
      "111/111 [==============================] - 66s 595ms/step\n",
      "111/111 [==============================] - 65s 587ms/step\n",
      "111/111 [==============================] - 66s 593ms/step\n",
      "111/111 [==============================] - 66s 591ms/step\n"
     ]
    }
   ],
   "source": [
    "augs= []\n",
    "num_augs = 4\n",
    "for i in range(num_augs):\n",
    "    augs.append(model.predict_generator(valid_generator_aug(64),steps=int(np.ceil(valid_df.shape[0]/64.)),verbose=1))"
   ]
  },
  {
   "cell_type": "code",
   "execution_count": 110,
   "metadata": {},
   "outputs": [],
   "source": [
    "augs.append(val_preds)"
   ]
  },
  {
   "cell_type": "code",
   "execution_count": 111,
   "metadata": {
    "scrolled": true
   },
   "outputs": [
    {
     "data": {
      "text/plain": [
       "(7055,)"
      ]
     },
     "execution_count": 111,
     "metadata": {},
     "output_type": "execute_result"
    }
   ],
   "source": [
    "preds_aug1[:,0].shape"
   ]
  },
  {
   "cell_type": "code",
   "execution_count": 112,
   "metadata": {},
   "outputs": [
    {
     "data": {
      "text/plain": [
       "5"
      ]
     },
     "execution_count": 112,
     "metadata": {},
     "output_type": "execute_result"
    }
   ],
   "source": [
    "len(augs)"
   ]
  },
  {
   "cell_type": "code",
   "execution_count": 113,
   "metadata": {},
   "outputs": [
    {
     "data": {
      "text/plain": [
       "(7055, 12)"
      ]
     },
     "execution_count": 113,
     "metadata": {},
     "output_type": "execute_result"
    }
   ],
   "source": [
    "np.mean(augs,axis=0).shape"
   ]
  },
  {
   "cell_type": "code",
   "execution_count": 62,
   "metadata": {},
   "outputs": [
    {
     "data": {
      "text/plain": [
       "(7055, 1)"
      ]
     },
     "execution_count": 62,
     "metadata": {},
     "output_type": "execute_result"
    }
   ],
   "source": [
    "val_preds[:,0].shape"
   ]
  },
  {
   "cell_type": "code",
   "execution_count": 65,
   "metadata": {},
   "outputs": [],
   "source": [
    "# np.corrcoef(preds_aug1[:,0],val_preds[:,0])"
   ]
  },
  {
   "cell_type": "code",
   "execution_count": 114,
   "metadata": {},
   "outputs": [],
   "source": [
    "val_blend = np.mean(augs,axis=0) #np.mean([val_preds,preds_aug1],axis=0)\n",
    "val_blend = np.argmax(val_blend,axis=1)\n",
    "val_blend = oe.transform(val_blend.reshape(-1, 1)).todense()"
   ]
  },
  {
   "cell_type": "code",
   "execution_count": 115,
   "metadata": {
    "scrolled": true
   },
   "outputs": [
    {
     "data": {
      "text/plain": [
       "matrix([[ 0.,  0.,  0., ...,  0.,  0.,  0.],\n",
       "        [ 0.,  0.,  0., ...,  0.,  0.,  0.],\n",
       "        [ 0.,  0.,  0., ...,  0.,  0.,  0.],\n",
       "        ..., \n",
       "        [ 0.,  0.,  0., ...,  0.,  1.,  0.],\n",
       "        [ 0.,  0.,  0., ...,  0.,  1.,  0.],\n",
       "        [ 0.,  0.,  0., ...,  0.,  1.,  0.]])"
      ]
     },
     "execution_count": 115,
     "metadata": {},
     "output_type": "execute_result"
    }
   ],
   "source": [
    "val_blend"
   ]
  },
  {
   "cell_type": "code",
   "execution_count": 117,
   "metadata": {},
   "outputs": [
    {
     "name": "stdout",
     "output_type": "stream",
     "text": [
      "             precision    recall  f1-score   support\n",
      "\n",
      "        yes       0.98      0.95      0.96       261\n",
      "         no       0.90      0.93      0.91       270\n",
      "         up       0.91      0.94      0.93       260\n",
      "       down       0.97      0.95      0.96       264\n",
      "       left       0.96      0.98      0.97       247\n",
      "      right       0.98      0.94      0.96       256\n",
      "         on       0.91      0.94      0.93       257\n",
      "        off       0.87      0.95      0.91       256\n",
      "       stop       0.97      0.95      0.96       246\n",
      "         go       0.92      0.89      0.91       260\n",
      "    silence       1.00      1.00      1.00       257\n",
      "    unknown       0.98      0.98      0.98      4221\n",
      "\n",
      "avg / total       0.97      0.97      0.97      7055\n",
      "\n"
     ]
    }
   ],
   "source": [
    "print classification_report(y_true,val_blend,target_names=POSSIBLE_LABELS)"
   ]
  },
  {
   "cell_type": "code",
   "execution_count": 44,
   "metadata": {},
   "outputs": [
    {
     "name": "stdout",
     "output_type": "stream",
     "text": [
      "             precision    recall  f1-score   support\n",
      "\n",
      "        yes       0.95      0.97      0.96       261\n",
      "         no       0.88      0.93      0.91       270\n",
      "         up       0.90      0.93      0.91       260\n",
      "       down       0.95      0.97      0.96       264\n",
      "       left       0.92      0.98      0.95       247\n",
      "      right       0.94      0.97      0.96       256\n",
      "         on       0.90      0.95      0.93       257\n",
      "        off       0.87      0.97      0.92       256\n",
      "       stop       0.94      0.94      0.94       246\n",
      "         go       0.87      0.92      0.90       260\n",
      "    silence       0.99      1.00      1.00       257\n",
      "    unknown       0.99      0.96      0.97      4221\n",
      "\n",
      "avg / total       0.96      0.96      0.96      7055\n",
      "\n"
     ]
    }
   ],
   "source": [
    "print classification_report(y_true,val_preds,target_names=POSSIBLE_LABELS)"
   ]
  },
  {
   "cell_type": "code",
   "execution_count": 81,
   "metadata": {},
   "outputs": [
    {
     "name": "stdout",
     "output_type": "stream",
     "text": [
      "             precision    recall  f1-score   support\n",
      "\n",
      "        yes       1.00      0.96      0.98       261\n",
      "         no       0.92      0.95      0.93       270\n",
      "         up       0.95      0.92      0.94       260\n",
      "       down       0.98      0.96      0.97       264\n",
      "       left       0.98      0.98      0.98       247\n",
      "      right       0.95      0.98      0.97       256\n",
      "         on       0.94      0.93      0.94       257\n",
      "        off       0.93      0.96      0.94       256\n",
      "       stop       0.97      0.96      0.96       246\n",
      "         go       0.95      0.91      0.93       260\n",
      "    silence       0.99      1.00      1.00       257\n",
      "    unknown       0.98      0.98      0.98      4221\n",
      "\n",
      "avg / total       0.97      0.97      0.97      7055\n",
      "\n"
     ]
    }
   ],
   "source": [
    "print classification_report(y_true,val_preds,target_names=POSSIBLE_LABELS)"
   ]
  },
  {
   "cell_type": "code",
   "execution_count": 67,
   "metadata": {},
   "outputs": [
    {
     "name": "stdout",
     "output_type": "stream",
     "text": [
      "             precision    recall  f1-score   support\n",
      "\n",
      "        yes       0.99      0.96      0.98       261\n",
      "         no       0.94      0.92      0.93       270\n",
      "         up       0.93      0.93      0.93       260\n",
      "       down       0.95      0.95      0.95       264\n",
      "       left       0.97      0.98      0.97       247\n",
      "      right       0.95      0.96      0.96       256\n",
      "         on       0.92      0.94      0.93       257\n",
      "        off       0.93      0.94      0.93       256\n",
      "       stop       0.96      0.95      0.95       246\n",
      "         go       0.93      0.90      0.92       260\n",
      "    silence       0.97      1.00      0.99       257\n",
      "    unknown       0.98      0.98      0.98      4221\n",
      "\n",
      "avg / total       0.97      0.97      0.97      7055\n",
      "\n"
     ]
    }
   ],
   "source": [
    "print classification_report(y_true,val_preds,target_names=POSSIBLE_LABELS)"
   ]
  },
  {
   "cell_type": "code",
   "execution_count": 46,
   "metadata": {},
   "outputs": [
    {
     "name": "stdout",
     "output_type": "stream",
     "text": [
      "             precision    recall  f1-score   support\n",
      "\n",
      "        yes       0.97      0.97      0.97       261\n",
      "         no       0.91      0.91      0.91       270\n",
      "         up       0.90      0.94      0.92       260\n",
      "       down       0.93      0.95      0.94       264\n",
      "       left       0.95      0.98      0.97       247\n",
      "      right       0.92      0.97      0.95       256\n",
      "         on       0.84      0.94      0.89       257\n",
      "        off       0.89      0.96      0.92       256\n",
      "       stop       0.94      0.96      0.95       246\n",
      "         go       0.86      0.92      0.89       260\n",
      "    silence       0.96      1.00      0.98       257\n",
      "    unknown       0.99      0.96      0.97      4221\n",
      "\n",
      "avg / total       0.96      0.96      0.96      7055\n",
      "\n"
     ]
    }
   ],
   "source": [
    "print classification_report(y_true,val_preds,target_names=POSSIBLE_LABELS)"
   ]
  },
  {
   "cell_type": "code",
   "execution_count": 196,
   "metadata": {},
   "outputs": [
    {
     "name": "stdout",
     "output_type": "stream",
     "text": [
      "             precision    recall  f1-score   support\n",
      "\n",
      "        yes       0.98      0.97      0.97       261\n",
      "         no       0.87      0.93      0.90       270\n",
      "         up       0.86      0.93      0.89       260\n",
      "       down       0.92      0.94      0.93       264\n",
      "       left       0.91      0.99      0.95       247\n",
      "      right       0.93      0.96      0.94       256\n",
      "         on       0.88      0.94      0.91       257\n",
      "        off       0.88      0.94      0.91       256\n",
      "       stop       0.95      0.93      0.94       246\n",
      "         go       0.85      0.92      0.88       260\n",
      "    silence       0.97      1.00      0.98       257\n",
      "    unknown       0.99      0.96      0.97      4221\n",
      "\n",
      "avg / total       0.96      0.95      0.96      7055\n",
      "\n"
     ]
    }
   ],
   "source": [
    "# 2xunk -timeconv-maxpool wlstm\n",
    "print classification_report(y_true,val_preds,target_names=POSSIBLE_LABELS)"
   ]
  },
  {
   "cell_type": "code",
   "execution_count": 141,
   "metadata": {},
   "outputs": [
    {
     "name": "stdout",
     "output_type": "stream",
     "text": [
      "             precision    recall  f1-score   support\n",
      "\n",
      "        yes       0.96      0.96      0.96       261\n",
      "         no       0.88      0.93      0.91       270\n",
      "         up       0.86      0.92      0.89       260\n",
      "       down       0.90      0.95      0.92       264\n",
      "       left       0.89      0.98      0.93       247\n",
      "      right       0.93      0.95      0.94       256\n",
      "         on       0.87      0.92      0.90       257\n",
      "        off       0.85      0.95      0.90       256\n",
      "       stop       0.95      0.94      0.94       246\n",
      "         go       0.83      0.90      0.86       260\n",
      "    silence       0.96      1.00      0.98       257\n",
      "    unknown       0.99      0.95      0.97      4221\n",
      "\n",
      "avg / total       0.95      0.95      0.95      7055\n",
      "\n"
     ]
    }
   ],
   "source": [
    "# 2xunk -timeconv-maxpool\n",
    "print classification_report(y_true,val_preds,target_names=POSSIBLE_LABELS)"
   ]
  },
  {
   "cell_type": "code",
   "execution_count": 102,
   "metadata": {},
   "outputs": [
    {
     "name": "stdout",
     "output_type": "stream",
     "text": [
      "             precision    recall  f1-score   support\n",
      "\n",
      "        yes       0.96      0.95      0.96       261\n",
      "         no       0.88      0.91      0.90       270\n",
      "         up       0.80      0.95      0.87       260\n",
      "       down       0.96      0.89      0.93       264\n",
      "       left       0.90      0.96      0.93       247\n",
      "      right       0.90      0.93      0.92       256\n",
      "         on       0.93      0.88      0.90       257\n",
      "        off       0.90      0.90      0.90       256\n",
      "       stop       0.99      0.90      0.94       246\n",
      "         go       0.85      0.92      0.88       260\n",
      "    silence       0.97      1.00      0.98       257\n",
      "    unknown       0.98      0.97      0.97      4221\n",
      "\n",
      "avg / total       0.95      0.95      0.95      7055\n",
      "\n"
     ]
    }
   ],
   "source": [
    "# 2x unknown\n",
    "print classification_report(y_true,val_preds,target_names=POSSIBLE_LABELS)"
   ]
  },
  {
   "cell_type": "code",
   "execution_count": 28,
   "metadata": {},
   "outputs": [
    {
     "name": "stdout",
     "output_type": "stream",
     "text": [
      "             precision    recall  f1-score   support\n",
      "\n",
      "        yes       0.97      0.97      0.97       261\n",
      "         no       0.91      0.92      0.91       270\n",
      "         up       0.83      0.95      0.89       260\n",
      "       down       0.95      0.96      0.95       264\n",
      "       left       0.93      0.98      0.96       247\n",
      "      right       0.90      0.96      0.93       256\n",
      "         on       0.88      0.95      0.91       257\n",
      "        off       0.90      0.95      0.92       256\n",
      "       stop       0.95      0.94      0.95       246\n",
      "         go       0.90      0.92      0.91       260\n",
      "    silence       0.98      1.00      0.99       257\n",
      "    unknown       0.99      0.96      0.97      4221\n",
      "\n",
      "avg / total       0.96      0.96      0.96      7055\n",
      "\n"
     ]
    }
   ],
   "source": [
    "# 2x unknown\n",
    "print classification_report(y_true,val_preds,target_names=POSSIBLE_LABELS)"
   ]
  },
  {
   "cell_type": "code",
   "execution_count": 106,
   "metadata": {},
   "outputs": [
    {
     "name": "stdout",
     "output_type": "stream",
     "text": [
      "             precision    recall  f1-score   support\n",
      "\n",
      "        yes       0.99      0.97      0.98       261\n",
      "         no       0.92      0.94      0.93       270\n",
      "         up       0.93      0.95      0.94       260\n",
      "       down       0.98      0.97      0.97       264\n",
      "       left       0.96      0.99      0.97       247\n",
      "      right       0.96      0.96      0.96       256\n",
      "         on       0.93      0.96      0.94       257\n",
      "        off       0.90      0.97      0.93       256\n",
      "       stop       0.98      0.96      0.97       246\n",
      "         go       0.92      0.91      0.91       260\n",
      "    silence       0.99      1.00      1.00       257\n",
      "    unknown       0.99      0.98      0.98      4221\n",
      "\n",
      "avg / total       0.97      0.97      0.97      7055\n",
      "\n"
     ]
    }
   ],
   "source": [
    "print classification_report(y_true,val_preds,target_names=POSSIBLE_LABELS)"
   ]
  },
  {
   "cell_type": "code",
   "execution_count": 42,
   "metadata": {},
   "outputs": [
    {
     "name": "stdout",
     "output_type": "stream",
     "text": [
      "             precision    recall  f1-score   support\n",
      "\n",
      "        yes       0.98      0.96      0.97       261\n",
      "         no       0.90      0.92      0.91       270\n",
      "         up       0.91      0.94      0.92       260\n",
      "       down       0.95      0.96      0.96       264\n",
      "       left       0.95      0.96      0.96       247\n",
      "      right       0.96      0.97      0.96       256\n",
      "         on       0.91      0.95      0.93       257\n",
      "        off       0.92      0.94      0.93       256\n",
      "       stop       0.97      0.94      0.95       246\n",
      "         go       0.89      0.91      0.90       260\n",
      "    silence       0.98      1.00      0.99       257\n",
      "    unknown       0.98      0.97      0.98      4221\n",
      "\n",
      "avg / total       0.96      0.96      0.96      7055\n",
      "\n"
     ]
    }
   ],
   "source": [
    "print classification_report(y_true,val_preds,target_names=POSSIBLE_LABELS)"
   ]
  },
  {
   "cell_type": "code",
   "execution_count": 36,
   "metadata": {},
   "outputs": [
    {
     "name": "stdout",
     "output_type": "stream",
     "text": [
      "             precision    recall  f1-score   support\n",
      "\n",
      "        yes       0.98      0.96      0.97       261\n",
      "         no       0.90      0.92      0.91       270\n",
      "         up       0.91      0.94      0.92       260\n",
      "       down       0.95      0.96      0.96       264\n",
      "       left       0.95      0.96      0.96       247\n",
      "      right       0.96      0.97      0.96       256\n",
      "         on       0.91      0.95      0.93       257\n",
      "        off       0.92      0.94      0.93       256\n",
      "       stop       0.97      0.94      0.95       246\n",
      "         go       0.89      0.91      0.90       260\n",
      "    silence       0.98      1.00      0.99       257\n",
      "    unknown       0.98      0.97      0.98      4221\n",
      "\n",
      "avg / total       0.96      0.96      0.96      7055\n",
      "\n"
     ]
    }
   ],
   "source": [
    "print classification_report(y_true,val_preds,target_names=POSSIBLE_LABELS)"
   ]
  },
  {
   "cell_type": "code",
   "execution_count": 113,
   "metadata": {
    "scrolled": true
   },
   "outputs": [
    {
     "name": "stdout",
     "output_type": "stream",
     "text": [
      "             precision    recall  f1-score   support\n",
      "\n",
      "        yes       0.98      0.97      0.97       261\n",
      "         no       0.92      0.94      0.93       270\n",
      "         up       0.89      0.93      0.91       260\n",
      "       down       0.96      0.97      0.96       264\n",
      "       left       0.95      0.99      0.97       247\n",
      "      right       0.96      0.97      0.97       256\n",
      "         on       0.91      0.95      0.93       257\n",
      "        off       0.92      0.95      0.93       256\n",
      "       stop       0.97      0.95      0.96       246\n",
      "         go       0.93      0.93      0.93       260\n",
      "    silence       0.99      1.00      0.99       257\n",
      "    unknown       0.99      0.98      0.98      4221\n",
      "\n",
      "avg / total       0.97      0.97      0.97      7055\n",
      "\n"
     ]
    }
   ],
   "source": [
    "print classification_report(y_true,val_preds,target_names=POSSIBLE_LABELS)"
   ]
  },
  {
   "cell_type": "code",
   "execution_count": 63,
   "metadata": {},
   "outputs": [
    {
     "name": "stdout",
     "output_type": "stream",
     "text": [
      "             precision    recall  f1-score   support\n",
      "\n",
      "        yes       0.99      0.96      0.97       261\n",
      "         no       0.91      0.94      0.92       270\n",
      "         up       0.93      0.92      0.92       260\n",
      "       down       0.93      0.97      0.95       264\n",
      "       left       0.95      0.98      0.96       247\n",
      "      right       0.95      0.95      0.95       256\n",
      "         on       0.93      0.93      0.93       257\n",
      "        off       0.87      0.95      0.91       256\n",
      "       stop       0.96      0.94      0.95       246\n",
      "         go       0.90      0.91      0.90       260\n",
      "    silence       0.99      1.00      0.99       257\n",
      "    unknown       0.98      0.97      0.98      4221\n",
      "\n",
      "avg / total       0.96      0.96      0.96      7055\n",
      "\n"
     ]
    }
   ],
   "source": [
    "print classification_report(y_true,val_preds,target_names=POSSIBLE_LABELS)"
   ]
  },
  {
   "cell_type": "code",
   "execution_count": 32,
   "metadata": {},
   "outputs": [
    {
     "name": "stdout",
     "output_type": "stream",
     "text": [
      "             precision    recall  f1-score   support\n",
      "\n",
      "        yes       0.99      0.97      0.98       261\n",
      "         no       0.91      0.93      0.92       270\n",
      "         up       0.91      0.93      0.92       260\n",
      "       down       0.97      0.95      0.96       264\n",
      "       left       0.97      0.98      0.97       247\n",
      "      right       0.97      0.94      0.96       256\n",
      "         on       0.95      0.94      0.95       257\n",
      "        off       0.94      0.96      0.95       256\n",
      "       stop       0.97      0.91      0.94       246\n",
      "         go       0.88      0.87      0.87       260\n",
      "    silence       0.99      1.00      1.00       257\n",
      "    unknown       0.98      0.98      0.98      4221\n",
      "\n",
      "avg / total       0.97      0.97      0.97      7055\n",
      "\n"
     ]
    }
   ],
   "source": [
    "print classification_report(y_true,val_preds,target_names=POSSIBLE_LABELS)"
   ]
  },
  {
   "cell_type": "code",
   "execution_count": 176,
   "metadata": {},
   "outputs": [
    {
     "name": "stdout",
     "output_type": "stream",
     "text": [
      "             precision    recall  f1-score   support\n",
      "\n",
      "        yes       0.99      0.96      0.97       261\n",
      "         no       0.92      0.93      0.92       270\n",
      "         up       0.83      0.95      0.89       260\n",
      "       down       0.95      0.96      0.96       264\n",
      "       left       0.95      0.98      0.97       247\n",
      "      right       0.97      0.95      0.96       256\n",
      "         on       0.94      0.94      0.94       257\n",
      "        off       0.90      0.95      0.92       256\n",
      "       stop       0.96      0.94      0.95       246\n",
      "         go       0.92      0.92      0.92       260\n",
      "    silence       1.00      1.00      1.00       257\n",
      "    unknown       0.99      0.98      0.98      4221\n",
      "\n",
      "avg / total       0.97      0.97      0.97      7055\n",
      "\n"
     ]
    }
   ],
   "source": [
    "print classification_report(y_true,val_preds,target_names=POSSIBLE_LABELS)"
   ]
  },
  {
   "cell_type": "code",
   "execution_count": 107,
   "metadata": {},
   "outputs": [
    {
     "name": "stdout",
     "output_type": "stream",
     "text": [
      "             precision    recall  f1-score   support\n",
      "\n",
      "        yes       0.98      0.97      0.98       261\n",
      "         no       0.89      0.92      0.90       270\n",
      "         up       0.92      0.94      0.93       260\n",
      "       down       0.96      0.97      0.96       264\n",
      "       left       0.96      0.98      0.97       247\n",
      "      right       0.97      0.97      0.97       256\n",
      "         on       0.93      0.95      0.94       257\n",
      "        off       0.92      0.97      0.94       256\n",
      "       stop       0.97      0.94      0.96       246\n",
      "         go       0.91      0.91      0.91       260\n",
      "    silence       0.99      1.00      1.00       257\n",
      "    unknown       0.99      0.98      0.98      4221\n",
      "\n",
      "avg / total       0.97      0.97      0.97      7055\n",
      "\n"
     ]
    }
   ],
   "source": [
    "print classification_report(y_true,val_preds,target_names=POSSIBLE_LABELS)"
   ]
  },
  {
   "cell_type": "code",
   "execution_count": 78,
   "metadata": {},
   "outputs": [
    {
     "name": "stdout",
     "output_type": "stream",
     "text": [
      "             precision    recall  f1-score   support\n",
      "\n",
      "        yes       0.98      0.96      0.97       261\n",
      "         no       0.88      0.91      0.89       270\n",
      "         up       0.86      0.95      0.90       260\n",
      "       down       0.92      0.95      0.93       264\n",
      "       left       0.94      0.98      0.96       247\n",
      "      right       0.94      0.95      0.95       256\n",
      "         on       0.83      0.94      0.88       257\n",
      "        off       0.87      0.94      0.90       256\n",
      "       stop       0.98      0.93      0.95       246\n",
      "         go       0.80      0.90      0.85       260\n",
      "    silence       0.95      1.00      0.98       257\n",
      "    unknown       0.98      0.95      0.97      4221\n",
      "\n",
      "avg / total       0.95      0.95      0.95      7055\n",
      "\n"
     ]
    }
   ],
   "source": [
    "print classification_report(y_true,val_preds,target_names=POSSIBLE_LABELS)"
   ]
  },
  {
   "cell_type": "code",
   "execution_count": 41,
   "metadata": {},
   "outputs": [
    {
     "name": "stdout",
     "output_type": "stream",
     "text": [
      "             precision    recall  f1-score   support\n",
      "\n",
      "        yes       0.99      0.96      0.97       261\n",
      "         no       0.92      0.92      0.92       270\n",
      "         up       0.93      0.93      0.93       260\n",
      "       down       0.99      0.95      0.97       264\n",
      "       left       0.98      0.97      0.97       247\n",
      "      right       0.99      0.95      0.97       256\n",
      "         on       0.97      0.92      0.95       257\n",
      "        off       0.94      0.92      0.93       256\n",
      "       stop       0.99      0.94      0.97       246\n",
      "         go       0.95      0.88      0.92       260\n",
      "    silence       0.97      1.00      0.98       257\n",
      "    unknown       0.76      0.98      0.86       257\n",
      "\n",
      "avg / total       0.95      0.94      0.94      3091\n",
      "\n"
     ]
    }
   ],
   "source": [
    "print classification_report(y_true,val_preds,target_names=POSSIBLE_LABELS)"
   ]
  },
  {
   "cell_type": "code",
   "execution_count": 95,
   "metadata": {},
   "outputs": [
    {
     "name": "stdout",
     "output_type": "stream",
     "text": [
      "             precision    recall  f1-score   support\n",
      "\n",
      "        yes       0.98      0.96      0.97       261\n",
      "         no       0.92      0.94      0.93       270\n",
      "         up       0.92      0.93      0.93       260\n",
      "       down       0.98      0.94      0.96       264\n",
      "       left       0.97      0.97      0.97       247\n",
      "      right       0.95      0.96      0.96       256\n",
      "         on       0.96      0.95      0.96       257\n",
      "        off       0.94      0.92      0.93       256\n",
      "       stop       1.00      0.94      0.97       246\n",
      "         go       0.96      0.89      0.92       260\n",
      "    silence       0.98      1.00      0.99       257\n",
      "    unknown       0.82      0.95      0.88       257\n",
      "\n",
      "avg / total       0.95      0.95      0.95      3091\n",
      "\n"
     ]
    }
   ],
   "source": [
    "print classification_report(y_true,val_preds,target_names=POSSIBLE_LABELS)"
   ]
  },
  {
   "cell_type": "code",
   "execution_count": 19,
   "metadata": {},
   "outputs": [
    {
     "name": "stdout",
     "output_type": "stream",
     "text": [
      "             precision    recall  f1-score   support\n",
      "\n",
      "        yes       0.99      0.95      0.97       261\n",
      "         no       0.94      0.95      0.95       270\n",
      "         up       0.92      0.95      0.93       260\n",
      "       down       0.99      0.95      0.97       264\n",
      "       left       0.97      0.96      0.96       247\n",
      "      right       0.99      0.95      0.97       256\n",
      "         on       0.99      0.92      0.95       257\n",
      "        off       0.93      0.94      0.93       256\n",
      "       stop       0.98      0.95      0.97       246\n",
      "         go       0.94      0.90      0.92       260\n",
      "    silence       0.99      1.00      1.00       257\n",
      "    unknown       0.80      0.96      0.88       257\n",
      "\n",
      "avg / total       0.95      0.95      0.95      3091\n",
      "\n"
     ]
    }
   ],
   "source": [
    "print classification_report(y_true,val_preds,target_names=POSSIBLE_LABELS)"
   ]
  },
  {
   "cell_type": "markdown",
   "metadata": {},
   "source": [
    "### submission\n"
   ]
  },
  {
   "cell_type": "code",
   "execution_count": 82,
   "metadata": {
    "ExecuteTime": {
     "end_time": "2017-11-17T10:28:14.451612Z",
     "start_time": "2017-11-17T10:28:13.307142Z"
    },
    "_cell_guid": "72f27090-c0d1-4d0b-8027-34c915429a79",
    "_uuid": "1007977fccadecdae582ec5d8d52dd3c4c3010aa"
   },
   "outputs": [],
   "source": [
    "test_paths = glob(os.path.join('./data/', 'test/audio/*wav'))"
   ]
  },
  {
   "cell_type": "code",
   "execution_count": 83,
   "metadata": {},
   "outputs": [
    {
     "data": {
      "text/plain": [
       "158538"
      ]
     },
     "execution_count": 83,
     "metadata": {},
     "output_type": "execute_result"
    }
   ],
   "source": [
    "len(test_paths)"
   ]
  },
  {
   "cell_type": "code",
   "execution_count": 50,
   "metadata": {},
   "outputs": [],
   "source": [
    "test_df = pickle.load( open(\"cache/test_df_256.pik\",\"rb\"))\n"
   ]
  },
  {
   "cell_type": "code",
   "execution_count": 122,
   "metadata": {},
   "outputs": [
    {
     "data": {
      "text/plain": [
       "(158538, 5)"
      ]
     },
     "execution_count": 122,
     "metadata": {},
     "output_type": "execute_result"
    }
   ],
   "source": [
    "test_df.shape"
   ]
  },
  {
   "cell_type": "code",
   "execution_count": 84,
   "metadata": {
    "ExecuteTime": {
     "end_time": "2017-11-17T10:32:14.882322Z",
     "start_time": "2017-11-17T10:32:14.863617Z"
    },
    "_cell_guid": "c6d9b369-9979-4bcd-8540-4653e6544f84",
    "_uuid": "6a0bb3c22b7b5c43db0ec5673333ab3de8f08724"
   },
   "outputs": [],
   "source": [
    "def test_generator(test_batch_size,augment=False):\n",
    "    while True:\n",
    "        ids = list(range(test_df.shape[0]))\n",
    "        \n",
    "        for start in range(0, len(ids), test_batch_size):\n",
    "            x_batch = []\n",
    "            end = min(start + test_batch_size, len(ids))\n",
    "            i_test_batch = ids[start:end]\n",
    "#             this_paths = test_paths[start:end]\n",
    "#             for x in this_paths:\n",
    "            for i in i_test_batch:\n",
    "            #WATCHOUT > NO AUG\n",
    "#                 x_batch.append(process_wav_file(x).T) #,reshape=False,augment=augment,pval=0.5))\n",
    "                x_batch.append(test_df.loc[i,'raw'].T)\n",
    "\n",
    "            x_batch = np.array(x_batch)\n",
    "            x_batch = 1.- np.array(x_batch)/-80.\n",
    "            \n",
    "            yield x_batch"
   ]
  },
  {
   "cell_type": "code",
   "execution_count": 85,
   "metadata": {
    "ExecuteTime": {
     "start_time": "2017-11-17T10:32:45.947Z"
    },
    "_cell_guid": "1fb8aed4-de12-43c5-84bf-b803e3d640fa",
    "_uuid": "631a38cb0013e5772f6987854145ad76ecf6c430"
   },
   "outputs": [
    {
     "name": "stdout",
     "output_type": "stream",
     "text": [
      "2478/2478 [==============================] - 67s 27ms/step\n"
     ]
    }
   ],
   "source": [
    "predictions = model.predict_generator(test_generator(batch_size), int(np.ceil(len(test_paths)/float(batch_size))), verbose=1)"
   ]
  },
  {
   "cell_type": "code",
   "execution_count": 86,
   "metadata": {},
   "outputs": [],
   "source": [
    "np.save(\"cache/predictions_{}.npy\".format(exp_name),predictions)"
   ]
  },
  {
   "cell_type": "code",
   "execution_count": 127,
   "metadata": {},
   "outputs": [
    {
     "data": {
      "text/plain": [
       "(158538, 12)"
      ]
     },
     "execution_count": 127,
     "metadata": {},
     "output_type": "execute_result"
    }
   ],
   "source": [
    "predictions.shape"
   ]
  },
  {
   "cell_type": "markdown",
   "metadata": {},
   "source": [
    "#### blending"
   ]
  },
  {
   "cell_type": "code",
   "execution_count": 123,
   "metadata": {},
   "outputs": [],
   "source": [
    "# predictions_pyramid_noaug = np.load('cache/predictions_pyramid_noaug.npy')\n",
    "# predictions_model_with_ae_base_drp2_1 = np.load('cache/predictions_model_with_ae_base_drp2_1.npy')\n",
    "blend1 = np.load('cache/predictions_blend_dilated_conv1d_timek123_n_freqk48_pseudo_mixtimefreq1ds_plus_samewithlstm_plus_aebased_conv2d_finetuned.npy')\n",
    "# predictions_aebase_aug_drp3_finetune = np.load('cache/predictions_aebase_aug_drp3_finetune.npy')\n",
    "# predictions_conv_n_lstm = np.load(\"cache/predictions_dilated_conv_n_lstm.npy\")"
   ]
  },
  {
   "cell_type": "code",
   "execution_count": 124,
   "metadata": {},
   "outputs": [],
   "source": [
    "blend2 = np.mean([predictions,\n",
    "                       blend1], axis=0)\n"
   ]
  },
  {
   "cell_type": "code",
   "execution_count": 126,
   "metadata": {},
   "outputs": [],
   "source": [
    "np.save(\"cache/predictions_{}.npy\".format(\"frqmaxpool256_plus_longblend1\"),blend2)"
   ]
  },
  {
   "cell_type": "code",
   "execution_count": 156,
   "metadata": {},
   "outputs": [
    {
     "name": "stdout",
     "output_type": "stream",
     "text": [
      "2477/2478 [============================>.] - ETA: 0s"
     ]
    }
   ],
   "source": [
    "# num_aug = 2 \n",
    "# for i in range(num_aug):\n",
    "#     predictions +=  model.predict_generator(test_generator(64,augment=True), int(np.ceil(len(test_paths)/64.)), verbose=1)\n",
    "    \n",
    "\n",
    "# predictions = predictions/(num_aug + 1.0)"
   ]
  },
  {
   "cell_type": "code",
   "execution_count": null,
   "metadata": {},
   "outputs": [],
   "source": []
  },
  {
   "cell_type": "markdown",
   "metadata": {},
   "source": [
    "#### class assignment"
   ]
  },
  {
   "cell_type": "code",
   "execution_count": 87,
   "metadata": {
    "ExecuteTime": {
     "end_time": "2017-11-17T11:30:44.236246Z",
     "start_time": "2017-11-17T11:30:44.21858Z"
    },
    "_cell_guid": "b1cdab5c-9816-4690-87d8-de2c97cf0e7d",
    "_uuid": "24eb7e512eace4567494e0a8e356a826f4283c4d"
   },
   "outputs": [],
   "source": [
    "classes = np.argmax(predictions, axis=1)"
   ]
  },
  {
   "cell_type": "code",
   "execution_count": 88,
   "metadata": {},
   "outputs": [
    {
     "data": {
      "text/plain": [
       "((158538,), 158538)"
      ]
     },
     "execution_count": 88,
     "metadata": {},
     "output_type": "execute_result"
    }
   ],
   "source": [
    "classes.shape, len(test_paths)"
   ]
  },
  {
   "cell_type": "code",
   "execution_count": 89,
   "metadata": {},
   "outputs": [
    {
     "data": {
      "text/plain": [
       "(array([  11592.,    5042.,    5004.,    5542.,    5964.,    5972.,\n",
       "           6256.,    5536.,    5239.,  102391.]),\n",
       " array([  0. ,   1.1,   2.2,   3.3,   4.4,   5.5,   6.6,   7.7,   8.8,\n",
       "          9.9,  11. ]),\n",
       " <a list of 10 Patch objects>)"
      ]
     },
     "execution_count": 89,
     "metadata": {},
     "output_type": "execute_result"
    },
    {
     "data": {
      "image/png": "[encoded data removed]",
      "text/plain": [
       "<matplotlib.figure.Figure at 0x7fcc8286ed90>"
      ]
     },
     "metadata": {},
     "output_type": "display_data"
    }
   ],
   "source": [
    "plt.hist(classes,bins=10)"
   ]
  },
  {
   "cell_type": "markdown",
   "metadata": {},
   "source": [
    "### submission"
   ]
  },
  {
   "cell_type": "code",
   "execution_count": 90,
   "metadata": {
    "ExecuteTime": {
     "end_time": "2017-11-17T11:31:11.212517Z",
     "start_time": "2017-11-17T11:31:10.786357Z"
    },
    "_cell_guid": "1da523cf-fdbf-4ab1-9300-0147155aa247",
    "_uuid": "f25d4e626202aa115bd0460f4de8d07f9727c83e"
   },
   "outputs": [],
   "source": [
    "### last batch will contain padding, so remove duplicates\n",
    "submission = dict()\n",
    "for i in range(len(test_paths)):\n",
    "    fname, label = os.path.basename(test_paths[i]), id2name[classes[i]]\n",
    "    submission[fname] = label"
   ]
  },
  {
   "cell_type": "code",
   "execution_count": 91,
   "metadata": {
    "ExecuteTime": {
     "end_time": "2017-11-17T11:32:05.154527Z",
     "start_time": "2017-11-17T11:32:04.983371Z"
    },
    "_cell_guid": "9a95d147-3f4b-4386-8597-5fa60be43542",
    "_uuid": "bdf63bce43a0525a02ac18ca3f90aeba06ce6e99"
   },
   "outputs": [],
   "source": [
    "with open('subm/{}.csv'.format(exp_name), 'w') as fout: #_blend_conv1dlstm_and_aebased_conv2d_finetuned\n",
    "    fout.write('fname,label\\n')\n",
    "    for fname, label in submission.items():\n",
    "        fout.write('{},{}\\n'.format(fname, label))"
   ]
  },
  {
   "cell_type": "code",
   "execution_count": 92,
   "metadata": {
    "_cell_guid": "8bea6850-15c6-44e7-bdb4-9555ad196f85",
    "_uuid": "555315ef622793711ff5643928dac874c8cb0ed2"
   },
   "outputs": [
    {
     "data": {
      "text/html": [
       "<a href='subm/timeconv5_freqconv10_wlstm128_pseudowval.csv' target='_blank'>subm/timeconv5_freqconv10_wlstm128_pseudowval.csv</a><br>"
      ],
      "text/plain": [
       "/home/ubuntu/keyword_spotting/subm/timeconv5_freqconv10_wlstm128_pseudowval.csv"
      ]
     },
     "execution_count": 92,
     "metadata": {},
     "output_type": "execute_result"
    }
   ],
   "source": [
    "from IPython.lib.display import FileLink\n",
    "\n",
    "FileLink('subm/{}.csv'.format(exp_name))\n"
   ]
  },
  {
   "cell_type": "code",
   "execution_count": null,
   "metadata": {},
   "outputs": [],
   "source": []
  }
 ],
 "metadata": {
  "anaconda-cloud": {},
  "kernelspec": {
   "display_name": "Python [conda root]",
   "language": "python",
   "name": "conda-root-py"
  },
  "language_info": {
   "codemirror_mode": {
    "name": "ipython",
    "version": 2
   },
   "file_extension": ".py",
   "mimetype": "text/x-python",
   "name": "python",
   "nbconvert_exporter": "python",
   "pygments_lexer": "ipython2",
   "version": "2.7.14"
  },
  "toc": {
   "nav_menu": {},
   "number_sections": true,
   "sideBar": true,
   "skip_h1_title": false,
   "toc_cell": false,
   "toc_position": {},
   "toc_section_display": "block",
   "toc_window_display": true
  }
 },
 "nbformat": 4,
 "nbformat_minor": 1
}
