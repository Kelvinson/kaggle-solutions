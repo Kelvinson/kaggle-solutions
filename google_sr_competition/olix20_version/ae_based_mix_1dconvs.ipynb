{
 "cells": [
  {
   "cell_type": "code",
   "execution_count": 1,
   "metadata": {
    "ExecuteTime": {
     "end_time": "2017-11-17T09:03:29.196238Z",
     "start_time": "2017-11-17T09:03:28.644004Z"
    },
    "_cell_guid": "679e0d3e-646d-4e96-9eb0-b362d8c6e51f",
    "_uuid": "0d05e5ce89af3e25d1c1fb244d021a1cfa1a058c"
   },
   "outputs": [
    {
     "name": "stderr",
     "output_type": "stream",
     "text": [
      "Using TensorFlow backend.\n"
     ]
    }
   ],
   "source": [
    "from utils import *\n",
    "import array \n",
    "\n",
    "from pydub import AudioSegment\n",
    "import tensorflow as tf\n",
    "\n",
    "from keras.models import Model, Sequential\n",
    "from keras.layers import Input, Conv2D, Flatten, MaxPooling2D, Activation, BatchNormalization, GlobalAveragePooling2D, GlobalMaxPool2D, concatenate, Dense, Dropout\n",
    "from keras.optimizers import Adam\n",
    "from tensorflow.python.keras.utils import to_categorical\n",
    "\n",
    "from keras.layers import Input, GRU, RepeatVector, BatchNormalization, TimeDistributed, Conv1D\n",
    "from keras import backend as K\n",
    "from keras.layers import  Conv2D, MaxPooling2D, MaxPooling1D,GlobalAveragePooling1D, GlobalMaxPooling1D, UpSampling2D, Lambda, Reshape\n",
    "\n",
    "\n",
    "from keras_tqdm import TQDMNotebookCallback\n",
    "from keras.callbacks import EarlyStopping, ModelCheckpoint, ReduceLROnPlateau\n",
    "import matplotlib.pyplot as plt\n",
    "import numba\n",
    "from keras.callbacks import TensorBoard\n",
    "\n",
    "import dask.dataframe as dd\n",
    "from dask.multiprocessing import get\n",
    "\n",
    "%matplotlib inline"
   ]
  },
  {
   "cell_type": "code",
   "execution_count": 2,
   "metadata": {
    "ExecuteTime": {
     "end_time": "2017-11-17T09:03:29.210749Z",
     "start_time": "2017-11-17T09:03:29.19832Z"
    },
    "_cell_guid": "8ab00801-08b9-44d3-a063-32e82dbf8f58",
    "_uuid": "53c19941676690454dd4b91109976b6c59cb7a40"
   },
   "outputs": [
    {
     "data": {
      "text/plain": [
       "12"
      ]
     },
     "execution_count": 2,
     "metadata": {},
     "output_type": "execute_result"
    }
   ],
   "source": [
    "POSSIBLE_LABELS = 'yes no up down left right on off stop go silence unknown'.split()\n",
    "id2name = {i: name for i, name in enumerate(POSSIBLE_LABELS)}\n",
    "name2id = {name: i for i, name in id2name.items()}\n",
    "len(id2name)"
   ]
  },
  {
   "cell_type": "code",
   "execution_count": 3,
   "metadata": {},
   "outputs": [
    {
     "name": "stdout",
     "output_type": "stream",
     "text": [
      "CPU times: user 12.6 s, sys: 10.1 s, total: 22.7 s\n",
      "Wall time: 22.7 s\n"
     ]
    }
   ],
   "source": [
    "%%time \n",
    "\n",
    "train_df = pickle.load( open(\"cache/train_df_waug.pik\",\"rb\"))\n",
    "valid_df = pickle.load( open(\"cache/valid_df.pik\",\"rb\"))\n",
    "silent_df = pickle.load(open(\"cache/silent_df.pik\",\"rb\"))\n",
    "unknown_df = pickle.load(open(\"cache/unknown_df_waug.pik\",\"rb\"))\n"
   ]
  },
  {
   "cell_type": "markdown",
   "metadata": {},
   "source": [
    "#### loading test data for pseudo labeling"
   ]
  },
  {
   "cell_type": "code",
   "execution_count": 4,
   "metadata": {},
   "outputs": [],
   "source": [
    "test_df =  pickle.load(open(\"cache/test_df.pik\",\"rb\"))\n",
    "\n",
    "test_preds = np.load('cache/predictions_mixtimefreq1ds_plus_conv1dlstm_plus_aebased_conv2d_finetuned.npy')\n",
    "\n",
    "\n",
    "test_df[\"id\"] = test_df.index.values"
   ]
  },
  {
   "cell_type": "code",
   "execution_count": 5,
   "metadata": {},
   "outputs": [],
   "source": [
    "\n",
    "class MixIterator(object):\n",
    "    def __init__(self, iters):\n",
    "        self.iters = iters\n",
    "        self.multi = type(iters) is list\n",
    "\n",
    "        self.N = 64 \n",
    "\n",
    "    def reset(self):\n",
    "        for it in self.iters: it.reset()\n",
    "\n",
    "    def __iter__(self):\n",
    "        return self\n",
    "\n",
    "    def next(self, *args, **kwargs):\n",
    "\n",
    "        nexts = [next(it) for it in self.iters]\n",
    "        n0 = np.concatenate([n[0] for n in nexts])\n",
    "        n1 = np.concatenate([n[1] for n in nexts])\n",
    "        return (n0, n1)            "
   ]
  },
  {
   "cell_type": "code",
   "execution_count": 6,
   "metadata": {
    "ExecuteTime": {
     "end_time": "2017-11-17T09:03:32.519795Z",
     "start_time": "2017-11-17T09:03:32.483881Z"
    },
    "_cell_guid": "144c6e60-8a83-437d-8b8a-ea065af90923",
    "_uuid": "22e0e6c718171167089fb6df36d3dc43a1029992"
   },
   "outputs": [],
   "source": [
    "#no augmentation since the auto encoder has already seen all the train AND test files \n",
    "\n",
    "def train_generator(train_batch_size):\n",
    "    while True:\n",
    "        \n",
    "        this_train = train_df.groupby('label_id').apply(lambda x: x.sample(n = 2000))\n",
    "        extra_data_size = int(this_train.shape[0]* 0.1)\n",
    "        this_train = pd.concat([silent_df.sample(extra_data_size),\n",
    "                                this_train],axis=0 )\n",
    "#         ,\n",
    "#                                 unknown_df.sample(extra_data_size*4)\n",
    "        this_train.reset_index(drop=True,inplace=True)\n",
    "        \n",
    "        shuffled_ids = random.sample(range(this_train.shape[0]), this_train.shape[0])\n",
    "        \n",
    "        for start in range(0, len(shuffled_ids), train_batch_size):\n",
    "            x_batch = []\n",
    "            y_batch = []\n",
    "            \n",
    "            end = min(start + train_batch_size, len(shuffled_ids))\n",
    "            i_train_batch = shuffled_ids[start:end]\n",
    "            for i in i_train_batch:\n",
    "                x_batch.append(this_train.loc[i,'raw'].T)\n",
    "#                 x_batch.append(process_wav_file(this_train.iloc[i], augment=True).T)\n",
    "\n",
    "                y_batch.append(this_train.label_id.values[i])\n",
    "                \n",
    "            x_batch = 1.- np.array(x_batch)/-80.\n",
    "            y_batch = to_categorical(y_batch, num_classes = len(POSSIBLE_LABELS))\n",
    "            \n",
    "            yield x_batch, y_batch\n",
    "            \n"
   ]
  },
  {
   "cell_type": "code",
   "execution_count": 21,
   "metadata": {},
   "outputs": [
    {
     "data": {
      "text/plain": [
       "array([[7, 8, 9],\n",
       "       [4, 5, 6],\n",
       "       [1, 2, 3]])"
      ]
     },
     "execution_count": 21,
     "metadata": {},
     "output_type": "execute_result"
    }
   ],
   "source": [
    "np.array([[1,2,3],[4,5,6],[7,8,9]])[::-1,:]"
   ]
  },
  {
   "cell_type": "code",
   "execution_count": 16,
   "metadata": {},
   "outputs": [
    {
     "data": {
      "text/plain": [
       "(32, 128)"
      ]
     },
     "execution_count": 16,
     "metadata": {},
     "output_type": "execute_result"
    }
   ],
   "source": [
    "unknown_df.reset_index().loc[0,'raw'].T[::-1,:].shape"
   ]
  },
  {
   "cell_type": "code",
   "execution_count": 34,
   "metadata": {},
   "outputs": [],
   "source": [
    "def unknown_generator(train_batch_size):\n",
    "    while True:\n",
    "        \n",
    "        this_train = unknown_df.sample(n = int(train_df.shape[0]* 0.4))\n",
    "\n",
    "        this_train.reset_index(drop=True,inplace=True)\n",
    "        \n",
    "        shuffled_ids = random.sample(range(this_train.shape[0]), this_train.shape[0])\n",
    "        \n",
    "        for start in range(0, len(shuffled_ids), train_batch_size):\n",
    "            x_batch = []\n",
    "            y_batch = []\n",
    "            \n",
    "            end = min(start + train_batch_size, len(shuffled_ids))\n",
    "            i_train_batch = shuffled_ids[start:end]\n",
    "            for i in i_train_batch:\n",
    "                val  = this_train.loc[i,'raw'].T \n",
    "                val  = val if np.random.random()<0.5 else val[::-1,:]\n",
    "                x_batch.append(val)\n",
    "#                 x_batch.append(process_wav_file(this_train.iloc[i], augment=True).T)\n",
    "\n",
    "                y_batch.append(this_train.label_id.values[i])\n",
    "                \n",
    "            x_batch = 1.- np.array(x_batch)/-80.\n",
    "            y_batch = to_categorical(y_batch, num_classes = len(POSSIBLE_LABELS))\n",
    "            \n",
    "            yield x_batch, y_batch\n",
    "            "
   ]
  },
  {
   "cell_type": "code",
   "execution_count": 35,
   "metadata": {},
   "outputs": [],
   "source": [
    "def test_pseudo_generator(test_batch_size):\n",
    "#     this_test = test_df #.sample(int(train_df.shape[0]//5* 0.1))\n",
    "#     this_test[\"id\"] = this_test.index.values\n",
    "    \n",
    "#     this_test.reset_index(inplace=True)\n",
    "    while True:\n",
    "\n",
    "        shuffled_ids = random.sample(range(test_df.shape[0]), test_df.shape[0])\n",
    "\n",
    "        for start in range(0, len(test_df), test_batch_size):\n",
    "            x_batch = []\n",
    "            y_batch = []\n",
    "\n",
    "            end = min(start + test_batch_size, len(shuffled_ids))\n",
    "            i_test_batch = shuffled_ids[start:end]\n",
    "\n",
    "            for i in i_test_batch:\n",
    "                x_batch.append(test_df.loc[i,'raw'].T)\n",
    "    #                 x_batch.append(process_wav_file(this_train.iloc[i], augment=True).T)\n",
    "\n",
    "                y_batch.append(test_preds[test_df.loc[i,'id']])\n",
    "\n",
    "            x_batch = 1.- np.array(x_batch)/-80.\n",
    "            y_batch = np.array(y_batch)\n",
    "\n",
    "            yield x_batch, y_batch"
   ]
  },
  {
   "cell_type": "code",
   "execution_count": 36,
   "metadata": {},
   "outputs": [],
   "source": [
    "mi = MixIterator([train_generator(30),unknown_generator(20), test_pseudo_generator(14)])\n"
   ]
  },
  {
   "cell_type": "code",
   "execution_count": 37,
   "metadata": {},
   "outputs": [
    {
     "name": "stdout",
     "output_type": "stream",
     "text": [
      "CPU times: user 60 ms, sys: 8 ms, total: 68 ms\n",
      "Wall time: 69.5 ms\n"
     ]
    }
   ],
   "source": [
    "%time t = next(train_generator(256))[0][0].T"
   ]
  },
  {
   "cell_type": "code",
   "execution_count": 38,
   "metadata": {
    "ExecuteTime": {
     "end_time": "2017-11-17T09:03:32.624289Z",
     "start_time": "2017-11-17T09:03:32.521828Z"
    },
    "_cell_guid": "59a13393-9bc3-4b27-abe2-9c78b3c32ead",
    "_uuid": "6f9a8fbf6e352b1c77b9c22dddf1c5d69382bd5b"
   },
   "outputs": [],
   "source": [
    "def valid_generator(val_batch_size):\n",
    "    while True:\n",
    "        ids = list(range(valid_df.shape[0]))\n",
    "        for start in range(0, len(ids), val_batch_size):\n",
    "            x_batch = []\n",
    "            y_batch = []\n",
    "            end = min(start + val_batch_size, len(ids))\n",
    "            i_val_batch = ids[start:end]\n",
    "            for i in i_val_batch:\n",
    "                x_batch.append(valid_df.loc[i,'raw'].T)\n",
    "                y_batch.append(valid_df.label_id.values[i])\n",
    "\n",
    "            x_batch = 1.- np.array(x_batch)/-80.\n",
    "            y_batch = to_categorical(y_batch, num_classes = len(POSSIBLE_LABELS))\n",
    "            yield x_batch, y_batch"
   ]
  },
  {
   "cell_type": "code",
   "execution_count": 92,
   "metadata": {},
   "outputs": [],
   "source": [
    "#a common practice is to choose a filter size in time which spans 2/3 o"
   ]
  },
  {
   "cell_type": "code",
   "execution_count": 39,
   "metadata": {},
   "outputs": [],
   "source": [
    "timesteps, input_dim , latent_dim = 32,128, 128\n",
    "\n",
    "input_img = Input(shape=(timesteps, input_dim))  # adapt this if using `channels_first` image data format\n",
    "\n",
    "x = Reshape((timesteps, input_dim,1))(input_img)\n",
    "\n",
    "x = Conv2D(64, (10, 10), activation='relu', padding='same')(x)\n",
    "x = MaxPooling2D((2, 2), padding='same')(x)\n",
    "x = Conv2D(32, (5, 5), activation='relu', padding='same')(x)\n",
    "x = MaxPooling2D((2, 2), padding='same')(x)\n",
    "x = Conv2D(32, (3, 3), activation='relu', padding='same')(x)\n",
    "encoded = MaxPooling2D((2, 2), padding='same',name='latent_rep')(x)\n",
    "\n",
    "# at this point the representation is (4, 4, 8) i.e. 128-dimensional\n",
    "\n",
    "x = Conv2D(32, (3, 3), activation='relu', padding='same')(encoded)\n",
    "x = UpSampling2D((2, 2))(x)\n",
    "x = Conv2D(32, (5, 5), activation='relu', padding='same')(x)\n",
    "x = UpSampling2D((2, 2))(x)\n",
    "x = Conv2D(64, (10, 10), activation='relu', padding='same')(x)\n",
    "x = UpSampling2D((2, 2))(x)\n",
    "decoded = Conv2D(1, (3, 3), activation='sigmoid', padding='same')(x)\n",
    "decoded  = Reshape((timesteps, input_dim))(decoded)\n",
    "\n",
    "autoencoder = Model(input_img, decoded)"
   ]
  },
  {
   "cell_type": "code",
   "execution_count": 40,
   "metadata": {},
   "outputs": [],
   "source": [
    "autoencoder.load_weights(\"./weights/starter_ae_wtest_conv_rmse_c6.hdf5\")\n",
    "\n",
    "for l in autoencoder.layers:\n",
    "    l.trainable = False"
   ]
  },
  {
   "cell_type": "code",
   "execution_count": 42,
   "metadata": {},
   "outputs": [],
   "source": [
    "p = 0.3\n",
    "\n",
    "x = BatchNormalization()(autoencoder.get_layer(\"latent_rep\").output)\n",
    "\n",
    "x = Conv2D(64, (3, 3), activation='relu', padding='same')(x)\n",
    "x = Dropout(p/2)(x)\n",
    "x = Conv2D(64, (3, 3), activation='relu', padding='same')(x)\n",
    "x = Dropout(p/2)(x)\n",
    "\n",
    "x = BatchNormalization()(x)\n",
    "\n",
    "x = Conv2D(128, (3, 3), activation='relu', padding='same')(x)\n",
    "x = Dropout(p/2)(x)\n",
    "x = Conv2D(128, (3, 3), activation='relu', padding='same')(x)\n",
    "x = Dropout(p/2)(x)\n",
    "\n",
    "x_max = GlobalMaxPool2D()(x)\n",
    "x_avg = GlobalAveragePooling2D()(x)\n",
    "\n",
    "ae_model =  x_max #concatenate([x_max,x_avg])\n",
    "\n",
    "\n",
    "# x = Dense(128, activation = 'relu')(x)\n",
    "# x = Dropout(p)(x)\n",
    "\n",
    "# x = Dense(len(POSSIBLE_LABELS), activation = 'softmax', name='targets')(x)\n"
   ]
  },
  {
   "cell_type": "code",
   "execution_count": 43,
   "metadata": {},
   "outputs": [],
   "source": [
    "def get_conv_stacks( x_in, filter_size=2):\n",
    "    \n",
    "    x = BatchNormalization()(x_in)\n",
    "    x = Conv1D(32,filter_size,activation='relu')(x)\n",
    "    x = Dropout(p/2)(x)\n",
    "    x = Conv1D(32,filter_size,activation='relu')(x)\n",
    "    x = Dropout(p/2)(x)\n",
    "\n",
    "\n",
    "\n",
    "#     x = LSTM(128,return_sequences=True)(x)\n",
    "\n",
    "    x = Conv1D(64,filter_size,activation='relu',dilation_rate=2)(x)\n",
    "    x = Dropout(p/2)(x)\n",
    "    x = Conv1D(64,filter_size,activation='relu',dilation_rate=2)(x)\n",
    "    x = Dropout(p/2)(x)\n",
    "\n",
    "\n",
    "    \n",
    "    \n",
    "    x = BatchNormalization()(x)\n",
    "\n",
    "#     x = LSTM(128,return_sequences=True)(x)\n",
    "\n",
    "    x = Conv1D(128,filter_size,activation='relu',dilation_rate=2)(x)\n",
    "    x = Dropout(p/2)(x)    \n",
    "    x = Conv1D(128,filter_size,activation='relu',dilation_rate=2)(x)\n",
    "    x = Dropout(p/2)(x)\n",
    "    x = Conv1D(128,filter_size,activation='relu',dilation_rate=2)(x)\n",
    "    x = Dropout(p/2)(x)\n",
    "    x = Conv1D(128,filter_size,activation='relu',dilation_rate=2)(x)\n",
    "    x = Dropout(p/2)(x)\n",
    "\n",
    "\n",
    "    x = BatchNormalization()(x)\n",
    "\n",
    "\n",
    "    x_max = GlobalMaxPooling1D()(x)\n",
    "    x_avg = GlobalAveragePooling1D()(x)\n",
    "\n",
    "    x = concatenate([x_max,x_avg])\n",
    "    \n",
    "    return x"
   ]
  },
  {
   "cell_type": "code",
   "execution_count": 44,
   "metadata": {},
   "outputs": [],
   "source": [
    "def get_1dconvs_maxpool( x_in, filter_size=2):\n",
    "    \n",
    "    x = BatchNormalization()(x_in)\n",
    "    x = Conv1D(64,filter_size,activation='relu',padding='same')(x)\n",
    "    x = Dropout(p/2)(x)\n",
    "    x = Conv1D(64,filter_size,activation='relu',padding='same')(x)\n",
    "    x = Dropout(p/2)(x)\n",
    "    x = Conv1D(64,filter_size,activation='relu',padding='same')(x)\n",
    "    x = Dropout(p/2)(x)\n",
    "\n",
    "    x  = MaxPooling1D()(x)   \n",
    "    x = BatchNormalization()(x)\n",
    "\n",
    "\n",
    "    x = Conv1D(128,filter_size,activation='relu',padding='same')(x)\n",
    "    x = Dropout(p/2)(x)    \n",
    "    x = Conv1D(128,filter_size,activation='relu',padding='same')(x)\n",
    "    x = Dropout(p/2)(x)\n",
    "    x = Conv1D(128,filter_size,activation='relu',padding='same')(x)\n",
    "    x = Dropout(p/2)(x)\n",
    "    \n",
    "    x = BatchNormalization()(x)\n",
    "\n",
    "    \n",
    "    \n",
    "    x_max = GlobalMaxPooling1D()(x)\n",
    "#     x_avg = GlobalAveragePooling1D()(x)\n",
    "\n",
    "#     x = concatenate([x_max,x_avg])\n",
    "    \n",
    "    return x_max"
   ]
  },
  {
   "cell_type": "code",
   "execution_count": 45,
   "metadata": {},
   "outputs": [],
   "source": [
    "timesteps, input_dim , latent_dim = 32,128, 128\n",
    "\n",
    "\n",
    "\n",
    "x_3 = get_1dconvs_maxpool(input_img,10)\n",
    "x_2 = get_1dconvs_maxpool(input_img,5)\n",
    "x_1 = get_1dconvs_maxpool(input_img,2)\n",
    "\n",
    "x = concatenate([x_1,x_2,x_3,\n",
    "                 ae_model])\n",
    "\n",
    "#original \n",
    "# x_2 = get_conv_stacks(input_img,2)\n",
    "# x_3 = get_conv_stacks(input_img,3)\n",
    "\n",
    "\n",
    "\n",
    "# x_freq = Reshape((input_dim, timesteps))(input_img)\n",
    "# xf_8 = get_conv_stacks(x_freq,8)\n",
    "\n",
    "\n",
    "# x = concatenate([x_2,x_3,\n",
    "#                  xf_8,ae_model])\n",
    "\n",
    "\n",
    "\n",
    "x = Dense(128, activation = 'relu')(x) #\n",
    "x = Dropout(p)(x)\n",
    "\n",
    "\n",
    "x = Dense(len(POSSIBLE_LABELS), activation = 'softmax', name='targets')(x)\n",
    "\n"
   ]
  },
  {
   "cell_type": "code",
   "execution_count": 46,
   "metadata": {},
   "outputs": [],
   "source": [
    "\n",
    "model = Model(inputs=[input_img], outputs = x)\n",
    "model.compile(optimizer=\"adam\", loss='categorical_crossentropy', metrics=['accuracy'])"
   ]
  },
  {
   "cell_type": "code",
   "execution_count": 101,
   "metadata": {
    "ExecuteTime": {
     "end_time": "2017-11-17T09:03:33.180074Z",
     "start_time": "2017-11-17T09:03:32.625939Z"
    },
    "_cell_guid": "0e13c01e-5662-4679-9b31-bf9347080ae5",
    "_uuid": "a17b3ea5c15c781260f3473f37dd0d36a932a565"
   },
   "outputs": [],
   "source": [
    "# p = 0.5\n",
    "\n",
    "# x_in = Input(shape = (128,32,1)) #1 channel, 99 time, 161 freqs # S : np.ndarray [shape=(n_mels, t)]\n",
    "\n",
    "# x = BatchNormalization()(x_in)\n",
    "\n",
    "# x = Conv2D(64, (9,10),activation='relu',padding='same')(x)\n",
    "# x = Dropout(p)(x)\n",
    "# x = BatchNormalization()(x)\n",
    "# x = MaxPooling2D((3,2),padding='same')(x)\n",
    "\n",
    "# x = Conv2D(128, (4,5),activation='relu',padding='same')(x)\n",
    "# x = Dropout(p)(x)\n",
    "# x = BatchNormalization()(x)\n",
    "# x = MaxPooling2D((3,2),padding='same')(x)\n",
    "\n",
    "\n",
    "# x = Conv2D(128, (2,2),activation='relu',padding='same')(x)\n",
    "# x = Dropout(p)(x)\n",
    "# x = BatchNormalization()(x)\n",
    "# x = MaxPooling2D(padding='same')(x)\n",
    "\n",
    "\n",
    "\n",
    "# x = GlobalMaxPool2D()(x)\n",
    "\n",
    "# # x = Flatten()(x)\n",
    "# x = Dense(64, activation = 'relu')(x) #\n",
    "# x = Dropout(p)(x)\n",
    "\n",
    "# # x = Dense(64, activation = 'relu')(x)\n",
    "# # x = Dropout(0.3)(x)\n",
    "\n",
    "# x = Dense(len(POSSIBLE_LABELS), activation = 'softmax', name='targets')(x)\n",
    "\n",
    "\n",
    "\n",
    "\n",
    "# model = Model(inputs = x_in, outputs = x)\n",
    "# model.compile(optimizer=\"adam\", loss='categorical_crossentropy', metrics=['accuracy'])\n",
    "# # model.summary()"
   ]
  },
  {
   "cell_type": "markdown",
   "metadata": {},
   "source": [
    "Epoch 14/100\n",
    "300/300 [==============================] - 214s - loss: 0.7612 - acc: 0.7370 - val_loss: 1.0481 - val_acc: 0.6508\n",
    "\n",
    "\n",
    "\n",
    "Epoch 31/100\n",
    "350/350 [==============================] - 227s - loss: 0.4294 - acc: 0.8518 - val_loss: 0.9436 - val_acc: 0.7179\n",
    "Epoch 32/100\n",
    "\n",
    "\n",
    "\n",
    "Epoch 00058: reducing learning rate to 1.00000006569e-06.\n",
    "329/329 [==============================] - 191s - loss: 0.7292 - acc: 0.7521 - val_loss: 0.7132 - val_acc: 0.8770\n",
    "\n",
    "\n",
    "with ae, p=0.\n",
    "Epoch 28/100\n",
    "329/329 [==============================] - 7s - loss: 0.3312 - acc: 0.8829 - val_loss: 0.4124 - val_acc: 0.8579\n",
    "\n",
    "with p=0.4 and /2 for convs \n",
    "Epoch 28/100\n",
    "329/329 [==============================] - 7s - loss: 0.5534 - acc: 0.8056 - val_loss: 0.5074 - val_acc: 0.8312\n",
    "\n",
    "with p=0.2 and /2\n",
    "Epoch 00035: reducing learning rate to 1.0000000475e-05.\n",
    "329/329 [==============================] - 7s - loss: 0.2414 - acc: 0.9137 - val_loss: 0.3686 - val_acc: 0.8811\n",
    "\n",
    "\n",
    "original aebased p.3\n",
    "frozen:\n",
    "Epoch 19/100\n",
    "989/989 [==============================] - 37s - loss: 0.4131 - acc: 0.8549 - val_loss: 0.3392 - val_acc: 0.8849\n",
    "with finetuning\n",
    "Epoch 5/100\n",
    "989/989 [==============================] - 85s - loss: 0.3845 - acc: 0.8654 - val_loss: 0.3238 - val_acc: 0.8920\n",
    "\n",
    "increase filter size, less max, more layers (aebase_aug_drp3_frozen_extralayers)\n",
    "Epoch 10/100\n",
    "1978/1978 [==============================] - 64s - loss: 0.2238 - acc: 0.9242 - val_loss: 0.2565 - val_acc: 0.9253\n",
    "\n",
    "\n",
    "\n",
    "-- time and frequency 1dconvs (v1) with frozen ae base (aebase_mix_1dconvs_on_timenfreq_frozen_c2)\n",
    "\n",
    "Epoch 10/100\n",
    "1978/1978 [==============================] - 193s - loss: 0.1665 - acc: 0.9453 - val_loss: 0.1689 - val_acc: 0.9511\n",
    "\n",
    "\n",
    "\n",
    "\n",
    "\n",
    "-- aebase_mix_1dtimeconvswithmaxpool_frozen\n",
    "\n",
    "Epoch 32/100\n",
    "395/395 [==============================] - 34s - loss: 0.2949 - acc: 0.9321 - val_loss: 0.1594 - val_acc: 0.9475\n",
    "\n",
    "finetuned\n",
    "Epoch 8/100\n",
    "395/395 [==============================] - 46s - loss: 0.2926 - acc: 0.9302 - val_loss: 0.1564 - val_acc: 0.9501\n",
    "\n",
    "\n",
    "reverse unknown \n",
    "Epoch 36/100\n",
    "395/395 [==============================] - 34s - loss: 0.2846 - acc: 0.9346 - val_loss: 0.1558 - val_acc: 0.9481"
   ]
  },
  {
   "cell_type": "code",
   "execution_count": 48,
   "metadata": {},
   "outputs": [],
   "source": [
    "exp_name = \"aebase_mix_1dtimeconvswithmaxpool_reverseunknown_frozen\"\n",
    "callbacks = [EarlyStopping(monitor='val_loss',\n",
    "                           patience=5,\n",
    "                           verbose=1),\n",
    "             \n",
    "             ReduceLROnPlateau(monitor='val_loss',\n",
    "                               factor=0.1,\n",
    "                               patience=3,\n",
    "                               verbose=1,\n",
    "                               epsilon=0.01,\n",
    "                              min_lr=1e-5),\n",
    "             ModelCheckpoint(monitor='val_loss',\n",
    "                             filepath='weights/{}.hdf5'.format(exp_name),\n",
    "                             save_best_only=True,\n",
    "                             save_weights_only=True)]\n",
    "#              ,      TensorBoard(log_dir='./logs/logs_{}'.format(exp_name), histogram_freq=0, batch_size=64, write_graph=True)]"
   ]
  },
  {
   "cell_type": "code",
   "execution_count": 15,
   "metadata": {},
   "outputs": [],
   "source": [
    "# model.load_weights('weights/{}.hdf5'.format(exp_name))"
   ]
  },
  {
   "cell_type": "code",
   "execution_count": 49,
   "metadata": {
    "ExecuteTime": {
     "end_time": "2017-11-17T09:42:31.48233Z",
     "start_time": "2017-11-17T09:03:33.355603Z"
    },
    "_cell_guid": "5f3d1b09-500f-410e-820a-8eaab24b6ebb",
    "_uuid": "528ec66a0a6caca952273ab916e609625839b19e",
    "scrolled": false
   },
   "outputs": [
    {
     "name": "stdout",
     "output_type": "stream",
     "text": [
      "Epoch 1/100\n",
      "395/395 [==============================] - 42s - loss: 1.6934 - acc: 0.5021 - val_loss: 1.1513 - val_acc: 0.5755\n",
      "Epoch 2/100\n",
      "395/395 [==============================] - 35s - loss: 0.9702 - acc: 0.6893 - val_loss: 0.7820 - val_acc: 0.7380\n",
      "Epoch 3/100\n",
      "395/395 [==============================] - 35s - loss: 0.7460 - acc: 0.7734 - val_loss: 0.4675 - val_acc: 0.8540\n",
      "Epoch 4/100\n",
      "395/395 [==============================] - 35s - loss: 0.6554 - acc: 0.8094 - val_loss: 0.4192 - val_acc: 0.8616\n",
      "Epoch 5/100\n",
      "395/395 [==============================] - 36s - loss: 0.5843 - acc: 0.8325 - val_loss: 0.3895 - val_acc: 0.8834\n",
      "Epoch 6/100\n",
      "395/395 [==============================] - 35s - loss: 0.5483 - acc: 0.8476 - val_loss: 0.3620 - val_acc: 0.8834\n",
      "Epoch 7/100\n",
      "395/395 [==============================] - 36s - loss: 0.5066 - acc: 0.8614 - val_loss: 0.2906 - val_acc: 0.9032\n",
      "Epoch 8/100\n",
      "395/395 [==============================] - 35s - loss: 0.4948 - acc: 0.8652 - val_loss: 0.2901 - val_acc: 0.9078\n",
      "Epoch 9/100\n",
      "395/395 [==============================] - 36s - loss: 0.4682 - acc: 0.8776 - val_loss: 0.2710 - val_acc: 0.9138\n",
      "Epoch 10/100\n",
      "395/395 [==============================] - 35s - loss: 0.4488 - acc: 0.8789 - val_loss: 0.2414 - val_acc: 0.9240\n",
      "Epoch 11/100\n",
      "395/395 [==============================] - 34s - loss: 0.4307 - acc: 0.8884 - val_loss: 0.2562 - val_acc: 0.9174\n",
      "Epoch 12/100\n",
      "395/395 [==============================] - 34s - loss: 0.4235 - acc: 0.8896 - val_loss: 0.2322 - val_acc: 0.9243\n",
      "Epoch 13/100\n",
      "395/395 [==============================] - 34s - loss: 0.4208 - acc: 0.8919 - val_loss: 0.2648 - val_acc: 0.9184\n",
      "Epoch 14/100\n",
      "395/395 [==============================] - 35s - loss: 0.3905 - acc: 0.8999 - val_loss: 0.2246 - val_acc: 0.9286\n",
      "Epoch 15/100\n",
      "395/395 [==============================] - 34s - loss: 0.3950 - acc: 0.8979 - val_loss: 0.2300 - val_acc: 0.9286\n",
      "Epoch 16/100\n",
      "395/395 [==============================] - 36s - loss: 0.3834 - acc: 0.9034 - val_loss: 0.2162 - val_acc: 0.9313\n",
      "Epoch 17/100\n",
      "395/395 [==============================] - 34s - loss: 0.3680 - acc: 0.9084 - val_loss: 0.2218 - val_acc: 0.9286\n",
      "Epoch 18/100\n",
      "394/395 [============================>.] - ETA: 0s - loss: 0.3754 - acc: 0.9078\n",
      "Epoch 00017: reducing learning rate to 0.00010000000475.\n",
      "395/395 [==============================] - 35s - loss: 0.3750 - acc: 0.9079 - val_loss: 0.2273 - val_acc: 0.9267\n",
      "Epoch 19/100\n",
      "395/395 [==============================] - 34s - loss: 0.3370 - acc: 0.9166 - val_loss: 0.1801 - val_acc: 0.9382\n",
      "Epoch 20/100\n",
      "395/395 [==============================] - 34s - loss: 0.3216 - acc: 0.9231 - val_loss: 0.1704 - val_acc: 0.9422\n",
      "Epoch 21/100\n",
      "395/395 [==============================] - 34s - loss: 0.3038 - acc: 0.9281 - val_loss: 0.1733 - val_acc: 0.9419\n",
      "Epoch 22/100\n",
      "395/395 [==============================] - 34s - loss: 0.3030 - acc: 0.9272 - val_loss: 0.1725 - val_acc: 0.9419\n",
      "Epoch 23/100\n",
      "395/395 [==============================] - 34s - loss: 0.3020 - acc: 0.9298 - val_loss: 0.1696 - val_acc: 0.9442\n",
      "Epoch 24/100\n",
      "395/395 [==============================] - 34s - loss: 0.3023 - acc: 0.9285 - val_loss: 0.1663 - val_acc: 0.9432\n",
      "Epoch 25/100\n",
      "395/395 [==============================] - 34s - loss: 0.3015 - acc: 0.9290 - val_loss: 0.1664 - val_acc: 0.9448\n",
      "Epoch 26/100\n",
      "395/395 [==============================] - 34s - loss: 0.2911 - acc: 0.9313 - val_loss: 0.1660 - val_acc: 0.9445\n",
      "Epoch 27/100\n",
      "394/395 [============================>.] - ETA: 0s - loss: 0.3030 - acc: 0.9283\n",
      "Epoch 00026: reducing learning rate to 1.0000000475e-05.\n",
      "395/395 [==============================] - 34s - loss: 0.3029 - acc: 0.9284 - val_loss: 0.1666 - val_acc: 0.9445\n",
      "Epoch 28/100\n",
      "395/395 [==============================] - 34s - loss: 0.2914 - acc: 0.9337 - val_loss: 0.1638 - val_acc: 0.9452\n",
      "Epoch 29/100\n",
      "395/395 [==============================] - 35s - loss: 0.2861 - acc: 0.9335 - val_loss: 0.1634 - val_acc: 0.9462\n",
      "Epoch 30/100\n",
      "395/395 [==============================] - 35s - loss: 0.2966 - acc: 0.9312 - val_loss: 0.1627 - val_acc: 0.9452\n",
      "Epoch 31/100\n",
      "395/395 [==============================] - 35s - loss: 0.2911 - acc: 0.9337 - val_loss: 0.1580 - val_acc: 0.9471\n",
      "Epoch 32/100\n",
      "395/395 [==============================] - 34s - loss: 0.2921 - acc: 0.9321 - val_loss: 0.1569 - val_acc: 0.9478\n",
      "Epoch 33/100\n",
      "395/395 [==============================] - 34s - loss: 0.2771 - acc: 0.9353 - val_loss: 0.1653 - val_acc: 0.9442\n",
      "Epoch 34/100\n",
      "395/395 [==============================] - 34s - loss: 0.2924 - acc: 0.9330 - val_loss: 0.1632 - val_acc: 0.9448\n",
      "Epoch 35/100\n",
      "395/395 [==============================] - 34s - loss: 0.2866 - acc: 0.9331 - val_loss: 0.1625 - val_acc: 0.9455\n",
      "Epoch 36/100\n",
      "395/395 [==============================] - 34s - loss: 0.2846 - acc: 0.9346 - val_loss: 0.1558 - val_acc: 0.9481\n",
      "Epoch 37/100\n",
      "395/395 [==============================] - 34s - loss: 0.2861 - acc: 0.9339 - val_loss: 0.1620 - val_acc: 0.9465\n",
      "Epoch 38/100\n",
      "395/395 [==============================] - 35s - loss: 0.2859 - acc: 0.9346 - val_loss: 0.1592 - val_acc: 0.9468\n",
      "Epoch 39/100\n",
      "395/395 [==============================] - 36s - loss: 0.2943 - acc: 0.9343 - val_loss: 0.1607 - val_acc: 0.9452\n",
      "Epoch 40/100\n",
      "395/395 [==============================] - 35s - loss: 0.2824 - acc: 0.9356 - val_loss: 0.1595 - val_acc: 0.9462\n",
      "Epoch 41/100\n",
      "395/395 [==============================] - 35s - loss: 0.2879 - acc: 0.9338 - val_loss: 0.1567 - val_acc: 0.9471\n",
      "Epoch 42/100\n",
      "395/395 [==============================] - 34s - loss: 0.2844 - acc: 0.9362 - val_loss: 0.1586 - val_acc: 0.9468\n",
      "Epoch 00041: early stopping\n"
     ]
    }
   ],
   "source": [
    "batch_size = 64\n",
    "\n",
    "history = model.fit_generator(generator=mi,#train_generator(batch_size),\n",
    "                              steps_per_epoch=train_df.shape[0]*(1.2/5)//batch_size,\n",
    "                              epochs=100,\n",
    "                              callbacks=callbacks,\n",
    "                              validation_data=valid_generator(batch_size),\n",
    "                              validation_steps=int(np.ceil(valid_df.shape[0]/batch_size)))"
   ]
  },
  {
   "cell_type": "code",
   "execution_count": 63,
   "metadata": {},
   "outputs": [],
   "source": [
    "for l in model.layers:\n",
    "    l.trainable = True\n",
    "    \n",
    "    \n",
    "model.compile(optimizer=Adam(lr=1e-4), loss='categorical_crossentropy', metrics=['accuracy'])"
   ]
  },
  {
   "cell_type": "code",
   "execution_count": 64,
   "metadata": {
    "ExecuteTime": {
     "end_time": "2017-11-17T10:24:59.198625Z",
     "start_time": "2017-11-17T10:24:59.081762Z"
    },
    "_cell_guid": "0c99ba3b-e8ca-40cb-8d29-2b0e89a385c7",
    "_uuid": "429139ca4f71487c6cfe3e8dfbb6a659eb9bb9c8"
   },
   "outputs": [],
   "source": [
    "model.load_weights('./weights/{}.hdf5'.format(exp_name))"
   ]
  },
  {
   "cell_type": "code",
   "execution_count": 65,
   "metadata": {},
   "outputs": [],
   "source": [
    "exp_name = \"aebase_mix_1dtimeconvswithmaxpool_reverseunknown_finetune\"\n",
    "callbacks = [EarlyStopping(monitor='val_loss',\n",
    "                           patience=5,\n",
    "                           verbose=1),\n",
    "             \n",
    "             ReduceLROnPlateau(monitor='val_loss',\n",
    "                               factor=0.1,\n",
    "                               patience=3,\n",
    "                               verbose=1,\n",
    "                               epsilon=0.01,\n",
    "                              min_lr=1e-5),\n",
    "             ModelCheckpoint(monitor='val_loss',\n",
    "                             filepath='weights/{}.hdf5'.format(exp_name),\n",
    "                             save_best_only=True,\n",
    "                             save_weights_only=True)]"
   ]
  },
  {
   "cell_type": "code",
   "execution_count": 66,
   "metadata": {},
   "outputs": [
    {
     "name": "stdout",
     "output_type": "stream",
     "text": [
      "Epoch 1/100\n",
      "395/395 [==============================] - 50s - loss: 0.2963 - acc: 0.9299 - val_loss: 0.1657 - val_acc: 0.9447\n",
      "Epoch 2/100\n",
      "395/395 [==============================] - 48s - loss: 0.2931 - acc: 0.9322 - val_loss: 0.1603 - val_acc: 0.9462\n",
      "Epoch 3/100\n",
      "395/395 [==============================] - 47s - loss: 0.2900 - acc: 0.9343 - val_loss: 0.1630 - val_acc: 0.9455\n",
      "Epoch 4/100\n",
      "395/395 [==============================] - 47s - loss: 0.2891 - acc: 0.9341 - val_loss: 0.1620 - val_acc: 0.9435\n",
      "Epoch 5/100\n",
      "394/395 [============================>.] - ETA: 0s - loss: 0.2944 - acc: 0.9325\n",
      "Epoch 00004: reducing learning rate to 1e-05.\n",
      "395/395 [==============================] - 48s - loss: 0.2941 - acc: 0.9326 - val_loss: 0.1601 - val_acc: 0.9491\n",
      "Epoch 6/100\n",
      "395/395 [==============================] - 47s - loss: 0.2854 - acc: 0.9356 - val_loss: 0.1585 - val_acc: 0.9488\n",
      "Epoch 7/100\n",
      "395/395 [==============================] - 48s - loss: 0.2818 - acc: 0.9363 - val_loss: 0.1571 - val_acc: 0.9491\n",
      "Epoch 8/100\n",
      "395/395 [==============================] - 47s - loss: 0.2828 - acc: 0.9386 - val_loss: 0.1574 - val_acc: 0.9491\n",
      "Epoch 9/100\n",
      "395/395 [==============================] - 47s - loss: 0.2783 - acc: 0.9368 - val_loss: 0.1569 - val_acc: 0.9501\n",
      "Epoch 10/100\n",
      "395/395 [==============================] - 47s - loss: 0.2814 - acc: 0.9360 - val_loss: 0.1575 - val_acc: 0.9498\n",
      "Epoch 11/100\n",
      "395/395 [==============================] - 47s - loss: 0.2841 - acc: 0.9346 - val_loss: 0.1592 - val_acc: 0.9501\n",
      "Epoch 12/100\n",
      "395/395 [==============================] - 47s - loss: 0.2755 - acc: 0.9391 - val_loss: 0.1586 - val_acc: 0.9488\n",
      "Epoch 13/100\n",
      "395/395 [==============================] - 47s - loss: 0.2843 - acc: 0.9339 - val_loss: 0.1585 - val_acc: 0.9498\n",
      "Epoch 14/100\n",
      "395/395 [==============================] - 47s - loss: 0.2808 - acc: 0.9359 - val_loss: 0.1553 - val_acc: 0.9508\n",
      "Epoch 15/100\n",
      "395/395 [==============================] - 47s - loss: 0.2814 - acc: 0.9366 - val_loss: 0.1564 - val_acc: 0.9498\n",
      "Epoch 16/100\n",
      "395/395 [==============================] - 48s - loss: 0.2823 - acc: 0.9360 - val_loss: 0.1549 - val_acc: 0.9518\n",
      "Epoch 17/100\n",
      "395/395 [==============================] - 47s - loss: 0.2795 - acc: 0.9368 - val_loss: 0.1556 - val_acc: 0.9501\n",
      "Epoch 18/100\n",
      "395/395 [==============================] - 48s - loss: 0.2792 - acc: 0.9348 - val_loss: 0.1569 - val_acc: 0.9495\n",
      "Epoch 19/100\n",
      "395/395 [==============================] - 47s - loss: 0.2797 - acc: 0.9380 - val_loss: 0.1582 - val_acc: 0.9488\n",
      "Epoch 20/100\n",
      "395/395 [==============================] - 47s - loss: 0.2808 - acc: 0.9365 - val_loss: 0.1554 - val_acc: 0.9504\n",
      "Epoch 21/100\n",
      "395/395 [==============================] - 47s - loss: 0.2818 - acc: 0.9350 - val_loss: 0.1571 - val_acc: 0.9485\n",
      "Epoch 22/100\n",
      "395/395 [==============================] - 47s - loss: 0.2783 - acc: 0.9369 - val_loss: 0.1596 - val_acc: 0.9488\n",
      "Epoch 00021: early stopping\n"
     ]
    }
   ],
   "source": [
    "history = model.fit_generator(generator=mi, #train_generator(batch_size),\n",
    "                              steps_per_epoch=train_df.shape[0]*(1.2/5)//batch_size,\n",
    "                              epochs=100,\n",
    "                              callbacks=callbacks,\n",
    "                              validation_data=valid_generator(batch_size),\n",
    "                              validation_steps=int(np.ceil(valid_df.shape[0]/batch_size)))"
   ]
  },
  {
   "cell_type": "code",
   "execution_count": 67,
   "metadata": {},
   "outputs": [],
   "source": [
    "model.load_weights('./weights/{}.hdf5'.format(exp_name))"
   ]
  },
  {
   "cell_type": "markdown",
   "metadata": {},
   "source": [
    "### valid evaluation"
   ]
  },
  {
   "cell_type": "code",
   "execution_count": 76,
   "metadata": {},
   "outputs": [],
   "source": [
    "\n",
    "\n",
    "def augment_wav(wav,pval=0.5):\n",
    "    sample_rate = 16000\n",
    "    L = 1000 #16000  # 1 sec\n",
    "    \n",
    "    #adjust speed, with 50% chance\n",
    "#     wav = speed_change(wav,1.+random.uniform(-1, 1)*0.05) if np.random.random() < pval else wav\n",
    "    \n",
    "    \n",
    "    #adjust volume\n",
    "    db_adjustment = random.uniform(-1, 1)*10\n",
    "    wav = wav + db_adjustment if np.random.random() < pval else wav\n",
    "     \n",
    "        \n",
    "    #fill to 1 second\n",
    "    wav = fill_to_1sec(wav)        \n",
    "        \n",
    "    #shift the audio by 10 ms\n",
    "    shift_length = 100\n",
    "    if np.random.random() < 0.5: #shift to left\n",
    "        wav = wav[:L-shift_length]+ AudioSegment.silent(shift_length,frame_rate=sample_rate)\n",
    "    else: #shift to right\n",
    "        wav = AudioSegment.silent(shift_length,frame_rate=sample_rate) + wav[shift_length:]\n",
    "        \n",
    "        \n",
    "        \n",
    "    #blend original file with background noise     \n",
    "    if np.random.random() < pval:\n",
    "        noise = random.choice(silence_files_AS)\n",
    "        db_delta = (wav.dBFS - noise.dBFS) -10.\n",
    "\n",
    "        if db_delta< 0: #reduce intensity of loud background; if it's too silent, leave it be\n",
    "            noise = noise  + db_delta\n",
    "        wav = wav.overlay(noise)\n",
    " \n",
    "    return wav\n",
    "\n",
    "\n",
    "\n",
    "def process_wav_file(record, reshape=False, augment=False,pval=0.5 ,output_format='logmel',n_mels=128 ):\n",
    "    \n",
    "    if type(record) == str: # test files\n",
    "        fname = record\n",
    "        label = \"test\"\n",
    "    else:    \n",
    "        fname  = record.wav_file\n",
    "        label = record.label\n",
    "\n",
    "        \n",
    "        \n",
    "        \n",
    "        \n",
    "    if \"raw_AS_wav\" in record: \n",
    "        wav = record.raw_AS_wav\n",
    "    else:\n",
    "        wav = AudioSegment.from_wav(fname.replace(\"\\\\\",\"/\"))\n",
    "        \n",
    "        \n",
    "    \n",
    "    if (not label in [\"silence\"]) and augment: #no augmentation for sample files \n",
    "        wav = augment_wav(wav,pval)\n",
    "\n",
    "    else: #make sure segment is 1 second\n",
    "        wav = fill_to_1sec(wav)\n",
    "\n",
    "        \n",
    "    samples = AS_to_raw(wav)\n",
    "    \n",
    "    \n",
    "    \n",
    "    if output_format == \"logmel\":\n",
    "        output = log_mel(samples,reshape=reshape,n_mels=n_mels)\n",
    "        \n",
    "    elif output_format == \"mfcc\":\n",
    "        log_S = log_mel(samples,reshape=False,n_mels=n_mels)\n",
    "        mfcc = librosa.feature.mfcc(S=log_S, n_mfcc=40) #hirese mfcc\n",
    "        delta1 = librosa.feature.delta(mfcc, order=1)#hirese mfcc\n",
    "        delta2 = librosa.feature.delta(mfcc, order=2)\n",
    "\n",
    "        output = np.stack([mfcc,delta1,delta2])\n",
    "        \n",
    "    elif  output_format == \"cqt\":   \n",
    "        output = librosa.cqt(samples, sr=16000)\n",
    "    else:\n",
    "        output = samples\n",
    "    \n",
    "    \n",
    "    return output\n"
   ]
  },
  {
   "cell_type": "code",
   "execution_count": 85,
   "metadata": {},
   "outputs": [],
   "source": [
    "def valid_aug_generator(val_batch_size):\n",
    "    while True:\n",
    "        ids = list(range(valid_df.shape[0]))\n",
    "        for start in range(0, len(ids), val_batch_size):\n",
    "            x_batch = []\n",
    "            y_batch = []\n",
    "            end = min(start + val_batch_size, len(ids))\n",
    "            i_val_batch = ids[start:end]\n",
    "            for i in i_val_batch:\n",
    "                x_batch.append(process_wav_file(valid_df.iloc[i],augment=True).T)\n",
    "                y_batch.append(valid_df.label_id.values[i])\n",
    "\n",
    "            x_batch = 1.- np.array(x_batch)/-80.\n",
    "            y_batch = to_categorical(y_batch, num_classes = len(POSSIBLE_LABELS))\n",
    "            yield x_batch, y_batch"
   ]
  },
  {
   "cell_type": "code",
   "execution_count": 83,
   "metadata": {},
   "outputs": [],
   "source": [
    "from sklearn.preprocessing import OneHotEncoder\n",
    "from sklearn.metrics import classification_report"
   ]
  },
  {
   "cell_type": "code",
   "execution_count": 88,
   "metadata": {},
   "outputs": [],
   "source": [
    "\n",
    "silence_files_AS = [AudioSegment.from_wav(x) for x in silent_df.wav_file.values]\n",
    "\n",
    "filler = AudioSegment.silent(duration=1000, frame_rate = 16000)"
   ]
  },
  {
   "cell_type": "code",
   "execution_count": 103,
   "metadata": {},
   "outputs": [],
   "source": [
    "val_preds = model.predict_generator(valid_generator(64),steps=int(np.ceil(valid_df.shape[0]/64.)))\n"
   ]
  },
  {
   "cell_type": "code",
   "execution_count": 91,
   "metadata": {},
   "outputs": [],
   "source": [
    "val_preds += model.predict_generator(valid_aug_generator(64),steps=int(np.ceil(valid_df.shape[0]/64.)))\n",
    "val_preds += model.predict_generator(valid_aug_generator(64),steps=int(np.ceil(valid_df.shape[0]/64.)))\n",
    "val_preds += model.predict_generator(valid_aug_generator(64),steps=int(np.ceil(valid_df.shape[0]/64.)))\n",
    "val_preds += model.predict_generator(valid_aug_generator(64),steps=int(np.ceil(valid_df.shape[0]/64.)))\n",
    "val_preds += model.predict_generator(valid_aug_generator(64),steps=int(np.ceil(valid_df.shape[0]/64.)))\n"
   ]
  },
  {
   "cell_type": "code",
   "execution_count": 92,
   "metadata": {},
   "outputs": [],
   "source": [
    "val_preds/=6.0"
   ]
  },
  {
   "cell_type": "code",
   "execution_count": 104,
   "metadata": {},
   "outputs": [],
   "source": [
    "val_preds = np.argmax(val_preds,axis=1)"
   ]
  },
  {
   "cell_type": "code",
   "execution_count": 105,
   "metadata": {},
   "outputs": [
    {
     "data": {
      "text/plain": [
       "(3091,)"
      ]
     },
     "execution_count": 105,
     "metadata": {},
     "output_type": "execute_result"
    }
   ],
   "source": [
    "val_preds.shape"
   ]
  },
  {
   "cell_type": "code",
   "execution_count": 106,
   "metadata": {},
   "outputs": [],
   "source": [
    "oe = OneHotEncoder()"
   ]
  },
  {
   "cell_type": "code",
   "execution_count": 107,
   "metadata": {},
   "outputs": [],
   "source": [
    "y_true = oe.fit_transform(valid_df.label_id.values.reshape(-1, 1)).todense()\n",
    "\n"
   ]
  },
  {
   "cell_type": "code",
   "execution_count": 108,
   "metadata": {},
   "outputs": [],
   "source": [
    "val_preds = oe.transform(val_preds.reshape(-1, 1)).todense()\n"
   ]
  },
  {
   "cell_type": "code",
   "execution_count": 98,
   "metadata": {},
   "outputs": [
    {
     "name": "stdout",
     "output_type": "stream",
     "text": [
      "             precision    recall  f1-score   support\n",
      "\n",
      "        yes       0.99      0.94      0.97       261\n",
      "         no       0.91      0.93      0.92       270\n",
      "         up       0.91      0.93      0.92       260\n",
      "       down       0.98      0.92      0.95       264\n",
      "       left       0.96      0.99      0.97       247\n",
      "      right       0.98      0.95      0.97       256\n",
      "         on       0.98      0.93      0.96       257\n",
      "        off       0.93      0.93      0.93       256\n",
      "       stop       0.99      0.93      0.96       246\n",
      "         go       0.96      0.87      0.91       260\n",
      "    silence       0.98      1.00      0.99       257\n",
      "    unknown       0.76      0.95      0.85       257\n",
      "\n",
      "avg / total       0.94      0.94      0.94      3091\n",
      "\n"
     ]
    }
   ],
   "source": [
    "print classification_report(y_true,val_preds,target_names=POSSIBLE_LABELS)"
   ]
  },
  {
   "cell_type": "code",
   "execution_count": 109,
   "metadata": {},
   "outputs": [
    {
     "name": "stdout",
     "output_type": "stream",
     "text": [
      "             precision    recall  f1-score   support\n",
      "\n",
      "        yes       1.00      0.96      0.98       261\n",
      "         no       0.92      0.95      0.94       270\n",
      "         up       0.93      0.96      0.94       260\n",
      "       down       0.98      0.94      0.96       264\n",
      "       left       0.97      0.99      0.98       247\n",
      "      right       0.99      0.96      0.97       256\n",
      "         on       0.98      0.95      0.96       257\n",
      "        off       0.96      0.93      0.94       256\n",
      "       stop       0.99      0.93      0.96       246\n",
      "         go       0.97      0.90      0.93       260\n",
      "    silence       0.96      1.00      0.98       257\n",
      "    unknown       0.80      0.95      0.87       257\n",
      "\n",
      "avg / total       0.95      0.95      0.95      3091\n",
      "\n"
     ]
    }
   ],
   "source": [
    "print classification_report(y_true,val_preds,target_names=POSSIBLE_LABELS)"
   ]
  },
  {
   "cell_type": "code",
   "execution_count": 127,
   "metadata": {},
   "outputs": [
    {
     "data": {
      "text/plain": [
       "'left'"
      ]
     },
     "execution_count": 127,
     "metadata": {},
     "output_type": "execute_result"
    }
   ],
   "source": [
    "id2name[4]"
   ]
  },
  {
   "cell_type": "code",
   "execution_count": 151,
   "metadata": {},
   "outputs": [],
   "source": [
    "class_val_preds = np.array(np.argmax(val_preds,axis=1).reshape(1,-1).tolist()[0])\n",
    "class_val_actual =  np.array(np.argmax(y_true,axis=1).reshape(1,-1).tolist()[0])"
   ]
  },
  {
   "cell_type": "code",
   "execution_count": 156,
   "metadata": {},
   "outputs": [
    {
     "data": {
      "text/plain": [
       "array([ 125,  167,  173,  255,  264,  265,  277,  347,  360,  362,  369,\n",
       "        375,  439,  446,  494,  501,  521,  524,  557,  566,  580,  642,\n",
       "        647,  649,  658,  702,  709,  718,  760,  769,  787,  793,  831,\n",
       "        837,  851,  859,  959, 1011, 1014, 1020, 1029, 1031, 1046, 1049,\n",
       "       1050, 1073, 1082, 1092, 1135, 1151, 1162, 1167, 1173, 1180, 1230,\n",
       "       1270, 1275, 1301, 1302, 1305, 1307, 1308, 1321, 1334, 1339, 1353,\n",
       "       1365, 1369, 1372, 1381, 1385, 1397, 1414, 1421, 1427, 1433, 1496,\n",
       "       1499, 1520, 1531, 1533, 1538, 1548, 1550, 1568, 1605, 1608, 1633,\n",
       "       1671, 1723, 1741, 1746, 1780, 1791, 1798, 1822, 1835, 1850, 1851,\n",
       "       1868, 1892, 1936, 1949, 2014, 2045, 2073, 2089, 2113, 2114, 2116,\n",
       "       2118, 2124, 2128, 2134, 2150, 2174, 2201, 2248, 2271, 2274, 2298,\n",
       "       2306, 2320, 2327, 2331, 2345, 2349, 2350, 2356, 2370, 2376, 2412,\n",
       "       2445, 2450, 2462, 2485, 2512, 2532, 2541, 2561, 2568, 2575, 2863,\n",
       "       2912, 2927, 2940, 2943, 2945, 2955, 2961, 2980, 3038, 3039, 3052])"
      ]
     },
     "execution_count": 156,
     "metadata": {},
     "output_type": "execute_result"
    }
   ],
   "source": []
  },
  {
   "cell_type": "code",
   "execution_count": 158,
   "metadata": {},
   "outputs": [
    {
     "data": {
      "text/plain": [
       "['silence',\n",
       " 'yes',\n",
       " 'no',\n",
       " 'unknown',\n",
       " 'unknown',\n",
       " 'go',\n",
       " 'down',\n",
       " 'unknown',\n",
       " 'go',\n",
       " 'go',\n",
       " 'unknown',\n",
       " 'left',\n",
       " 'go',\n",
       " 'down',\n",
       " 'unknown',\n",
       " 'go',\n",
       " 'off',\n",
       " 'unknown',\n",
       " 'silence',\n",
       " 'silence',\n",
       " 'unknown',\n",
       " 'unknown',\n",
       " 'off',\n",
       " 'silence',\n",
       " 'unknown',\n",
       " 'unknown',\n",
       " 'unknown',\n",
       " 'off',\n",
       " 'unknown',\n",
       " 'up',\n",
       " 'unknown',\n",
       " 'unknown',\n",
       " 'unknown',\n",
       " 'left',\n",
       " 'unknown',\n",
       " 'unknown',\n",
       " 'unknown',\n",
       " 'unknown',\n",
       " 'left',\n",
       " 'unknown',\n",
       " 'unknown',\n",
       " 'no',\n",
       " 'no',\n",
       " 'no',\n",
       " 'no',\n",
       " 'go',\n",
       " 'unknown',\n",
       " 'unknown',\n",
       " 'no',\n",
       " 'unknown',\n",
       " 'no',\n",
       " 'stop',\n",
       " 'no',\n",
       " 'no',\n",
       " 'go',\n",
       " 'unknown',\n",
       " 'no',\n",
       " 'unknown',\n",
       " 'unknown',\n",
       " 'no',\n",
       " 'unknown',\n",
       " 'no',\n",
       " 'up',\n",
       " 'down',\n",
       " 'off',\n",
       " 'silence',\n",
       " 'no',\n",
       " 'unknown',\n",
       " 'unknown',\n",
       " 'unknown',\n",
       " 'unknown',\n",
       " 'unknown',\n",
       " 'down',\n",
       " 'silence',\n",
       " 'off',\n",
       " 'no',\n",
       " 'no',\n",
       " 'unknown',\n",
       " 'no',\n",
       " 'unknown',\n",
       " 'unknown',\n",
       " 'unknown',\n",
       " 'no',\n",
       " 'unknown',\n",
       " 'no',\n",
       " 'right',\n",
       " 'unknown',\n",
       " 'unknown',\n",
       " 'up',\n",
       " 'silence',\n",
       " 'silence',\n",
       " 'unknown',\n",
       " 'left',\n",
       " 'no',\n",
       " 'left',\n",
       " 'silence',\n",
       " 'unknown',\n",
       " 'unknown',\n",
       " 'unknown',\n",
       " 'on',\n",
       " 'unknown',\n",
       " 'off',\n",
       " 'unknown',\n",
       " 'off',\n",
       " 'stop',\n",
       " 'unknown',\n",
       " 'no',\n",
       " 'unknown',\n",
       " 'unknown',\n",
       " 'off',\n",
       " 'unknown',\n",
       " 'unknown',\n",
       " 'unknown',\n",
       " 'unknown',\n",
       " 'unknown',\n",
       " 'silence',\n",
       " 'up',\n",
       " 'unknown',\n",
       " 'up',\n",
       " 'off',\n",
       " 'up',\n",
       " 'up',\n",
       " 'unknown',\n",
       " 'up',\n",
       " 'up',\n",
       " 'unknown',\n",
       " 'up',\n",
       " 'on',\n",
       " 'up',\n",
       " 'up',\n",
       " 'up',\n",
       " 'up',\n",
       " 'go',\n",
       " 'up',\n",
       " 'up',\n",
       " 'unknown',\n",
       " 'unknown',\n",
       " 'up',\n",
       " 'unknown',\n",
       " 'unknown',\n",
       " 'up',\n",
       " 'up',\n",
       " 'on',\n",
       " 'on',\n",
       " 'no',\n",
       " 'right',\n",
       " 'off',\n",
       " 'no',\n",
       " 'on',\n",
       " 'left',\n",
       " 'left',\n",
       " 'on',\n",
       " 'up',\n",
       " 'right']"
      ]
     },
     "execution_count": 158,
     "metadata": {},
     "output_type": "execute_result"
    }
   ],
   "source": [
    "[id2name[i] for i in class_val_preds[np.where(class_val_actual!=class_val_preds)[0]]]"
   ]
  },
  {
   "cell_type": "code",
   "execution_count": 159,
   "metadata": {
    "scrolled": false
   },
   "outputs": [
    {
     "data": {
      "text/html": [
       "<div>\n",
       "<style scoped>\n",
       "    .dataframe tbody tr th:only-of-type {\n",
       "        vertical-align: middle;\n",
       "    }\n",
       "\n",
       "    .dataframe tbody tr th {\n",
       "        vertical-align: top;\n",
       "    }\n",
       "\n",
       "    .dataframe thead th {\n",
       "        text-align: right;\n",
       "    }\n",
       "</style>\n",
       "<table border=\"1\" class=\"dataframe\">\n",
       "  <thead>\n",
       "    <tr style=\"text-align: right;\">\n",
       "      <th></th>\n",
       "      <th>label</th>\n",
       "      <th>wav_file</th>\n",
       "    </tr>\n",
       "  </thead>\n",
       "  <tbody>\n",
       "    <tr>\n",
       "      <th>125</th>\n",
       "      <td>left</td>\n",
       "      <td>./data/train/audio/left/a6d586b7_nohash_4.wav</td>\n",
       "    </tr>\n",
       "    <tr>\n",
       "      <th>167</th>\n",
       "      <td>left</td>\n",
       "      <td>./data/train/audio/left/471a0925_nohash_0.wav</td>\n",
       "    </tr>\n",
       "    <tr>\n",
       "      <th>173</th>\n",
       "      <td>left</td>\n",
       "      <td>./data/train/audio/left/dbb40d24_nohash_2.wav</td>\n",
       "    </tr>\n",
       "    <tr>\n",
       "      <th>255</th>\n",
       "      <td>no</td>\n",
       "      <td>./data/train/audio/no/bdee441c_nohash_3.wav</td>\n",
       "    </tr>\n",
       "    <tr>\n",
       "      <th>264</th>\n",
       "      <td>no</td>\n",
       "      <td>./data/train/audio/no/bdee441c_nohash_4.wav</td>\n",
       "    </tr>\n",
       "    <tr>\n",
       "      <th>265</th>\n",
       "      <td>no</td>\n",
       "      <td>./data/train/audio/no/7c1d8533_nohash_0.wav</td>\n",
       "    </tr>\n",
       "    <tr>\n",
       "      <th>277</th>\n",
       "      <td>no</td>\n",
       "      <td>./data/train/audio/no/c6ee87a7_nohash_1.wav</td>\n",
       "    </tr>\n",
       "    <tr>\n",
       "      <th>347</th>\n",
       "      <td>no</td>\n",
       "      <td>./data/train/audio/no/c6ee87a7_nohash_0.wav</td>\n",
       "    </tr>\n",
       "    <tr>\n",
       "      <th>360</th>\n",
       "      <td>no</td>\n",
       "      <td>./data/train/audio/no/7c1d8533_nohash_1.wav</td>\n",
       "    </tr>\n",
       "    <tr>\n",
       "      <th>362</th>\n",
       "      <td>no</td>\n",
       "      <td>./data/train/audio/no/7c1d8533_nohash_4.wav</td>\n",
       "    </tr>\n",
       "    <tr>\n",
       "      <th>369</th>\n",
       "      <td>no</td>\n",
       "      <td>./data/train/audio/no/bdee441c_nohash_5.wav</td>\n",
       "    </tr>\n",
       "    <tr>\n",
       "      <th>375</th>\n",
       "      <td>no</td>\n",
       "      <td>./data/train/audio/no/989a2213_nohash_0.wav</td>\n",
       "    </tr>\n",
       "    <tr>\n",
       "      <th>439</th>\n",
       "      <td>no</td>\n",
       "      <td>./data/train/audio/no/dbb40d24_nohash_2.wav</td>\n",
       "    </tr>\n",
       "    <tr>\n",
       "      <th>446</th>\n",
       "      <td>no</td>\n",
       "      <td>./data/train/audio/no/d55aa56c_nohash_0.wav</td>\n",
       "    </tr>\n",
       "    <tr>\n",
       "      <th>494</th>\n",
       "      <td>no</td>\n",
       "      <td>./data/train/audio/no/bdee441c_nohash_0.wav</td>\n",
       "    </tr>\n",
       "    <tr>\n",
       "      <th>501</th>\n",
       "      <td>no</td>\n",
       "      <td>./data/train/audio/no/7c1d8533_nohash_3.wav</td>\n",
       "    </tr>\n",
       "    <tr>\n",
       "      <th>521</th>\n",
       "      <td>on</td>\n",
       "      <td>./data/train/audio/on/50f55535_nohash_0.wav</td>\n",
       "    </tr>\n",
       "    <tr>\n",
       "      <th>524</th>\n",
       "      <td>on</td>\n",
       "      <td>./data/train/audio/on/099d52ad_nohash_3.wav</td>\n",
       "    </tr>\n",
       "    <tr>\n",
       "      <th>557</th>\n",
       "      <td>on</td>\n",
       "      <td>./data/train/audio/on/7fd25f7c_nohash_3.wav</td>\n",
       "    </tr>\n",
       "    <tr>\n",
       "      <th>566</th>\n",
       "      <td>on</td>\n",
       "      <td>./data/train/audio/on/d197e3ae_nohash_2.wav</td>\n",
       "    </tr>\n",
       "    <tr>\n",
       "      <th>580</th>\n",
       "      <td>on</td>\n",
       "      <td>./data/train/audio/on/dbb40d24_nohash_4.wav</td>\n",
       "    </tr>\n",
       "    <tr>\n",
       "      <th>642</th>\n",
       "      <td>on</td>\n",
       "      <td>./data/train/audio/on/db4cf12f_nohash_0.wav</td>\n",
       "    </tr>\n",
       "    <tr>\n",
       "      <th>647</th>\n",
       "      <td>on</td>\n",
       "      <td>./data/train/audio/on/dca2797e_nohash_4.wav</td>\n",
       "    </tr>\n",
       "    <tr>\n",
       "      <th>649</th>\n",
       "      <td>on</td>\n",
       "      <td>./data/train/audio/on/a6d586b7_nohash_4.wav</td>\n",
       "    </tr>\n",
       "    <tr>\n",
       "      <th>658</th>\n",
       "      <td>on</td>\n",
       "      <td>./data/train/audio/on/7c1d8533_nohash_2.wav</td>\n",
       "    </tr>\n",
       "    <tr>\n",
       "      <th>702</th>\n",
       "      <td>on</td>\n",
       "      <td>./data/train/audio/on/dbb40d24_nohash_2.wav</td>\n",
       "    </tr>\n",
       "    <tr>\n",
       "      <th>709</th>\n",
       "      <td>on</td>\n",
       "      <td>./data/train/audio/on/d55aa56c_nohash_0.wav</td>\n",
       "    </tr>\n",
       "    <tr>\n",
       "      <th>718</th>\n",
       "      <td>on</td>\n",
       "      <td>./data/train/audio/on/5fadb538_nohash_1.wav</td>\n",
       "    </tr>\n",
       "    <tr>\n",
       "      <th>760</th>\n",
       "      <td>on</td>\n",
       "      <td>./data/train/audio/on/7c1d8533_nohash_3.wav</td>\n",
       "    </tr>\n",
       "    <tr>\n",
       "      <th>769</th>\n",
       "      <td>on</td>\n",
       "      <td>./data/train/audio/on/794cdfc5_nohash_0.wav</td>\n",
       "    </tr>\n",
       "    <tr>\n",
       "      <th>...</th>\n",
       "      <td>...</td>\n",
       "      <td>...</td>\n",
       "    </tr>\n",
       "    <tr>\n",
       "      <th>2331</th>\n",
       "      <td>off</td>\n",
       "      <td>./data/train/audio/off/dbb40d24_nohash_0.wav</td>\n",
       "    </tr>\n",
       "    <tr>\n",
       "      <th>2345</th>\n",
       "      <td>off</td>\n",
       "      <td>./data/train/audio/off/f17be97f_nohash_2.wav</td>\n",
       "    </tr>\n",
       "    <tr>\n",
       "      <th>2349</th>\n",
       "      <td>off</td>\n",
       "      <td>./data/train/audio/off/794cdfc5_nohash_2.wav</td>\n",
       "    </tr>\n",
       "    <tr>\n",
       "      <th>2350</th>\n",
       "      <td>off</td>\n",
       "      <td>./data/train/audio/off/dd086776_nohash_0.wav</td>\n",
       "    </tr>\n",
       "    <tr>\n",
       "      <th>2356</th>\n",
       "      <td>off</td>\n",
       "      <td>./data/train/audio/off/5fadb538_nohash_3.wav</td>\n",
       "    </tr>\n",
       "    <tr>\n",
       "      <th>2370</th>\n",
       "      <td>off</td>\n",
       "      <td>./data/train/audio/off/dbb40d24_nohash_3.wav</td>\n",
       "    </tr>\n",
       "    <tr>\n",
       "      <th>2376</th>\n",
       "      <td>off</td>\n",
       "      <td>./data/train/audio/off/dbb40d24_nohash_4.wav</td>\n",
       "    </tr>\n",
       "    <tr>\n",
       "      <th>2412</th>\n",
       "      <td>off</td>\n",
       "      <td>./data/train/audio/off/c6ee87a7_nohash_0.wav</td>\n",
       "    </tr>\n",
       "    <tr>\n",
       "      <th>2445</th>\n",
       "      <td>off</td>\n",
       "      <td>./data/train/audio/off/86478fab_nohash_0.wav</td>\n",
       "    </tr>\n",
       "    <tr>\n",
       "      <th>2450</th>\n",
       "      <td>off</td>\n",
       "      <td>./data/train/audio/off/b6ebe225_nohash_0.wav</td>\n",
       "    </tr>\n",
       "    <tr>\n",
       "      <th>2462</th>\n",
       "      <td>off</td>\n",
       "      <td>./data/train/audio/off/c6ee87a7_nohash_3.wav</td>\n",
       "    </tr>\n",
       "    <tr>\n",
       "      <th>2485</th>\n",
       "      <td>off</td>\n",
       "      <td>./data/train/audio/off/3aa6f4e2_nohash_0.wav</td>\n",
       "    </tr>\n",
       "    <tr>\n",
       "      <th>2512</th>\n",
       "      <td>off</td>\n",
       "      <td>./data/train/audio/off/dbb40d24_nohash_2.wav</td>\n",
       "    </tr>\n",
       "    <tr>\n",
       "      <th>2532</th>\n",
       "      <td>off</td>\n",
       "      <td>./data/train/audio/off/c842b5e4_nohash_0.wav</td>\n",
       "    </tr>\n",
       "    <tr>\n",
       "      <th>2541</th>\n",
       "      <td>off</td>\n",
       "      <td>./data/train/audio/off/794cdfc5_nohash_1.wav</td>\n",
       "    </tr>\n",
       "    <tr>\n",
       "      <th>2561</th>\n",
       "      <td>off</td>\n",
       "      <td>./data/train/audio/off/dbb40d24_nohash_1.wav</td>\n",
       "    </tr>\n",
       "    <tr>\n",
       "      <th>2568</th>\n",
       "      <td>off</td>\n",
       "      <td>./data/train/audio/off/5fadb538_nohash_0.wav</td>\n",
       "    </tr>\n",
       "    <tr>\n",
       "      <th>2575</th>\n",
       "      <td>off</td>\n",
       "      <td>./data/train/audio/off/c6ee87a7_nohash_4.wav</td>\n",
       "    </tr>\n",
       "    <tr>\n",
       "      <th>2863</th>\n",
       "      <td>unknown</td>\n",
       "      <td>./data/train/audio/five/439c84f4_nohash_2.wav</td>\n",
       "    </tr>\n",
       "    <tr>\n",
       "      <th>2912</th>\n",
       "      <td>unknown</td>\n",
       "      <td>./data/train/audio/one/c6ee87a7_nohash_3.wav</td>\n",
       "    </tr>\n",
       "    <tr>\n",
       "      <th>2927</th>\n",
       "      <td>unknown</td>\n",
       "      <td>./data/train/audio/one/7fd25f7c_nohash_3.wav</td>\n",
       "    </tr>\n",
       "    <tr>\n",
       "      <th>2940</th>\n",
       "      <td>unknown</td>\n",
       "      <td>./data/train/audio/three/19b05529_nohash_1.wav</td>\n",
       "    </tr>\n",
       "    <tr>\n",
       "      <th>2943</th>\n",
       "      <td>unknown</td>\n",
       "      <td>./data/train/audio/house/cc6bae0d_nohash_1.wav</td>\n",
       "    </tr>\n",
       "    <tr>\n",
       "      <th>2945</th>\n",
       "      <td>unknown</td>\n",
       "      <td>./data/train/audio/wow/060cd039_nohash_0.wav</td>\n",
       "    </tr>\n",
       "    <tr>\n",
       "      <th>2955</th>\n",
       "      <td>unknown</td>\n",
       "      <td>./data/train/audio/house/dbb40d24_nohash_0.wav</td>\n",
       "    </tr>\n",
       "    <tr>\n",
       "      <th>2961</th>\n",
       "      <td>unknown</td>\n",
       "      <td>./data/train/audio/sheila/7c1d8533_nohash_0.wav</td>\n",
       "    </tr>\n",
       "    <tr>\n",
       "      <th>2980</th>\n",
       "      <td>unknown</td>\n",
       "      <td>./data/train/audio/marvin/6b81fead_nohash_1.wav</td>\n",
       "    </tr>\n",
       "    <tr>\n",
       "      <th>3038</th>\n",
       "      <td>unknown</td>\n",
       "      <td>./data/train/audio/five/41285056_nohash_0.wav</td>\n",
       "    </tr>\n",
       "    <tr>\n",
       "      <th>3039</th>\n",
       "      <td>unknown</td>\n",
       "      <td>./data/train/audio/bird/1bc45db9_nohash_0.wav</td>\n",
       "    </tr>\n",
       "    <tr>\n",
       "      <th>3052</th>\n",
       "      <td>unknown</td>\n",
       "      <td>./data/train/audio/one/471a0925_nohash_4.wav</td>\n",
       "    </tr>\n",
       "  </tbody>\n",
       "</table>\n",
       "<p>154 rows × 2 columns</p>\n",
       "</div>"
      ],
      "text/plain": [
       "        label                                         wav_file\n",
       "125      left    ./data/train/audio/left/a6d586b7_nohash_4.wav\n",
       "167      left    ./data/train/audio/left/471a0925_nohash_0.wav\n",
       "173      left    ./data/train/audio/left/dbb40d24_nohash_2.wav\n",
       "255        no      ./data/train/audio/no/bdee441c_nohash_3.wav\n",
       "264        no      ./data/train/audio/no/bdee441c_nohash_4.wav\n",
       "265        no      ./data/train/audio/no/7c1d8533_nohash_0.wav\n",
       "277        no      ./data/train/audio/no/c6ee87a7_nohash_1.wav\n",
       "347        no      ./data/train/audio/no/c6ee87a7_nohash_0.wav\n",
       "360        no      ./data/train/audio/no/7c1d8533_nohash_1.wav\n",
       "362        no      ./data/train/audio/no/7c1d8533_nohash_4.wav\n",
       "369        no      ./data/train/audio/no/bdee441c_nohash_5.wav\n",
       "375        no      ./data/train/audio/no/989a2213_nohash_0.wav\n",
       "439        no      ./data/train/audio/no/dbb40d24_nohash_2.wav\n",
       "446        no      ./data/train/audio/no/d55aa56c_nohash_0.wav\n",
       "494        no      ./data/train/audio/no/bdee441c_nohash_0.wav\n",
       "501        no      ./data/train/audio/no/7c1d8533_nohash_3.wav\n",
       "521        on      ./data/train/audio/on/50f55535_nohash_0.wav\n",
       "524        on      ./data/train/audio/on/099d52ad_nohash_3.wav\n",
       "557        on      ./data/train/audio/on/7fd25f7c_nohash_3.wav\n",
       "566        on      ./data/train/audio/on/d197e3ae_nohash_2.wav\n",
       "580        on      ./data/train/audio/on/dbb40d24_nohash_4.wav\n",
       "642        on      ./data/train/audio/on/db4cf12f_nohash_0.wav\n",
       "647        on      ./data/train/audio/on/dca2797e_nohash_4.wav\n",
       "649        on      ./data/train/audio/on/a6d586b7_nohash_4.wav\n",
       "658        on      ./data/train/audio/on/7c1d8533_nohash_2.wav\n",
       "702        on      ./data/train/audio/on/dbb40d24_nohash_2.wav\n",
       "709        on      ./data/train/audio/on/d55aa56c_nohash_0.wav\n",
       "718        on      ./data/train/audio/on/5fadb538_nohash_1.wav\n",
       "760        on      ./data/train/audio/on/7c1d8533_nohash_3.wav\n",
       "769        on      ./data/train/audio/on/794cdfc5_nohash_0.wav\n",
       "...       ...                                              ...\n",
       "2331      off     ./data/train/audio/off/dbb40d24_nohash_0.wav\n",
       "2345      off     ./data/train/audio/off/f17be97f_nohash_2.wav\n",
       "2349      off     ./data/train/audio/off/794cdfc5_nohash_2.wav\n",
       "2350      off     ./data/train/audio/off/dd086776_nohash_0.wav\n",
       "2356      off     ./data/train/audio/off/5fadb538_nohash_3.wav\n",
       "2370      off     ./data/train/audio/off/dbb40d24_nohash_3.wav\n",
       "2376      off     ./data/train/audio/off/dbb40d24_nohash_4.wav\n",
       "2412      off     ./data/train/audio/off/c6ee87a7_nohash_0.wav\n",
       "2445      off     ./data/train/audio/off/86478fab_nohash_0.wav\n",
       "2450      off     ./data/train/audio/off/b6ebe225_nohash_0.wav\n",
       "2462      off     ./data/train/audio/off/c6ee87a7_nohash_3.wav\n",
       "2485      off     ./data/train/audio/off/3aa6f4e2_nohash_0.wav\n",
       "2512      off     ./data/train/audio/off/dbb40d24_nohash_2.wav\n",
       "2532      off     ./data/train/audio/off/c842b5e4_nohash_0.wav\n",
       "2541      off     ./data/train/audio/off/794cdfc5_nohash_1.wav\n",
       "2561      off     ./data/train/audio/off/dbb40d24_nohash_1.wav\n",
       "2568      off     ./data/train/audio/off/5fadb538_nohash_0.wav\n",
       "2575      off     ./data/train/audio/off/c6ee87a7_nohash_4.wav\n",
       "2863  unknown    ./data/train/audio/five/439c84f4_nohash_2.wav\n",
       "2912  unknown     ./data/train/audio/one/c6ee87a7_nohash_3.wav\n",
       "2927  unknown     ./data/train/audio/one/7fd25f7c_nohash_3.wav\n",
       "2940  unknown   ./data/train/audio/three/19b05529_nohash_1.wav\n",
       "2943  unknown   ./data/train/audio/house/cc6bae0d_nohash_1.wav\n",
       "2945  unknown     ./data/train/audio/wow/060cd039_nohash_0.wav\n",
       "2955  unknown   ./data/train/audio/house/dbb40d24_nohash_0.wav\n",
       "2961  unknown  ./data/train/audio/sheila/7c1d8533_nohash_0.wav\n",
       "2980  unknown  ./data/train/audio/marvin/6b81fead_nohash_1.wav\n",
       "3038  unknown    ./data/train/audio/five/41285056_nohash_0.wav\n",
       "3039  unknown    ./data/train/audio/bird/1bc45db9_nohash_0.wav\n",
       "3052  unknown     ./data/train/audio/one/471a0925_nohash_4.wav\n",
       "\n",
       "[154 rows x 2 columns]"
      ]
     },
     "execution_count": 159,
     "metadata": {},
     "output_type": "execute_result"
    }
   ],
   "source": [
    "valid_df.loc[np.where(class_val_actual!=class_val_preds)[0],[\"label\",\"wav_file\"]]"
   ]
  },
  {
   "cell_type": "code",
   "execution_count": 44,
   "metadata": {},
   "outputs": [
    {
     "name": "stdout",
     "output_type": "stream",
     "text": [
      "             precision    recall  f1-score   support\n",
      "\n",
      "        yes       1.00      0.96      0.98       261\n",
      "         no       0.94      0.94      0.94       270\n",
      "         up       0.91      0.95      0.93       260\n",
      "       down       0.98      0.97      0.97       264\n",
      "       left       0.97      0.98      0.97       247\n",
      "      right       0.98      0.94      0.96       256\n",
      "         on       0.98      0.95      0.96       257\n",
      "        off       0.95      0.94      0.95       256\n",
      "       stop       0.99      0.93      0.96       246\n",
      "         go       0.97      0.89      0.93       260\n",
      "    silence       0.95      1.00      0.98       257\n",
      "    unknown       0.82      0.94      0.87       257\n",
      "\n",
      "avg / total       0.95      0.95      0.95      3091\n",
      "\n"
     ]
    }
   ],
   "source": [
    "print classification_report(y_true,val_preds,target_names=POSSIBLE_LABELS)"
   ]
  },
  {
   "cell_type": "code",
   "execution_count": 25,
   "metadata": {},
   "outputs": [
    {
     "name": "stdout",
     "output_type": "stream",
     "text": [
      "             precision    recall  f1-score   support\n",
      "\n",
      "        yes       1.00      0.96      0.98       261\n",
      "         no       0.93      0.95      0.94       270\n",
      "         up       0.92      0.94      0.93       260\n",
      "       down       0.99      0.94      0.96       264\n",
      "       left       0.96      0.98      0.97       247\n",
      "      right       0.98      0.95      0.97       256\n",
      "         on       0.96      0.95      0.95       257\n",
      "        off       0.97      0.95      0.96       256\n",
      "       stop       1.00      0.93      0.96       246\n",
      "         go       0.96      0.92      0.94       260\n",
      "    silence       1.00      1.00      1.00       257\n",
      "    unknown       0.79      0.95      0.86       257\n",
      "\n",
      "avg / total       0.95      0.95      0.95      3091\n",
      "\n"
     ]
    }
   ],
   "source": [
    "print classification_report(y_true,val_preds,target_names=POSSIBLE_LABELS)"
   ]
  },
  {
   "cell_type": "code",
   "execution_count": 391,
   "metadata": {},
   "outputs": [
    {
     "name": "stdout",
     "output_type": "stream",
     "text": [
      "             precision    recall  f1-score   support\n",
      "\n",
      "        yes       0.95      0.94      0.95       261\n",
      "         no       0.82      0.85      0.84       270\n",
      "         up       0.89      0.91      0.90       260\n",
      "       down       0.92      0.88      0.90       264\n",
      "       left       0.92      0.90      0.91       247\n",
      "      right       0.97      0.86      0.91       256\n",
      "         on       0.96      0.86      0.91       257\n",
      "        off       0.92      0.88      0.90       256\n",
      "       stop       0.96      0.87      0.91       246\n",
      "         go       0.86      0.76      0.81       260\n",
      "    silence       0.98      0.99      0.98       257\n",
      "    unknown       0.62      0.92      0.74       257\n",
      "\n",
      "avg / total       0.90      0.89      0.89      3091\n",
      "\n"
     ]
    }
   ],
   "source": [
    "print classification_report(y_true,val_preds,target_names=POSSIBLE_LABELS)"
   ]
  },
  {
   "cell_type": "code",
   "execution_count": 56,
   "metadata": {},
   "outputs": [
    {
     "name": "stdout",
     "output_type": "stream",
     "text": [
      "             precision    recall  f1-score   support\n",
      "\n",
      "        yes       0.93      0.95      0.94       261\n",
      "         no       0.84      0.81      0.82       270\n",
      "         up       0.88      0.90      0.89       260\n",
      "       down       0.83      0.91      0.87       264\n",
      "       left       0.92      0.88      0.90       247\n",
      "      right       0.93      0.89      0.91       256\n",
      "         on       0.89      0.89      0.89       257\n",
      "        off       0.93      0.86      0.89       256\n",
      "       stop       0.89      0.89      0.89       246\n",
      "         go       0.81      0.78      0.79       260\n",
      "    silence       1.00      1.00      1.00       257\n",
      "    unknown       0.71      0.78      0.74       257\n",
      "\n",
      "avg / total       0.88      0.88      0.88      3091\n",
      "\n"
     ]
    }
   ],
   "source": [
    "print classification_report(y_true,val_preds,target_names=POSSIBLE_LABELS)"
   ]
  },
  {
   "cell_type": "markdown",
   "metadata": {},
   "source": [
    "### submission\n"
   ]
  },
  {
   "cell_type": "code",
   "execution_count": 45,
   "metadata": {
    "ExecuteTime": {
     "end_time": "2017-11-17T10:28:14.451612Z",
     "start_time": "2017-11-17T10:28:13.307142Z"
    },
    "_cell_guid": "72f27090-c0d1-4d0b-8027-34c915429a79",
    "_uuid": "1007977fccadecdae582ec5d8d52dd3c4c3010aa"
   },
   "outputs": [],
   "source": [
    "test_paths = glob(os.path.join('./data/', 'test/audio/*wav'))"
   ]
  },
  {
   "cell_type": "code",
   "execution_count": 46,
   "metadata": {
    "scrolled": false
   },
   "outputs": [
    {
     "data": {
      "text/plain": [
       "158538"
      ]
     },
     "execution_count": 46,
     "metadata": {},
     "output_type": "execute_result"
    }
   ],
   "source": [
    "len(test_paths)"
   ]
  },
  {
   "cell_type": "code",
   "execution_count": 48,
   "metadata": {},
   "outputs": [],
   "source": [
    "test_df = pickle.load( open(\"cache/test_df.pik\",\"rb\"))\n"
   ]
  },
  {
   "cell_type": "code",
   "execution_count": 47,
   "metadata": {
    "ExecuteTime": {
     "end_time": "2017-11-17T10:32:14.882322Z",
     "start_time": "2017-11-17T10:32:14.863617Z"
    },
    "_cell_guid": "c6d9b369-9979-4bcd-8540-4653e6544f84",
    "_uuid": "6a0bb3c22b7b5c43db0ec5673333ab3de8f08724"
   },
   "outputs": [],
   "source": [
    "def test_generator(test_batch_size,augment=False):\n",
    "    while True:\n",
    "        ids = list(range(test_df.shape[0]))\n",
    "        \n",
    "        for start in range(0, len(ids), test_batch_size):\n",
    "            x_batch = []\n",
    "            end = min(start + test_batch_size, len(ids))\n",
    "            i_test_batch = ids[start:end]\n",
    "#             this_paths = test_paths[start:end]\n",
    "#             for x in this_paths:\n",
    "            for i in i_test_batch:\n",
    "            #WATCHOUT > NO AUG\n",
    "#                 x_batch.append(process_wav_file(x).T) #,reshape=False,augment=augment,pval=0.5))\n",
    "                x_batch.append(test_df.loc[i,'raw'].T)\n",
    "\n",
    "            x_batch = np.array(x_batch)\n",
    "            x_batch = 1.- np.array(x_batch)/-80.\n",
    "            \n",
    "            yield x_batch"
   ]
  },
  {
   "cell_type": "code",
   "execution_count": 48,
   "metadata": {
    "ExecuteTime": {
     "start_time": "2017-11-17T10:32:45.947Z"
    },
    "_cell_guid": "1fb8aed4-de12-43c5-84bf-b803e3d640fa",
    "_uuid": "631a38cb0013e5772f6987854145ad76ecf6c430"
   },
   "outputs": [
    {
     "name": "stdout",
     "output_type": "stream",
     "text": [
      "2478/2478 [==============================] - 66s    \n"
     ]
    }
   ],
   "source": [
    "predictions = model.predict_generator(test_generator(64,augment=False), int(np.ceil(len(test_paths)/64.)), verbose=1)"
   ]
  },
  {
   "cell_type": "code",
   "execution_count": 49,
   "metadata": {},
   "outputs": [],
   "source": [
    "np.save(\"cache/predictions_{}.npy\".format(exp_name),predictions)"
   ]
  },
  {
   "cell_type": "code",
   "execution_count": 54,
   "metadata": {},
   "outputs": [
    {
     "data": {
      "text/plain": [
       "(158538, 12)"
      ]
     },
     "execution_count": 54,
     "metadata": {},
     "output_type": "execute_result"
    }
   ],
   "source": [
    "predictions.shape"
   ]
  },
  {
   "cell_type": "markdown",
   "metadata": {},
   "source": [
    "#### blending"
   ]
  },
  {
   "cell_type": "code",
   "execution_count": 51,
   "metadata": {},
   "outputs": [],
   "source": [
    "# predictions_pyramid_noaug = np.load('cache/predictions_pyramid_noaug.npy')\n",
    "# predictions_model_with_ae_base_drp2_1 = np.load('cache/predictions_model_with_ae_base_drp2_1.npy')\n",
    "# predictions_dilated_convnlstm_timek23_n_freqk8_extrabn = np.load('cache/predictions_dilated_convnlstm_timek23_n_freqk8_extrabn.npy')\n",
    "blend1 =  np.load('cache/predictions_dilated_convnlstm_timek23_n_freqk8_extrabn.npy')"
   ]
  },
  {
   "cell_type": "code",
   "execution_count": 52,
   "metadata": {},
   "outputs": [],
   "source": [
    "predictions = np.mean([predictions,blend1], axis=0)\n"
   ]
  },
  {
   "cell_type": "code",
   "execution_count": 156,
   "metadata": {},
   "outputs": [
    {
     "name": "stdout",
     "output_type": "stream",
     "text": [
      "2477/2478 [============================>.] - ETA: 0s"
     ]
    }
   ],
   "source": [
    "# num_aug = 2 \n",
    "# for i in range(num_aug):\n",
    "#     predictions +=  model.predict_generator(test_generator(64,augment=True), int(np.ceil(len(test_paths)/64.)), verbose=1)\n",
    "    \n",
    "\n",
    "# predictions = predictions/(num_aug + 1.0)"
   ]
  },
  {
   "cell_type": "markdown",
   "metadata": {},
   "source": [
    "#### class assignment"
   ]
  },
  {
   "cell_type": "code",
   "execution_count": 53,
   "metadata": {
    "ExecuteTime": {
     "end_time": "2017-11-17T11:30:44.236246Z",
     "start_time": "2017-11-17T11:30:44.21858Z"
    },
    "_cell_guid": "b1cdab5c-9816-4690-87d8-de2c97cf0e7d",
    "_uuid": "24eb7e512eace4567494e0a8e356a826f4283c4d"
   },
   "outputs": [],
   "source": [
    "classes = np.argmax(predictions, axis=1)"
   ]
  },
  {
   "cell_type": "code",
   "execution_count": 54,
   "metadata": {},
   "outputs": [
    {
     "data": {
      "text/plain": [
       "((158538,), 158538)"
      ]
     },
     "execution_count": 54,
     "metadata": {},
     "output_type": "execute_result"
    }
   ],
   "source": [
    "classes.shape, len(test_paths)"
   ]
  },
  {
   "cell_type": "code",
   "execution_count": 58,
   "metadata": {},
   "outputs": [
    {
     "data": {
      "text/plain": [
       "array([ 1,  6,  1, ..., 11,  6,  1])"
      ]
     },
     "execution_count": 58,
     "metadata": {},
     "output_type": "execute_result"
    }
   ],
   "source": [
    "classes #dilated_convnlstm_timek23_n_freqk8_extrabn\n",
    "np.argmax(blend1, axis=1)"
   ]
  },
  {
   "cell_type": "code",
   "execution_count": 59,
   "metadata": {},
   "outputs": [
    {
     "data": {
      "text/plain": [
       "array([[ 1.        ,  0.93993455],\n",
       "       [ 0.93993455,  1.        ]])"
      ]
     },
     "execution_count": 59,
     "metadata": {},
     "output_type": "execute_result"
    }
   ],
   "source": [
    "np.corrcoef(classes,np.argmax(blend1, axis=1))"
   ]
  },
  {
   "cell_type": "code",
   "execution_count": 61,
   "metadata": {},
   "outputs": [
    {
     "data": {
      "text/plain": [
       "3600"
      ]
     },
     "execution_count": 61,
     "metadata": {},
     "output_type": "execute_result"
    }
   ],
   "source": [
    "((classes - np.argmax(blend1, axis=1)) >0).sum()"
   ]
  },
  {
   "cell_type": "code",
   "execution_count": 56,
   "metadata": {},
   "outputs": [
    {
     "data": {
      "text/plain": [
       "(array([ 13096.,   6184.,   4952.,   6066.,   5293.,   7011.,   6612.,\n",
       "          5698.,   5980.,  97646.]),\n",
       " array([  0. ,   1.1,   2.2,   3.3,   4.4,   5.5,   6.6,   7.7,   8.8,\n",
       "          9.9,  11. ]),\n",
       " <a list of 10 Patch objects>)"
      ]
     },
     "execution_count": 56,
     "metadata": {},
     "output_type": "execute_result"
    },
    {
     "data": {
      "image/png": "[encoded data removed]",
      "text/plain": [
       "<matplotlib.figure.Figure at 0x7f0a5c1ebd90>"
      ]
     },
     "metadata": {},
     "output_type": "display_data"
    }
   ],
   "source": [
    "plt.hist(classes,bins=10)"
   ]
  },
  {
   "cell_type": "code",
   "execution_count": 65,
   "metadata": {},
   "outputs": [
    {
     "data": {
      "text/plain": [
       "(array([ 13512.,   6159.,   4821.,   6195.,   5425.,   7134.,   6557.,\n",
       "          5586.,   6118.,  97031.]),\n",
       " array([  0. ,   1.1,   2.2,   3.3,   4.4,   5.5,   6.6,   7.7,   8.8,\n",
       "          9.9,  11. ]),\n",
       " <a list of 10 Patch objects>)"
      ]
     },
     "execution_count": 65,
     "metadata": {},
     "output_type": "execute_result"
    },
    {
     "data": {
      "image/png": "[encoded data removed]",
      "text/plain": [
       "<matplotlib.figure.Figure at 0x7f4e83285050>"
      ]
     },
     "metadata": {},
     "output_type": "display_data"
    }
   ],
   "source": [
    "plt.hist(classes,bins=10)"
   ]
  },
  {
   "cell_type": "code",
   "execution_count": 57,
   "metadata": {},
   "outputs": [
    {
     "data": {
      "text/plain": [
       "(array([ 14036.,   6387.,   4889.,   6526.,   5729.,   7509.,   6530.,\n",
       "          5481.,   6817.,  94634.]),\n",
       " array([  0. ,   1.1,   2.2,   3.3,   4.4,   5.5,   6.6,   7.7,   8.8,\n",
       "          9.9,  11. ]),\n",
       " <a list of 10 Patch objects>)"
      ]
     },
     "execution_count": 57,
     "metadata": {},
     "output_type": "execute_result"
    },
    {
     "data": {
      "image/png": "[encoded data removed]",
      "text/plain": [
       "<matplotlib.figure.Figure at 0x7f4ed436cdd0>"
      ]
     },
     "metadata": {},
     "output_type": "display_data"
    }
   ],
   "source": [
    "plt.hist(classes,bins=10)"
   ]
  },
  {
   "cell_type": "code",
   "execution_count": 411,
   "metadata": {},
   "outputs": [
    {
     "data": {
      "text/plain": [
       "(array([ 12769.,   6288.,   7058.,   6322.,   6488.,   7524.,   5727.,\n",
       "          6044.,   7517.,  92801.]),\n",
       " array([  0. ,   1.1,   2.2,   3.3,   4.4,   5.5,   6.6,   7.7,   8.8,\n",
       "          9.9,  11. ]),\n",
       " <a list of 10 Patch objects>)"
      ]
     },
     "execution_count": 411,
     "metadata": {},
     "output_type": "execute_result"
    },
    {
     "data": {
      "image/png": "[encoded data removed]",
      "text/plain": [
       "<matplotlib.figure.Figure at 0x7f61b65e2a90>"
      ]
     },
     "metadata": {},
     "output_type": "display_data"
    }
   ],
   "source": [
    "plt.hist(classes,bins=10)"
   ]
  },
  {
   "cell_type": "markdown",
   "metadata": {},
   "source": [
    "### blending"
   ]
  },
  {
   "cell_type": "markdown",
   "metadata": {},
   "source": [
    "### submission"
   ]
  },
  {
   "cell_type": "code",
   "execution_count": 62,
   "metadata": {
    "ExecuteTime": {
     "end_time": "2017-11-17T11:31:11.212517Z",
     "start_time": "2017-11-17T11:31:10.786357Z"
    },
    "_cell_guid": "1da523cf-fdbf-4ab1-9300-0147155aa247",
    "_uuid": "f25d4e626202aa115bd0460f4de8d07f9727c83e"
   },
   "outputs": [],
   "source": [
    "### last batch will contain padding, so remove duplicates\n",
    "submission = dict()\n",
    "for i in range(len(test_paths)):\n",
    "    fname, label = os.path.basename(test_paths[i]), id2name[classes[i]]\n",
    "    submission[fname] = label"
   ]
  },
  {
   "cell_type": "code",
   "execution_count": 63,
   "metadata": {
    "ExecuteTime": {
     "end_time": "2017-11-17T11:32:05.154527Z",
     "start_time": "2017-11-17T11:32:04.983371Z"
    },
    "_cell_guid": "9a95d147-3f4b-4386-8597-5fa60be43542",
    "_uuid": "bdf63bce43a0525a02ac18ca3f90aeba06ce6e99"
   },
   "outputs": [],
   "source": [
    "with open('subm/{}_plus_dilated_convnlstm_timek23_n_freqk8_extrabn.csv'.format(exp_name), 'w') as fout:\n",
    "    fout.write('fname,label\\n')\n",
    "    for fname, label in submission.items():\n",
    "        fout.write('{},{}\\n'.format(fname, label))"
   ]
  },
  {
   "cell_type": "code",
   "execution_count": 64,
   "metadata": {
    "_cell_guid": "8bea6850-15c6-44e7-bdb4-9555ad196f85",
    "_uuid": "555315ef622793711ff5643928dac874c8cb0ed2"
   },
   "outputs": [
    {
     "data": {
      "text/html": [
       "<a href='subm/aebase_mix_1dtimeconvswithmaxpool_finetune_plus_dilated_convnlstm_timek23_n_freqk8_extrabn.csv' target='_blank'>subm/aebase_mix_1dtimeconvswithmaxpool_finetune_plus_dilated_convnlstm_timek23_n_freqk8_extrabn.csv</a><br>"
      ],
      "text/plain": [
       "/home/ubuntu/keyword_spotting/subm/aebase_mix_1dtimeconvswithmaxpool_finetune_plus_dilated_convnlstm_timek23_n_freqk8_extrabn.csv"
      ]
     },
     "execution_count": 64,
     "metadata": {},
     "output_type": "execute_result"
    }
   ],
   "source": [
    "from IPython.lib.display import FileLink\n",
    "\n",
    "FileLink('subm/{}_plus_dilated_convnlstm_timek23_n_freqk8_extrabn.csv'.format(exp_name))\n"
   ]
  },
  {
   "cell_type": "code",
   "execution_count": null,
   "metadata": {},
   "outputs": [],
   "source": []
  }
 ],
 "metadata": {
  "anaconda-cloud": {},
  "kernelspec": {
   "display_name": "Python [default]",
   "language": "python",
   "name": "python2"
  },
  "language_info": {
   "codemirror_mode": {
    "name": "ipython",
    "version": 2
   },
   "file_extension": ".py",
   "mimetype": "text/x-python",
   "name": "python",
   "nbconvert_exporter": "python",
   "pygments_lexer": "ipython2",
   "version": "2.7.14"
  },
  "toc": {
   "nav_menu": {},
   "number_sections": true,
   "sideBar": true,
   "skip_h1_title": false,
   "toc_cell": false,
   "toc_position": {},
   "toc_section_display": "block",
   "toc_window_display": true
  }
 },
 "nbformat": 4,
 "nbformat_minor": 1
}
