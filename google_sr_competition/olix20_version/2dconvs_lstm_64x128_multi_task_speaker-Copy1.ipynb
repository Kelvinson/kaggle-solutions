{
 "cells": [
  {
   "cell_type": "code",
   "execution_count": 2,
   "metadata": {
    "ExecuteTime": {
     "end_time": "2017-11-17T09:03:29.196238Z",
     "start_time": "2017-11-17T09:03:28.644004Z"
    },
    "_cell_guid": "679e0d3e-646d-4e96-9eb0-b362d8c6e51f",
    "_uuid": "0d05e5ce89af3e25d1c1fb244d021a1cfa1a058c"
   },
   "outputs": [
    {
     "name": "stderr",
     "output_type": "stream",
     "text": [
      "/home/ubuntu/anaconda2/lib/python2.7/site-packages/h5py/__init__.py:36: FutureWarning: Conversion of the second argument of issubdtype from `float` to `np.floating` is deprecated. In future, it will be treated as `np.float64 == np.dtype(float).type`.\n",
      "  from ._conv import register_converters as _register_converters\n",
      "Using TensorFlow backend.\n"
     ]
    }
   ],
   "source": [
    "from utils import *\n",
    "import array \n",
    "\n",
    "from pydub import AudioSegment\n",
    "import tensorflow as tf\n",
    "\n",
    "from keras.models import Model, Sequential\n",
    "from keras.layers import Input, Conv2D, Flatten, GlobalMaxPooling2D , GlobalMaxPooling1D, MaxPooling2D, Activation, BatchNormalization, GlobalAveragePooling2D, GlobalMaxPool2D, concatenate, Dense, Dropout\n",
    "from keras.optimizers import Adam\n",
    "from tensorflow.python.keras.utils import to_categorical\n",
    "\n",
    "from keras.layers import Input, GRU, RepeatVector, BatchNormalization, TimeDistributed, Conv1D\n",
    "from keras.layers import GlobalAveragePooling1D, LSTM, MaxPooling1D\n",
    "from keras import backend as K\n",
    "from keras.layers import  Conv2D, MaxPooling2D, UpSampling2D, Lambda, Reshape\n",
    "import keras\n",
    "from keras.layers import AveragePooling1D\n",
    "from keras.layers import ConvLSTM2D, Bidirectional, CuDNNLSTM, LSTM\n",
    "\n",
    "from keras_tqdm import TQDMNotebookCallback\n",
    "from keras.callbacks import EarlyStopping, ModelCheckpoint, ReduceLROnPlateau\n",
    "import matplotlib.pyplot as plt\n",
    "\n",
    "import dask.dataframe as dd\n",
    "from dask.multiprocessing import get\n",
    "\n",
    "%matplotlib inline"
   ]
  },
  {
   "cell_type": "code",
   "execution_count": 3,
   "metadata": {
    "ExecuteTime": {
     "end_time": "2017-11-17T09:03:29.210749Z",
     "start_time": "2017-11-17T09:03:29.19832Z"
    },
    "_cell_guid": "8ab00801-08b9-44d3-a063-32e82dbf8f58",
    "_uuid": "53c19941676690454dd4b91109976b6c59cb7a40"
   },
   "outputs": [
    {
     "data": {
      "text/plain": [
       "12"
      ]
     },
     "execution_count": 3,
     "metadata": {},
     "output_type": "execute_result"
    }
   ],
   "source": [
    "POSSIBLE_LABELS = 'yes no up down left right on off stop go silence unknown'.split()\n",
    "id2name = {i: name for i, name in enumerate(POSSIBLE_LABELS)}\n",
    "name2id = {name: i for i, name in id2name.items()}\n",
    "len(id2name)"
   ]
  },
  {
   "cell_type": "code",
   "execution_count": 3,
   "metadata": {
    "collapsed": true
   },
   "outputs": [],
   "source": [
    "# %%time \n",
    "\n",
    "train_df = pickle.load( open(\"cache/train_df_64x128_aug.pik\",\"rb\"))\n",
    "valid_df = pickle.load( open(\"cache/valid_df_64x128.pik\",\"rb\"))\n",
    "silent_df = pickle.load(open(\"cache/silent_df_64x128.pik\",\"rb\"))\n",
    "unknown_df = pickle.load(open(\"cache/unknown_df_64x128_aug.pik\",\"rb\"))\n",
    "# test_df =  pickle.load(open(\"cache/test_df_256.pik\",\"rb\"))"
   ]
  },
  {
   "cell_type": "code",
   "execution_count": 4,
   "metadata": {
    "collapsed": true
   },
   "outputs": [],
   "source": [
    "train_df.reset_index(inplace=True,drop=True)\n",
    "valid_df.reset_index(inplace=True,drop=True)\n",
    "unknown_df.reset_index(inplace=True,drop=True)\n",
    "silent_df.reset_index(inplace=True,drop=True)"
   ]
  },
  {
   "cell_type": "code",
   "execution_count": 5,
   "metadata": {
    "collapsed": true
   },
   "outputs": [],
   "source": [
    "test_preds = np.load(\"cache/predictions_conv2dlstm_plus_longblend1.npy\")"
   ]
  },
  {
   "cell_type": "code",
   "execution_count": 5,
   "metadata": {
    "ExecuteTime": {
     "end_time": "2017-11-17T09:03:32.519795Z",
     "start_time": "2017-11-17T09:03:32.483881Z"
    },
    "_cell_guid": "144c6e60-8a83-437d-8b8a-ea065af90923",
    "_uuid": "22e0e6c718171167089fb6df36d3dc43a1029992",
    "collapsed": true
   },
   "outputs": [],
   "source": [
    "#no augmentation since the auto encoder has already seen all the train AND test files \n",
    "\n",
    "def train_generator(train_batch_size):\n",
    "    while True:\n",
    "        \n",
    "        this_train = train_df.groupby('label_id').apply(lambda x: x.sample(n = 2000))\n",
    "        extra_data_size = int(this_train.shape[0]* 0.1)\n",
    "        this_train = pd.concat([silent_df.sample(extra_data_size),\n",
    "                                this_train,\n",
    "                                unknown_df.sample(extra_data_size*2)],axis=0 )\n",
    "        \n",
    "        \n",
    "        this_train.reset_index(drop=True,inplace=True)\n",
    "        \n",
    "        shuffled_ids = random.sample(range(this_train.shape[0]), this_train.shape[0])\n",
    "        \n",
    "        for start in range(0, len(shuffled_ids), train_batch_size):\n",
    "            x_batch = []\n",
    "            y_batch = []\n",
    "            \n",
    "            end = min(start + train_batch_size, len(shuffled_ids))\n",
    "            i_train_batch = shuffled_ids[start:end]\n",
    "            for i in i_train_batch:\n",
    "#                 print this_train.loc[i,'raw'].T.shape\n",
    "                x_batch.append(this_train.loc[i,'raw'].T)\n",
    "#                 x_batch.append(process_wav_file(this_train.iloc[i], augment=True).T)\n",
    "\n",
    "                y_batch.append(this_train.label_id.values[i])\n",
    "                \n",
    "            x_batch = 1.- np.array(x_batch)/-80.\n",
    "            y_batch = to_categorical(y_batch, num_classes = len(POSSIBLE_LABELS))\n",
    "            \n",
    "            yield x_batch, y_batch"
   ]
  },
  {
   "cell_type": "code",
   "execution_count": 40,
   "metadata": {},
   "outputs": [
    {
     "name": "stdout",
     "output_type": "stream",
     "text": [
      "CPU times: user 64 ms, sys: 0 ns, total: 64 ms\n",
      "Wall time: 60.4 ms\n"
     ]
    }
   ],
   "source": [
    "%time t = next(train_generator(4))[0][0].T"
   ]
  },
  {
   "cell_type": "code",
   "execution_count": 42,
   "metadata": {},
   "outputs": [
    {
     "data": {
      "text/plain": [
       "(128, 64)"
      ]
     },
     "execution_count": 42,
     "metadata": {},
     "output_type": "execute_result"
    }
   ],
   "source": [
    "t.shape"
   ]
  },
  {
   "cell_type": "code",
   "execution_count": 6,
   "metadata": {
    "ExecuteTime": {
     "end_time": "2017-11-17T09:03:32.624289Z",
     "start_time": "2017-11-17T09:03:32.521828Z"
    },
    "_cell_guid": "59a13393-9bc3-4b27-abe2-9c78b3c32ead",
    "_uuid": "6f9a8fbf6e352b1c77b9c22dddf1c5d69382bd5b",
    "collapsed": true
   },
   "outputs": [],
   "source": [
    "def valid_generator(val_batch_size):\n",
    "    while True:\n",
    "        ids = list(range(valid_df.shape[0]))\n",
    "        for start in range(0, len(ids), val_batch_size):\n",
    "            x_batch = []\n",
    "            y_batch = []\n",
    "            end = min(start + val_batch_size, len(ids))\n",
    "            i_val_batch = ids[start:end]\n",
    "            for i in i_val_batch:\n",
    "                x_batch.append(valid_df.loc[i,'raw'].T)\n",
    "                y_batch.append(valid_df.label_id.values[i])\n",
    "\n",
    "            x_batch = 1.- np.array(x_batch)/-80.\n",
    "            y_batch = to_categorical(y_batch, num_classes = len(POSSIBLE_LABELS))\n",
    "            yield x_batch, y_batch"
   ]
  },
  {
   "cell_type": "code",
   "execution_count": 48,
   "metadata": {},
   "outputs": [
    {
     "name": "stdout",
     "output_type": "stream",
     "text": [
      "CPU times: user 0 ns, sys: 0 ns, total: 0 ns\n",
      "Wall time: 1.24 ms\n"
     ]
    },
    {
     "data": {
      "text/plain": [
       "(4, 64, 128)"
      ]
     },
     "execution_count": 48,
     "metadata": {},
     "output_type": "execute_result"
    }
   ],
   "source": [
    "%time next(valid_generator(4))[0].shape"
   ]
  },
  {
   "cell_type": "markdown",
   "metadata": {},
   "source": [
    "### forcing test predictions (hard - not soft)"
   ]
  },
  {
   "cell_type": "code",
   "execution_count": 32,
   "metadata": {},
   "outputs": [
    {
     "data": {
      "text/plain": [
       "array([ 0.,  0.,  0.,  0.,  0.,  0.,  0.,  0.,  0.,  0.,  0.,  1.])"
      ]
     },
     "execution_count": 32,
     "metadata": {},
     "output_type": "execute_result"
    }
   ],
   "source": [
    "to_categorical(name2id[\"unknown\"],num_classes = len(POSSIBLE_LABELS))[0]"
   ]
  },
  {
   "cell_type": "code",
   "execution_count": 8,
   "metadata": {
    "collapsed": true
   },
   "outputs": [],
   "source": [
    "test_preds[np.where(test_preds.max(axis=1)<0.5)[0]] = to_categorical(name2id[\"unknown\"],num_classes = len(POSSIBLE_LABELS))[0]\n",
    "\n",
    "test_preds = to_categorical(np.argmax(test_preds, axis=1),num_classes = len(POSSIBLE_LABELS))\n"
   ]
  },
  {
   "cell_type": "code",
   "execution_count": 48,
   "metadata": {
    "collapsed": true
   },
   "outputs": [],
   "source": [
    "# test_df[\"id\"] = test_df.index.values"
   ]
  },
  {
   "cell_type": "code",
   "execution_count": 50,
   "metadata": {
    "collapsed": true
   },
   "outputs": [],
   "source": [
    "# test_df.reset_index(drop=True,inplace=True)\n",
    "\n",
    "# test_df.drop([\"level_0\",\"index\"],axis=1,inplace=True)"
   ]
  },
  {
   "cell_type": "code",
   "execution_count": 10,
   "metadata": {
    "collapsed": true
   },
   "outputs": [],
   "source": [
    "def test_pseudo_generator(test_batch_size):\n",
    "    this_test = test_df #.sample(int(train_df.shape[0]//5* 0.1))\n",
    "    this_test[\"id\"] = this_test.index.values\n",
    "    \n",
    "#     this_test.reset_index(inplace=True)\n",
    "    while True:\n",
    "\n",
    "        shuffled_ids = random.sample(range(test_df.shape[0]), test_df.shape[0])\n",
    "\n",
    "        for start in range(0, len(test_df), test_batch_size):\n",
    "            x_batch = []\n",
    "            y_batch = []\n",
    "\n",
    "            end = min(start + test_batch_size, len(shuffled_ids))\n",
    "            i_test_batch = shuffled_ids[start:end]\n",
    "\n",
    "            for i in i_test_batch:\n",
    "                x_batch.append(test_df.loc[i,'raw'].T)\n",
    "    #                 x_batch.append(process_wav_file(this_train.iloc[i], augment=True).T)\n",
    "\n",
    "                y_batch.append(test_preds[test_df.loc[i,'id']])\n",
    "\n",
    "            x_batch = 1.- np.array(x_batch)/-80.\n",
    "            y_batch = np.array(y_batch)\n",
    "\n",
    "            yield x_batch, y_batch"
   ]
  },
  {
   "cell_type": "code",
   "execution_count": 42,
   "metadata": {},
   "outputs": [
    {
     "data": {
      "text/plain": [
       "1.0"
      ]
     },
     "execution_count": 42,
     "metadata": {},
     "output_type": "execute_result"
    }
   ],
   "source": [
    "next(test_pseudo_generator(14))[1].max()"
   ]
  },
  {
   "cell_type": "code",
   "execution_count": 11,
   "metadata": {
    "collapsed": true
   },
   "outputs": [],
   "source": [
    "class MixIterator(object):\n",
    "    def __init__(self, iters):\n",
    "        self.iters = iters\n",
    "        self.multi = type(iters) is list\n",
    "\n",
    "        self.N = 64 \n",
    "\n",
    "    def reset(self):\n",
    "        for it in self.iters: it.reset()\n",
    "\n",
    "    def __iter__(self):\n",
    "        return self\n",
    "\n",
    "    def next(self, *args, **kwargs):\n",
    "\n",
    "        nexts = [next(it) for it in self.iters]\n",
    "#         print nexts[0][0].shape, nexts[1][0].shape\n",
    "        n0 = np.concatenate([n[0] for n in nexts])\n",
    "        n1 = np.concatenate([n[1] for n in nexts])\n",
    "        return (n0, n1)"
   ]
  },
  {
   "cell_type": "code",
   "execution_count": 44,
   "metadata": {
    "collapsed": true
   },
   "outputs": [],
   "source": [
    "mi = MixIterator([train_generator(50), test_pseudo_generator(14)])\n"
   ]
  },
  {
   "cell_type": "code",
   "execution_count": 14,
   "metadata": {
    "collapsed": true
   },
   "outputs": [],
   "source": [
    "# next(mi)"
   ]
  },
  {
   "cell_type": "code",
   "execution_count": 31,
   "metadata": {},
   "outputs": [
    {
     "data": {
      "text/plain": [
       "11    4221\n",
       "1      270\n",
       "3      264\n",
       "0      261\n",
       "2      260\n",
       "9      260\n",
       "10     257\n",
       "6      257\n",
       "7      256\n",
       "5      256\n",
       "4      247\n",
       "8      246\n",
       "Name: label_id, dtype: int64"
      ]
     },
     "execution_count": 31,
     "metadata": {},
     "output_type": "execute_result"
    }
   ],
   "source": [
    "valid_df.label_id.value_counts()"
   ]
  },
  {
   "cell_type": "markdown",
   "metadata": {},
   "source": [
    "### Model"
   ]
  },
  {
   "cell_type": "code",
   "execution_count": 4,
   "metadata": {},
   "outputs": [],
   "source": [
    "def batch_relu(x):\n",
    "    x = BatchNormalization()(x)    \n",
    "    x = Activation('relu')(x)\n",
    "    \n",
    "    return x "
   ]
  },
  {
   "cell_type": "code",
   "execution_count": 5,
   "metadata": {},
   "outputs": [],
   "source": [
    "p = 0.\n",
    "\n",
    "def get_conv_stacks( x_in, filter_size=2):\n",
    "    \n",
    "    x = BatchNormalization()(x_in)\n",
    "    \n",
    "    x =  Reshape((timesteps, input_dim,1))(x)\n",
    "    \n",
    "    \n",
    "    \n",
    "    x = Conv2D(64,(5,7),padding='same')(x) #was 32\n",
    "    x = batch_relu(x)\n",
    "\n",
    "    x = Conv2D(64,(3,3),padding='same')(x)\n",
    "    x = batch_relu(x)\n",
    "\n",
    "    \n",
    "    x = MaxPooling2D((1,3))(x)\n",
    "    \n",
    "    x = Conv2D(64,(3,3),padding='same')(x)\n",
    "    x = batch_relu(x)\n",
    "    x = Conv2D(64,(3,3),padding='same')(x)\n",
    "    x = batch_relu(x)\n",
    "\n",
    "    \n",
    "    \n",
    "    x = MaxPooling2D((2,3))(x)\n",
    "    \n",
    "\n",
    "    x = Conv2D(128,(3,3),padding='same')(x)\n",
    "    x = batch_relu(x)\n",
    "    x = Conv2D(128,(3,3),padding='same')(x)\n",
    "    x = batch_relu(x)\n",
    "\n",
    "    x = MaxPooling2D((2,3))(x)\n",
    "    \n",
    "    \n",
    "    x = Conv2D(128,(3,3),padding='same')(x)\n",
    "    x = batch_relu(x)\n",
    "    x = Conv2D(128,(3,3),padding='same')(x)\n",
    "    x = batch_relu(x)\n",
    "    print int(x.shape[-1]) * int(x.shape[-2])\n",
    "    x = Reshape((16,int(x.shape[-1]) * int(x.shape[-2])))(x)\n",
    "    \n",
    "    x = Bidirectional(CuDNNLSTM(128,return_sequences=False))(x)\n",
    "\n",
    "\n",
    "\n",
    "    \n",
    "    return x"
   ]
  },
  {
   "cell_type": "code",
   "execution_count": 6,
   "metadata": {},
   "outputs": [
    {
     "name": "stdout",
     "output_type": "stream",
     "text": [
      "512\n"
     ]
    }
   ],
   "source": [
    "# p = 0.3\n",
    "\n",
    "timesteps, input_dim , latent_dim = 64,128, 128\n",
    "\n",
    "x_logml = Input(shape=(timesteps, input_dim)) #1 channel, 99 time, 161 freqs # S : np.ndarray [shape=(n_mels, t)]\n",
    "\n",
    "x = get_conv_stacks(x_logml)\n",
    "# speaker_embedding = embedding(x_logml)\n",
    "\n",
    "\n",
    "# x = concatenate([x,speaker_embedding])\n",
    "x = Dense(128, activation = 'relu')(x) #\n",
    "x = Dropout(0.3)(x)\n",
    "\n",
    "\n",
    "\n",
    "x = Dense(len(POSSIBLE_LABELS), activation = 'softmax', name='targets')(x)\n",
    "\n",
    "\n"
   ]
  },
  {
   "cell_type": "code",
   "execution_count": 7,
   "metadata": {},
   "outputs": [],
   "source": [
    "\n",
    "model = Model(inputs = x_logml, outputs = x)\n",
    "model.compile(optimizer=Adam(lr=1e-3), loss='categorical_crossentropy', metrics=['accuracy'])\n"
   ]
  },
  {
   "cell_type": "code",
   "execution_count": 8,
   "metadata": {},
   "outputs": [
    {
     "name": "stdout",
     "output_type": "stream",
     "text": [
      "_________________________________________________________________\n",
      "Layer (type)                 Output Shape              Param #   \n",
      "=================================================================\n",
      "input_1 (InputLayer)         (None, 64, 128)           0         \n",
      "_________________________________________________________________\n",
      "batch_normalization_1 (Batch (None, 64, 128)           512       \n",
      "_________________________________________________________________\n",
      "reshape_1 (Reshape)          (None, 64, 128, 1)        0         \n",
      "_________________________________________________________________\n",
      "conv2d_1 (Conv2D)            (None, 64, 128, 64)       2304      \n",
      "_________________________________________________________________\n",
      "batch_normalization_2 (Batch (None, 64, 128, 64)       256       \n",
      "_________________________________________________________________\n",
      "activation_1 (Activation)    (None, 64, 128, 64)       0         \n",
      "_________________________________________________________________\n",
      "conv2d_2 (Conv2D)            (None, 64, 128, 64)       36928     \n",
      "_________________________________________________________________\n",
      "batch_normalization_3 (Batch (None, 64, 128, 64)       256       \n",
      "_________________________________________________________________\n",
      "activation_2 (Activation)    (None, 64, 128, 64)       0         \n",
      "_________________________________________________________________\n",
      "max_pooling2d_1 (MaxPooling2 (None, 64, 42, 64)        0         \n",
      "_________________________________________________________________\n",
      "conv2d_3 (Conv2D)            (None, 64, 42, 64)        36928     \n",
      "_________________________________________________________________\n",
      "batch_normalization_4 (Batch (None, 64, 42, 64)        256       \n",
      "_________________________________________________________________\n",
      "activation_3 (Activation)    (None, 64, 42, 64)        0         \n",
      "_________________________________________________________________\n",
      "conv2d_4 (Conv2D)            (None, 64, 42, 64)        36928     \n",
      "_________________________________________________________________\n",
      "batch_normalization_5 (Batch (None, 64, 42, 64)        256       \n",
      "_________________________________________________________________\n",
      "activation_4 (Activation)    (None, 64, 42, 64)        0         \n",
      "_________________________________________________________________\n",
      "max_pooling2d_2 (MaxPooling2 (None, 32, 14, 64)        0         \n",
      "_________________________________________________________________\n",
      "conv2d_5 (Conv2D)            (None, 32, 14, 128)       73856     \n",
      "_________________________________________________________________\n",
      "batch_normalization_6 (Batch (None, 32, 14, 128)       512       \n",
      "_________________________________________________________________\n",
      "activation_5 (Activation)    (None, 32, 14, 128)       0         \n",
      "_________________________________________________________________\n",
      "conv2d_6 (Conv2D)            (None, 32, 14, 128)       147584    \n",
      "_________________________________________________________________\n",
      "batch_normalization_7 (Batch (None, 32, 14, 128)       512       \n",
      "_________________________________________________________________\n",
      "activation_6 (Activation)    (None, 32, 14, 128)       0         \n",
      "_________________________________________________________________\n",
      "max_pooling2d_3 (MaxPooling2 (None, 16, 4, 128)        0         \n",
      "_________________________________________________________________\n",
      "conv2d_7 (Conv2D)            (None, 16, 4, 128)        147584    \n",
      "_________________________________________________________________\n",
      "batch_normalization_8 (Batch (None, 16, 4, 128)        512       \n",
      "_________________________________________________________________\n",
      "activation_7 (Activation)    (None, 16, 4, 128)        0         \n",
      "_________________________________________________________________\n",
      "conv2d_8 (Conv2D)            (None, 16, 4, 128)        147584    \n",
      "_________________________________________________________________\n",
      "batch_normalization_9 (Batch (None, 16, 4, 128)        512       \n",
      "_________________________________________________________________\n",
      "activation_8 (Activation)    (None, 16, 4, 128)        0         \n",
      "_________________________________________________________________\n",
      "reshape_2 (Reshape)          (None, 16, 512)           0         \n",
      "_________________________________________________________________\n",
      "bidirectional_1 (Bidirection (None, 256)               657408    \n",
      "_________________________________________________________________\n",
      "dense_1 (Dense)              (None, 128)               32896     \n",
      "_________________________________________________________________\n",
      "dropout_1 (Dropout)          (None, 128)               0         \n",
      "_________________________________________________________________\n",
      "targets (Dense)              (None, 12)                1548      \n",
      "=================================================================\n",
      "Total params: 1,325,132\n",
      "Trainable params: 1,323,340\n",
      "Non-trainable params: 1,792\n",
      "_________________________________________________________________\n"
     ]
    }
   ],
   "source": [
    "model.summary()"
   ]
  },
  {
   "cell_type": "code",
   "execution_count": 102,
   "metadata": {
    "collapsed": true,
    "scrolled": false
   },
   "outputs": [],
   "source": [
    "# model.load_weights(\"weights/conv2d_wlstm_on_64x128.hdf5\")"
   ]
  },
  {
   "cell_type": "code",
   "execution_count": 9,
   "metadata": {},
   "outputs": [],
   "source": [
    "from keras.callbacks import TensorBoard\n",
    "exp_name = \"conv2d_wlstm_on_64x128_kernel5x7\" #max_freqconvs_2510_avgshortcuts\n",
    "callbacks = [EarlyStopping(monitor='val_loss',\n",
    "                           patience=5,\n",
    "                           verbose=1),\n",
    "             \n",
    "             ReduceLROnPlateau(monitor='val_loss',\n",
    "                               factor=0.1,\n",
    "                               patience=3,\n",
    "                               verbose=1,\n",
    "                               epsilon=0.01,\n",
    "                              min_lr=1e-5),\n",
    "             ModelCheckpoint(monitor='val_loss',\n",
    "                             filepath='weights/{}.hdf5'.format(exp_name),\n",
    "                             save_best_only=True,\n",
    "                             save_weights_only=True,\n",
    "                             mode='min')\n",
    "#              , TensorBoard(log_dir='./logs/logs_{}'.format(exp_name), histogram_freq=0, batch_size=64, write_graph=True)\n",
    "            ]"
   ]
  },
  {
   "cell_type": "markdown",
   "metadata": {},
   "source": [
    "soft pseudo:\n",
    "Epoch 4/100\n",
    "329/329 [==============================] - 105s 320ms/step - loss: 0.1513 - acc: 0.9739 - val_loss: 0.0916 - val_acc: 0.9724\n",
    "\n",
    "soft pseudo - with val Epoch 10/10\n",
    "329/329 [==============================] - 105s 320ms/step - loss: 0.1532 - acc: 0.9735 - val_loss: 0.0827 - val_acc: 0.9753\n",
    "\n",
    "\n",
    "hard pseudo \n",
    "Epoch 4/100\n",
    "329/329 [==============================] - 105s 321ms/step - loss: 0.0783 - acc: 0.9731 - val_loss: 0.0953 - val_acc: 0.9743\n",
    "\n",
    "\n",
    "hard pseudo + val \n",
    "Epoch 10/100\n",
    "329/329 [==============================] - 106s 323ms/step - loss: 0.0637 - acc: 0.9801 - val_loss: 0.0532 - val_acc: 0.9850"
   ]
  },
  {
   "cell_type": "code",
   "execution_count": 127,
   "metadata": {
    "ExecuteTime": {
     "end_time": "2017-11-17T09:42:31.48233Z",
     "start_time": "2017-11-17T09:03:33.355603Z"
    },
    "_cell_guid": "5f3d1b09-500f-410e-820a-8eaab24b6ebb",
    "_uuid": "528ec66a0a6caca952273ab916e609625839b19e",
    "scrolled": false
   },
   "outputs": [
    {
     "name": "stdout",
     "output_type": "stream",
     "text": [
      "Epoch 1/100\n",
      "329/329 [==============================] - 196s 596ms/step - loss: 0.9875 - acc: 0.6661 - val_loss: 0.5130 - val_acc: 0.8190\n",
      "Epoch 2/100\n",
      "329/329 [==============================] - 183s 555ms/step - loss: 0.4626 - acc: 0.8576 - val_loss: 0.3971 - val_acc: 0.8834\n",
      "Epoch 3/100\n",
      "329/329 [==============================] - 182s 552ms/step - loss: 0.3699 - acc: 0.8850 - val_loss: 0.5469 - val_acc: 0.8304\n",
      "Epoch 4/100\n",
      "329/329 [==============================] - 184s 559ms/step - loss: 0.3235 - acc: 0.9006 - val_loss: 0.3101 - val_acc: 0.9075\n",
      "Epoch 5/100\n",
      "329/329 [==============================] - 182s 553ms/step - loss: 0.2828 - acc: 0.9117 - val_loss: 0.2642 - val_acc: 0.9176\n",
      "Epoch 6/100\n",
      "329/329 [==============================] - 183s 555ms/step - loss: 0.2604 - acc: 0.9180 - val_loss: 0.1968 - val_acc: 0.9419\n",
      "Epoch 7/100\n",
      "329/329 [==============================] - 183s 555ms/step - loss: 0.2463 - acc: 0.9237 - val_loss: 0.2688 - val_acc: 0.9145\n",
      "Epoch 8/100\n",
      "329/329 [==============================] - 181s 549ms/step - loss: 0.2338 - acc: 0.9275 - val_loss: 0.2959 - val_acc: 0.9033\n",
      "Epoch 9/100\n",
      "329/329 [==============================] - 180s 548ms/step - loss: 0.2104 - acc: 0.9354 - val_loss: 0.2382 - val_acc: 0.9296\n",
      "Epoch 10/100\n",
      "329/329 [==============================] - 180s 547ms/step - loss: 0.2101 - acc: 0.9346 - val_loss: 0.1602 - val_acc: 0.9502\n",
      "Epoch 11/100\n",
      "329/329 [==============================] - 182s 553ms/step - loss: 0.1974 - acc: 0.9372 - val_loss: 0.2375 - val_acc: 0.9213\n",
      "Epoch 12/100\n",
      "329/329 [==============================] - 182s 554ms/step - loss: 0.2014 - acc: 0.9371 - val_loss: 0.1803 - val_acc: 0.9508\n",
      "Epoch 13/100\n",
      "329/329 [==============================] - 180s 547ms/step - loss: 0.1819 - acc: 0.9406 - val_loss: 0.1608 - val_acc: 0.9519\n",
      "Epoch 14/100\n",
      "328/329 [============================>.] - ETA: 0s - loss: 0.1764 - acc: 0.9436\n",
      "Epoch 00014: reducing learning rate to 0.00010000000475.\n",
      "329/329 [==============================] - 183s 555ms/step - loss: 0.1764 - acc: 0.9436 - val_loss: 0.2392 - val_acc: 0.9296\n",
      "Epoch 15/100\n",
      "329/329 [==============================] - 179s 544ms/step - loss: 0.1354 - acc: 0.9563 - val_loss: 0.1239 - val_acc: 0.9618\n",
      "Epoch 16/100\n",
      "329/329 [==============================] - 181s 551ms/step - loss: 0.1236 - acc: 0.9609 - val_loss: 0.1239 - val_acc: 0.9638\n",
      "Epoch 17/100\n",
      "329/329 [==============================] - 179s 544ms/step - loss: 0.1141 - acc: 0.9634 - val_loss: 0.1192 - val_acc: 0.9654\n",
      "Epoch 18/100\n",
      "329/329 [==============================] - 181s 549ms/step - loss: 0.1054 - acc: 0.9659 - val_loss: 0.1171 - val_acc: 0.9661\n",
      "Epoch 19/100\n",
      "328/329 [============================>.] - ETA: 0s - loss: 0.1031 - acc: 0.9671\n",
      "Epoch 00019: reducing learning rate to 1.0000000475e-05.\n",
      "329/329 [==============================] - 180s 548ms/step - loss: 0.1033 - acc: 0.9671 - val_loss: 0.1164 - val_acc: 0.9665\n",
      "Epoch 20/100\n",
      "329/329 [==============================] - 181s 551ms/step - loss: 0.1058 - acc: 0.9666 - val_loss: 0.1152 - val_acc: 0.9658\n",
      "Epoch 21/100\n",
      "329/329 [==============================] - 181s 551ms/step - loss: 0.0993 - acc: 0.9692 - val_loss: 0.1132 - val_acc: 0.9662\n",
      "Epoch 22/100\n",
      "329/329 [==============================] - 180s 548ms/step - loss: 0.0933 - acc: 0.9708 - val_loss: 0.1133 - val_acc: 0.9671\n",
      "Epoch 23/100\n",
      "329/329 [==============================] - 182s 552ms/step - loss: 0.1008 - acc: 0.9678 - val_loss: 0.1150 - val_acc: 0.9661\n",
      "Epoch 24/100\n",
      "329/329 [==============================] - 183s 555ms/step - loss: 0.0998 - acc: 0.9682 - val_loss: 0.1149 - val_acc: 0.9661\n",
      "Epoch 25/100\n",
      "329/329 [==============================] - 181s 549ms/step - loss: 0.0939 - acc: 0.9694 - val_loss: 0.1138 - val_acc: 0.9672\n",
      "Epoch 26/100\n",
      "329/329 [==============================] - 178s 542ms/step - loss: 0.1021 - acc: 0.9671 - val_loss: 0.1131 - val_acc: 0.9672\n",
      "Epoch 27/100\n",
      "329/329 [==============================] - 182s 554ms/step - loss: 0.0958 - acc: 0.9690 - val_loss: 0.1121 - val_acc: 0.9668\n",
      "Epoch 28/100\n",
      "329/329 [==============================] - 180s 549ms/step - loss: 0.1011 - acc: 0.9685 - val_loss: 0.1136 - val_acc: 0.9664\n",
      "Epoch 29/100\n",
      "329/329 [==============================] - 180s 546ms/step - loss: 0.0949 - acc: 0.9699 - val_loss: 0.1137 - val_acc: 0.9667\n",
      "Epoch 30/100\n",
      "329/329 [==============================] - 182s 553ms/step - loss: 0.0929 - acc: 0.9690 - val_loss: 0.1152 - val_acc: 0.9661\n",
      "Epoch 31/100\n",
      "329/329 [==============================] - 180s 547ms/step - loss: 0.0938 - acc: 0.9702 - val_loss: 0.1144 - val_acc: 0.9661\n",
      "Epoch 32/100\n",
      "329/329 [==============================] - 182s 553ms/step - loss: 0.0944 - acc: 0.9702 - val_loss: 0.1124 - val_acc: 0.9671\n",
      "Epoch 00032: early stopping\n"
     ]
    }
   ],
   "source": [
    "batch_size = 64\n",
    "\n",
    "# loss: 1.2527 -\n",
    "history = model.fit_generator(generator=train_generator(batch_size),\n",
    "                              steps_per_epoch=train_df.shape[0]*(1./5)//batch_size,\n",
    "                              epochs=100,\n",
    "                              callbacks=callbacks,\n",
    "                              validation_data=valid_generator(batch_size),\n",
    "                              validation_steps=int(np.ceil(valid_df.shape[0]/batch_size)))"
   ]
  },
  {
   "cell_type": "code",
   "execution_count": 217,
   "metadata": {},
   "outputs": [
    {
     "data": {
      "text/plain": [
       "'conv2d_wlstm_on_64x128_kernel5x7'"
      ]
     },
     "execution_count": 217,
     "metadata": {},
     "output_type": "execute_result"
    }
   ],
   "source": [
    "exp_name"
   ]
  },
  {
   "cell_type": "code",
   "execution_count": 10,
   "metadata": {},
   "outputs": [],
   "source": [
    "model.load_weights('./weights/{}.hdf5'.format(exp_name))"
   ]
  },
  {
   "cell_type": "code",
   "execution_count": 19,
   "metadata": {
    "collapsed": true
   },
   "outputs": [],
   "source": [
    "mi = MixIterator([train_generator(45), valid_generator(5),test_pseudo_generator(14)])\n"
   ]
  },
  {
   "cell_type": "code",
   "execution_count": 20,
   "metadata": {
    "collapsed": true
   },
   "outputs": [],
   "source": [
    "from keras.callbacks import TensorBoard\n",
    "exp_name = \"conv2d_wlstm_hardpseudo_withval_c2\" #max_freqconvs_2510_avgshortcuts\n",
    "callbacks = [EarlyStopping(monitor='val_loss',\n",
    "                           patience=5,\n",
    "                           verbose=1),\n",
    "             \n",
    "             ReduceLROnPlateau(monitor='val_loss',\n",
    "                               factor=0.1,\n",
    "                               patience=3,\n",
    "                               verbose=1,\n",
    "                               epsilon=0.01,\n",
    "                              min_lr=1e-5),\n",
    "             ModelCheckpoint(monitor='val_loss',\n",
    "                             filepath='weights/{}.hdf5'.format(exp_name),\n",
    "                             save_best_only=True,\n",
    "                             save_weights_only=True,\n",
    "                             mode='min')\n",
    "#              , TensorBoard(log_dir='./logs/logs_{}'.format(exp_name), histogram_freq=0, batch_size=64, write_graph=True)\n",
    "            ]"
   ]
  },
  {
   "cell_type": "code",
   "execution_count": 21,
   "metadata": {},
   "outputs": [
    {
     "name": "stdout",
     "output_type": "stream",
     "text": [
      "Epoch 1/100\n",
      "329/329 [==============================] - 111s 337ms/step - loss: 0.0670 - acc: 0.9776 - val_loss: 0.0788 - val_acc: 0.9788\n",
      "Epoch 2/100\n",
      "329/329 [==============================] - 107s 325ms/step - loss: 0.0683 - acc: 0.9777 - val_loss: 0.0769 - val_acc: 0.9795\n",
      "Epoch 3/100\n",
      "329/329 [==============================] - 106s 323ms/step - loss: 0.0730 - acc: 0.9762 - val_loss: 0.0715 - val_acc: 0.9808\n",
      "Epoch 4/100\n",
      "329/329 [==============================] - 106s 323ms/step - loss: 0.0726 - acc: 0.9767 - val_loss: 0.0641 - val_acc: 0.9813\n",
      "Epoch 5/100\n",
      "329/329 [==============================] - 106s 323ms/step - loss: 0.0648 - acc: 0.9785 - val_loss: 0.0641 - val_acc: 0.9823\n",
      "Epoch 6/100\n",
      "329/329 [==============================] - 106s 323ms/step - loss: 0.0648 - acc: 0.9786 - val_loss: 0.0648 - val_acc: 0.9820\n",
      "Epoch 7/100\n",
      "329/329 [==============================] - 106s 323ms/step - loss: 0.0635 - acc: 0.9787 - val_loss: 0.0632 - val_acc: 0.9827\n",
      "Epoch 8/100\n",
      "328/329 [============================>.] - ETA: 0s - loss: 0.0666 - acc: 0.9781\n",
      "Epoch 00008: reducing learning rate to 1e-05.\n",
      "329/329 [==============================] - 107s 324ms/step - loss: 0.0666 - acc: 0.9780 - val_loss: 0.0554 - val_acc: 0.9841\n",
      "Epoch 9/100\n",
      "329/329 [==============================] - 106s 323ms/step - loss: 0.0647 - acc: 0.9795 - val_loss: 0.0543 - val_acc: 0.9838\n",
      "Epoch 10/100\n",
      "329/329 [==============================] - 106s 323ms/step - loss: 0.0637 - acc: 0.9801 - val_loss: 0.0532 - val_acc: 0.9850\n",
      "Epoch 11/100\n",
      "329/329 [==============================] - 106s 323ms/step - loss: 0.0631 - acc: 0.9799 - val_loss: 0.0546 - val_acc: 0.9846\n",
      "Epoch 12/100\n",
      " 88/329 [=======>......................] - ETA: 1:10 - loss: 0.0689 - acc: 0.9780"
     ]
    },
    {
     "ename": "KeyboardInterrupt",
     "evalue": "",
     "output_type": "error",
     "traceback": [
      "\u001b[0;31m---------------------------------------------------------------------------\u001b[0m",
      "\u001b[0;31mKeyboardInterrupt\u001b[0m                         Traceback (most recent call last)",
      "\u001b[0;32m<ipython-input-21-df4e9de12109>\u001b[0m in \u001b[0;36m<module>\u001b[0;34m()\u001b[0m\n\u001b[1;32m      6\u001b[0m                               \u001b[0mcallbacks\u001b[0m\u001b[0;34m=\u001b[0m\u001b[0mcallbacks\u001b[0m\u001b[0;34m,\u001b[0m\u001b[0;34m\u001b[0m\u001b[0m\n\u001b[1;32m      7\u001b[0m                               \u001b[0mvalidation_data\u001b[0m\u001b[0;34m=\u001b[0m\u001b[0mvalid_generator\u001b[0m\u001b[0;34m(\u001b[0m\u001b[0mbatch_size\u001b[0m\u001b[0;34m)\u001b[0m\u001b[0;34m,\u001b[0m\u001b[0;34m\u001b[0m\u001b[0m\n\u001b[0;32m----> 8\u001b[0;31m                               validation_steps=int(np.ceil(valid_df.shape[0]/batch_size)))\n\u001b[0m",
      "\u001b[0;32m/home/ubuntu/anaconda2/lib/python2.7/site-packages/keras/legacy/interfaces.pyc\u001b[0m in \u001b[0;36mwrapper\u001b[0;34m(*args, **kwargs)\u001b[0m\n\u001b[1;32m     85\u001b[0m                 warnings.warn('Update your `' + object_name +\n\u001b[1;32m     86\u001b[0m                               '` call to the Keras 2 API: ' + signature, stacklevel=2)\n\u001b[0;32m---> 87\u001b[0;31m             \u001b[0;32mreturn\u001b[0m \u001b[0mfunc\u001b[0m\u001b[0;34m(\u001b[0m\u001b[0;34m*\u001b[0m\u001b[0margs\u001b[0m\u001b[0;34m,\u001b[0m \u001b[0;34m**\u001b[0m\u001b[0mkwargs\u001b[0m\u001b[0;34m)\u001b[0m\u001b[0;34m\u001b[0m\u001b[0m\n\u001b[0m\u001b[1;32m     88\u001b[0m         \u001b[0mwrapper\u001b[0m\u001b[0;34m.\u001b[0m\u001b[0m_original_function\u001b[0m \u001b[0;34m=\u001b[0m \u001b[0mfunc\u001b[0m\u001b[0;34m\u001b[0m\u001b[0m\n\u001b[1;32m     89\u001b[0m         \u001b[0;32mreturn\u001b[0m \u001b[0mwrapper\u001b[0m\u001b[0;34m\u001b[0m\u001b[0m\n",
      "\u001b[0;32m/home/ubuntu/anaconda2/lib/python2.7/site-packages/keras/engine/training.pyc\u001b[0m in \u001b[0;36mfit_generator\u001b[0;34m(self, generator, steps_per_epoch, epochs, verbose, callbacks, validation_data, validation_steps, class_weight, max_queue_size, workers, use_multiprocessing, shuffle, initial_epoch)\u001b[0m\n\u001b[1;32m   2145\u001b[0m                     outs = self.train_on_batch(x, y,\n\u001b[1;32m   2146\u001b[0m                                                \u001b[0msample_weight\u001b[0m\u001b[0;34m=\u001b[0m\u001b[0msample_weight\u001b[0m\u001b[0;34m,\u001b[0m\u001b[0;34m\u001b[0m\u001b[0m\n\u001b[0;32m-> 2147\u001b[0;31m                                                class_weight=class_weight)\n\u001b[0m\u001b[1;32m   2148\u001b[0m \u001b[0;34m\u001b[0m\u001b[0m\n\u001b[1;32m   2149\u001b[0m                     \u001b[0;32mif\u001b[0m \u001b[0;32mnot\u001b[0m \u001b[0misinstance\u001b[0m\u001b[0;34m(\u001b[0m\u001b[0mouts\u001b[0m\u001b[0;34m,\u001b[0m \u001b[0mlist\u001b[0m\u001b[0;34m)\u001b[0m\u001b[0;34m:\u001b[0m\u001b[0;34m\u001b[0m\u001b[0m\n",
      "\u001b[0;32m/home/ubuntu/anaconda2/lib/python2.7/site-packages/keras/engine/training.pyc\u001b[0m in \u001b[0;36mtrain_on_batch\u001b[0;34m(self, x, y, sample_weight, class_weight)\u001b[0m\n\u001b[1;32m   1837\u001b[0m             \u001b[0mins\u001b[0m \u001b[0;34m=\u001b[0m \u001b[0mx\u001b[0m \u001b[0;34m+\u001b[0m \u001b[0my\u001b[0m \u001b[0;34m+\u001b[0m \u001b[0msample_weights\u001b[0m\u001b[0;34m\u001b[0m\u001b[0m\n\u001b[1;32m   1838\u001b[0m         \u001b[0mself\u001b[0m\u001b[0;34m.\u001b[0m\u001b[0m_make_train_function\u001b[0m\u001b[0;34m(\u001b[0m\u001b[0;34m)\u001b[0m\u001b[0;34m\u001b[0m\u001b[0m\n\u001b[0;32m-> 1839\u001b[0;31m         \u001b[0moutputs\u001b[0m \u001b[0;34m=\u001b[0m \u001b[0mself\u001b[0m\u001b[0;34m.\u001b[0m\u001b[0mtrain_function\u001b[0m\u001b[0;34m(\u001b[0m\u001b[0mins\u001b[0m\u001b[0;34m)\u001b[0m\u001b[0;34m\u001b[0m\u001b[0m\n\u001b[0m\u001b[1;32m   1840\u001b[0m         \u001b[0;32mif\u001b[0m \u001b[0mlen\u001b[0m\u001b[0;34m(\u001b[0m\u001b[0moutputs\u001b[0m\u001b[0;34m)\u001b[0m \u001b[0;34m==\u001b[0m \u001b[0;36m1\u001b[0m\u001b[0;34m:\u001b[0m\u001b[0;34m\u001b[0m\u001b[0m\n\u001b[1;32m   1841\u001b[0m             \u001b[0;32mreturn\u001b[0m \u001b[0moutputs\u001b[0m\u001b[0;34m[\u001b[0m\u001b[0;36m0\u001b[0m\u001b[0;34m]\u001b[0m\u001b[0;34m\u001b[0m\u001b[0m\n",
      "\u001b[0;32m/home/ubuntu/anaconda2/lib/python2.7/site-packages/keras/backend/tensorflow_backend.pyc\u001b[0m in \u001b[0;36m__call__\u001b[0;34m(self, inputs)\u001b[0m\n\u001b[1;32m   2355\u001b[0m         \u001b[0msession\u001b[0m \u001b[0;34m=\u001b[0m \u001b[0mget_session\u001b[0m\u001b[0;34m(\u001b[0m\u001b[0;34m)\u001b[0m\u001b[0;34m\u001b[0m\u001b[0m\n\u001b[1;32m   2356\u001b[0m         updated = session.run(fetches=fetches, feed_dict=feed_dict,\n\u001b[0;32m-> 2357\u001b[0;31m                               **self.session_kwargs)\n\u001b[0m\u001b[1;32m   2358\u001b[0m         \u001b[0;32mreturn\u001b[0m \u001b[0mupdated\u001b[0m\u001b[0;34m[\u001b[0m\u001b[0;34m:\u001b[0m\u001b[0mlen\u001b[0m\u001b[0;34m(\u001b[0m\u001b[0mself\u001b[0m\u001b[0;34m.\u001b[0m\u001b[0moutputs\u001b[0m\u001b[0;34m)\u001b[0m\u001b[0;34m]\u001b[0m\u001b[0;34m\u001b[0m\u001b[0m\n\u001b[1;32m   2359\u001b[0m \u001b[0;34m\u001b[0m\u001b[0m\n",
      "\u001b[0;32m/home/ubuntu/anaconda2/lib/python2.7/site-packages/tensorflow/python/client/session.pyc\u001b[0m in \u001b[0;36mrun\u001b[0;34m(self, fetches, feed_dict, options, run_metadata)\u001b[0m\n\u001b[1;32m    887\u001b[0m     \u001b[0;32mtry\u001b[0m\u001b[0;34m:\u001b[0m\u001b[0;34m\u001b[0m\u001b[0m\n\u001b[1;32m    888\u001b[0m       result = self._run(None, fetches, feed_dict, options_ptr,\n\u001b[0;32m--> 889\u001b[0;31m                          run_metadata_ptr)\n\u001b[0m\u001b[1;32m    890\u001b[0m       \u001b[0;32mif\u001b[0m \u001b[0mrun_metadata\u001b[0m\u001b[0;34m:\u001b[0m\u001b[0;34m\u001b[0m\u001b[0m\n\u001b[1;32m    891\u001b[0m         \u001b[0mproto_data\u001b[0m \u001b[0;34m=\u001b[0m \u001b[0mtf_session\u001b[0m\u001b[0;34m.\u001b[0m\u001b[0mTF_GetBuffer\u001b[0m\u001b[0;34m(\u001b[0m\u001b[0mrun_metadata_ptr\u001b[0m\u001b[0;34m)\u001b[0m\u001b[0;34m\u001b[0m\u001b[0m\n",
      "\u001b[0;32m/home/ubuntu/anaconda2/lib/python2.7/site-packages/tensorflow/python/client/session.pyc\u001b[0m in \u001b[0;36m_run\u001b[0;34m(self, handle, fetches, feed_dict, options, run_metadata)\u001b[0m\n\u001b[1;32m   1118\u001b[0m     \u001b[0;32mif\u001b[0m \u001b[0mfinal_fetches\u001b[0m \u001b[0;32mor\u001b[0m \u001b[0mfinal_targets\u001b[0m \u001b[0;32mor\u001b[0m \u001b[0;34m(\u001b[0m\u001b[0mhandle\u001b[0m \u001b[0;32mand\u001b[0m \u001b[0mfeed_dict_tensor\u001b[0m\u001b[0;34m)\u001b[0m\u001b[0;34m:\u001b[0m\u001b[0;34m\u001b[0m\u001b[0m\n\u001b[1;32m   1119\u001b[0m       results = self._do_run(handle, final_targets, final_fetches,\n\u001b[0;32m-> 1120\u001b[0;31m                              feed_dict_tensor, options, run_metadata)\n\u001b[0m\u001b[1;32m   1121\u001b[0m     \u001b[0;32melse\u001b[0m\u001b[0;34m:\u001b[0m\u001b[0;34m\u001b[0m\u001b[0m\n\u001b[1;32m   1122\u001b[0m       \u001b[0mresults\u001b[0m \u001b[0;34m=\u001b[0m \u001b[0;34m[\u001b[0m\u001b[0;34m]\u001b[0m\u001b[0;34m\u001b[0m\u001b[0m\n",
      "\u001b[0;32m/home/ubuntu/anaconda2/lib/python2.7/site-packages/tensorflow/python/client/session.pyc\u001b[0m in \u001b[0;36m_do_run\u001b[0;34m(self, handle, target_list, fetch_list, feed_dict, options, run_metadata)\u001b[0m\n\u001b[1;32m   1315\u001b[0m     \u001b[0;32mif\u001b[0m \u001b[0mhandle\u001b[0m \u001b[0;32mis\u001b[0m \u001b[0mNone\u001b[0m\u001b[0;34m:\u001b[0m\u001b[0;34m\u001b[0m\u001b[0m\n\u001b[1;32m   1316\u001b[0m       return self._do_call(_run_fn, self._session, feeds, fetches, targets,\n\u001b[0;32m-> 1317\u001b[0;31m                            options, run_metadata)\n\u001b[0m\u001b[1;32m   1318\u001b[0m     \u001b[0;32melse\u001b[0m\u001b[0;34m:\u001b[0m\u001b[0;34m\u001b[0m\u001b[0m\n\u001b[1;32m   1319\u001b[0m       \u001b[0;32mreturn\u001b[0m \u001b[0mself\u001b[0m\u001b[0;34m.\u001b[0m\u001b[0m_do_call\u001b[0m\u001b[0;34m(\u001b[0m\u001b[0m_prun_fn\u001b[0m\u001b[0;34m,\u001b[0m \u001b[0mself\u001b[0m\u001b[0;34m.\u001b[0m\u001b[0m_session\u001b[0m\u001b[0;34m,\u001b[0m \u001b[0mhandle\u001b[0m\u001b[0;34m,\u001b[0m \u001b[0mfeeds\u001b[0m\u001b[0;34m,\u001b[0m \u001b[0mfetches\u001b[0m\u001b[0;34m)\u001b[0m\u001b[0;34m\u001b[0m\u001b[0m\n",
      "\u001b[0;32m/home/ubuntu/anaconda2/lib/python2.7/site-packages/tensorflow/python/client/session.pyc\u001b[0m in \u001b[0;36m_do_call\u001b[0;34m(self, fn, *args)\u001b[0m\n\u001b[1;32m   1321\u001b[0m   \u001b[0;32mdef\u001b[0m \u001b[0m_do_call\u001b[0m\u001b[0;34m(\u001b[0m\u001b[0mself\u001b[0m\u001b[0;34m,\u001b[0m \u001b[0mfn\u001b[0m\u001b[0;34m,\u001b[0m \u001b[0;34m*\u001b[0m\u001b[0margs\u001b[0m\u001b[0;34m)\u001b[0m\u001b[0;34m:\u001b[0m\u001b[0;34m\u001b[0m\u001b[0m\n\u001b[1;32m   1322\u001b[0m     \u001b[0;32mtry\u001b[0m\u001b[0;34m:\u001b[0m\u001b[0;34m\u001b[0m\u001b[0m\n\u001b[0;32m-> 1323\u001b[0;31m       \u001b[0;32mreturn\u001b[0m \u001b[0mfn\u001b[0m\u001b[0;34m(\u001b[0m\u001b[0;34m*\u001b[0m\u001b[0margs\u001b[0m\u001b[0;34m)\u001b[0m\u001b[0;34m\u001b[0m\u001b[0m\n\u001b[0m\u001b[1;32m   1324\u001b[0m     \u001b[0;32mexcept\u001b[0m \u001b[0merrors\u001b[0m\u001b[0;34m.\u001b[0m\u001b[0mOpError\u001b[0m \u001b[0;32mas\u001b[0m \u001b[0me\u001b[0m\u001b[0;34m:\u001b[0m\u001b[0;34m\u001b[0m\u001b[0m\n\u001b[1;32m   1325\u001b[0m       \u001b[0mmessage\u001b[0m \u001b[0;34m=\u001b[0m \u001b[0mcompat\u001b[0m\u001b[0;34m.\u001b[0m\u001b[0mas_text\u001b[0m\u001b[0;34m(\u001b[0m\u001b[0me\u001b[0m\u001b[0;34m.\u001b[0m\u001b[0mmessage\u001b[0m\u001b[0;34m)\u001b[0m\u001b[0;34m\u001b[0m\u001b[0m\n",
      "\u001b[0;32m/home/ubuntu/anaconda2/lib/python2.7/site-packages/tensorflow/python/client/session.pyc\u001b[0m in \u001b[0;36m_run_fn\u001b[0;34m(session, feed_dict, fetch_list, target_list, options, run_metadata)\u001b[0m\n\u001b[1;32m   1300\u001b[0m           return tf_session.TF_Run(session, options,\n\u001b[1;32m   1301\u001b[0m                                    \u001b[0mfeed_dict\u001b[0m\u001b[0;34m,\u001b[0m \u001b[0mfetch_list\u001b[0m\u001b[0;34m,\u001b[0m \u001b[0mtarget_list\u001b[0m\u001b[0;34m,\u001b[0m\u001b[0;34m\u001b[0m\u001b[0m\n\u001b[0;32m-> 1302\u001b[0;31m                                    status, run_metadata)\n\u001b[0m\u001b[1;32m   1303\u001b[0m \u001b[0;34m\u001b[0m\u001b[0m\n\u001b[1;32m   1304\u001b[0m     \u001b[0;32mdef\u001b[0m \u001b[0m_prun_fn\u001b[0m\u001b[0;34m(\u001b[0m\u001b[0msession\u001b[0m\u001b[0;34m,\u001b[0m \u001b[0mhandle\u001b[0m\u001b[0;34m,\u001b[0m \u001b[0mfeed_dict\u001b[0m\u001b[0;34m,\u001b[0m \u001b[0mfetch_list\u001b[0m\u001b[0;34m)\u001b[0m\u001b[0;34m:\u001b[0m\u001b[0;34m\u001b[0m\u001b[0m\n",
      "\u001b[0;31mKeyboardInterrupt\u001b[0m: "
     ]
    }
   ],
   "source": [
    "batch_size = 64\n",
    "\n",
    "history = model.fit_generator(generator=mi,#train_generator(batch_size),\n",
    "                              steps_per_epoch=train_df.shape[0]*(1./5)//batch_size,\n",
    "                              epochs=100,\n",
    "                              callbacks=callbacks,\n",
    "                              validation_data=valid_generator(batch_size),\n",
    "                              validation_steps=int(np.ceil(valid_df.shape[0]/batch_size)))"
   ]
  },
  {
   "cell_type": "code",
   "execution_count": 34,
   "metadata": {
    "collapsed": true
   },
   "outputs": [],
   "source": [
    "model.load_weights('./weights/conv2d_wlstm_hardpseudo_withval_c2.hdf5')"
   ]
  },
  {
   "cell_type": "markdown",
   "metadata": {},
   "source": [
    "### valid evaluation"
   ]
  },
  {
   "cell_type": "code",
   "execution_count": 11,
   "metadata": {},
   "outputs": [],
   "source": [
    "from sklearn.preprocessing import OneHotEncoder\n",
    "from sklearn.metrics import classification_report"
   ]
  },
  {
   "cell_type": "code",
   "execution_count": 12,
   "metadata": {},
   "outputs": [
    {
     "ename": "NameError",
     "evalue": "name 'valid_generator' is not defined",
     "output_type": "error",
     "traceback": [
      "\u001b[0;31m---------------------------------------------------------------------------\u001b[0m",
      "\u001b[0;31mNameError\u001b[0m                                 Traceback (most recent call last)",
      "\u001b[0;32m<ipython-input-12-319b4a5773d7>\u001b[0m in \u001b[0;36m<module>\u001b[0;34m()\u001b[0m\n\u001b[0;32m----> 1\u001b[0;31m \u001b[0mval_preds\u001b[0m \u001b[0;34m=\u001b[0m \u001b[0mmodel\u001b[0m\u001b[0;34m.\u001b[0m\u001b[0mpredict_generator\u001b[0m\u001b[0;34m(\u001b[0m\u001b[0mvalid_generator\u001b[0m\u001b[0;34m(\u001b[0m\u001b[0;36m64\u001b[0m\u001b[0;34m)\u001b[0m\u001b[0;34m,\u001b[0m\u001b[0msteps\u001b[0m\u001b[0;34m=\u001b[0m\u001b[0mint\u001b[0m\u001b[0;34m(\u001b[0m\u001b[0mnp\u001b[0m\u001b[0;34m.\u001b[0m\u001b[0mceil\u001b[0m\u001b[0;34m(\u001b[0m\u001b[0mvalid_df\u001b[0m\u001b[0;34m.\u001b[0m\u001b[0mshape\u001b[0m\u001b[0;34m[\u001b[0m\u001b[0;36m0\u001b[0m\u001b[0;34m]\u001b[0m\u001b[0;34m/\u001b[0m\u001b[0;36m64.\u001b[0m\u001b[0;34m)\u001b[0m\u001b[0;34m)\u001b[0m\u001b[0;34m)\u001b[0m\u001b[0;34m\u001b[0m\u001b[0m\n\u001b[0m\u001b[1;32m      2\u001b[0m \u001b[0mval_preds\u001b[0m \u001b[0;34m=\u001b[0m \u001b[0mnp\u001b[0m\u001b[0;34m.\u001b[0m\u001b[0margmax\u001b[0m\u001b[0;34m(\u001b[0m\u001b[0mval_preds\u001b[0m\u001b[0;34m,\u001b[0m\u001b[0maxis\u001b[0m\u001b[0;34m=\u001b[0m\u001b[0;36m1\u001b[0m\u001b[0;34m)\u001b[0m\u001b[0;34m\u001b[0m\u001b[0m\n",
      "\u001b[0;31mNameError\u001b[0m: name 'valid_generator' is not defined"
     ]
    }
   ],
   "source": [
    "val_preds = model.predict_generator(valid_generator(64),steps=int(np.ceil(valid_df.shape[0]/64.)))\n",
    "val_preds = np.argmax(val_preds,axis=1)"
   ]
  },
  {
   "cell_type": "code",
   "execution_count": 13,
   "metadata": {},
   "outputs": [
    {
     "ename": "NameError",
     "evalue": "name 'val_preds' is not defined",
     "output_type": "error",
     "traceback": [
      "\u001b[0;31m---------------------------------------------------------------------------\u001b[0m",
      "\u001b[0;31mNameError\u001b[0m                                 Traceback (most recent call last)",
      "\u001b[0;32m<ipython-input-13-abd70c802b19>\u001b[0m in \u001b[0;36m<module>\u001b[0;34m()\u001b[0m\n\u001b[0;32m----> 1\u001b[0;31m \u001b[0mval_preds\u001b[0m\u001b[0;34m.\u001b[0m\u001b[0mshape\u001b[0m\u001b[0;34m\u001b[0m\u001b[0m\n\u001b[0m",
      "\u001b[0;31mNameError\u001b[0m: name 'val_preds' is not defined"
     ]
    }
   ],
   "source": [
    "val_preds.shape"
   ]
  },
  {
   "cell_type": "code",
   "execution_count": 219,
   "metadata": {
    "collapsed": true
   },
   "outputs": [],
   "source": [
    "oe = OneHotEncoder()"
   ]
  },
  {
   "cell_type": "code",
   "execution_count": 220,
   "metadata": {
    "collapsed": true
   },
   "outputs": [],
   "source": [
    "y_true = oe.fit_transform(valid_df.label_id.values.reshape(-1, 1)).todense()\n",
    "\n"
   ]
  },
  {
   "cell_type": "code",
   "execution_count": 221,
   "metadata": {
    "collapsed": true
   },
   "outputs": [],
   "source": [
    "val_preds = oe.transform(val_preds.reshape(-1, 1)).todense()\n"
   ]
  },
  {
   "cell_type": "code",
   "execution_count": 222,
   "metadata": {},
   "outputs": [
    {
     "name": "stdout",
     "output_type": "stream",
     "text": [
      "             precision    recall  f1-score   support\n",
      "\n",
      "        yes       0.97      0.97      0.97       261\n",
      "         no       0.93      0.94      0.94       270\n",
      "         up       0.89      0.95      0.92       260\n",
      "       down       0.95      0.98      0.97       264\n",
      "       left       0.95      0.98      0.96       247\n",
      "      right       0.91      0.99      0.95       256\n",
      "         on       0.95      0.95      0.95       257\n",
      "        off       0.93      0.95      0.94       256\n",
      "       stop       0.96      0.97      0.96       246\n",
      "         go       0.91      0.92      0.92       260\n",
      "    silence       0.94      1.00      0.97       257\n",
      "    unknown       0.99      0.97      0.98      4221\n",
      "\n",
      "avg / total       0.97      0.97      0.97      7055\n",
      "\n"
     ]
    }
   ],
   "source": [
    "print classification_report(y_true,val_preds,target_names=POSSIBLE_LABELS)"
   ]
  },
  {
   "cell_type": "code",
   "execution_count": 41,
   "metadata": {},
   "outputs": [
    {
     "name": "stdout",
     "output_type": "stream",
     "text": [
      "             precision    recall  f1-score   support\n",
      "\n",
      "        yes       1.00      0.97      0.98       261\n",
      "         no       0.97      0.98      0.97       270\n",
      "         up       0.95      0.96      0.96       260\n",
      "       down       0.99      0.98      0.98       264\n",
      "       left       0.99      0.99      0.99       247\n",
      "      right       0.99      0.98      0.99       256\n",
      "         on       0.99      0.96      0.98       257\n",
      "        off       0.97      0.96      0.96       256\n",
      "       stop       0.98      0.97      0.98       246\n",
      "         go       0.96      0.94      0.95       260\n",
      "    silence       0.99      1.00      0.99       257\n",
      "    unknown       0.99      0.99      0.99      4221\n",
      "\n",
      "avg / total       0.98      0.98      0.98      7055\n",
      "\n"
     ]
    }
   ],
   "source": [
    "print classification_report(y_true,val_preds,target_names=POSSIBLE_LABELS)"
   ]
  },
  {
   "cell_type": "code",
   "execution_count": 29,
   "metadata": {},
   "outputs": [
    {
     "name": "stdout",
     "output_type": "stream",
     "text": [
      "             precision    recall  f1-score   support\n",
      "\n",
      "        yes       1.00      0.97      0.98       261\n",
      "         no       0.97      0.98      0.97       270\n",
      "         up       0.95      0.96      0.96       260\n",
      "       down       0.99      0.98      0.98       264\n",
      "       left       0.99      0.99      0.99       247\n",
      "      right       0.99      0.98      0.99       256\n",
      "         on       0.99      0.96      0.98       257\n",
      "        off       0.97      0.96      0.96       256\n",
      "       stop       0.98      0.97      0.98       246\n",
      "         go       0.96      0.94      0.95       260\n",
      "    silence       0.99      1.00      0.99       257\n",
      "    unknown       0.99      0.99      0.99      4221\n",
      "\n",
      "avg / total       0.98      0.98      0.98      7055\n",
      "\n"
     ]
    }
   ],
   "source": [
    "print classification_report(y_true,val_preds,target_names=POSSIBLE_LABELS)"
   ]
  },
  {
   "cell_type": "code",
   "execution_count": 57,
   "metadata": {},
   "outputs": [
    {
     "name": "stdout",
     "output_type": "stream",
     "text": [
      "             precision    recall  f1-score   support\n",
      "\n",
      "        yes       0.99      0.97      0.98       261\n",
      "         no       0.91      0.97      0.94       270\n",
      "         up       0.92      0.95      0.93       260\n",
      "       down       0.98      0.96      0.97       264\n",
      "       left       0.97      0.99      0.98       247\n",
      "      right       0.98      0.98      0.98       256\n",
      "         on       0.95      0.95      0.95       257\n",
      "        off       0.94      0.96      0.95       256\n",
      "       stop       0.96      0.96      0.96       246\n",
      "         go       0.93      0.93      0.93       260\n",
      "    silence       0.96      1.00      0.98       257\n",
      "    unknown       0.99      0.98      0.99      4221\n",
      "\n",
      "avg / total       0.98      0.98      0.98      7055\n",
      "\n"
     ]
    }
   ],
   "source": [
    "print classification_report(y_true,val_preds,target_names=POSSIBLE_LABELS)"
   ]
  },
  {
   "cell_type": "code",
   "execution_count": 46,
   "metadata": {},
   "outputs": [
    {
     "name": "stdout",
     "output_type": "stream",
     "text": [
      "             precision    recall  f1-score   support\n",
      "\n",
      "        yes       0.99      0.97      0.98       261\n",
      "         no       0.91      0.97      0.94       270\n",
      "         up       0.92      0.94      0.93       260\n",
      "       down       0.98      0.96      0.97       264\n",
      "       left       0.97      0.99      0.98       247\n",
      "      right       0.98      0.98      0.98       256\n",
      "         on       0.95      0.95      0.95       257\n",
      "        off       0.93      0.96      0.94       256\n",
      "       stop       0.96      0.96      0.96       246\n",
      "         go       0.93      0.92      0.92       260\n",
      "    silence       0.96      1.00      0.98       257\n",
      "    unknown       0.99      0.98      0.99      4221\n",
      "\n",
      "avg / total       0.97      0.97      0.97      7055\n",
      "\n"
     ]
    }
   ],
   "source": [
    "print classification_report(y_true,val_preds,target_names=POSSIBLE_LABELS)"
   ]
  },
  {
   "cell_type": "code",
   "execution_count": 35,
   "metadata": {},
   "outputs": [
    {
     "name": "stdout",
     "output_type": "stream",
     "text": [
      "             precision    recall  f1-score   support\n",
      "\n",
      "        yes       0.99      0.97      0.98       261\n",
      "         no       0.91      0.96      0.93       270\n",
      "         up       0.92      0.94      0.93       260\n",
      "       down       0.97      0.96      0.97       264\n",
      "       left       0.97      0.99      0.98       247\n",
      "      right       0.97      0.98      0.98       256\n",
      "         on       0.94      0.95      0.94       257\n",
      "        off       0.92      0.96      0.94       256\n",
      "       stop       0.96      0.96      0.96       246\n",
      "         go       0.92      0.92      0.92       260\n",
      "    silence       0.95      1.00      0.98       257\n",
      "    unknown       0.99      0.98      0.98      4221\n",
      "\n",
      "avg / total       0.97      0.97      0.97      7055\n",
      "\n"
     ]
    }
   ],
   "source": [
    "print classification_report(y_true,val_preds,target_names=POSSIBLE_LABELS)"
   ]
  },
  {
   "cell_type": "code",
   "execution_count": 21,
   "metadata": {},
   "outputs": [
    {
     "name": "stdout",
     "output_type": "stream",
     "text": [
      "             precision    recall  f1-score   support\n",
      "\n",
      "        yes       0.98      0.97      0.97       261\n",
      "         no       0.91      0.95      0.93       270\n",
      "         up       0.93      0.94      0.94       260\n",
      "       down       0.96      0.97      0.96       264\n",
      "       left       0.95      0.99      0.97       247\n",
      "      right       0.95      0.97      0.96       256\n",
      "         on       0.95      0.95      0.95       257\n",
      "        off       0.92      0.96      0.94       256\n",
      "       stop       0.95      0.96      0.95       246\n",
      "         go       0.92      0.92      0.92       260\n",
      "    silence       0.96      1.00      0.98       257\n",
      "    unknown       0.99      0.98      0.98      4221\n",
      "\n",
      "avg / total       0.97      0.97      0.97      7055\n",
      "\n"
     ]
    }
   ],
   "source": [
    "print classification_report(y_true,val_preds,target_names=POSSIBLE_LABELS)"
   ]
  },
  {
   "cell_type": "markdown",
   "metadata": {},
   "source": [
    "#### tta test"
   ]
  },
  {
   "cell_type": "code",
   "execution_count": 23,
   "metadata": {},
   "outputs": [],
   "source": [
    "\n",
    "\n",
    "def augment_wav(wav,pval=0.5):\n",
    "    sample_rate = 16000\n",
    "    L = 1000 #16000  # 1 sec\n",
    "    \n",
    "#     adjust speed, with 50% chance\n",
    "    wav = speed_change(wav,1.+ random.choice([.08,-0.08])) #random.uniform(-1, 1)*0.05) if np.random.random() < pval else wav\n",
    "    \n",
    "    \n",
    "    #adjust volume\n",
    "#     db_adjustment = random.uniform(-1, 1)*10\n",
    "    wav = wav + random.choice([-8,-3,7,11]) #randodb_adjustment if np.random.random() < pval else wav\n",
    "     \n",
    "        \n",
    "    #fill to 1 second\n",
    "    wav = fill_to_1sec(wav)        \n",
    "        \n",
    "    #shift the audio by 10 ms\n",
    "    shift_length = 120\n",
    "    if np.random.random() < 0.5: #shift to left\n",
    "        wav = wav[:L-shift_length]+ AudioSegment.silent(shift_length,frame_rate=sample_rate)\n",
    "    else: #shift to right\n",
    "        wav = AudioSegment.silent(shift_length,frame_rate=sample_rate) + wav[shift_length:]\n",
    "        \n",
    "        \n",
    "        \n",
    "    #blend original file with background noise     \n",
    "#     if np.random.random() < pval:\n",
    "    noise = random.choice(silence_files_AS)\n",
    "    db_delta = (wav.dBFS - noise.dBFS) - random.choice([8,9,10])\n",
    "\n",
    "    if db_delta< 0: #reduce intensity of loud background; if it's too silent, leave it be\n",
    "        noise = noise  + db_delta\n",
    "    wav = wav.overlay(noise)\n",
    " \n",
    "    return wav\n",
    "\n",
    "def log_mel(samples,sample_rate=16000,reshape=False,n_mels=256):\n",
    "\n",
    "\t\tS = librosa.feature.melspectrogram(samples, sr=sample_rate, n_mels=n_mels,hop_length=252)\n",
    "\n",
    "\t\t# Convert to log scale (dB). We'll use the peak power (max) as reference.\n",
    "\t\tlog_S = librosa.power_to_db(S, ref=np.max)\n",
    "\t\tlog_S = log_S.reshape(log_S.shape[0],-1,1) if reshape else log_S\n",
    "\n",
    "\t\treturn \tlog_S\n",
    "    \n",
    "def process_wav_file(record, reshape=False, augment=False,pval=0.5 ,output_format='logmel',n_mels=128 ):\n",
    "    \n",
    "    if type(record) == str: # test files\n",
    "        fname = record\n",
    "        label = \"test\"\n",
    "    else:    \n",
    "        fname  = record.wav_file\n",
    "        label = record.label\n",
    "\n",
    "        \n",
    "        \n",
    "        \n",
    "        \n",
    "    if \"raw_AS_wav\" in record: \n",
    "        wav = record.raw_AS_wav\n",
    "    else:\n",
    "        wav = AudioSegment.from_wav(fname.replace(\"\\\\\",\"/\"))\n",
    "        \n",
    "        \n",
    "    \n",
    "    if (not label in [\"silence\"]) and augment: #no augmentation for sample files \n",
    "        wav = augment_wav(wav,pval)\n",
    "\n",
    "    else: #make sure segment is 1 second\n",
    "        wav = fill_to_1sec(wav)\n",
    "\n",
    "        \n",
    "    samples = AS_to_raw(wav)\n",
    "    \n",
    "    \n",
    "    \n",
    "    if output_format == \"logmel\":\n",
    "        output = log_mel(samples,reshape=reshape,n_mels=n_mels)\n",
    "        \n",
    "    elif output_format == \"mfcc\":\n",
    "        log_S = log_mel(samples,reshape=False,n_mels=n_mels)\n",
    "        mfcc = librosa.feature.mfcc(S=log_S, n_mfcc=40) #hirese mfcc\n",
    "        delta1 = librosa.feature.delta(mfcc, order=1)#hirese mfcc\n",
    "        delta2 = librosa.feature.delta(mfcc, order=2)\n",
    "\n",
    "        output = np.stack([mfcc,delta1,delta2])\n",
    "        \n",
    "    elif  output_format == \"cqt\":   \n",
    "        samples = samples/samples\n",
    "        output = librosa.cqt(samples, sr=16000 , fmin=librosa.note_to_hz('C2'),n_bins=60 * 2, bins_per_octave=12 * 2)\n",
    "    else:\n",
    "        output = samples\n",
    "    \n",
    "    \n",
    "    return output\n"
   ]
  },
  {
   "cell_type": "code",
   "execution_count": 143,
   "metadata": {
    "collapsed": true
   },
   "outputs": [],
   "source": [
    "silence_files_AS = [AudioSegment.from_wav(x) for x in silent_df.wav_file.values]\n",
    "\n",
    "filler = AudioSegment.silent(duration=1000, frame_rate = 16000)\n",
    "\n",
    "def valid_generator_aug(val_batch_size):\n",
    "    while True:\n",
    "        ids = list(range(valid_df.shape[0]))\n",
    "        for start in range(0, len(ids), val_batch_size):\n",
    "            x_batch = []\n",
    "            y_batch = []\n",
    "            end = min(start + val_batch_size, len(ids))\n",
    "            i_val_batch = ids[start:end]\n",
    "            for i in i_val_batch:\n",
    "                x_batch.append(process_wav_file(valid_df.loc[i],n_mels=256,augment=True).T)\n",
    "                y_batch.append(valid_df.label_id.values[i])\n",
    "\n",
    "            x_batch = 1.- np.array(x_batch)/-80.\n",
    "            y_batch = to_categorical(y_batch, num_classes = len(POSSIBLE_LABELS))\n",
    "            yield x_batch, y_batch"
   ]
  },
  {
   "cell_type": "code",
   "execution_count": 31,
   "metadata": {},
   "outputs": [
    {
     "name": "stdout",
     "output_type": "stream",
     "text": [
      "111/111 [==============================] - 77s 690ms/step\n",
      "111/111 [==============================] - 77s 698ms/step\n"
     ]
    }
   ],
   "source": [
    "augs= []\n",
    "num_augs = 2\n",
    "for i in range(num_augs):\n",
    "    tmp_gen = valid_generator_aug(64)\n",
    "    augs.append(model.predict_generator(tmp_gen,steps=int(np.ceil(valid_df.shape[0]/64.)),verbose=1))\n",
    "    del tmp_gen"
   ]
  },
  {
   "cell_type": "code",
   "execution_count": 32,
   "metadata": {
    "collapsed": true
   },
   "outputs": [],
   "source": [
    "augs.append(val_preds)"
   ]
  },
  {
   "cell_type": "code",
   "execution_count": 33,
   "metadata": {
    "collapsed": true
   },
   "outputs": [],
   "source": [
    "val_blend = np.mean(augs,axis=0) #np.mean([val_preds,preds_aug1],axis=0)\n",
    "val_blend = np.argmax(val_blend,axis=1)\n",
    "val_blend = oe.transform(val_blend.reshape(-1, 1)).todense()"
   ]
  },
  {
   "cell_type": "code",
   "execution_count": 34,
   "metadata": {},
   "outputs": [
    {
     "name": "stdout",
     "output_type": "stream",
     "text": [
      "             precision    recall  f1-score   support\n",
      "\n",
      "        yes       0.98      0.97      0.98       261\n",
      "         no       0.90      0.94      0.92       270\n",
      "         up       0.92      0.95      0.94       260\n",
      "       down       0.94      0.96      0.95       264\n",
      "       left       0.95      0.98      0.97       247\n",
      "      right       0.94      0.98      0.96       256\n",
      "         on       0.94      0.94      0.94       257\n",
      "        off       0.92      0.96      0.94       256\n",
      "       stop       0.95      0.96      0.95       246\n",
      "         go       0.89      0.90      0.90       260\n",
      "    silence       0.96      1.00      0.98       257\n",
      "    unknown       0.99      0.97      0.98      4221\n",
      "\n",
      "avg / total       0.97      0.97      0.97      7055\n",
      "\n"
     ]
    }
   ],
   "source": [
    "print classification_report(y_true,val_blend,target_names=POSSIBLE_LABELS)"
   ]
  },
  {
   "cell_type": "code",
   "execution_count": 113,
   "metadata": {},
   "outputs": [
    {
     "name": "stdout",
     "output_type": "stream",
     "text": [
      "             precision    recall  f1-score   support\n",
      "\n",
      "        yes       0.98      0.97      0.97       261\n",
      "         no       0.92      0.94      0.93       270\n",
      "         up       0.89      0.93      0.91       260\n",
      "       down       0.96      0.97      0.96       264\n",
      "       left       0.95      0.99      0.97       247\n",
      "      right       0.96      0.97      0.97       256\n",
      "         on       0.91      0.95      0.93       257\n",
      "        off       0.92      0.95      0.93       256\n",
      "       stop       0.97      0.95      0.96       246\n",
      "         go       0.93      0.93      0.93       260\n",
      "    silence       0.99      1.00      0.99       257\n",
      "    unknown       0.99      0.98      0.98      4221\n",
      "\n",
      "avg / total       0.97      0.97      0.97      7055\n",
      "\n"
     ]
    }
   ],
   "source": [
    "print classification_report(y_true,val_preds,target_names=POSSIBLE_LABELS)"
   ]
  },
  {
   "cell_type": "code",
   "execution_count": 63,
   "metadata": {},
   "outputs": [
    {
     "name": "stdout",
     "output_type": "stream",
     "text": [
      "             precision    recall  f1-score   support\n",
      "\n",
      "        yes       0.99      0.96      0.97       261\n",
      "         no       0.91      0.94      0.92       270\n",
      "         up       0.93      0.92      0.92       260\n",
      "       down       0.93      0.97      0.95       264\n",
      "       left       0.95      0.98      0.96       247\n",
      "      right       0.95      0.95      0.95       256\n",
      "         on       0.93      0.93      0.93       257\n",
      "        off       0.87      0.95      0.91       256\n",
      "       stop       0.96      0.94      0.95       246\n",
      "         go       0.90      0.91      0.90       260\n",
      "    silence       0.99      1.00      0.99       257\n",
      "    unknown       0.98      0.97      0.98      4221\n",
      "\n",
      "avg / total       0.96      0.96      0.96      7055\n",
      "\n"
     ]
    }
   ],
   "source": [
    "print classification_report(y_true,val_preds,target_names=POSSIBLE_LABELS)"
   ]
  },
  {
   "cell_type": "code",
   "execution_count": 32,
   "metadata": {},
   "outputs": [
    {
     "name": "stdout",
     "output_type": "stream",
     "text": [
      "             precision    recall  f1-score   support\n",
      "\n",
      "        yes       0.99      0.97      0.98       261\n",
      "         no       0.91      0.93      0.92       270\n",
      "         up       0.91      0.93      0.92       260\n",
      "       down       0.97      0.95      0.96       264\n",
      "       left       0.97      0.98      0.97       247\n",
      "      right       0.97      0.94      0.96       256\n",
      "         on       0.95      0.94      0.95       257\n",
      "        off       0.94      0.96      0.95       256\n",
      "       stop       0.97      0.91      0.94       246\n",
      "         go       0.88      0.87      0.87       260\n",
      "    silence       0.99      1.00      1.00       257\n",
      "    unknown       0.98      0.98      0.98      4221\n",
      "\n",
      "avg / total       0.97      0.97      0.97      7055\n",
      "\n"
     ]
    }
   ],
   "source": [
    "print classification_report(y_true,val_preds,target_names=POSSIBLE_LABELS)"
   ]
  },
  {
   "cell_type": "code",
   "execution_count": 176,
   "metadata": {},
   "outputs": [
    {
     "name": "stdout",
     "output_type": "stream",
     "text": [
      "             precision    recall  f1-score   support\n",
      "\n",
      "        yes       0.99      0.96      0.97       261\n",
      "         no       0.92      0.93      0.92       270\n",
      "         up       0.83      0.95      0.89       260\n",
      "       down       0.95      0.96      0.96       264\n",
      "       left       0.95      0.98      0.97       247\n",
      "      right       0.97      0.95      0.96       256\n",
      "         on       0.94      0.94      0.94       257\n",
      "        off       0.90      0.95      0.92       256\n",
      "       stop       0.96      0.94      0.95       246\n",
      "         go       0.92      0.92      0.92       260\n",
      "    silence       1.00      1.00      1.00       257\n",
      "    unknown       0.99      0.98      0.98      4221\n",
      "\n",
      "avg / total       0.97      0.97      0.97      7055\n",
      "\n"
     ]
    }
   ],
   "source": [
    "print classification_report(y_true,val_preds,target_names=POSSIBLE_LABELS)"
   ]
  },
  {
   "cell_type": "code",
   "execution_count": 107,
   "metadata": {},
   "outputs": [
    {
     "name": "stdout",
     "output_type": "stream",
     "text": [
      "             precision    recall  f1-score   support\n",
      "\n",
      "        yes       0.98      0.97      0.98       261\n",
      "         no       0.89      0.92      0.90       270\n",
      "         up       0.92      0.94      0.93       260\n",
      "       down       0.96      0.97      0.96       264\n",
      "       left       0.96      0.98      0.97       247\n",
      "      right       0.97      0.97      0.97       256\n",
      "         on       0.93      0.95      0.94       257\n",
      "        off       0.92      0.97      0.94       256\n",
      "       stop       0.97      0.94      0.96       246\n",
      "         go       0.91      0.91      0.91       260\n",
      "    silence       0.99      1.00      1.00       257\n",
      "    unknown       0.99      0.98      0.98      4221\n",
      "\n",
      "avg / total       0.97      0.97      0.97      7055\n",
      "\n"
     ]
    }
   ],
   "source": [
    "print classification_report(y_true,val_preds,target_names=POSSIBLE_LABELS)"
   ]
  },
  {
   "cell_type": "code",
   "execution_count": 78,
   "metadata": {},
   "outputs": [
    {
     "name": "stdout",
     "output_type": "stream",
     "text": [
      "             precision    recall  f1-score   support\n",
      "\n",
      "        yes       0.98      0.96      0.97       261\n",
      "         no       0.88      0.91      0.89       270\n",
      "         up       0.86      0.95      0.90       260\n",
      "       down       0.92      0.95      0.93       264\n",
      "       left       0.94      0.98      0.96       247\n",
      "      right       0.94      0.95      0.95       256\n",
      "         on       0.83      0.94      0.88       257\n",
      "        off       0.87      0.94      0.90       256\n",
      "       stop       0.98      0.93      0.95       246\n",
      "         go       0.80      0.90      0.85       260\n",
      "    silence       0.95      1.00      0.98       257\n",
      "    unknown       0.98      0.95      0.97      4221\n",
      "\n",
      "avg / total       0.95      0.95      0.95      7055\n",
      "\n"
     ]
    }
   ],
   "source": [
    "print classification_report(y_true,val_preds,target_names=POSSIBLE_LABELS)"
   ]
  },
  {
   "cell_type": "code",
   "execution_count": 41,
   "metadata": {},
   "outputs": [
    {
     "name": "stdout",
     "output_type": "stream",
     "text": [
      "             precision    recall  f1-score   support\n",
      "\n",
      "        yes       0.99      0.96      0.97       261\n",
      "         no       0.92      0.92      0.92       270\n",
      "         up       0.93      0.93      0.93       260\n",
      "       down       0.99      0.95      0.97       264\n",
      "       left       0.98      0.97      0.97       247\n",
      "      right       0.99      0.95      0.97       256\n",
      "         on       0.97      0.92      0.95       257\n",
      "        off       0.94      0.92      0.93       256\n",
      "       stop       0.99      0.94      0.97       246\n",
      "         go       0.95      0.88      0.92       260\n",
      "    silence       0.97      1.00      0.98       257\n",
      "    unknown       0.76      0.98      0.86       257\n",
      "\n",
      "avg / total       0.95      0.94      0.94      3091\n",
      "\n"
     ]
    }
   ],
   "source": [
    "print classification_report(y_true,val_preds,target_names=POSSIBLE_LABELS)"
   ]
  },
  {
   "cell_type": "code",
   "execution_count": 95,
   "metadata": {},
   "outputs": [
    {
     "name": "stdout",
     "output_type": "stream",
     "text": [
      "             precision    recall  f1-score   support\n",
      "\n",
      "        yes       0.98      0.96      0.97       261\n",
      "         no       0.92      0.94      0.93       270\n",
      "         up       0.92      0.93      0.93       260\n",
      "       down       0.98      0.94      0.96       264\n",
      "       left       0.97      0.97      0.97       247\n",
      "      right       0.95      0.96      0.96       256\n",
      "         on       0.96      0.95      0.96       257\n",
      "        off       0.94      0.92      0.93       256\n",
      "       stop       1.00      0.94      0.97       246\n",
      "         go       0.96      0.89      0.92       260\n",
      "    silence       0.98      1.00      0.99       257\n",
      "    unknown       0.82      0.95      0.88       257\n",
      "\n",
      "avg / total       0.95      0.95      0.95      3091\n",
      "\n"
     ]
    }
   ],
   "source": [
    "print classification_report(y_true,val_preds,target_names=POSSIBLE_LABELS)"
   ]
  },
  {
   "cell_type": "code",
   "execution_count": 19,
   "metadata": {},
   "outputs": [
    {
     "name": "stdout",
     "output_type": "stream",
     "text": [
      "             precision    recall  f1-score   support\n",
      "\n",
      "        yes       0.99      0.95      0.97       261\n",
      "         no       0.94      0.95      0.95       270\n",
      "         up       0.92      0.95      0.93       260\n",
      "       down       0.99      0.95      0.97       264\n",
      "       left       0.97      0.96      0.96       247\n",
      "      right       0.99      0.95      0.97       256\n",
      "         on       0.99      0.92      0.95       257\n",
      "        off       0.93      0.94      0.93       256\n",
      "       stop       0.98      0.95      0.97       246\n",
      "         go       0.94      0.90      0.92       260\n",
      "    silence       0.99      1.00      1.00       257\n",
      "    unknown       0.80      0.96      0.88       257\n",
      "\n",
      "avg / total       0.95      0.95      0.95      3091\n",
      "\n"
     ]
    }
   ],
   "source": [
    "print classification_report(y_true,val_preds,target_names=POSSIBLE_LABELS)"
   ]
  },
  {
   "cell_type": "code",
   "execution_count": 197,
   "metadata": {},
   "outputs": [
    {
     "name": "stdout",
     "output_type": "stream",
     "text": [
      "             precision    recall  f1-score   support\n",
      "\n",
      "        yes       1.00      0.96      0.98       261\n",
      "         no       0.91      0.94      0.93       270\n",
      "         up       0.90      0.95      0.92       260\n",
      "       down       0.99      0.94      0.96       264\n",
      "       left       0.98      0.98      0.98       247\n",
      "      right       0.98      0.96      0.97       256\n",
      "         on       0.98      0.93      0.95       257\n",
      "        off       0.93      0.93      0.93       256\n",
      "       stop       0.96      0.93      0.95       246\n",
      "         go       0.95      0.90      0.92       260\n",
      "    silence       0.98      1.00      0.99       257\n",
      "    unknown       0.82      0.94      0.87       257\n",
      "\n",
      "avg / total       0.95      0.95      0.95      3091\n",
      "\n"
     ]
    }
   ],
   "source": [
    "print classification_report(y_true,val_preds,target_names=POSSIBLE_LABELS)"
   ]
  },
  {
   "cell_type": "markdown",
   "metadata": {},
   "source": [
    "### submission\n"
   ]
  },
  {
   "cell_type": "code",
   "execution_count": 14,
   "metadata": {
    "ExecuteTime": {
     "end_time": "2017-11-17T10:28:14.451612Z",
     "start_time": "2017-11-17T10:28:13.307142Z"
    },
    "_cell_guid": "72f27090-c0d1-4d0b-8027-34c915429a79",
    "_uuid": "1007977fccadecdae582ec5d8d52dd3c4c3010aa"
   },
   "outputs": [],
   "source": [
    "test_paths = glob(os.path.join('./data/', 'test/audio/*wav'))"
   ]
  },
  {
   "cell_type": "code",
   "execution_count": 15,
   "metadata": {},
   "outputs": [
    {
     "data": {
      "text/plain": [
       "158538"
      ]
     },
     "execution_count": 15,
     "metadata": {},
     "output_type": "execute_result"
    }
   ],
   "source": [
    "len(test_paths)"
   ]
  },
  {
   "cell_type": "code",
   "execution_count": 16,
   "metadata": {},
   "outputs": [],
   "source": [
    "test_df = pickle.load( open(\"cache/test_df_256.pik\",\"rb\"))\n"
   ]
  },
  {
   "cell_type": "code",
   "execution_count": 21,
   "metadata": {},
   "outputs": [
    {
     "data": {
      "text/plain": [
       "(158538, 5)"
      ]
     },
     "execution_count": 21,
     "metadata": {},
     "output_type": "execute_result"
    }
   ],
   "source": [
    "test_df.shape"
   ]
  },
  {
   "cell_type": "code",
   "execution_count": 20,
   "metadata": {
    "scrolled": true
   },
   "outputs": [
    {
     "data": {
      "text/html": [
       "<div>\n",
       "<style scoped>\n",
       "    .dataframe tbody tr th:only-of-type {\n",
       "        vertical-align: middle;\n",
       "    }\n",
       "\n",
       "    .dataframe tbody tr th {\n",
       "        vertical-align: top;\n",
       "    }\n",
       "\n",
       "    .dataframe thead th {\n",
       "        text-align: right;\n",
       "    }\n",
       "</style>\n",
       "<table border=\"1\" class=\"dataframe\">\n",
       "  <thead>\n",
       "    <tr style=\"text-align: right;\">\n",
       "      <th></th>\n",
       "      <th>label</th>\n",
       "      <th>label_id</th>\n",
       "      <th>user_id</th>\n",
       "      <th>wav_file</th>\n",
       "      <th>raw</th>\n",
       "    </tr>\n",
       "  </thead>\n",
       "  <tbody>\n",
       "    <tr>\n",
       "      <th>0</th>\n",
       "      <td>test</td>\n",
       "      <td>-1</td>\n",
       "      <td>test</td>\n",
       "      <td>./data/test/audio/clip_bd6d0fb25.wav</td>\n",
       "      <td>[[-57.23230735388297, -62.82512929531555, -75....</td>\n",
       "    </tr>\n",
       "    <tr>\n",
       "      <th>1</th>\n",
       "      <td>test</td>\n",
       "      <td>-1</td>\n",
       "      <td>test</td>\n",
       "      <td>./data/test/audio/clip_3e7a56353.wav</td>\n",
       "      <td>[[-58.41587583033354, -52.501135617769904, -53...</td>\n",
       "    </tr>\n",
       "    <tr>\n",
       "      <th>2</th>\n",
       "      <td>test</td>\n",
       "      <td>-1</td>\n",
       "      <td>test</td>\n",
       "      <td>./data/test/audio/clip_c5884a6cb.wav</td>\n",
       "      <td>[[-73.8001558488084, -76.3301942530376, -72.38...</td>\n",
       "    </tr>\n",
       "    <tr>\n",
       "      <th>3</th>\n",
       "      <td>test</td>\n",
       "      <td>-1</td>\n",
       "      <td>test</td>\n",
       "      <td>./data/test/audio/clip_ebf0d1f7b.wav</td>\n",
       "      <td>[[-71.74843060253932, -64.93480667523741, -62....</td>\n",
       "    </tr>\n",
       "    <tr>\n",
       "      <th>4</th>\n",
       "      <td>test</td>\n",
       "      <td>-1</td>\n",
       "      <td>test</td>\n",
       "      <td>./data/test/audio/clip_2f714f052.wav</td>\n",
       "      <td>[[-49.64340117461414, -49.90604863028198, -49....</td>\n",
       "    </tr>\n",
       "  </tbody>\n",
       "</table>\n",
       "</div>"
      ],
      "text/plain": [
       "  label  label_id user_id                              wav_file  \\\n",
       "0  test        -1    test  ./data/test/audio/clip_bd6d0fb25.wav   \n",
       "1  test        -1    test  ./data/test/audio/clip_3e7a56353.wav   \n",
       "2  test        -1    test  ./data/test/audio/clip_c5884a6cb.wav   \n",
       "3  test        -1    test  ./data/test/audio/clip_ebf0d1f7b.wav   \n",
       "4  test        -1    test  ./data/test/audio/clip_2f714f052.wav   \n",
       "\n",
       "                                                 raw  \n",
       "0  [[-57.23230735388297, -62.82512929531555, -75....  \n",
       "1  [[-58.41587583033354, -52.501135617769904, -53...  \n",
       "2  [[-73.8001558488084, -76.3301942530376, -72.38...  \n",
       "3  [[-71.74843060253932, -64.93480667523741, -62....  \n",
       "4  [[-49.64340117461414, -49.90604863028198, -49....  "
      ]
     },
     "execution_count": 20,
     "metadata": {},
     "output_type": "execute_result"
    }
   ],
   "source": [
    "test_df.head()"
   ]
  },
  {
   "cell_type": "code",
   "execution_count": null,
   "metadata": {
    "collapsed": true
   },
   "outputs": [],
   "source": [
    "process_wav_file()"
   ]
  },
  {
   "cell_type": "code",
   "execution_count": 239,
   "metadata": {},
   "outputs": [
    {
     "data": {
      "text/plain": [
       "9.2102403669759596"
      ]
     },
     "execution_count": 239,
     "metadata": {},
     "output_type": "execute_result"
    }
   ],
   "source": [
    "scipy.special.logit(1-1e-4)"
   ]
  },
  {
   "cell_type": "code",
   "execution_count": 24,
   "metadata": {
    "ExecuteTime": {
     "end_time": "2017-11-17T10:32:14.882322Z",
     "start_time": "2017-11-17T10:32:14.863617Z"
    },
    "_cell_guid": "c6d9b369-9979-4bcd-8540-4653e6544f84",
    "_uuid": "6a0bb3c22b7b5c43db0ec5673333ab3de8f08724"
   },
   "outputs": [],
   "source": [
    "batch_size = 64 \n",
    "\n",
    "def test_generator(test_batch_size,augment=False):\n",
    "    while True:\n",
    "        ids = list(range(test_df.shape[0]))\n",
    "        \n",
    "        for start in range(0, len(ids), test_batch_size):\n",
    "            x_batch = []\n",
    "            end = min(start + test_batch_size, len(ids))\n",
    "            i_test_batch = ids[start:end]\n",
    "#             this_paths = test_paths[start:end]\n",
    "#             for x in this_paths:\n",
    "            for i in i_test_batch:\n",
    "            #WATCHOUT > NO AUG\n",
    "#                 x_batch.append(process_wav_file(x).T) #,reshape=False,augment=augment,pval=0.5))\n",
    "#                 x_batch.append(test_df.loc[i,'raw'].T)\n",
    "                x_batch.append(process_wav_file(test_df.wav_file.iloc[i]).T)\n",
    "            x_batch = np.array(x_batch)\n",
    "            x_batch = 1.- np.array(x_batch)/-80.\n",
    "            \n",
    "            yield x_batch"
   ]
  },
  {
   "cell_type": "code",
   "execution_count": 25,
   "metadata": {},
   "outputs": [
    {
     "name": "stdout",
     "output_type": "stream",
     "text": [
      "2478/2478 [==============================] - 1800s 726ms/step\n"
     ]
    }
   ],
   "source": [
    "predictions = model.predict_generator(test_generator(batch_size), int(np.ceil(len(test_paths)/float(batch_size))), verbose=1)"
   ]
  },
  {
   "cell_type": "code",
   "execution_count": 48,
   "metadata": {},
   "outputs": [
    {
     "data": {
      "text/plain": [
       "'conv2d_wlstm_on_64x128_kernel5x7'"
      ]
     },
     "execution_count": 48,
     "metadata": {},
     "output_type": "execute_result"
    }
   ],
   "source": [
    "exp_name"
   ]
  },
  {
   "cell_type": "code",
   "execution_count": 28,
   "metadata": {},
   "outputs": [],
   "source": [
    "np.save(\"cache/predictions_{}.npy\".format(exp_name),predictions)"
   ]
  },
  {
   "cell_type": "code",
   "execution_count": 29,
   "metadata": {},
   "outputs": [],
   "source": [
    "predictions = np.load(\"cache/predictions_{}.npy\".format(exp_name))\n",
    "predictions2 = np.load(\"cache/predictions_conv2d_wlstm.npy\")\n",
    "best_blend = np.load(\"cache/predictions_conv2dlstm_plus_longblend1.npy\")\n",
    "conv1d_ens = np.load(\"cache/predictions_frqmaxpool256_plus_longblend1.npy\")"
   ]
  },
  {
   "cell_type": "code",
   "execution_count": 36,
   "metadata": {},
   "outputs": [
    {
     "data": {
      "text/plain": [
       "<function numpy.core.fromnumeric.clip>"
      ]
     },
     "execution_count": 36,
     "metadata": {},
     "output_type": "execute_result"
    }
   ],
   "source": [
    "import seaborn as sns\n",
    "import scipy\n",
    "np.clip()"
   ]
  },
  {
   "cell_type": "code",
   "execution_count": 41,
   "metadata": {},
   "outputs": [],
   "source": [
    "df3 = pd.DataFrame(scipy.special.logit(np.clip(np.vstack([predictions.flatten(),\n",
    "                              predictions2.flatten(),best_blend.flatten(),conv1d_ens.flatten()]).T,1e-5, 1-1e-5)),\n",
    "                  columns=['crnn-128','crnn-256','best_blend',\"conv1d_ens\"])"
   ]
  },
  {
   "cell_type": "code",
   "execution_count": 42,
   "metadata": {},
   "outputs": [
    {
     "data": {
      "text/html": [
       "<div>\n",
       "<style scoped>\n",
       "    .dataframe tbody tr th:only-of-type {\n",
       "        vertical-align: middle;\n",
       "    }\n",
       "\n",
       "    .dataframe tbody tr th {\n",
       "        vertical-align: top;\n",
       "    }\n",
       "\n",
       "    .dataframe thead th {\n",
       "        text-align: right;\n",
       "    }\n",
       "</style>\n",
       "<table border=\"1\" class=\"dataframe\">\n",
       "  <thead>\n",
       "    <tr style=\"text-align: right;\">\n",
       "      <th></th>\n",
       "      <th>crnn-128</th>\n",
       "      <th>crnn-256</th>\n",
       "      <th>best_blend</th>\n",
       "      <th>conv1d_ens</th>\n",
       "    </tr>\n",
       "  </thead>\n",
       "  <tbody>\n",
       "    <tr>\n",
       "      <th>crnn-128</th>\n",
       "      <td>1.000000</td>\n",
       "      <td>0.953800</td>\n",
       "      <td>0.902371</td>\n",
       "      <td>0.869422</td>\n",
       "    </tr>\n",
       "    <tr>\n",
       "      <th>crnn-256</th>\n",
       "      <td>0.953800</td>\n",
       "      <td>1.000000</td>\n",
       "      <td>0.906422</td>\n",
       "      <td>0.862899</td>\n",
       "    </tr>\n",
       "    <tr>\n",
       "      <th>best_blend</th>\n",
       "      <td>0.902371</td>\n",
       "      <td>0.906422</td>\n",
       "      <td>1.000000</td>\n",
       "      <td>0.991288</td>\n",
       "    </tr>\n",
       "    <tr>\n",
       "      <th>conv1d_ens</th>\n",
       "      <td>0.869422</td>\n",
       "      <td>0.862899</td>\n",
       "      <td>0.991288</td>\n",
       "      <td>1.000000</td>\n",
       "    </tr>\n",
       "  </tbody>\n",
       "</table>\n",
       "</div>"
      ],
      "text/plain": [
       "            crnn-128  crnn-256  best_blend  conv1d_ens\n",
       "crnn-128    1.000000  0.953800    0.902371    0.869422\n",
       "crnn-256    0.953800  1.000000    0.906422    0.862899\n",
       "best_blend  0.902371  0.906422    1.000000    0.991288\n",
       "conv1d_ens  0.869422  0.862899    0.991288    1.000000"
      ]
     },
     "execution_count": 42,
     "metadata": {},
     "output_type": "execute_result"
    }
   ],
   "source": [
    "df3.corr()"
   ]
  },
  {
   "cell_type": "code",
   "execution_count": 43,
   "metadata": {},
   "outputs": [
    {
     "data": {
      "text/plain": [
       "(array([12144.,  6507.,  5787.,  6699.,  6250.,  6764.,  6711.,  5945.,\n",
       "         6266., 95465.]),\n",
       " array([ 0. ,  1.1,  2.2,  3.3,  4.4,  5.5,  6.6,  7.7,  8.8,  9.9, 11. ]),\n",
       " <a list of 10 Patch objects>)"
      ]
     },
     "execution_count": 43,
     "metadata": {},
     "output_type": "execute_result"
    },
    {
     "data": {
      "image/png": "[encoded data removed]",
      "text/plain": [
       "<matplotlib.figure.Figure at 0x7f57821affd0>"
      ]
     },
     "metadata": {},
     "output_type": "display_data"
    }
   ],
   "source": [
    "plt.hist(np.argmax(predictions,axis=1))"
   ]
  },
  {
   "cell_type": "code",
   "execution_count": 47,
   "metadata": {},
   "outputs": [
    {
     "data": {
      "text/plain": [
       "158538"
      ]
     },
     "execution_count": 47,
     "metadata": {},
     "output_type": "execute_result"
    }
   ],
   "source": [
    "(np.argmax(predictions,axis=1) == np.argmax(scipy.special.logit(predictions),axis=1)).sum()"
   ]
  },
  {
   "cell_type": "code",
   "execution_count": 44,
   "metadata": {
    "scrolled": true
   },
   "outputs": [
    {
     "data": {
      "text/plain": [
       "<seaborn.axisgrid.PairGrid at 0x7f577cc6e890>"
      ]
     },
     "execution_count": 44,
     "metadata": {},
     "output_type": "execute_result"
    },
    {
     "data": {
      "image/png": "[encoded data removed]",
      "text/plain": [
       "<matplotlib.figure.Figure at 0x7f57812f27d0>"
      ]
     },
     "metadata": {},
     "output_type": "display_data"
    }
   ],
   "source": [
    "import seaborn as sns \n",
    "sns.pairplot(df3.sample(10000),plot_kws={'alpha':.5},size=3)"
   ]
  },
  {
   "cell_type": "code",
   "execution_count": null,
   "metadata": {},
   "outputs": [
    {
     "name": "stdout",
     "output_type": "stream",
     "text": [
      "2478/2478 [==============================] - 1705s 688ms/step\n",
      "2478/2478 [==============================] - 1541s 622ms/step\n",
      "2478/2478 [==============================] - 1544s 623ms/step\n",
      "2476/2478 [============================>.] - ETA: 1s"
     ]
    }
   ],
   "source": [
    "tta_preds = []\n",
    "num_aug = 4\n",
    "for i in range(num_aug):\n",
    "    tta_preds.append(model.predict_generator(test_generator(batch_size,augment=True), int(np.ceil(len(test_paths)/float(batch_size))), verbose=1))"
   ]
  },
  {
   "cell_type": "code",
   "execution_count": null,
   "metadata": {
    "collapsed": true
   },
   "outputs": [],
   "source": [
    "# import pickle\n",
    "\n",
    "# pickle.dump(tta_preds,open(\"cache/test_preds_aug_4x.pik\",'wb'),pickle.HIGHEST_PROTOCOL)\n",
    "\n",
    "# tta_preds = pickle.load(open(\"cache/test_preds_aug_4x.pik\",'rb'))\n",
    "\n",
    "# tta_preds.append(predictions)"
   ]
  },
  {
   "cell_type": "code",
   "execution_count": 8,
   "metadata": {
    "collapsed": true
   },
   "outputs": [],
   "source": [
    "predictions = np.mean(tta_preds,axis=0)"
   ]
  },
  {
   "cell_type": "code",
   "execution_count": 9,
   "metadata": {},
   "outputs": [
    {
     "data": {
      "text/plain": [
       "(158538, 12)"
      ]
     },
     "execution_count": 9,
     "metadata": {},
     "output_type": "execute_result"
    }
   ],
   "source": [
    "predictions.shape"
   ]
  },
  {
   "cell_type": "markdown",
   "metadata": {},
   "source": [
    "#### blending"
   ]
  },
  {
   "cell_type": "code",
   "execution_count": 53,
   "metadata": {
    "collapsed": true
   },
   "outputs": [],
   "source": [
    "# predictions_pyramid_noaug = np.load('cache/predictions_pyramid_noaug.npy')\n",
    "# predictions_model_with_ae_base_drp2_1 = np.load('cache/predictions_model_with_ae_base_drp2_1.npy')\n",
    "# blend1 = np.load('cache/predictions_blend_dilated_conv1d_timek123_n_freqk48_pseudo_mixtimefreq1ds_plus_samewithlstm_plus_aebased_conv2d_finetuned.npy')\n",
    "# predictions_aebase_aug_drp3_finetune = np.load('cache/predictions_aebase_aug_drp3_finetune.npy')\n",
    "# predictions_conv_n_lstm = np.load(\"cache/predictions_dilated_conv_n_lstm.npy\")\n",
    "blend2 = np.load('cache/predictions_frqmaxpool256_plus_longblend1.npy')"
   ]
  },
  {
   "cell_type": "code",
   "execution_count": 54,
   "metadata": {
    "collapsed": true
   },
   "outputs": [],
   "source": [
    "blend3 = np.mean([predictions,\n",
    "                       blend2], axis=0)\n"
   ]
  },
  {
   "cell_type": "code",
   "execution_count": 55,
   "metadata": {
    "collapsed": true
   },
   "outputs": [],
   "source": [
    "np.save(\"cache/predictions_{}_{}.npy\".format(exp_name,\"plus_blend2\"),blend3)"
   ]
  },
  {
   "cell_type": "code",
   "execution_count": 156,
   "metadata": {},
   "outputs": [
    {
     "name": "stdout",
     "output_type": "stream",
     "text": [
      "2477/2478 [============================>.] - ETA: 0s"
     ]
    }
   ],
   "source": [
    "# num_aug = 2 \n",
    "# for i in range(num_aug):\n",
    "#     predictions +=  model.predict_generator(test_generator(64,augment=True), int(np.ceil(len(test_paths)/64.)), verbose=1)\n",
    "    \n",
    "\n",
    "# predictions = predictions/(num_aug + 1.0)"
   ]
  },
  {
   "cell_type": "markdown",
   "metadata": {},
   "source": [
    "#### class assignment"
   ]
  },
  {
   "cell_type": "code",
   "execution_count": 56,
   "metadata": {
    "ExecuteTime": {
     "end_time": "2017-11-17T11:30:44.236246Z",
     "start_time": "2017-11-17T11:30:44.21858Z"
    },
    "_cell_guid": "b1cdab5c-9816-4690-87d8-de2c97cf0e7d",
    "_uuid": "24eb7e512eace4567494e0a8e356a826f4283c4d",
    "collapsed": true
   },
   "outputs": [],
   "source": [
    "classes = np.argmax(blend3, axis=1)"
   ]
  },
  {
   "cell_type": "code",
   "execution_count": 57,
   "metadata": {},
   "outputs": [
    {
     "data": {
      "text/plain": [
       "(array([  11595.,    5486.,    5235.,    5880.,    5344.,    5915.,\n",
       "           6014.,    5536.,    5239.,  102294.]),\n",
       " array([  0. ,   1.1,   2.2,   3.3,   4.4,   5.5,   6.6,   7.7,   8.8,\n",
       "          9.9,  11. ]),\n",
       " <a list of 10 Patch objects>)"
      ]
     },
     "execution_count": 57,
     "metadata": {},
     "output_type": "execute_result"
    },
    {
     "data": {
      "image/png": "[encoded data removed]",
      "text/plain": [
       "<matplotlib.figure.Figure at 0x7f0fa1625cd0>"
      ]
     },
     "metadata": {},
     "output_type": "display_data"
    }
   ],
   "source": [
    "plt.hist(classes,bins=10)"
   ]
  },
  {
   "cell_type": "code",
   "execution_count": 46,
   "metadata": {},
   "outputs": [
    {
     "data": {
      "text/plain": [
       "(array([  11493.,    5413.,    5266.,    5854.,    5354.,    5840.,\n",
       "           5999.,    5560.,    5174.,  102585.]),\n",
       " array([  0. ,   1.1,   2.2,   3.3,   4.4,   5.5,   6.6,   7.7,   8.8,\n",
       "          9.9,  11. ]),\n",
       " <a list of 10 Patch objects>)"
      ]
     },
     "execution_count": 46,
     "metadata": {},
     "output_type": "execute_result"
    },
    {
     "data": {
      "image/png": "[encoded data removed]",
      "text/plain": [
       "<matplotlib.figure.Figure at 0x7f0fa90e30d0>"
      ]
     },
     "metadata": {},
     "output_type": "display_data"
    }
   ],
   "source": [
    "plt.hist(classes,bins=10)"
   ]
  },
  {
   "cell_type": "code",
   "execution_count": 11,
   "metadata": {},
   "outputs": [
    {
     "data": {
      "text/plain": [
       "(array([ 12543.,   6661.,   5327.,   6491.,   5741.,   6487.,   7599.,\n",
       "          5891.,   5620.,  96178.]),\n",
       " array([  0. ,   1.1,   2.2,   3.3,   4.4,   5.5,   6.6,   7.7,   8.8,\n",
       "          9.9,  11. ]),\n",
       " <a list of 10 Patch objects>)"
      ]
     },
     "execution_count": 11,
     "metadata": {},
     "output_type": "execute_result"
    },
    {
     "data": {
      "image/png": "[encoded data removed]",
      "text/plain": [
       "<matplotlib.figure.Figure at 0x7f6603f6e8d0>"
      ]
     },
     "metadata": {},
     "output_type": "display_data"
    }
   ],
   "source": [
    "plt.hist(classes,bins=10)"
   ]
  },
  {
   "cell_type": "code",
   "execution_count": 75,
   "metadata": {},
   "outputs": [
    {
     "data": {
      "text/plain": [
       "(array([ 12300.,   6025.,   5316.,   6262.,   5586.,   6258.,   6430.,\n",
       "          5676.,   5577.,  99108.]),\n",
       " array([  0. ,   1.1,   2.2,   3.3,   4.4,   5.5,   6.6,   7.7,   8.8,\n",
       "          9.9,  11. ]),\n",
       " <a list of 10 Patch objects>)"
      ]
     },
     "execution_count": 75,
     "metadata": {},
     "output_type": "execute_result"
    },
    {
     "data": {
      "image/png": "[encoded data removed]",
      "text/plain": [
       "<matplotlib.figure.Figure at 0x7f4ed25995d0>"
      ]
     },
     "metadata": {},
     "output_type": "display_data"
    }
   ],
   "source": [
    "plt.hist(classes,bins=10)"
   ]
  },
  {
   "cell_type": "markdown",
   "metadata": {},
   "source": [
    "### submission"
   ]
  },
  {
   "cell_type": "code",
   "execution_count": 58,
   "metadata": {
    "ExecuteTime": {
     "end_time": "2017-11-17T11:31:11.212517Z",
     "start_time": "2017-11-17T11:31:10.786357Z"
    },
    "_cell_guid": "1da523cf-fdbf-4ab1-9300-0147155aa247",
    "_uuid": "f25d4e626202aa115bd0460f4de8d07f9727c83e",
    "collapsed": true
   },
   "outputs": [],
   "source": [
    "### last batch will contain padding, so remove duplicates\n",
    "submission = dict()\n",
    "for i in range(len(test_paths)):\n",
    "    fname, label = os.path.basename(test_paths[i]), id2name[classes[i]]\n",
    "    submission[fname] = label"
   ]
  },
  {
   "cell_type": "code",
   "execution_count": 59,
   "metadata": {
    "ExecuteTime": {
     "end_time": "2017-11-17T11:32:05.154527Z",
     "start_time": "2017-11-17T11:32:04.983371Z"
    },
    "_cell_guid": "9a95d147-3f4b-4386-8597-5fa60be43542",
    "_uuid": "bdf63bce43a0525a02ac18ca3f90aeba06ce6e99",
    "collapsed": true
   },
   "outputs": [],
   "source": [
    "with open('subm/{}_plus_blend2.csv'.format(exp_name), 'w') as fout: #_blend_conv1dlstm_and_aebased_conv2d_finetuned\n",
    "    fout.write('fname,label\\n')\n",
    "    for fname, label in submission.items():\n",
    "        fout.write('{},{}\\n'.format(fname, label))"
   ]
  },
  {
   "cell_type": "code",
   "execution_count": 60,
   "metadata": {
    "_cell_guid": "8bea6850-15c6-44e7-bdb4-9555ad196f85",
    "_uuid": "555315ef622793711ff5643928dac874c8cb0ed2"
   },
   "outputs": [
    {
     "data": {
      "text/html": [
       "<a href='subm/conv2d_wlstm_hardpseudo_withval_c2_plus_blend2.csv' target='_blank'>subm/conv2d_wlstm_hardpseudo_withval_c2_plus_blend2.csv</a><br>"
      ],
      "text/plain": [
       "/home/ubuntu/keyword_spotting/subm/conv2d_wlstm_hardpseudo_withval_c2_plus_blend2.csv"
      ]
     },
     "execution_count": 60,
     "metadata": {},
     "output_type": "execute_result"
    }
   ],
   "source": [
    "from IPython.lib.display import FileLink\n",
    "\n",
    "FileLink('subm/{}_plus_blend2.csv'.format(exp_name))\n"
   ]
  },
  {
   "cell_type": "markdown",
   "metadata": {},
   "source": [
    "#### creae logits \n"
   ]
  },
  {
   "cell_type": "code",
   "execution_count": 1,
   "metadata": {},
   "outputs": [
    {
     "ename": "NameError",
     "evalue": "name 'np' is not defined",
     "output_type": "error",
     "traceback": [
      "\u001b[0;31m---------------------------------------------------------------------------\u001b[0m",
      "\u001b[0;31mNameError\u001b[0m                                 Traceback (most recent call last)",
      "\u001b[0;32m<ipython-input-1-21627561b003>\u001b[0m in \u001b[0;36m<module>\u001b[0;34m()\u001b[0m\n\u001b[0;32m----> 1\u001b[0;31m \u001b[0mtest_preds\u001b[0m \u001b[0;34m=\u001b[0m \u001b[0mnp\u001b[0m\u001b[0;34m.\u001b[0m\u001b[0mload\u001b[0m\u001b[0;34m(\u001b[0m\u001b[0;34m\"cache/predictions_frqmaxpool256_plus_longblend1.npy\"\u001b[0m\u001b[0;34m)\u001b[0m\u001b[0;34m\u001b[0m\u001b[0m\n\u001b[0m\u001b[1;32m      2\u001b[0m \u001b[0;31m# (\"cache/predictions_conv2dlstm_plus_longblend1.npy\") > best of 0.88\u001b[0m\u001b[0;34m\u001b[0m\u001b[0;34m\u001b[0m\u001b[0m\n",
      "\u001b[0;31mNameError\u001b[0m: name 'np' is not defined"
     ]
    }
   ],
   "source": [
    "test_preds = np.load(\"cache/predictions_frqmaxpool256_plus_longblend1.npy\")\n",
    "# (\"cache/predictions_conv2dlstm_plus_longblend1.npy\") > best of 0.88"
   ]
  },
  {
   "cell_type": "code",
   "execution_count": 39,
   "metadata": {
    "collapsed": true
   },
   "outputs": [],
   "source": [
    "classes = np.argmax(test_preds, axis=1)"
   ]
  },
  {
   "cell_type": "code",
   "execution_count": 40,
   "metadata": {
    "collapsed": true
   },
   "outputs": [],
   "source": [
    "class_labels = []\n",
    "\n",
    "for i in range(len(test_paths)):\n",
    "    class_labels.append(id2name[classes[i]])\n",
    "    \n"
   ]
  },
  {
   "cell_type": "code",
   "execution_count": 41,
   "metadata": {
    "collapsed": true
   },
   "outputs": [],
   "source": [
    "test_file_names = []\n",
    "for i in range(len(test_paths)):\n",
    "    test_file_names.append(os.path.basename(test_paths[i]))\n"
   ]
  },
  {
   "cell_type": "code",
   "execution_count": 42,
   "metadata": {},
   "outputs": [
    {
     "data": {
      "text/plain": [
       "'clip_bd6d0fb25.wav'"
      ]
     },
     "execution_count": 42,
     "metadata": {},
     "output_type": "execute_result"
    }
   ],
   "source": [
    "test_file_names[0]"
   ]
  },
  {
   "cell_type": "code",
   "execution_count": 28,
   "metadata": {
    "scrolled": true
   },
   "outputs": [
    {
     "data": {
      "text/plain": [
       "array([  2.40163718e-04,   7.72146583e-01,   2.43576164e-06,\n",
       "         1.97014995e-02,   4.51893255e-04,   3.37923157e-05,\n",
       "         4.46151826e-05,   9.43910982e-06,   2.77688541e-05,\n",
       "         8.60303640e-03,   1.87455362e-09,   1.98738813e-01], dtype=float32)"
      ]
     },
     "execution_count": 28,
     "metadata": {},
     "output_type": "execute_result"
    }
   ],
   "source": [
    "test_preds[0]"
   ]
  },
  {
   "cell_type": "code",
   "execution_count": 43,
   "metadata": {
    "collapsed": true
   },
   "outputs": [],
   "source": [
    "logits = pd.concat([pd.DataFrame(data=test_file_names,columns=[\"fname\"]) ,\n",
    "                    pd.DataFrame(data=class_labels,columns=[\"label\"]), \n",
    "           pd.DataFrame(data = test_preds, columns=POSSIBLE_LABELS)],axis=1)"
   ]
  },
  {
   "cell_type": "code",
   "execution_count": 44,
   "metadata": {},
   "outputs": [
    {
     "data": {
      "text/html": [
       "<div>\n",
       "<style scoped>\n",
       "    .dataframe tbody tr th:only-of-type {\n",
       "        vertical-align: middle;\n",
       "    }\n",
       "\n",
       "    .dataframe tbody tr th {\n",
       "        vertical-align: top;\n",
       "    }\n",
       "\n",
       "    .dataframe thead th {\n",
       "        text-align: right;\n",
       "    }\n",
       "</style>\n",
       "<table border=\"1\" class=\"dataframe\">\n",
       "  <thead>\n",
       "    <tr style=\"text-align: right;\">\n",
       "      <th></th>\n",
       "      <th>fname</th>\n",
       "      <th>label</th>\n",
       "      <th>yes</th>\n",
       "      <th>no</th>\n",
       "      <th>up</th>\n",
       "      <th>down</th>\n",
       "      <th>left</th>\n",
       "      <th>right</th>\n",
       "      <th>on</th>\n",
       "      <th>off</th>\n",
       "      <th>stop</th>\n",
       "      <th>go</th>\n",
       "      <th>silence</th>\n",
       "      <th>unknown</th>\n",
       "    </tr>\n",
       "  </thead>\n",
       "  <tbody>\n",
       "    <tr>\n",
       "      <th>158533</th>\n",
       "      <td>clip_46e677bad.wav</td>\n",
       "      <td>off</td>\n",
       "      <td>1.213022e-08</td>\n",
       "      <td>1.026436e-08</td>\n",
       "      <td>0.000003</td>\n",
       "      <td>5.558455e-10</td>\n",
       "      <td>6.842185e-08</td>\n",
       "      <td>2.489757e-07</td>\n",
       "      <td>0.004123</td>\n",
       "      <td>0.995703</td>\n",
       "      <td>1.205144e-07</td>\n",
       "      <td>1.519155e-08</td>\n",
       "      <td>1.237315e-12</td>\n",
       "      <td>0.000170</td>\n",
       "    </tr>\n",
       "    <tr>\n",
       "      <th>158534</th>\n",
       "      <td>clip_13f4f3999.wav</td>\n",
       "      <td>off</td>\n",
       "      <td>1.239585e-07</td>\n",
       "      <td>1.203242e-07</td>\n",
       "      <td>0.000026</td>\n",
       "      <td>2.914093e-09</td>\n",
       "      <td>3.340961e-06</td>\n",
       "      <td>3.997619e-07</td>\n",
       "      <td>0.000219</td>\n",
       "      <td>0.999574</td>\n",
       "      <td>7.774687e-07</td>\n",
       "      <td>5.715653e-08</td>\n",
       "      <td>1.044358e-11</td>\n",
       "      <td>0.000177</td>\n",
       "    </tr>\n",
       "    <tr>\n",
       "      <th>158535</th>\n",
       "      <td>clip_74cb41418.wav</td>\n",
       "      <td>unknown</td>\n",
       "      <td>6.449070e-02</td>\n",
       "      <td>2.337105e-02</td>\n",
       "      <td>0.000352</td>\n",
       "      <td>8.286643e-03</td>\n",
       "      <td>9.265405e-03</td>\n",
       "      <td>4.419450e-03</td>\n",
       "      <td>0.000641</td>\n",
       "      <td>0.001358</td>\n",
       "      <td>3.103460e-04</td>\n",
       "      <td>1.224301e-02</td>\n",
       "      <td>1.957201e-05</td>\n",
       "      <td>0.875242</td>\n",
       "    </tr>\n",
       "    <tr>\n",
       "      <th>158536</th>\n",
       "      <td>clip_ffac8a06e.wav</td>\n",
       "      <td>on</td>\n",
       "      <td>2.791232e-07</td>\n",
       "      <td>3.442871e-07</td>\n",
       "      <td>0.000003</td>\n",
       "      <td>4.526026e-05</td>\n",
       "      <td>2.326786e-07</td>\n",
       "      <td>1.508896e-05</td>\n",
       "      <td>0.986539</td>\n",
       "      <td>0.000149</td>\n",
       "      <td>3.914220e-07</td>\n",
       "      <td>3.409091e-06</td>\n",
       "      <td>5.354774e-10</td>\n",
       "      <td>0.013244</td>\n",
       "    </tr>\n",
       "    <tr>\n",
       "      <th>158537</th>\n",
       "      <td>clip_c6798b35f.wav</td>\n",
       "      <td>no</td>\n",
       "      <td>1.660232e-03</td>\n",
       "      <td>8.252926e-01</td>\n",
       "      <td>0.000270</td>\n",
       "      <td>1.455574e-02</td>\n",
       "      <td>1.109665e-03</td>\n",
       "      <td>8.043834e-04</td>\n",
       "      <td>0.001901</td>\n",
       "      <td>0.000378</td>\n",
       "      <td>5.720982e-04</td>\n",
       "      <td>7.625429e-02</td>\n",
       "      <td>3.337102e-06</td>\n",
       "      <td>0.077198</td>\n",
       "    </tr>\n",
       "  </tbody>\n",
       "</table>\n",
       "</div>"
      ],
      "text/plain": [
       "                     fname    label           yes            no        up  \\\n",
       "158533  clip_46e677bad.wav      off  1.213022e-08  1.026436e-08  0.000003   \n",
       "158534  clip_13f4f3999.wav      off  1.239585e-07  1.203242e-07  0.000026   \n",
       "158535  clip_74cb41418.wav  unknown  6.449070e-02  2.337105e-02  0.000352   \n",
       "158536  clip_ffac8a06e.wav       on  2.791232e-07  3.442871e-07  0.000003   \n",
       "158537  clip_c6798b35f.wav       no  1.660232e-03  8.252926e-01  0.000270   \n",
       "\n",
       "                down          left         right        on       off  \\\n",
       "158533  5.558455e-10  6.842185e-08  2.489757e-07  0.004123  0.995703   \n",
       "158534  2.914093e-09  3.340961e-06  3.997619e-07  0.000219  0.999574   \n",
       "158535  8.286643e-03  9.265405e-03  4.419450e-03  0.000641  0.001358   \n",
       "158536  4.526026e-05  2.326786e-07  1.508896e-05  0.986539  0.000149   \n",
       "158537  1.455574e-02  1.109665e-03  8.043834e-04  0.001901  0.000378   \n",
       "\n",
       "                stop            go       silence   unknown  \n",
       "158533  1.205144e-07  1.519155e-08  1.237315e-12  0.000170  \n",
       "158534  7.774687e-07  5.715653e-08  1.044358e-11  0.000177  \n",
       "158535  3.103460e-04  1.224301e-02  1.957201e-05  0.875242  \n",
       "158536  3.914220e-07  3.409091e-06  5.354774e-10  0.013244  \n",
       "158537  5.720982e-04  7.625429e-02  3.337102e-06  0.077198  "
      ]
     },
     "execution_count": 44,
     "metadata": {},
     "output_type": "execute_result"
    }
   ],
   "source": [
    "logits.tail()"
   ]
  },
  {
   "cell_type": "code",
   "execution_count": 45,
   "metadata": {
    "collapsed": true
   },
   "outputs": [],
   "source": [
    "logits.to_csv(\"cache/armin_logits_88.csv\",index=False)"
   ]
  },
  {
   "cell_type": "code",
   "execution_count": null,
   "metadata": {
    "collapsed": true
   },
   "outputs": [],
   "source": []
  }
 ],
 "metadata": {
  "anaconda-cloud": {},
  "kernelspec": {
   "display_name": "Python [conda root]",
   "language": "python",
   "name": "conda-root-py"
  },
  "language_info": {
   "codemirror_mode": {
    "name": "ipython",
    "version": 2
   },
   "file_extension": ".py",
   "mimetype": "text/x-python",
   "name": "python",
   "nbconvert_exporter": "python",
   "pygments_lexer": "ipython2",
   "version": "2.7.14"
  },
  "toc": {
   "nav_menu": {},
   "number_sections": true,
   "sideBar": true,
   "skip_h1_title": false,
   "toc_cell": false,
   "toc_position": {},
   "toc_section_display": "block",
   "toc_window_display": true
  }
 },
 "nbformat": 4,
 "nbformat_minor": 1
}
