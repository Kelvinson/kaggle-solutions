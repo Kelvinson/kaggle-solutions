{
 "cells": [
  {
   "cell_type": "code",
   "execution_count": 324,
   "metadata": {
    "ExecuteTime": {
     "end_time": "2017-11-17T09:03:29.196238Z",
     "start_time": "2017-11-17T09:03:28.644004Z"
    },
    "_cell_guid": "679e0d3e-646d-4e96-9eb0-b362d8c6e51f",
    "_uuid": "0d05e5ce89af3e25d1c1fb244d021a1cfa1a058c"
   },
   "outputs": [],
   "source": [
    "from utils import *\n",
    "import array \n",
    "\n",
    "from pydub import AudioSegment\n",
    "import tensorflow as tf\n",
    "\n",
    "from keras.models import Model, Sequential\n",
    "from keras.layers import Input, Conv2D, Flatten, MaxPooling2D, Activation, BatchNormalization, GlobalAveragePooling2D, GlobalMaxPool2D, concatenate, Dense, Dropout\n",
    "from keras.optimizers import Adam\n",
    "from tensorflow.python.keras.utils import to_categorical\n",
    "\n",
    "from keras.layers import Input, GRU, RepeatVector, BatchNormalization, TimeDistributed, Conv1D\n",
    "from keras import backend as K\n",
    "from keras.layers import  Conv2D, MaxPooling2D, UpSampling2D, Lambda, Reshape\n",
    "\n",
    "\n",
    "from keras_tqdm import TQDMNotebookCallback\n",
    "from keras.callbacks import EarlyStopping, ModelCheckpoint, ReduceLROnPlateau\n",
    "import matplotlib.pyplot as plt\n",
    "import numba\n",
    "\n",
    "import dask.dataframe as dd\n",
    "from dask.multiprocessing import get\n",
    "\n",
    "%matplotlib inline"
   ]
  },
  {
   "cell_type": "code",
   "execution_count": 2,
   "metadata": {
    "ExecuteTime": {
     "end_time": "2017-11-17T09:03:29.210749Z",
     "start_time": "2017-11-17T09:03:29.19832Z"
    },
    "_cell_guid": "8ab00801-08b9-44d3-a063-32e82dbf8f58",
    "_uuid": "53c19941676690454dd4b91109976b6c59cb7a40"
   },
   "outputs": [
    {
     "data": {
      "text/plain": [
       "12"
      ]
     },
     "execution_count": 2,
     "metadata": {},
     "output_type": "execute_result"
    }
   ],
   "source": [
    "POSSIBLE_LABELS = 'yes no up down left right on off stop go silence unknown'.split()\n",
    "id2name = {i: name for i, name in enumerate(POSSIBLE_LABELS)}\n",
    "name2id = {name: i for i, name in id2name.items()}\n",
    "len(id2name)"
   ]
  },
  {
   "cell_type": "code",
   "execution_count": 343,
   "metadata": {},
   "outputs": [
    {
     "name": "stdout",
     "output_type": "stream",
     "text": [
      "CPU times: user 200 ms, sys: 52 ms, total: 252 ms\n",
      "Wall time: 248 ms\n"
     ]
    }
   ],
   "source": [
    "%%time \n",
    "\n",
    "# train_df = pickle.load( open(\"cache/train_df.pik\",\"rb\"))\n",
    "# valid_df = pickle.load( open(\"cache/valid_df.pik\",\"rb\"))\n",
    "silent_df = pickle.load(open(\"cache/silent_df.pik\",\"rb\"))\n",
    "# unknown_df = pickle.load(open(\"cache/unknown_df.pik\",\"rb\"))\n",
    "# test_df =  pickle.load(open(\"cache/test_df.pik\",\"rb\"))"
   ]
  },
  {
   "cell_type": "code",
   "execution_count": 24,
   "metadata": {},
   "outputs": [],
   "source": [
    "filler = AudioSegment.silent(duration=1000, frame_rate = 16000)\n",
    "silence_files_AS = [AudioSegment.from_wav(x) for x in silent_df.wav_file.values]"
   ]
  },
  {
   "cell_type": "code",
   "execution_count": 335,
   "metadata": {},
   "outputs": [],
   "source": [
    "def fill_to_1sec(wav):\n",
    "    #fill to 1 second\n",
    "    L = 1000 #16000  # 1 sec\n",
    "    sample_rate = 16000\n",
    "    \n",
    "    if len(wav) > L:\n",
    "        i = np.random.randint(0, len(wav) - L)\n",
    "        wav = wav[i:(i+L)]\n",
    "    elif len(wav) < L:\n",
    "        rem_len = L - len(wav)\n",
    "        wav = AudioSegment.silent(rem_len,frame_rate=sample_rate) + wav\n",
    "        \n",
    "    return wav    \n",
    "\n",
    "def augment_wav(wav,pval=0.5):\n",
    "    sample_rate = 16000\n",
    "    L = 1000 #16000  # 1 sec\n",
    "    \n",
    "    #adjust speed, with 50% chance\n",
    "#     wav = speed_change(wav,1.+random.uniform(-1, 1)*0.05) if np.random.random() < pval else wav\n",
    "    \n",
    "    \n",
    "    #adjust volume\n",
    "    db_adjustment = random.uniform(-1, 1)*10\n",
    "    wav = wav + db_adjustment if np.random.random() < pval else wav\n",
    "     \n",
    "        \n",
    "    #fill to 1 second\n",
    "    wav = fill_to_1sec(wav)        \n",
    "        \n",
    "    #shift the audio by 10 ms\n",
    "    shift_length = 100\n",
    "    if np.random.random() < 0.5: #shift to left\n",
    "        wav = wav[:L-shift_length]+ AudioSegment.silent(shift_length,frame_rate=sample_rate)\n",
    "    else: #shift to right\n",
    "        wav = AudioSegment.silent(shift_length,frame_rate=sample_rate) + wav[shift_length:]\n",
    "        \n",
    "        \n",
    "        \n",
    "    #blend original file with background noise     \n",
    "    if np.random.random() < pval:\n",
    "        noise = random.choice(silence_files_AS)\n",
    "        db_delta = (wav.dBFS - noise.dBFS) -10.\n",
    "\n",
    "        if db_delta< 0: #reduce intensity of loud background; if it's too silent, leave it be\n",
    "            noise = noise  + db_delta\n",
    "        wav = wav.overlay(noise)\n",
    " \n",
    "    return wav\n",
    "\n",
    "\n",
    "def AS_to_raw(as_file):\n",
    "\twav = np.array(as_file.get_array_of_samples().tolist())      \n",
    "#     wav = wav.astype(np.float32) / np.iinfo(np.int16).max\n",
    "\treturn wav   \n",
    "\n",
    "\n",
    "AS_to_raw = numba.jit(AS_to_raw)\n",
    "\n",
    "\n",
    "def process_wav_file(record, reshape=False, augment=True,pval=0.5 ,output_format='logmel'):\n",
    "    \n",
    "    if type(record) == str: # test files\n",
    "        fname = record\n",
    "        label = \"test\"\n",
    "    else:    \n",
    "        fname  = record.wav_file\n",
    "        label = record.label\n",
    "\n",
    "        \n",
    "        \n",
    "        \n",
    "        \n",
    "    if \"raw_AS_wav\" in record: \n",
    "        wav = record.raw_AS_wav\n",
    "    else:\n",
    "        wav = AudioSegment.from_wav(fname)\n",
    "        \n",
    "        \n",
    "    \n",
    "    if (not label in [\"silence\"]) and augment: #no augmentation for sample files \n",
    "        wav = augment_wav(wav,pval)\n",
    "\n",
    "    else: #make sure segment is 1 second\n",
    "        wav = fill_to_1sec(wav)\n",
    "\n",
    "        \n",
    "    samples = AS_to_raw(wav)\n",
    "    \n",
    "    \n",
    "    \n",
    "    if output_format == \"logmel\":\n",
    "        output = log_mel(samples,reshape=reshape)\n",
    "    else:\n",
    "        output = samples\n",
    "    \n",
    "    \n",
    "    return output\n"
   ]
  },
  {
   "cell_type": "code",
   "execution_count": 336,
   "metadata": {},
   "outputs": [],
   "source": [
    "#precomputing augs for faster neural net training\n",
    "def precompute_augmentations(df,num_repeats=4):\n",
    "    \n",
    "    df_aug= pd.concat([df]*num_repeats)\n",
    "    df_aug['raw'] = df_aug.wav_file.apply(process_wav_file)\n",
    "    df = pd.concat([df, df_aug])\n",
    "    \n",
    "    return df \n"
   ]
  },
  {
   "cell_type": "code",
   "execution_count": 340,
   "metadata": {},
   "outputs": [
    {
     "name": "stdout",
     "output_type": "stream",
     "text": [
      "CPU times: user 28min 15s, sys: 28.8 s, total: 28min 44s\n",
      "Wall time: 14min 16s\n"
     ]
    }
   ],
   "source": [
    "%time unknown_df = precompute_augmentations(unknown_df)"
   ]
  },
  {
   "cell_type": "code",
   "execution_count": 342,
   "metadata": {},
   "outputs": [],
   "source": [
    "\n",
    "pickle.dump( train_df,open(\"cache/train_df_waug.pik\",\"wb\"),protocol=pickle.HIGHEST_PROTOCOL)\n",
    "pickle.dump(unknown_df, open(\"cache/unknown_df_waug.pik\",\"wb\"),protocol=pickle.HIGHEST_PROTOCOL)"
   ]
  },
  {
   "cell_type": "code",
   "execution_count": 309,
   "metadata": {},
   "outputs": [
    {
     "name": "stdout",
     "output_type": "stream",
     "text": [
      "CPU times: user 0 ns, sys: 0 ns, total: 0 ns\n",
      "Wall time: 472 µs\n",
      "CPU times: user 0 ns, sys: 8 ms, total: 8 ms\n",
      "Wall time: 4.14 ms\n",
      "CPU times: user 0 ns, sys: 0 ns, total: 0 ns\n",
      "Wall time: 1.29 ms\n",
      "CPU times: user 0 ns, sys: 0 ns, total: 0 ns\n",
      "Wall time: 1.12 ms\n"
     ]
    }
   ],
   "source": [
    "#profiling: it's too costly to do augmentation on the fly with low gpu utilization; \n",
    "# could be explained by the small gpu-cost vs cpu-preprocessing: gpu batches finish much sooner than cpu is done with augmentation\n",
    "# it's not fully due to reading from disk, but mostly about manipulation the wav file\n",
    "%time w = AudioSegment.from_wav(train_df.wav_file.iloc[0])\n",
    "# %time w = load_audio_file(train_df.wav_file.iloc[0])\n",
    "# wn = np.random.randn(len(w))\n",
    "# %time w = w + 0.005*wn\n",
    "\n",
    "%time ww = train_df.loc[0,\"raw_AS_wav\"]\n",
    "%time ww = AS_to_raw(w)\n",
    "%time ww = AS_to_raw_fast(w)\n",
    "\n",
    "# %time w = augment_wav(w)\n",
    "# %time ww =  AS_to_raw(w)\n",
    "# %time w = w.get_array_of_samples()\n",
    "\n"
   ]
  },
  {
   "cell_type": "code",
   "execution_count": 66,
   "metadata": {},
   "outputs": [
    {
     "name": "stdout",
     "output_type": "stream",
     "text": [
      "CPU times: user 0 ns, sys: 0 ns, total: 0 ns\n",
      "Wall time: 6.2 µs\n"
     ]
    }
   ],
   "source": [
    "%%time\n",
    "\n",
    "# %time train_df['raw_AS_wav'] = train_df.wav_file.apply(lambda fname: AudioSegment.from_wav(fname))\n",
    "\n",
    "# %time valid_df[\"raw_AS_wav\"]  = valid_df.wav_file.apply(lambda fname: AudioSegment.from_wav(fname))\n",
    "\n",
    "# %time silent_df[\"raw_AS_wav\"]  = silent_df.wav_file.apply(lambda fname: AudioSegment.from_wav(fname))\n",
    "\n",
    "# %time unknown_df[\"raw_AS_wav\"]   = unknown_df.wav_file.apply(lambda fname: AudioSegment.from_wav(fname))\n",
    "\n",
    "\n",
    "# pickle.dump( train_df,open(\"cache/train_df.pik\",\"wb\"),protocol=pickle.HIGHEST_PROTOCOL)\n",
    "# pickle.dump(valid_df, open(\"cache/valid_df.pik\",\"wb\"),protocol=pickle.HIGHEST_PROTOCOL)\n",
    "# pickle.dump(silent_df, open(\"cache/silent_df.pik\",\"wb\"),protocol=pickle.HIGHEST_PROTOCOL)\n",
    "# pickle.dump(unknown_df, open(\"cache/unknown_df.pik\",\"wb\"),protocol=pickle.HIGHEST_PROTOCOL)"
   ]
  },
  {
   "cell_type": "code",
   "execution_count": 350,
   "metadata": {
    "ExecuteTime": {
     "end_time": "2017-11-17T09:03:32.519795Z",
     "start_time": "2017-11-17T09:03:32.483881Z"
    },
    "_cell_guid": "144c6e60-8a83-437d-8b8a-ea065af90923",
    "_uuid": "22e0e6c718171167089fb6df36d3dc43a1029992"
   },
   "outputs": [],
   "source": [
    "#no augmentation since the auto encoder has already seen all the train AND test files \n",
    "\n",
    "def train_generator(train_batch_size):\n",
    "    while True:\n",
    "        \n",
    "        this_train = train_df.groupby('label_id').apply(lambda x: x.sample(n = 2000))\n",
    "        extra_data_size = int(this_train.shape[0]* 0.1)\n",
    "        this_train = pd.concat([silent_df.sample(extra_data_size),\n",
    "                                this_train,\n",
    "                                unknown_df.sample(extra_data_size*4)],axis=0 )\n",
    "        \n",
    "        this_train.reset_index(drop=True,inplace=True)\n",
    "        \n",
    "        shuffled_ids = random.sample(range(this_train.shape[0]), this_train.shape[0])\n",
    "        \n",
    "        for start in range(0, len(shuffled_ids), train_batch_size):\n",
    "            x_batch = []\n",
    "            y_batch = []\n",
    "            \n",
    "            end = min(start + train_batch_size, len(shuffled_ids))\n",
    "            i_train_batch = shuffled_ids[start:end]\n",
    "            for i in i_train_batch:\n",
    "                x_batch.append(this_train.loc[i,'raw'].T)\n",
    "#                 x_batch.append(process_wav_file(this_train.iloc[i], augment=True).T)\n",
    "\n",
    "                y_batch.append(this_train.label_id.values[i])\n",
    "                \n",
    "            x_batch = 1.- np.array(x_batch)/-80.\n",
    "            y_batch = to_categorical(y_batch, num_classes = len(POSSIBLE_LABELS))\n",
    "            \n",
    "            yield x_batch, y_batch"
   ]
  },
  {
   "cell_type": "code",
   "execution_count": 355,
   "metadata": {},
   "outputs": [
    {
     "name": "stdout",
     "output_type": "stream",
     "text": [
      "CPU times: user 84 ms, sys: 0 ns, total: 84 ms\n",
      "Wall time: 80.2 ms\n"
     ]
    }
   ],
   "source": [
    "%time t = next(train_generator(256))[0][0].T"
   ]
  },
  {
   "cell_type": "code",
   "execution_count": 205,
   "metadata": {
    "ExecuteTime": {
     "end_time": "2017-11-17T09:03:32.624289Z",
     "start_time": "2017-11-17T09:03:32.521828Z"
    },
    "_cell_guid": "59a13393-9bc3-4b27-abe2-9c78b3c32ead",
    "_uuid": "6f9a8fbf6e352b1c77b9c22dddf1c5d69382bd5b"
   },
   "outputs": [],
   "source": [
    "def valid_generator(val_batch_size):\n",
    "    while True:\n",
    "        ids = list(range(valid_df.shape[0]))\n",
    "        for start in range(0, len(ids), val_batch_size):\n",
    "            x_batch = []\n",
    "            y_batch = []\n",
    "            end = min(start + val_batch_size, len(ids))\n",
    "            i_val_batch = ids[start:end]\n",
    "            for i in i_val_batch:\n",
    "                x_batch.append(valid_df.loc[i,'raw'].T)\n",
    "                y_batch.append(valid_df.label_id.values[i])\n",
    "\n",
    "            x_batch = 1.- np.array(x_batch)/-80.\n",
    "            y_batch = to_categorical(y_batch, num_classes = len(POSSIBLE_LABELS))\n",
    "            yield x_batch, y_batch"
   ]
  },
  {
   "cell_type": "code",
   "execution_count": 380,
   "metadata": {},
   "outputs": [],
   "source": [
    "from keras.callbacks import TensorBoard\n",
    "exp_name = \"aebase_aug_drp3_frozen\"\n",
    "callbacks = [EarlyStopping(monitor='val_loss',\n",
    "                           patience=5,\n",
    "                           verbose=1),\n",
    "             \n",
    "             ReduceLROnPlateau(monitor='val_loss',\n",
    "                               factor=0.1,\n",
    "                               patience=3,\n",
    "                               verbose=1,\n",
    "                               epsilon=0.01,\n",
    "                              min_lr=1e-4),\n",
    "             ModelCheckpoint(monitor='val_loss',\n",
    "                             filepath='weights/{}.hdf5'.format(exp_name),\n",
    "                             save_best_only=True,\n",
    "                             save_weights_only=True,\n",
    "                             mode='min'),\n",
    "             \n",
    "            TensorBoard(log_dir='./logs/logs_{}'.format(exp_name), histogram_freq=0, batch_size=64, write_graph=True)]"
   ]
  },
  {
   "cell_type": "code",
   "execution_count": 92,
   "metadata": {},
   "outputs": [],
   "source": [
    "#a common practice is to choose a filter size in time which spans 2/3 o"
   ]
  },
  {
   "cell_type": "code",
   "execution_count": 364,
   "metadata": {},
   "outputs": [],
   "source": [
    "timesteps, input_dim , latent_dim = 32,128, 128\n",
    "\n",
    "input_img = Input(shape=(timesteps, input_dim))  # adapt this if using `channels_first` image data format\n",
    "\n",
    "x = Reshape((timesteps, input_dim,1))(input_img)\n",
    "\n",
    "x = Conv2D(64, (10, 10), activation='relu', padding='same')(x)\n",
    "x = MaxPooling2D((2, 2), padding='same')(x)\n",
    "x = Conv2D(32, (5, 5), activation='relu', padding='same')(x)\n",
    "x = MaxPooling2D((2, 2), padding='same')(x)\n",
    "x = Conv2D(32, (3, 3), activation='relu', padding='same')(x)\n",
    "encoded = MaxPooling2D((2, 2), padding='same',name='latent_rep')(x)\n",
    "\n",
    "# at this point the representation is (4, 4, 8) i.e. 128-dimensional\n",
    "\n",
    "x = Conv2D(32, (3, 3), activation='relu', padding='same')(encoded)\n",
    "x = UpSampling2D((2, 2))(x)\n",
    "x = Conv2D(32, (5, 5), activation='relu', padding='same')(x)\n",
    "x = UpSampling2D((2, 2))(x)\n",
    "x = Conv2D(64, (10, 10), activation='relu', padding='same')(x)\n",
    "x = UpSampling2D((2, 2))(x)\n",
    "decoded = Conv2D(1, (3, 3), activation='sigmoid', padding='same')(x)\n",
    "decoded  = Reshape((timesteps, input_dim))(decoded)\n",
    "\n",
    "autoencoder = Model(input_img, decoded)"
   ]
  },
  {
   "cell_type": "code",
   "execution_count": 47,
   "metadata": {},
   "outputs": [],
   "source": [
    "autoencoder.load_weights(\"./weights/starter_ae_wtest_conv_rmse_c6.hdf5\")"
   ]
  },
  {
   "cell_type": "code",
   "execution_count": 48,
   "metadata": {},
   "outputs": [],
   "source": [
    "for l in autoencoder.layers:\n",
    "    l.trainable = False"
   ]
  },
  {
   "cell_type": "code",
   "execution_count": 49,
   "metadata": {
    "scrolled": true
   },
   "outputs": [
    {
     "data": {
      "text/plain": [
       "(None, 4, 16, 32)"
      ]
     },
     "execution_count": 49,
     "metadata": {},
     "output_type": "execute_result"
    }
   ],
   "source": [
    "autoencoder.get_layer(\"latent_rep\").output_shape"
   ]
  },
  {
   "cell_type": "code",
   "execution_count": 50,
   "metadata": {},
   "outputs": [],
   "source": [
    "p = 0.3\n",
    "\n",
    "x = Conv2D(64, (1, 1), activation='relu', padding='same')(autoencoder.get_layer(\"latent_rep\").output)\n",
    "\n",
    "x = Conv2D(128, (2, 2), activation='relu', padding='same')(x)\n",
    "x = Dropout(p/2)(x)\n",
    "x = BatchNormalization()(x)\n",
    "\n",
    "x = MaxPooling2D((2,2),padding='same')(x)\n",
    "\n",
    "x = Conv2D(128, (2, 2), activation='relu', padding='same')(x)\n",
    "x = Dropout(p/2)(x)\n",
    "\n",
    "x = GlobalMaxPool2D()(x)\n",
    "\n",
    "x = Dense(128, activation = 'relu')(x)\n",
    "x = Dropout(p)(x)\n",
    "\n",
    "x = Dense(len(POSSIBLE_LABELS), activation = 'softmax', name='targets')(x)\n"
   ]
  },
  {
   "cell_type": "code",
   "execution_count": 51,
   "metadata": {},
   "outputs": [],
   "source": [
    "\n",
    "model = Model(inputs=[input_img], outputs = x)\n",
    "model.compile(optimizer=\"adam\", loss='categorical_crossentropy', metrics=['accuracy'])"
   ]
  },
  {
   "cell_type": "code",
   "execution_count": 52,
   "metadata": {},
   "outputs": [
    {
     "name": "stdout",
     "output_type": "stream",
     "text": [
      "_________________________________________________________________\n",
      "Layer (type)                 Output Shape              Param #   \n",
      "=================================================================\n",
      "input_1 (InputLayer)         (None, 32, 128)           0         \n",
      "_________________________________________________________________\n",
      "reshape_1 (Reshape)          (None, 32, 128, 1)        0         \n",
      "_________________________________________________________________\n",
      "conv2d_1 (Conv2D)            (None, 32, 128, 64)       6464      \n",
      "_________________________________________________________________\n",
      "max_pooling2d_1 (MaxPooling2 (None, 16, 64, 64)        0         \n",
      "_________________________________________________________________\n",
      "conv2d_2 (Conv2D)            (None, 16, 64, 32)        51232     \n",
      "_________________________________________________________________\n",
      "max_pooling2d_2 (MaxPooling2 (None, 8, 32, 32)         0         \n",
      "_________________________________________________________________\n",
      "conv2d_3 (Conv2D)            (None, 8, 32, 32)         9248      \n",
      "_________________________________________________________________\n",
      "latent_rep (MaxPooling2D)    (None, 4, 16, 32)         0         \n",
      "_________________________________________________________________\n",
      "conv2d_8 (Conv2D)            (None, 4, 16, 64)         2112      \n",
      "_________________________________________________________________\n",
      "conv2d_9 (Conv2D)            (None, 4, 16, 128)        32896     \n",
      "_________________________________________________________________\n",
      "dropout_1 (Dropout)          (None, 4, 16, 128)        0         \n",
      "_________________________________________________________________\n",
      "batch_normalization_1 (Batch (None, 4, 16, 128)        512       \n",
      "_________________________________________________________________\n",
      "max_pooling2d_3 (MaxPooling2 (None, 2, 8, 128)         0         \n",
      "_________________________________________________________________\n",
      "conv2d_10 (Conv2D)           (None, 2, 8, 128)         65664     \n",
      "_________________________________________________________________\n",
      "dropout_2 (Dropout)          (None, 2, 8, 128)         0         \n",
      "_________________________________________________________________\n",
      "global_max_pooling2d_1 (Glob (None, 128)               0         \n",
      "_________________________________________________________________\n",
      "dense_1 (Dense)              (None, 128)               16512     \n",
      "_________________________________________________________________\n",
      "dropout_3 (Dropout)          (None, 128)               0         \n",
      "_________________________________________________________________\n",
      "targets (Dense)              (None, 12)                1548      \n",
      "=================================================================\n",
      "Total params: 186,188\n",
      "Trainable params: 118,988\n",
      "Non-trainable params: 67,200\n",
      "_________________________________________________________________\n"
     ]
    }
   ],
   "source": [
    "model.summary()"
   ]
  },
  {
   "cell_type": "code",
   "execution_count": 101,
   "metadata": {
    "ExecuteTime": {
     "end_time": "2017-11-17T09:03:33.180074Z",
     "start_time": "2017-11-17T09:03:32.625939Z"
    },
    "_cell_guid": "0e13c01e-5662-4679-9b31-bf9347080ae5",
    "_uuid": "a17b3ea5c15c781260f3473f37dd0d36a932a565"
   },
   "outputs": [],
   "source": [
    "# p = 0.5\n",
    "\n",
    "# x_in = Input(shape = (128,32,1)) #1 channel, 99 time, 161 freqs # S : np.ndarray [shape=(n_mels, t)]\n",
    "\n",
    "# x = BatchNormalization()(x_in)\n",
    "\n",
    "# x = Conv2D(64, (9,10),activation='relu',padding='same')(x)\n",
    "# x = Dropout(p)(x)\n",
    "# x = BatchNormalization()(x)\n",
    "# x = MaxPooling2D((3,2),padding='same')(x)\n",
    "\n",
    "# x = Conv2D(128, (4,5),activation='relu',padding='same')(x)\n",
    "# x = Dropout(p)(x)\n",
    "# x = BatchNormalization()(x)\n",
    "# x = MaxPooling2D((3,2),padding='same')(x)\n",
    "\n",
    "\n",
    "# x = Conv2D(128, (2,2),activation='relu',padding='same')(x)\n",
    "# x = Dropout(p)(x)\n",
    "# x = BatchNormalization()(x)\n",
    "# x = MaxPooling2D(padding='same')(x)\n",
    "\n",
    "\n",
    "\n",
    "# x = GlobalMaxPool2D()(x)\n",
    "\n",
    "# # x = Flatten()(x)\n",
    "# x = Dense(64, activation = 'relu')(x) #\n",
    "# x = Dropout(p)(x)\n",
    "\n",
    "# # x = Dense(64, activation = 'relu')(x)\n",
    "# # x = Dropout(0.3)(x)\n",
    "\n",
    "# x = Dense(len(POSSIBLE_LABELS), activation = 'softmax', name='targets')(x)\n",
    "\n",
    "\n",
    "\n",
    "\n",
    "# model = Model(inputs = x_in, outputs = x)\n",
    "# model.compile(optimizer=\"adam\", loss='categorical_crossentropy', metrics=['accuracy'])\n",
    "# # model.summary()"
   ]
  },
  {
   "cell_type": "code",
   "execution_count": 58,
   "metadata": {
    "scrolled": true
   },
   "outputs": [
    {
     "data": {
      "text/html": [
       "<div>\n",
       "<style scoped>\n",
       "    .dataframe tbody tr th:only-of-type {\n",
       "        vertical-align: middle;\n",
       "    }\n",
       "\n",
       "    .dataframe tbody tr th {\n",
       "        vertical-align: top;\n",
       "    }\n",
       "\n",
       "    .dataframe thead th {\n",
       "        text-align: right;\n",
       "    }\n",
       "</style>\n",
       "<table border=\"1\" class=\"dataframe\">\n",
       "  <thead>\n",
       "    <tr style=\"text-align: right;\">\n",
       "      <th></th>\n",
       "      <th>label</th>\n",
       "      <th>label_id</th>\n",
       "      <th>user_id</th>\n",
       "      <th>wav_file</th>\n",
       "      <th>raw</th>\n",
       "      <th>raw_AS_wav</th>\n",
       "    </tr>\n",
       "  </thead>\n",
       "  <tbody>\n",
       "    <tr>\n",
       "      <th>0</th>\n",
       "      <td>left</td>\n",
       "      <td>4</td>\n",
       "      <td>cb8f8307</td>\n",
       "      <td>./data/train/audio/left/cb8f8307_nohash_1.wav</td>\n",
       "      <td>[[-80.0, -80.0, -53.5190041125, -45.8180520192...</td>\n",
       "      <td>(((&lt;pydub.audio_segment.AudioSegment object at...</td>\n",
       "    </tr>\n",
       "    <tr>\n",
       "      <th>1</th>\n",
       "      <td>left</td>\n",
       "      <td>4</td>\n",
       "      <td>b7a0754f</td>\n",
       "      <td>./data/train/audio/left/b7a0754f_nohash_2.wav</td>\n",
       "      <td>[[-80.0, -80.0, -80.0, -80.0, -80.0, -80.0, -8...</td>\n",
       "      <td>(((&lt;pydub.audio_segment.AudioSegment object at...</td>\n",
       "    </tr>\n",
       "    <tr>\n",
       "      <th>2</th>\n",
       "      <td>left</td>\n",
       "      <td>4</td>\n",
       "      <td>0132a06d</td>\n",
       "      <td>./data/train/audio/left/0132a06d_nohash_3.wav</td>\n",
       "      <td>[[-80.0, -80.0, -80.0, -80.0, -80.0, -80.0, -8...</td>\n",
       "      <td>(((&lt;pydub.audio_segment.AudioSegment object at...</td>\n",
       "    </tr>\n",
       "    <tr>\n",
       "      <th>3</th>\n",
       "      <td>left</td>\n",
       "      <td>4</td>\n",
       "      <td>f92e49f3</td>\n",
       "      <td>./data/train/audio/left/f92e49f3_nohash_4.wav</td>\n",
       "      <td>[[-80.0, -80.0, -80.0, -79.1795468386, -61.342...</td>\n",
       "      <td>(((&lt;pydub.audio_segment.AudioSegment object at...</td>\n",
       "    </tr>\n",
       "    <tr>\n",
       "      <th>4</th>\n",
       "      <td>left</td>\n",
       "      <td>4</td>\n",
       "      <td>88053e92</td>\n",
       "      <td>./data/train/audio/left/88053e92_nohash_1.wav</td>\n",
       "      <td>[[-80.0, -80.0, -80.0, -74.5488604542, -75.231...</td>\n",
       "      <td>(((&lt;pydub.audio_segment.AudioSegment object at...</td>\n",
       "    </tr>\n",
       "  </tbody>\n",
       "</table>\n",
       "</div>"
      ],
      "text/plain": [
       "  label  label_id   user_id                                       wav_file  \\\n",
       "0  left         4  cb8f8307  ./data/train/audio/left/cb8f8307_nohash_1.wav   \n",
       "1  left         4  b7a0754f  ./data/train/audio/left/b7a0754f_nohash_2.wav   \n",
       "2  left         4  0132a06d  ./data/train/audio/left/0132a06d_nohash_3.wav   \n",
       "3  left         4  f92e49f3  ./data/train/audio/left/f92e49f3_nohash_4.wav   \n",
       "4  left         4  88053e92  ./data/train/audio/left/88053e92_nohash_1.wav   \n",
       "\n",
       "                                                 raw  \\\n",
       "0  [[-80.0, -80.0, -53.5190041125, -45.8180520192...   \n",
       "1  [[-80.0, -80.0, -80.0, -80.0, -80.0, -80.0, -8...   \n",
       "2  [[-80.0, -80.0, -80.0, -80.0, -80.0, -80.0, -8...   \n",
       "3  [[-80.0, -80.0, -80.0, -79.1795468386, -61.342...   \n",
       "4  [[-80.0, -80.0, -80.0, -74.5488604542, -75.231...   \n",
       "\n",
       "                                          raw_AS_wav  \n",
       "0  (((<pydub.audio_segment.AudioSegment object at...  \n",
       "1  (((<pydub.audio_segment.AudioSegment object at...  \n",
       "2  (((<pydub.audio_segment.AudioSegment object at...  \n",
       "3  (((<pydub.audio_segment.AudioSegment object at...  \n",
       "4  (((<pydub.audio_segment.AudioSegment object at...  "
      ]
     },
     "execution_count": 58,
     "metadata": {},
     "output_type": "execute_result"
    }
   ],
   "source": [
    "train_df.head()"
   ]
  },
  {
   "cell_type": "markdown",
   "metadata": {},
   "source": [
    "Epoch 14/100\n",
    "300/300 [==============================] - 214s - loss: 0.7612 - acc: 0.7370 - val_loss: 1.0481 - val_acc: 0.6508\n",
    "\n",
    "\n",
    "\n",
    "Epoch 31/100\n",
    "350/350 [==============================] - 227s - loss: 0.4294 - acc: 0.8518 - val_loss: 0.9436 - val_acc: 0.7179\n",
    "Epoch 32/100\n",
    "\n",
    "\n",
    "\n",
    "Epoch 00058: reducing learning rate to 1.00000006569e-06.\n",
    "329/329 [==============================] - 191s - loss: 0.7292 - acc: 0.7521 - val_loss: 0.7132 - val_acc: 0.8770\n",
    "\n",
    "\n",
    "with ae, p=0.\n",
    "Epoch 28/100\n",
    "329/329 [==============================] - 7s - loss: 0.3312 - acc: 0.8829 - val_loss: 0.4124 - val_acc: 0.8579\n",
    "\n",
    "with p=0.4 and /2 for convs \n",
    "Epoch 28/100\n",
    "329/329 [==============================] - 7s - loss: 0.5534 - acc: 0.8056 - val_loss: 0.5074 - val_acc: 0.8312\n",
    "\n",
    "with p=0.2 and /2\n",
    "Epoch 00035: reducing learning rate to 1.0000000475e-05.\n",
    "329/329 [==============================] - 7s - loss: 0.2414 - acc: 0.9137 - val_loss: 0.3686 - val_acc: 0.8811"
   ]
  },
  {
   "cell_type": "code",
   "execution_count": 56,
   "metadata": {},
   "outputs": [
    {
     "data": {
      "text/plain": [
       "395.71875"
      ]
     },
     "execution_count": 56,
     "metadata": {},
     "output_type": "execute_result"
    }
   ],
   "source": [
    "train_df.shape[0]*(1.2)//64"
   ]
  },
  {
   "cell_type": "code",
   "execution_count": 356,
   "metadata": {
    "ExecuteTime": {
     "end_time": "2017-11-17T09:42:31.48233Z",
     "start_time": "2017-11-17T09:03:33.355603Z"
    },
    "_cell_guid": "5f3d1b09-500f-410e-820a-8eaab24b6ebb",
    "_uuid": "528ec66a0a6caca952273ab916e609625839b19e",
    "scrolled": false
   },
   "outputs": [
    {
     "name": "stdout",
     "output_type": "stream",
     "text": [
      "Epoch 1/100\n",
      "989/989 [==============================] - 36s - loss: 0.9326 - acc: 0.6730 - val_loss: 0.7046 - val_acc: 0.7614\n",
      "Epoch 2/100\n",
      "989/989 [==============================] - 36s - loss: 0.8052 - acc: 0.7186 - val_loss: 0.6923 - val_acc: 0.7546\n",
      "Epoch 3/100\n",
      "989/989 [==============================] - 36s - loss: 0.7264 - acc: 0.7456 - val_loss: 0.5195 - val_acc: 0.8225\n",
      "Epoch 4/100\n",
      "989/989 [==============================] - 37s - loss: 0.6787 - acc: 0.7629 - val_loss: 0.5026 - val_acc: 0.8255\n",
      "Epoch 5/100\n",
      "989/989 [==============================] - 37s - loss: 0.6375 - acc: 0.7777 - val_loss: 0.4492 - val_acc: 0.8552\n",
      "Epoch 6/100\n",
      "989/989 [==============================] - 36s - loss: 0.6040 - acc: 0.7901 - val_loss: 0.4668 - val_acc: 0.8383\n",
      "Epoch 7/100\n",
      "989/989 [==============================] - 37s - loss: 0.5798 - acc: 0.7983 - val_loss: 0.4556 - val_acc: 0.8407\n",
      "Epoch 8/100\n",
      "989/989 [==============================] - 37s - loss: 0.5590 - acc: 0.8046 - val_loss: 0.4429 - val_acc: 0.8529\n",
      "Epoch 9/100\n",
      "987/989 [============================>.] - ETA: 0s - loss: 0.5398 - acc: 0.8127\n",
      "Epoch 00008: reducing learning rate to 0.00010000000475.\n",
      "989/989 [==============================] - 37s - loss: 0.5395 - acc: 0.8128 - val_loss: 0.4673 - val_acc: 0.8437\n",
      "Epoch 10/100\n",
      "989/989 [==============================] - 37s - loss: 0.4668 - acc: 0.8370 - val_loss: 0.3737 - val_acc: 0.8778\n",
      "Epoch 11/100\n",
      "989/989 [==============================] - 37s - loss: 0.4454 - acc: 0.8429 - val_loss: 0.3679 - val_acc: 0.8778\n",
      "Epoch 12/100\n",
      "989/989 [==============================] - 37s - loss: 0.4412 - acc: 0.8455 - val_loss: 0.3767 - val_acc: 0.8721\n",
      "Epoch 13/100\n",
      "989/989 [==============================] - 37s - loss: 0.4282 - acc: 0.8506 - val_loss: 0.3638 - val_acc: 0.8799\n",
      "Epoch 14/100\n",
      "989/989 [==============================] - 37s - loss: 0.4272 - acc: 0.8511 - val_loss: 0.3612 - val_acc: 0.8812\n",
      "Epoch 15/100\n",
      "989/989 [==============================] - 37s - loss: 0.4259 - acc: 0.8518 - val_loss: 0.3673 - val_acc: 0.8755\n",
      "Epoch 16/100\n",
      "989/989 [==============================] - 37s - loss: 0.4217 - acc: 0.8518 - val_loss: 0.3606 - val_acc: 0.8775\n",
      "Epoch 17/100\n",
      "989/989 [==============================] - 37s - loss: 0.4152 - acc: 0.8536 - val_loss: 0.3620 - val_acc: 0.8788\n",
      "Epoch 18/100\n",
      "989/989 [==============================] - 37s - loss: 0.4134 - acc: 0.8543 - val_loss: 0.3661 - val_acc: 0.8778\n",
      "Epoch 19/100\n",
      "989/989 [==============================] - 37s - loss: 0.4131 - acc: 0.8549 - val_loss: 0.3392 - val_acc: 0.8849\n",
      "Epoch 20/100\n",
      "989/989 [==============================] - 37s - loss: 0.4098 - acc: 0.8562 - val_loss: 0.3563 - val_acc: 0.8822\n",
      "Epoch 21/100\n",
      "989/989 [==============================] - 37s - loss: 0.4066 - acc: 0.8570 - val_loss: 0.3596 - val_acc: 0.8802\n",
      "Epoch 22/100\n",
      "989/989 [==============================] - 37s - loss: 0.4049 - acc: 0.8581 - val_loss: 0.3597 - val_acc: 0.8782\n",
      "Epoch 23/100\n",
      "989/989 [==============================] - 37s - loss: 0.4006 - acc: 0.8598 - val_loss: 0.3717 - val_acc: 0.8734\n",
      "Epoch 24/100\n",
      "989/989 [==============================] - 37s - loss: 0.3959 - acc: 0.8601 - val_loss: 0.3574 - val_acc: 0.8829\n",
      "Epoch 25/100\n",
      "989/989 [==============================] - 37s - loss: 0.3955 - acc: 0.8615 - val_loss: 0.3477 - val_acc: 0.8809\n",
      "Epoch 00024: early stopping\n"
     ]
    }
   ],
   "source": [
    "batch_size = 128\n",
    "\n",
    "history = model.fit_generator(generator=train_generator(batch_size),\n",
    "                              steps_per_epoch=train_df.shape[0]*(1.2)//batch_size,\n",
    "                              epochs=100,\n",
    "                              callbacks=callbacks,\n",
    "                              validation_data=valid_generator(batch_size),\n",
    "                              validation_steps=int(np.ceil(valid_df.shape[0]/batch_size)))"
   ]
  },
  {
   "cell_type": "code",
   "execution_count": 379,
   "metadata": {},
   "outputs": [],
   "source": [
    "for l in model.layers:\n",
    "    l.trainable = True\n",
    "    \n",
    "    \n",
    "model.compile(optimizer=Adam(lr=1e-5), loss='categorical_crossentropy', metrics=['accuracy'])"
   ]
  },
  {
   "cell_type": "code",
   "execution_count": 381,
   "metadata": {
    "ExecuteTime": {
     "end_time": "2017-11-17T10:24:59.198625Z",
     "start_time": "2017-11-17T10:24:59.081762Z"
    },
    "_cell_guid": "0c99ba3b-e8ca-40cb-8d29-2b0e89a385c7",
    "_uuid": "429139ca4f71487c6cfe3e8dfbb6a659eb9bb9c8"
   },
   "outputs": [],
   "source": [
    "model.load_weights('./weights/{}.hdf5'.format(exp_name))"
   ]
  },
  {
   "cell_type": "code",
   "execution_count": 383,
   "metadata": {},
   "outputs": [],
   "source": [
    "exp_name = \"aebase_aug_drp3_finetune\"\n",
    "callbacks = [EarlyStopping(monitor='val_loss',\n",
    "                           patience=5,\n",
    "                           verbose=1),\n",
    "             \n",
    "             ReduceLROnPlateau(monitor='val_loss',\n",
    "                               factor=0.1,\n",
    "                               patience=3,\n",
    "                               verbose=1,\n",
    "                               epsilon=0.01,\n",
    "                              min_lr=1e-6),\n",
    "             ModelCheckpoint(monitor='val_loss',\n",
    "                             filepath='weights/{}.hdf5'.format(exp_name),\n",
    "                             save_best_only=True,\n",
    "                             save_weights_only=True)]"
   ]
  },
  {
   "cell_type": "code",
   "execution_count": 384,
   "metadata": {},
   "outputs": [
    {
     "name": "stdout",
     "output_type": "stream",
     "text": [
      "Epoch 1/100\n",
      "989/989 [==============================] - 85s - loss: 0.4034 - acc: 0.8585 - val_loss: 0.3539 - val_acc: 0.8835\n",
      "Epoch 2/100\n",
      "989/989 [==============================] - 85s - loss: 0.3916 - acc: 0.8625 - val_loss: 0.3505 - val_acc: 0.8849\n",
      "Epoch 3/100\n",
      "989/989 [==============================] - 85s - loss: 0.3909 - acc: 0.8629 - val_loss: 0.3477 - val_acc: 0.8822\n",
      "Epoch 4/100\n",
      "989/989 [==============================] - 85s - loss: 0.3857 - acc: 0.8651 - val_loss: 0.3477 - val_acc: 0.8819\n",
      "Epoch 5/100\n",
      "989/989 [==============================] - 85s - loss: 0.3845 - acc: 0.8654 - val_loss: 0.3238 - val_acc: 0.8920\n",
      "Epoch 6/100\n",
      "989/989 [==============================] - 85s - loss: 0.3817 - acc: 0.8664 - val_loss: 0.3444 - val_acc: 0.8822\n",
      "Epoch 7/100\n",
      "989/989 [==============================] - 85s - loss: 0.3786 - acc: 0.8676 - val_loss: 0.3361 - val_acc: 0.8883\n",
      "Epoch 8/100\n",
      "989/989 [==============================] - 85s - loss: 0.3751 - acc: 0.8679 - val_loss: 0.3391 - val_acc: 0.8903\n",
      "Epoch 9/100\n",
      "988/989 [============================>.] - ETA: 0s - loss: 0.3743 - acc: 0.8680\n",
      "Epoch 00008: reducing learning rate to 1e-06.\n",
      "989/989 [==============================] - 85s - loss: 0.3742 - acc: 0.8680 - val_loss: 0.3562 - val_acc: 0.8809\n",
      "Epoch 10/100\n",
      "989/989 [==============================] - 85s - loss: 0.3688 - acc: 0.8717 - val_loss: 0.3404 - val_acc: 0.8890\n",
      "Epoch 11/100\n",
      "989/989 [==============================] - 85s - loss: 0.3706 - acc: 0.8700 - val_loss: 0.3368 - val_acc: 0.8873\n",
      "Epoch 00010: early stopping\n"
     ]
    }
   ],
   "source": [
    "history = model.fit_generator(generator=train_generator(batch_size),\n",
    "                              steps_per_epoch=train_df.shape[0]*(1.2)//batch_size,\n",
    "                              epochs=100,\n",
    "                              callbacks=callbacks,\n",
    "                              validation_data=valid_generator(batch_size),\n",
    "                              validation_steps=int(np.ceil(valid_df.shape[0]/batch_size)))"
   ]
  },
  {
   "cell_type": "code",
   "execution_count": 385,
   "metadata": {},
   "outputs": [],
   "source": [
    "model.load_weights('./weights/{}.hdf5'.format(exp_name))"
   ]
  },
  {
   "cell_type": "markdown",
   "metadata": {},
   "source": [
    "### valid evaluation"
   ]
  },
  {
   "cell_type": "code",
   "execution_count": 386,
   "metadata": {},
   "outputs": [],
   "source": [
    "from sklearn.preprocessing import OneHotEncoder\n",
    "from sklearn.metrics import classification_report"
   ]
  },
  {
   "cell_type": "code",
   "execution_count": 387,
   "metadata": {},
   "outputs": [],
   "source": [
    "val_preds = model.predict_generator(valid_generator(64),steps=int(np.ceil(valid_df.shape[0]/64.)))\n",
    "val_preds = np.argmax(val_preds,axis=1)"
   ]
  },
  {
   "cell_type": "code",
   "execution_count": 31,
   "metadata": {},
   "outputs": [
    {
     "data": {
      "text/plain": [
       "(3091, 12)"
      ]
     },
     "execution_count": 31,
     "metadata": {},
     "output_type": "execute_result"
    }
   ],
   "source": [
    "val_preds.shape"
   ]
  },
  {
   "cell_type": "code",
   "execution_count": 388,
   "metadata": {},
   "outputs": [],
   "source": [
    "oe = OneHotEncoder()"
   ]
  },
  {
   "cell_type": "code",
   "execution_count": 389,
   "metadata": {},
   "outputs": [],
   "source": [
    "y_true = oe.fit_transform(valid_df.label_id.values.reshape(-1, 1)).todense()\n",
    "\n"
   ]
  },
  {
   "cell_type": "code",
   "execution_count": 390,
   "metadata": {},
   "outputs": [],
   "source": [
    "val_preds = oe.transform(val_preds.reshape(-1, 1)).todense()\n"
   ]
  },
  {
   "cell_type": "code",
   "execution_count": 391,
   "metadata": {},
   "outputs": [
    {
     "name": "stdout",
     "output_type": "stream",
     "text": [
      "             precision    recall  f1-score   support\n",
      "\n",
      "        yes       0.95      0.94      0.95       261\n",
      "         no       0.82      0.85      0.84       270\n",
      "         up       0.89      0.91      0.90       260\n",
      "       down       0.92      0.88      0.90       264\n",
      "       left       0.92      0.90      0.91       247\n",
      "      right       0.97      0.86      0.91       256\n",
      "         on       0.96      0.86      0.91       257\n",
      "        off       0.92      0.88      0.90       256\n",
      "       stop       0.96      0.87      0.91       246\n",
      "         go       0.86      0.76      0.81       260\n",
      "    silence       0.98      0.99      0.98       257\n",
      "    unknown       0.62      0.92      0.74       257\n",
      "\n",
      "avg / total       0.90      0.89      0.89      3091\n",
      "\n"
     ]
    }
   ],
   "source": [
    "print classification_report(y_true,val_preds,target_names=POSSIBLE_LABELS)"
   ]
  },
  {
   "cell_type": "code",
   "execution_count": 56,
   "metadata": {},
   "outputs": [
    {
     "name": "stdout",
     "output_type": "stream",
     "text": [
      "             precision    recall  f1-score   support\n",
      "\n",
      "        yes       0.93      0.95      0.94       261\n",
      "         no       0.84      0.81      0.82       270\n",
      "         up       0.88      0.90      0.89       260\n",
      "       down       0.83      0.91      0.87       264\n",
      "       left       0.92      0.88      0.90       247\n",
      "      right       0.93      0.89      0.91       256\n",
      "         on       0.89      0.89      0.89       257\n",
      "        off       0.93      0.86      0.89       256\n",
      "       stop       0.89      0.89      0.89       246\n",
      "         go       0.81      0.78      0.79       260\n",
      "    silence       1.00      1.00      1.00       257\n",
      "    unknown       0.71      0.78      0.74       257\n",
      "\n",
      "avg / total       0.88      0.88      0.88      3091\n",
      "\n"
     ]
    }
   ],
   "source": [
    "print classification_report(y_true,val_preds,target_names=POSSIBLE_LABELS)"
   ]
  },
  {
   "cell_type": "markdown",
   "metadata": {},
   "source": [
    "### submission\n"
   ]
  },
  {
   "cell_type": "code",
   "execution_count": 395,
   "metadata": {
    "ExecuteTime": {
     "end_time": "2017-11-17T10:28:14.451612Z",
     "start_time": "2017-11-17T10:28:13.307142Z"
    },
    "_cell_guid": "72f27090-c0d1-4d0b-8027-34c915429a79",
    "_uuid": "1007977fccadecdae582ec5d8d52dd3c4c3010aa"
   },
   "outputs": [],
   "source": [
    "test_paths = glob(os.path.join('./data/', 'test/audio/*wav'))"
   ]
  },
  {
   "cell_type": "code",
   "execution_count": 396,
   "metadata": {},
   "outputs": [
    {
     "data": {
      "text/plain": [
       "158538"
      ]
     },
     "execution_count": 396,
     "metadata": {},
     "output_type": "execute_result"
    }
   ],
   "source": [
    "len(test_paths)"
   ]
  },
  {
   "cell_type": "code",
   "execution_count": 392,
   "metadata": {},
   "outputs": [],
   "source": [
    "test_df = pickle.load( open(\"cache/test_df.pik\",\"rb\"))\n"
   ]
  },
  {
   "cell_type": "code",
   "execution_count": 397,
   "metadata": {
    "ExecuteTime": {
     "end_time": "2017-11-17T10:32:14.882322Z",
     "start_time": "2017-11-17T10:32:14.863617Z"
    },
    "_cell_guid": "c6d9b369-9979-4bcd-8540-4653e6544f84",
    "_uuid": "6a0bb3c22b7b5c43db0ec5673333ab3de8f08724"
   },
   "outputs": [],
   "source": [
    "def test_generator(test_batch_size,augment=False):\n",
    "    while True:\n",
    "        ids = list(range(test_df.shape[0]))\n",
    "        \n",
    "        for start in range(0, len(ids), test_batch_size):\n",
    "            x_batch = []\n",
    "            end = min(start + test_batch_size, len(ids))\n",
    "            i_test_batch = ids[start:end]\n",
    "#             this_paths = test_paths[start:end]\n",
    "#             for x in this_paths:\n",
    "            for i in i_test_batch:\n",
    "            #WATCHOUT > NO AUG\n",
    "#                 x_batch.append(process_wav_file(x).T) #,reshape=False,augment=augment,pval=0.5))\n",
    "                x_batch.append(test_df.loc[i,'raw'].T)\n",
    "\n",
    "            x_batch = np.array(x_batch)\n",
    "            x_batch = 1.- np.array(x_batch)/-80.\n",
    "            \n",
    "            yield x_batch"
   ]
  },
  {
   "cell_type": "code",
   "execution_count": null,
   "metadata": {},
   "outputs": [],
   "source": [
    "def valid_generator(val_batch_size):\n",
    "    while True:\n",
    "        ids = list(range(valid_df.shape[0]))\n",
    "        for start in range(0, len(ids), val_batch_size):\n",
    "            x_batch = []\n",
    "            y_batch = []\n",
    "            end = min(start + val_batch_size, len(ids))\n",
    "            i_val_batch = ids[start:end]\n",
    "            for i in i_val_batch:\n",
    "                x_batch.append(valid_df.loc[i,'raw'].T)\n",
    "                y_batch.append(valid_df.label_id.values[i])\n",
    "\n",
    "            x_batch = 1.- np.array(x_batch)/-80.\n",
    "            y_batch = to_categorical(y_batch, num_classes = len(POSSIBLE_LABELS))\n",
    "            yield x_batch, y_batch"
   ]
  },
  {
   "cell_type": "code",
   "execution_count": 398,
   "metadata": {
    "ExecuteTime": {
     "start_time": "2017-11-17T10:32:45.947Z"
    },
    "_cell_guid": "1fb8aed4-de12-43c5-84bf-b803e3d640fa",
    "_uuid": "631a38cb0013e5772f6987854145ad76ecf6c430"
   },
   "outputs": [
    {
     "name": "stdout",
     "output_type": "stream",
     "text": [
      "620/620 [==============================] - 34s    \n"
     ]
    }
   ],
   "source": [
    "predictions = model.predict_generator(test_generator(256,augment=False), int(np.ceil(len(test_paths)/256.)), verbose=1)"
   ]
  },
  {
   "cell_type": "code",
   "execution_count": 399,
   "metadata": {},
   "outputs": [],
   "source": [
    "np.save(\"cache/predictions_{}.npy\".format(exp_name),predictions)"
   ]
  },
  {
   "cell_type": "code",
   "execution_count": 400,
   "metadata": {},
   "outputs": [
    {
     "data": {
      "text/plain": [
       "(158538, 12)"
      ]
     },
     "execution_count": 400,
     "metadata": {},
     "output_type": "execute_result"
    }
   ],
   "source": [
    "predictions.shape"
   ]
  },
  {
   "cell_type": "markdown",
   "metadata": {},
   "source": [
    "#### blending"
   ]
  },
  {
   "cell_type": "code",
   "execution_count": 407,
   "metadata": {},
   "outputs": [],
   "source": [
    "predictions_pyramid_noaug = np.load('cache/predictions_pyramid_noaug.npy')\n",
    "predictions_model_with_ae_base_drp2_1 = np.load('cache/predictions_model_with_ae_base_drp2_1.npy')"
   ]
  },
  {
   "cell_type": "code",
   "execution_count": 408,
   "metadata": {},
   "outputs": [],
   "source": [
    "predictions = np.mean([predictions,predictions_pyramid_noaug,predictions_model_with_ae_base_drp2_1], axis=0)\n"
   ]
  },
  {
   "cell_type": "code",
   "execution_count": 156,
   "metadata": {},
   "outputs": [
    {
     "name": "stdout",
     "output_type": "stream",
     "text": [
      "2477/2478 [============================>.] - ETA: 0s"
     ]
    }
   ],
   "source": [
    "# num_aug = 2 \n",
    "# for i in range(num_aug):\n",
    "#     predictions +=  model.predict_generator(test_generator(64,augment=True), int(np.ceil(len(test_paths)/64.)), verbose=1)\n",
    "    \n",
    "\n",
    "# predictions = predictions/(num_aug + 1.0)"
   ]
  },
  {
   "cell_type": "markdown",
   "metadata": {},
   "source": [
    "#### class assignment"
   ]
  },
  {
   "cell_type": "code",
   "execution_count": 409,
   "metadata": {
    "ExecuteTime": {
     "end_time": "2017-11-17T11:30:44.236246Z",
     "start_time": "2017-11-17T11:30:44.21858Z"
    },
    "_cell_guid": "b1cdab5c-9816-4690-87d8-de2c97cf0e7d",
    "_uuid": "24eb7e512eace4567494e0a8e356a826f4283c4d"
   },
   "outputs": [],
   "source": [
    "classes = np.argmax(predictions, axis=1)"
   ]
  },
  {
   "cell_type": "code",
   "execution_count": 410,
   "metadata": {},
   "outputs": [
    {
     "data": {
      "text/plain": [
       "((158538,), 158538)"
      ]
     },
     "execution_count": 410,
     "metadata": {},
     "output_type": "execute_result"
    }
   ],
   "source": [
    "classes.shape, len(test_paths)"
   ]
  },
  {
   "cell_type": "code",
   "execution_count": 411,
   "metadata": {},
   "outputs": [
    {
     "data": {
      "text/plain": [
       "(array([ 12769.,   6288.,   7058.,   6322.,   6488.,   7524.,   5727.,\n",
       "          6044.,   7517.,  92801.]),\n",
       " array([  0. ,   1.1,   2.2,   3.3,   4.4,   5.5,   6.6,   7.7,   8.8,\n",
       "          9.9,  11. ]),\n",
       " <a list of 10 Patch objects>)"
      ]
     },
     "execution_count": 411,
     "metadata": {},
     "output_type": "execute_result"
    },
    {
     "data": {
      "image/png": "[encoded data removed]",
      "text/plain": [
       "<matplotlib.figure.Figure at 0x7f61b65e2a90>"
      ]
     },
     "metadata": {},
     "output_type": "display_data"
    }
   ],
   "source": [
    "plt.hist(classes,bins=10)"
   ]
  },
  {
   "cell_type": "code",
   "execution_count": 403,
   "metadata": {},
   "outputs": [
    {
     "data": {
      "text/plain": [
       "(array([ 12482.,   6260.,   6059.,   6403.,   5591.,   7249.,   6102.,\n",
       "          6070.,   7064.,  95258.]),\n",
       " array([  0. ,   1.1,   2.2,   3.3,   4.4,   5.5,   6.6,   7.7,   8.8,\n",
       "          9.9,  11. ]),\n",
       " <a list of 10 Patch objects>)"
      ]
     },
     "execution_count": 403,
     "metadata": {},
     "output_type": "execute_result"
    },
    {
     "data": {
      "image/png": "[encoded data removed]",
      "text/plain": [
       "<matplotlib.figure.Figure at 0x7f621de23090>"
      ]
     },
     "metadata": {},
     "output_type": "display_data"
    }
   ],
   "source": [
    "plt.hist(classes,bins=10)"
   ]
  },
  {
   "cell_type": "code",
   "execution_count": 69,
   "metadata": {},
   "outputs": [
    {
     "data": {
      "text/plain": [
       "(array([ 13909.,   6442.,  10015.,   6507.,   8567.,   8867.,   5738.,\n",
       "          6198.,   9714.,  82581.]),\n",
       " array([  0. ,   1.1,   2.2,   3.3,   4.4,   5.5,   6.6,   7.7,   8.8,\n",
       "          9.9,  11. ]),\n",
       " <a list of 10 Patch objects>)"
      ]
     },
     "execution_count": 69,
     "metadata": {},
     "output_type": "execute_result"
    },
    {
     "data": {
      "image/png": "[encoded data removed]",
      "text/plain": [
       "<matplotlib.figure.Figure at 0x7fed01ff2e90>"
      ]
     },
     "metadata": {},
     "output_type": "display_data"
    }
   ],
   "source": [
    "plt.hist(classes,bins=10)"
   ]
  },
  {
   "cell_type": "code",
   "execution_count": 122,
   "metadata": {},
   "outputs": [
    {
     "data": {
      "text/plain": [
       "(array([ 14037.,   7124.,  12571.,   6486.,  10360.,  11502.,   6549.,\n",
       "          6624.,  10275.,  73010.]),\n",
       " array([  0. ,   1.1,   2.2,   3.3,   4.4,   5.5,   6.6,   7.7,   8.8,\n",
       "          9.9,  11. ]),\n",
       " <a list of 10 Patch objects>)"
      ]
     },
     "execution_count": 122,
     "metadata": {},
     "output_type": "execute_result"
    },
    {
     "data": {
      "image/png": "[encoded data removed]",
      "text/plain": [
       "<matplotlib.figure.Figure at 0x7f1cad211550>"
      ]
     },
     "metadata": {},
     "output_type": "display_data"
    }
   ],
   "source": [
    "plt.hist(classes,bins=10)"
   ]
  },
  {
   "cell_type": "markdown",
   "metadata": {},
   "source": [
    "### blending"
   ]
  },
  {
   "cell_type": "markdown",
   "metadata": {},
   "source": [
    "### submission"
   ]
  },
  {
   "cell_type": "code",
   "execution_count": 412,
   "metadata": {
    "ExecuteTime": {
     "end_time": "2017-11-17T11:31:11.212517Z",
     "start_time": "2017-11-17T11:31:10.786357Z"
    },
    "_cell_guid": "1da523cf-fdbf-4ab1-9300-0147155aa247",
    "_uuid": "f25d4e626202aa115bd0460f4de8d07f9727c83e"
   },
   "outputs": [],
   "source": [
    "### last batch will contain padding, so remove duplicates\n",
    "submission = dict()\n",
    "for i in range(len(test_paths)):\n",
    "    fname, label = os.path.basename(test_paths[i]), id2name[classes[i]]\n",
    "    submission[fname] = label"
   ]
  },
  {
   "cell_type": "code",
   "execution_count": 413,
   "metadata": {
    "ExecuteTime": {
     "end_time": "2017-11-17T11:32:05.154527Z",
     "start_time": "2017-11-17T11:32:04.983371Z"
    },
    "_cell_guid": "9a95d147-3f4b-4386-8597-5fa60be43542",
    "_uuid": "bdf63bce43a0525a02ac18ca3f90aeba06ce6e99"
   },
   "outputs": [],
   "source": [
    "with open('subm/submission_{}.csv'.format(exp_name), 'w') as fout:\n",
    "    fout.write('fname,label\\n')\n",
    "    for fname, label in submission.items():\n",
    "        fout.write('{},{}\\n'.format(fname, label))"
   ]
  },
  {
   "cell_type": "code",
   "execution_count": 414,
   "metadata": {
    "_cell_guid": "8bea6850-15c6-44e7-bdb4-9555ad196f85",
    "_uuid": "555315ef622793711ff5643928dac874c8cb0ed2"
   },
   "outputs": [
    {
     "data": {
      "text/html": [
       "<a href='subm/submission_aebase_aug_drp3_finetune_blend.csv' target='_blank'>subm/submission_aebase_aug_drp3_finetune_blend.csv</a><br>"
      ],
      "text/plain": [
       "/home/ubuntu/keyword_spotting/subm/submission_aebase_aug_drp3_finetune_blend.csv"
      ]
     },
     "execution_count": 414,
     "metadata": {},
     "output_type": "execute_result"
    }
   ],
   "source": [
    "from IPython.lib.display import FileLink\n",
    "\n",
    "FileLink('subm/submission_{}.csv'.format(exp_name))\n"
   ]
  },
  {
   "cell_type": "code",
   "execution_count": null,
   "metadata": {},
   "outputs": [],
   "source": []
  }
 ],
 "metadata": {
  "anaconda-cloud": {},
  "kernelspec": {
   "display_name": "Python [conda root]",
   "language": "python",
   "name": "conda-root-py"
  },
  "language_info": {
   "codemirror_mode": {
    "name": "ipython",
    "version": 2
   },
   "file_extension": ".py",
   "mimetype": "text/x-python",
   "name": "python",
   "nbconvert_exporter": "python",
   "pygments_lexer": "ipython2",
   "version": "2.7.14"
  },
  "toc": {
   "nav_menu": {},
   "number_sections": true,
   "sideBar": true,
   "skip_h1_title": false,
   "toc_cell": false,
   "toc_position": {},
   "toc_section_display": "block",
   "toc_window_display": true
  }
 },
 "nbformat": 4,
 "nbformat_minor": 1
}
