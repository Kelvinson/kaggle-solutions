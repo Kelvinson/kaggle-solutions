{
 "cells": [
  {
   "cell_type": "code",
   "execution_count": 2,
   "metadata": {
    "ExecuteTime": {
     "end_time": "2017-11-17T09:03:29.196238Z",
     "start_time": "2017-11-17T09:03:28.644004Z"
    },
    "_cell_guid": "679e0d3e-646d-4e96-9eb0-b362d8c6e51f",
    "_uuid": "0d05e5ce89af3e25d1c1fb244d021a1cfa1a058c"
   },
   "outputs": [
    {
     "name": "stderr",
     "output_type": "stream",
     "text": [
      "Using TensorFlow backend.\n"
     ]
    }
   ],
   "source": [
    "from utils import *\n",
    "import array \n",
    "\n",
    "from pydub import AudioSegment\n",
    "import tensorflow as tf\n",
    "\n",
    "from keras.models import Model, Sequential\n",
    "from keras.layers import Input, Conv2D, Flatten, GlobalMaxPooling1D, MaxPooling2D, Activation, BatchNormalization, GlobalAveragePooling2D, GlobalMaxPool2D, concatenate, Dense, Dropout\n",
    "from keras.optimizers import Adam\n",
    "from tensorflow.python.keras.utils import to_categorical\n",
    "\n",
    "from keras.layers import Input, GRU, RepeatVector, BatchNormalization, TimeDistributed, Conv1D\n",
    "from keras.layers import GlobalAveragePooling1D, LSTM\n",
    "from keras import backend as K\n",
    "from keras.layers import  Conv2D, MaxPooling2D, UpSampling2D, Lambda, Reshape\n",
    "\n",
    "\n",
    "from keras_tqdm import TQDMNotebookCallback\n",
    "from keras.callbacks import EarlyStopping, ModelCheckpoint, ReduceLROnPlateau\n",
    "import matplotlib.pyplot as plt\n",
    "import numba\n",
    "\n",
    "import dask.dataframe as dd\n",
    "from dask.multiprocessing import get\n",
    "\n",
    "%matplotlib inline"
   ]
  },
  {
   "cell_type": "code",
   "execution_count": 3,
   "metadata": {
    "ExecuteTime": {
     "end_time": "2017-11-17T09:03:29.210749Z",
     "start_time": "2017-11-17T09:03:29.19832Z"
    },
    "_cell_guid": "8ab00801-08b9-44d3-a063-32e82dbf8f58",
    "_uuid": "53c19941676690454dd4b91109976b6c59cb7a40"
   },
   "outputs": [
    {
     "data": {
      "text/plain": [
       "12"
      ]
     },
     "execution_count": 3,
     "metadata": {},
     "output_type": "execute_result"
    }
   ],
   "source": [
    "POSSIBLE_LABELS = 'yes no up down left right on off stop go silence unknown'.split()\n",
    "id2name = {i: name for i, name in enumerate(POSSIBLE_LABELS)}\n",
    "name2id = {name: i for i, name in id2name.items()}\n",
    "len(id2name)"
   ]
  },
  {
   "cell_type": "code",
   "execution_count": 5,
   "metadata": {},
   "outputs": [
    {
     "name": "stdout",
     "output_type": "stream",
     "text": [
      "CPU times: user 9.86 s, sys: 6.09 s, total: 16 s\n",
      "Wall time: 1min 4s\n"
     ]
    }
   ],
   "source": [
    "%%time \n",
    "\n",
    "train_df = pickle.load( open(\"cache/train_df.pik\",\"rb\"))\n",
    "valid_df = pickle.load( open(\"cache/valid_df.pik\",\"rb\"))\n",
    "silent_df = pickle.load(open(\"cache/silent_df.pik\",\"rb\"))\n",
    "unknown_df = pickle.load(open(\"cache/unknown_df.pik\",\"rb\"))\n",
    "# test_df =  pickle.load(open(\"cache/test_df.pik\",\"rb\"))"
   ]
  },
  {
   "cell_type": "code",
   "execution_count": 4,
   "metadata": {},
   "outputs": [],
   "source": [
    "filler = AudioSegment.silent(duration=1000, frame_rate = 16000)\n",
    "silence_files_AS = [AudioSegment.from_wav(x) for x in silent_df.wav_file.values]"
   ]
  },
  {
   "cell_type": "code",
   "execution_count": 8,
   "metadata": {},
   "outputs": [],
   "source": [
    "def process_wav_file(record, reshape=False, augment=True,pval=0.5 ,output_format='logmel'):\n",
    "    \n",
    "    if type(record) == str: # test files\n",
    "        fname = record\n",
    "        label = \"test\"\n",
    "    else:    \n",
    "        fname  = record.wav_file\n",
    "        label = record.label\n",
    "\n",
    "        \n",
    "        \n",
    "        \n",
    "        \n",
    "    if \"raw_AS_wav\" in record: \n",
    "        wav = record.raw_AS_wav\n",
    "    else:\n",
    "        wav = AudioSegment.from_wav(fname)\n",
    "        \n",
    "        \n",
    "    \n",
    "    if (not label in [\"silence\"]) and augment: #no augmentation for sample files \n",
    "        wav = augment_wav(wav,pval)\n",
    "\n",
    "    else: #make sure segment is 1 second\n",
    "        wav = fill_to_1sec(wav)\n",
    "\n",
    "        \n",
    "    samples = AS_to_raw(wav)\n",
    "    \n",
    "    \n",
    "    \n",
    "    if output_format == \"logmel\":\n",
    "        output = log_mel(samples,reshape=reshape)\n",
    "    else:\n",
    "        output = samples\n",
    "    \n",
    "    \n",
    "    return output\n"
   ]
  },
  {
   "cell_type": "code",
   "execution_count": 45,
   "metadata": {
    "ExecuteTime": {
     "end_time": "2017-11-17T09:03:32.519795Z",
     "start_time": "2017-11-17T09:03:32.483881Z"
    },
    "_cell_guid": "144c6e60-8a83-437d-8b8a-ea065af90923",
    "_uuid": "22e0e6c718171167089fb6df36d3dc43a1029992"
   },
   "outputs": [],
   "source": [
    "#no augmentation since the auto encoder has already seen all the train AND test files \n",
    "\n",
    "def train_generator(train_batch_size):\n",
    "    while True:\n",
    "        \n",
    "        this_train = train_df.groupby('label_id').apply(lambda x: x.sample(n = 2000))\n",
    "        extra_data_size = int(this_train.shape[0]* 0.1)\n",
    "        this_train = pd.concat([silent_df.sample(extra_data_size),\n",
    "                                this_train,\n",
    "                                unknown_df.sample(extra_data_size*4)],axis=0 )\n",
    "        \n",
    "        this_train.reset_index(drop=True,inplace=True)\n",
    "        \n",
    "        shuffled_ids = random.sample(range(this_train.shape[0]), this_train.shape[0])\n",
    "        \n",
    "        for start in range(0, len(shuffled_ids), train_batch_size):\n",
    "            x_batch = []\n",
    "            x_batch_mfcc = []\n",
    "            x_batch_delta1 = []\n",
    "            x_batch_delta2 = []\n",
    "            \n",
    "            y_batch = []\n",
    "            \n",
    "            end = min(start + train_batch_size, len(shuffled_ids))\n",
    "            i_train_batch = shuffled_ids[start:end]\n",
    "            \n",
    "            for i in i_train_batch:\n",
    "                x_batch.append(this_train.loc[i,'raw'].T)\n",
    "#                 x_batch.append(process_wav_file(this_train.iloc[i], augment=True).T)\n",
    "                x_batch_mfcc.append(this_train.loc[i,'mfcc'].T)\n",
    "                x_batch_delta1.append(this_train.loc[i,'delta1'].T)\n",
    "                x_batch_delta2.append(this_train.loc[i,'delta2'].T)\n",
    "\n",
    "                y_batch.append(this_train.label_id.values[i])\n",
    "                \n",
    "            x_batch = 1.- np.array(x_batch)/-80.\n",
    "            x_batch_mfcc = np.array(x_batch_mfcc)\n",
    "            x_batch_delta1 = np.array(x_batch_mfcc)\n",
    "            x_batch_delta2 = np.array(x_batch_mfcc)\n",
    "            \n",
    "            y_batch = to_categorical(y_batch, num_classes = len(POSSIBLE_LABELS))\n",
    "            \n",
    "            yield [x_batch, x_batch_mfcc,x_batch_delta1,x_batch_delta2], y_batch"
   ]
  },
  {
   "cell_type": "code",
   "execution_count": 25,
   "metadata": {},
   "outputs": [
    {
     "name": "stdout",
     "output_type": "stream",
     "text": [
      "CPU times: user 92 ms, sys: 0 ns, total: 92 ms\n",
      "Wall time: 88.4 ms\n"
     ]
    }
   ],
   "source": [
    "%time t = next(train_generator(256))[0]"
   ]
  },
  {
   "cell_type": "code",
   "execution_count": 48,
   "metadata": {
    "ExecuteTime": {
     "end_time": "2017-11-17T09:03:32.624289Z",
     "start_time": "2017-11-17T09:03:32.521828Z"
    },
    "_cell_guid": "59a13393-9bc3-4b27-abe2-9c78b3c32ead",
    "_uuid": "6f9a8fbf6e352b1c77b9c22dddf1c5d69382bd5b"
   },
   "outputs": [],
   "source": [
    "def valid_generator(val_batch_size):\n",
    "    while True:\n",
    "        ids = list(range(valid_df.shape[0]))\n",
    "        for start in range(0, len(ids), val_batch_size):\n",
    "            x_batch = []\n",
    "            x_batch_mfcc = []\n",
    "            x_batch_delta1 = []\n",
    "            x_batch_delta2 = []\n",
    "            \n",
    "            y_batch = []\n",
    "            end = min(start + val_batch_size, len(ids))\n",
    "            i_val_batch = ids[start:end]\n",
    "            for i in i_val_batch:\n",
    "                x_batch.append(valid_df.loc[i,'raw'].T)\n",
    "                x_batch_mfcc.append(valid_df.loc[i,'mfcc'].T)\n",
    "                x_batch_delta1.append(valid_df.loc[i,'delta1'].T)\n",
    "                x_batch_delta2.append(valid_df.loc[i,'delta2'].T)                \n",
    "                \n",
    "                \n",
    "                y_batch.append(valid_df.label_id.values[i])\n",
    "\n",
    "            x_batch = 1.- np.array(x_batch)/-80.\n",
    "            x_batch_mfcc = np.array(x_batch_mfcc)\n",
    "            x_batch_delta1 = np.array(x_batch_mfcc)\n",
    "            x_batch_delta2 = np.array(x_batch_mfcc)\n",
    "\n",
    "            y_batch = to_categorical(y_batch, num_classes = len(POSSIBLE_LABELS))\n",
    "            yield [x_batch, x_batch_mfcc,x_batch_delta1,x_batch_delta2], y_batch"
   ]
  },
  {
   "cell_type": "code",
   "execution_count": 205,
   "metadata": {},
   "outputs": [],
   "source": [
    "#a common practice is to choose a filter size in time which spans 2/3 o"
   ]
  },
  {
   "cell_type": "code",
   "execution_count": 53,
   "metadata": {},
   "outputs": [],
   "source": [
    "p = 0.3\n"
   ]
  },
  {
   "cell_type": "code",
   "execution_count": 76,
   "metadata": {},
   "outputs": [],
   "source": [
    "def get_conv_stacks( x_in, filter_size=2):\n",
    "    \n",
    "#     x = Conv1D(32,filter_size=1,activation='relu')(x_in)\n",
    "    \n",
    "    x = Conv1D(32,filter_size,activation='relu')(x_in)\n",
    "    x = Dropout(p/2)(x)\n",
    "    x = Conv1D(32,filter_size,activation='relu')(x)\n",
    "    x = Dropout(p/2)(x)\n",
    "\n",
    "\n",
    "\n",
    "    # x = LSTM(128,return_sequences=True)(x)\n",
    "\n",
    "    x = Conv1D(64,filter_size,activation='relu',dilation_rate=2)(x)\n",
    "    x = Dropout(p/2)(x)\n",
    "    x = Conv1D(64,filter_size,activation='relu',dilation_rate=2)(x)\n",
    "    x = Dropout(p/2)(x)\n",
    "\n",
    "\n",
    "    # x = LSTM(128,return_sequences=True)(x)\n",
    "\n",
    "    x = Conv1D(128,filter_size,activation='relu',dilation_rate=2)(x)\n",
    "    x = Dropout(p/2)(x)\n",
    "    \n",
    "#     if filter_size < 4: \n",
    "#         x = Conv1D(128,filter_size,activation='relu',dilation_rate=2)(x)\n",
    "#         x = Dropout(p/2)(x)\n",
    "#         x = Conv1D(128,filter_size,activation='relu',dilation_rate=2)(x)\n",
    "#         x = Dropout(p/2)(x)\n",
    "#         x = Conv1D(128,filter_size,activation='relu',dilation_rate=2)(x)\n",
    "#         x = Dropout(p/2)(x)\n",
    "\n",
    "    \n",
    "    x = Conv1D(128,filter_size,activation='relu',dilation_rate=2)(x)\n",
    "    x = Dropout(p/2)(x)\n",
    "    x = Conv1D(128,filter_size,activation='relu',dilation_rate=2)(x)\n",
    "    x = Dropout(p/2)(x)\n",
    "    x = Conv1D(128,filter_size,activation='relu',dilation_rate=2)(x)\n",
    "    x = Dropout(p/2)(x)\n",
    "\n",
    "\n",
    "\n",
    "\n",
    "    x_max = GlobalMaxPooling1D()(x)\n",
    "    x_avg = GlobalAveragePooling1D()(x)\n",
    "\n",
    "    x = concatenate([x_max,x_avg])\n",
    "#     x = Flatten()(x)\n",
    "    \n",
    "    return x"
   ]
  },
  {
   "cell_type": "code",
   "execution_count": 80,
   "metadata": {},
   "outputs": [],
   "source": [
    "\n",
    "timesteps, input_dim , latent_dim = 32,128, 128\n",
    "\n",
    "x_logmel = Input(shape=(timesteps, input_dim)) #1 channel, 99 time, 161 freqs # S : np.ndarray [shape=(n_mels, t)]\n",
    "\n",
    "mfcc_input = Input(shape=(timesteps, 40))\n",
    "delta1_input = Input(shape=(timesteps, 40))\n",
    "delta2_input = Input(shape=(timesteps, 40))\n",
    "\n",
    "# x = Reshape((input_dim, timesteps))(x_in)\n",
    "\n",
    "mfcc  = BatchNormalization()(mfcc_input)\n",
    "delta1  = BatchNormalization()(delta1_input)\n",
    "delta2  = BatchNormalization()(delta2_input)\n",
    "\n",
    "# x = get_conv_stacks(x_in,1)\n",
    "# x_2 = get_conv_stacks(x_in,2)\n",
    "# x_3 = get_conv_stacks(x_in,3)\n",
    "\n",
    "x_1= get_conv_stacks(x_logmel,1)\n",
    "x_12= get_conv_stacks(x_logmel,2)\n",
    "x_13= get_conv_stacks(x_logmel,3)\n",
    "\n",
    "x_2 = get_conv_stacks(mfcc,1)\n",
    "x_22= get_conv_stacks(mfcc,2)\n",
    "x_23= get_conv_stacks(mfcc,3)\n",
    "\n",
    "\n",
    "x_3 = get_conv_stacks(delta1,1)\n",
    "x_32= get_conv_stacks(delta1,2)\n",
    "x_33 = get_conv_stacks(delta1,3)\n",
    "\n",
    "\n",
    "x_4 = get_conv_stacks(delta2,1)\n",
    "x_42 = get_conv_stacks(delta2,2)\n",
    "x_43 = get_conv_stacks(delta2,3)\n",
    "\n",
    "\n",
    "x = concatenate([x_1,x_2,x_3,x_4,\n",
    "                x_12,x_22,x_32,x_42,\n",
    "                x_13,x_23,x_33,x_43])\n",
    "\n",
    "\n",
    "x = Dense(256, activation = 'relu')(x) #\n",
    "x = Dropout(0.6)(x)\n",
    "\n",
    "# x = Dense(256, activation = 'relu')(x) #\n",
    "# x = Dropout(p)(x)\n",
    "\n",
    "# x = Dense(64, activation = 'relu')(x)\n",
    "# x = Dropout(0.3)(x)\n",
    "\n",
    "x = Dense(len(POSSIBLE_LABELS), activation = 'softmax', name='targets')(x)\n",
    "\n",
    "\n"
   ]
  },
  {
   "cell_type": "code",
   "execution_count": 81,
   "metadata": {},
   "outputs": [],
   "source": [
    "\n",
    "model = Model(inputs = [x_logmel,mfcc_input,delta1_input,delta2_input], outputs = x)\n",
    "model.compile(optimizer=\"adam\", loss='categorical_crossentropy', metrics=['accuracy'])\n",
    "\n"
   ]
  },
  {
   "cell_type": "code",
   "execution_count": 83,
   "metadata": {
    "scrolled": false
   },
   "outputs": [],
   "source": [
    "# model.summary()"
   ]
  },
  {
   "cell_type": "code",
   "execution_count": 74,
   "metadata": {},
   "outputs": [],
   "source": [
    "from keras.callbacks import TensorBoard\n",
    "exp_name = \"dilated_conv_k2_time_extra_mfcc_64_256\"\n",
    "callbacks = [EarlyStopping(monitor='val_loss',\n",
    "                           patience=5,\n",
    "                           verbose=1),\n",
    "             \n",
    "             ReduceLROnPlateau(monitor='val_loss',\n",
    "                               factor=0.1,\n",
    "                               patience=3,\n",
    "                               verbose=1,\n",
    "                               epsilon=0.01,\n",
    "                              min_lr=1e-6),\n",
    "             ModelCheckpoint(monitor='val_loss',\n",
    "                             filepath='weights/{}.hdf5'.format(exp_name),\n",
    "                             save_best_only=True,\n",
    "                             save_weights_only=True,\n",
    "                             mode='min')\n",
    "#              , TensorBoard(log_dir='./logs/logs_{}'.format(exp_name), histogram_freq=0, batch_size=64, write_graph=True)\n",
    "            ]"
   ]
  },
  {
   "cell_type": "markdown",
   "metadata": {},
   "source": [
    "Epoch 14/100\n",
    "300/300 [==============================] - 214s - loss: 0.7612 - acc: 0.7370 - val_loss: 1.0481 - val_acc: 0.6508\n",
    "\n",
    "\n",
    "\n",
    "Epoch 31/100\n",
    "350/350 [==============================] - 227s - loss: 0.4294 - acc: 0.8518 - val_loss: 0.9436 - val_acc: 0.7179\n",
    "Epoch 32/100\n",
    "\n",
    "\n",
    "\n",
    "Epoch 00058: reducing learning rate to 1.00000006569e-06.\n",
    "329/329 [==============================] - 191s - loss: 0.7292 - acc: 0.7521 - val_loss: 0.7132 - val_acc: 0.8770\n",
    "\n",
    "\n",
    "with ae, p=0.\n",
    "Epoch 28/100\n",
    "329/329 [==============================] - 7s - loss: 0.3312 - acc: 0.8829 - val_loss: 0.4124 - val_acc: 0.8579\n",
    "\n",
    "with p=0.4 and /2 for convs \n",
    "Epoch 28/100\n",
    "329/329 [==============================] - 7s - loss: 0.5534 - acc: 0.8056 - val_loss: 0.5074 - val_acc: 0.8312\n",
    "\n",
    "with p=0.2 and /2\n",
    "Epoch 00035: reducing learning rate to 1.0000000475e-05.\n",
    "329/329 [==============================] - 7s - loss: 0.2414 - acc: 0.9137 - val_loss: 0.3686 - val_acc: 0.8811\n",
    "\n",
    "\n",
    "dilated v1 - p0\n",
    "Epoch 00010: reducing learning rate to 0.00010000000475.\n",
    "989/989 [==============================] - 15s - loss: 0.1838 - acc: 0.9389 - val_loss: 0.2511 - val_acc: 0.9261\n",
    "\n",
    "\n",
    "dilated v1 - p4/2 - lb:0.81\n",
    "Epoch 28/100\n",
    "989/989 [==============================] - 17s - loss: 0.3985 - acc: 0.8709 - val_loss: 0.2611 - val_acc: 0.9268\n",
    "\n",
    "dilated v1 - mix max n avg \n",
    "Epoch 31/100\n",
    "989/989 [==============================] - 17s - loss: 0.3749 - acc: 0.8782 - val_loss: 0.2433 - val_acc: 0.9281\n",
    "\n",
    "dilated v1 - extra 256 layers x 4\n",
    "Epoch 35/100\n",
    "989/989 [==============================] - 30s - loss: 0.4577 - acc: 0.8525 - val_loss: 0.2981 - val_acc: 0.9085\n",
    "\n",
    "\n",
    "dilated v1 - extra 128 layers x 4 \n",
    "Epoch 25/100\n",
    "989/989 [==============================] - 25s - loss: 0.5111 - acc: 0.8372 - val_loss: 0.3371 - val_acc: 0.8971\n",
    "\n",
    "\n",
    "dilated v2 - conv + lstm \n",
    "lb: 0.84\n",
    "Epoch 30/100\n",
    "989/989 [==============================] - 92s - loss: 0.1845 - acc: 0.9394 - val_loss: 0.1964 - val_acc: 0.9413\n",
    "\n",
    "\n",
    "dilated v3 - multiple kernetl sizes: 2 3 4 \n",
    "Epoch 20/100\n",
    "989/989 [==============================] - 40s - loss: 0.3161 - acc: 0.8954 - val_loss: 0.3031 - val_acc: 0.9112\n",
    "\n",
    "\n",
    "dilated v1 - baseline (kernel size 2 only)\n",
    "Epoch 00026:\n",
    "989/989 [==============================] - 18s - loss: 0.3169 - acc: 0.8955 - val_loss: 0.2328 - val_acc: 0.9251\n",
    "\n",
    "dilated v3 - multiple kernetl sizes: 2 3\n",
    "Epoch 17/100\n",
    "989/989 [==============================] - 32s - loss: 0.2985 - acc: 0.9017 - val_loss: 0.2113 - val_acc: 0.9342\n",
    "\n",
    "\n",
    "dilated v1 - baseline (kernel size 1 2 3)\n",
    "Epoch 22/100\n",
    "989/989 [==============================] - 42s - loss: 0.2732 - acc: 0.9088 - val_loss: 0.1985 - val_acc: 0.9382\n",
    "\n",
    "\n",
    "dilated v1 - baseline (kernel size 1 2 3 2x 256)\n",
    "Epoch 28/100\n",
    "989/989 [==============================] - 44s - loss: 0.2709 - acc: 0.9103 - val_loss: 0.2183 - val_acc: 0.9342\n",
    "\n",
    "\n",
    "dilated v1 - baseline (kernel size 1 2 3 2x 128)\n",
    "Epoch 28/100\n",
    "Epoch 25/100\n",
    "989/989 [==============================] - 43s - loss: 0.3238 - acc: 0.8950 - val_loss: 0.2191 - val_acc: 0.9332\n",
    "\n",
    "\n",
    "dilated v1 + mfcc - kernel 2\n",
    "Epoch 25/100\n",
    "197/197 [==============================] - 13s - loss: 0.2159 - acc: 0.9298 - val_loss: 0.2302 - val_acc: 0.9258\n",
    "\n",
    "\n",
    "\n",
    "dilated v1 + mfcc - kernel 2 - extra input kernel size, final dense 256 p 50\n",
    "Epoch 26/100\n",
    "395/395 [==============================] - 21s - loss: 0.1658 - acc: 0.9464 - val_loss: 0.2271 - val_acc: 0.9277\n",
    "\n",
    "\n",
    "dilated v1 - frequency convs (kernel size 8)\n",
    "Epoch 19/100\n",
    "989/989 [==============================] - 40s - loss: 0.2676 - acc: 0.9123 - val_loss: 0.2397 - val_acc: 0.9278\n",
    "\n"
   ]
  },
  {
   "cell_type": "code",
   "execution_count": 75,
   "metadata": {
    "ExecuteTime": {
     "end_time": "2017-11-17T09:42:31.48233Z",
     "start_time": "2017-11-17T09:03:33.355603Z"
    },
    "_cell_guid": "5f3d1b09-500f-410e-820a-8eaab24b6ebb",
    "_uuid": "528ec66a0a6caca952273ab916e609625839b19e",
    "scrolled": false
   },
   "outputs": [
    {
     "name": "stdout",
     "output_type": "stream",
     "text": [
      "Epoch 1/100\n",
      "395/395 [==============================] - 32s - loss: 1.5517 - acc: 0.4709 - val_loss: 0.8927 - val_acc: 0.7067\n",
      "Epoch 2/100\n",
      "395/395 [==============================] - 21s - loss: 0.8060 - acc: 0.7256 - val_loss: 0.5554 - val_acc: 0.8193\n",
      "Epoch 3/100\n",
      "395/395 [==============================] - 21s - loss: 0.6095 - acc: 0.7988 - val_loss: 0.4325 - val_acc: 0.8636\n",
      "Epoch 4/100\n",
      "395/395 [==============================] - 21s - loss: 0.5198 - acc: 0.8334 - val_loss: 0.3976 - val_acc: 0.8712\n",
      "Epoch 5/100\n",
      "395/395 [==============================] - 21s - loss: 0.4461 - acc: 0.8552 - val_loss: 0.3743 - val_acc: 0.8821\n",
      "Epoch 6/100\n",
      "395/395 [==============================] - 21s - loss: 0.4178 - acc: 0.8646 - val_loss: 0.3278 - val_acc: 0.8936\n",
      "Epoch 7/100\n",
      "395/395 [==============================] - 21s - loss: 0.3884 - acc: 0.8748 - val_loss: 0.3367 - val_acc: 0.8900\n",
      "Epoch 8/100\n",
      "395/395 [==============================] - 22s - loss: 0.3604 - acc: 0.8825 - val_loss: 0.3126 - val_acc: 0.8986\n",
      "Epoch 9/100\n",
      "395/395 [==============================] - 21s - loss: 0.3455 - acc: 0.8901 - val_loss: 0.3112 - val_acc: 0.9012\n",
      "Epoch 10/100\n",
      "395/395 [==============================] - 21s - loss: 0.3219 - acc: 0.8963 - val_loss: 0.2976 - val_acc: 0.9055\n",
      "Epoch 11/100\n",
      "395/395 [==============================] - 21s - loss: 0.3254 - acc: 0.8962 - val_loss: 0.2659 - val_acc: 0.9134\n",
      "Epoch 12/100\n",
      "395/395 [==============================] - 21s - loss: 0.2977 - acc: 0.9065 - val_loss: 0.2718 - val_acc: 0.9098\n",
      "Epoch 13/100\n",
      "395/395 [==============================] - 21s - loss: 0.2917 - acc: 0.9071 - val_loss: 0.3514 - val_acc: 0.8946\n",
      "Epoch 14/100\n",
      "395/395 [==============================] - 21s - loss: 0.2879 - acc: 0.9081 - val_loss: 0.3014 - val_acc: 0.9012\n",
      "Epoch 15/100\n",
      "394/395 [============================>.] - ETA: 0s - loss: 0.2811 - acc: 0.9107\n",
      "Epoch 00014: reducing learning rate to 0.00010000000475.\n",
      "395/395 [==============================] - 22s - loss: 0.2813 - acc: 0.9106 - val_loss: 0.2863 - val_acc: 0.9101\n",
      "Epoch 16/100\n",
      "395/395 [==============================] - 21s - loss: 0.2235 - acc: 0.9280 - val_loss: 0.2413 - val_acc: 0.9230\n",
      "Epoch 17/100\n",
      "395/395 [==============================] - 21s - loss: 0.2048 - acc: 0.9362 - val_loss: 0.2326 - val_acc: 0.9253\n",
      "Epoch 18/100\n",
      "395/395 [==============================] - 21s - loss: 0.1935 - acc: 0.9385 - val_loss: 0.2336 - val_acc: 0.9257\n",
      "Epoch 19/100\n",
      "395/395 [==============================] - 21s - loss: 0.1876 - acc: 0.9406 - val_loss: 0.2320 - val_acc: 0.9257\n",
      "Epoch 20/100\n",
      "395/395 [==============================] - 21s - loss: 0.1859 - acc: 0.9409 - val_loss: 0.2268 - val_acc: 0.9283\n",
      "Epoch 21/100\n",
      "395/395 [==============================] - 21s - loss: 0.1803 - acc: 0.9418 - val_loss: 0.2381 - val_acc: 0.9247\n",
      "Epoch 22/100\n",
      "395/395 [==============================] - 21s - loss: 0.1775 - acc: 0.9431 - val_loss: 0.2398 - val_acc: 0.9270\n",
      "Epoch 23/100\n",
      "395/395 [==============================] - 21s - loss: 0.1677 - acc: 0.9447 - val_loss: 0.2323 - val_acc: 0.9280\n",
      "Epoch 24/100\n",
      "394/395 [============================>.] - ETA: 0s - loss: 0.1705 - acc: 0.9452\n",
      "Epoch 00023: reducing learning rate to 1.0000000475e-05.\n",
      "395/395 [==============================] - 21s - loss: 0.1705 - acc: 0.9452 - val_loss: 0.2313 - val_acc: 0.9296\n",
      "Epoch 25/100\n",
      "395/395 [==============================] - 21s - loss: 0.1680 - acc: 0.9454 - val_loss: 0.2268 - val_acc: 0.9296\n",
      "Epoch 26/100\n",
      "395/395 [==============================] - 21s - loss: 0.1658 - acc: 0.9464 - val_loss: 0.2271 - val_acc: 0.9277\n",
      "Epoch 27/100\n",
      "394/395 [============================>.] - ETA: 0s - loss: 0.1640 - acc: 0.9457\n",
      "Epoch 00026: reducing learning rate to 1.00000006569e-06.\n",
      "395/395 [==============================] - 21s - loss: 0.1643 - acc: 0.9456 - val_loss: 0.2336 - val_acc: 0.9260\n",
      "Epoch 28/100\n",
      "395/395 [==============================] - 21s - loss: 0.1635 - acc: 0.9468 - val_loss: 0.2333 - val_acc: 0.9250\n",
      "Epoch 29/100\n",
      "395/395 [==============================] - 21s - loss: 0.1672 - acc: 0.9454 - val_loss: 0.2320 - val_acc: 0.9267\n",
      "Epoch 30/100\n",
      "395/395 [==============================] - 21s - loss: 0.1582 - acc: 0.9484 - val_loss: 0.2283 - val_acc: 0.9280\n",
      "Epoch 31/100\n",
      "395/395 [==============================] - 21s - loss: 0.1623 - acc: 0.9451 - val_loss: 0.2321 - val_acc: 0.9273\n",
      "Epoch 00030: early stopping\n"
     ]
    }
   ],
   "source": [
    "batch_size = 64\n",
    "\n",
    "history = model.fit_generator(generator=train_generator(batch_size),\n",
    "                              steps_per_epoch=train_df.shape[0]*(1.2)//batch_size,\n",
    "                              epochs=100,\n",
    "                              callbacks=callbacks,\n",
    "                              validation_data=valid_generator(batch_size),\n",
    "                              validation_steps=int(np.ceil(valid_df.shape[0]/batch_size)))"
   ]
  },
  {
   "cell_type": "code",
   "execution_count": 249,
   "metadata": {},
   "outputs": [],
   "source": [
    "model.load_weights('./weights/{}.hdf5'.format(exp_name))"
   ]
  },
  {
   "cell_type": "markdown",
   "metadata": {},
   "source": [
    "### valid evaluation"
   ]
  },
  {
   "cell_type": "code",
   "execution_count": 250,
   "metadata": {},
   "outputs": [],
   "source": [
    "from sklearn.preprocessing import OneHotEncoder\n",
    "from sklearn.metrics import classification_report"
   ]
  },
  {
   "cell_type": "code",
   "execution_count": 251,
   "metadata": {},
   "outputs": [],
   "source": [
    "val_preds = model.predict_generator(valid_generator(64),steps=int(np.ceil(valid_df.shape[0]/64.)))\n",
    "val_preds = np.argmax(val_preds,axis=1)"
   ]
  },
  {
   "cell_type": "code",
   "execution_count": 252,
   "metadata": {},
   "outputs": [
    {
     "data": {
      "text/plain": [
       "(3091,)"
      ]
     },
     "execution_count": 252,
     "metadata": {},
     "output_type": "execute_result"
    }
   ],
   "source": [
    "val_preds.shape"
   ]
  },
  {
   "cell_type": "code",
   "execution_count": 253,
   "metadata": {},
   "outputs": [],
   "source": [
    "oe = OneHotEncoder()"
   ]
  },
  {
   "cell_type": "code",
   "execution_count": 254,
   "metadata": {},
   "outputs": [],
   "source": [
    "y_true = oe.fit_transform(valid_df.label_id.values.reshape(-1, 1)).todense()\n",
    "\n"
   ]
  },
  {
   "cell_type": "code",
   "execution_count": 255,
   "metadata": {},
   "outputs": [],
   "source": [
    "val_preds = oe.transform(val_preds.reshape(-1, 1)).todense()\n"
   ]
  },
  {
   "cell_type": "code",
   "execution_count": 256,
   "metadata": {},
   "outputs": [
    {
     "name": "stdout",
     "output_type": "stream",
     "text": [
      "             precision    recall  f1-score   support\n",
      "\n",
      "        yes       1.00      0.95      0.97       261\n",
      "         no       0.91      0.94      0.93       270\n",
      "         up       0.87      0.95      0.91       260\n",
      "       down       0.98      0.91      0.94       264\n",
      "       left       0.94      0.97      0.96       247\n",
      "      right       0.99      0.93      0.96       256\n",
      "         on       0.96      0.95      0.95       257\n",
      "        off       0.95      0.93      0.94       256\n",
      "       stop       0.99      0.91      0.94       246\n",
      "         go       0.91      0.88      0.90       260\n",
      "    silence       0.98      0.99      0.98       257\n",
      "    unknown       0.82      0.93      0.87       257\n",
      "\n",
      "avg / total       0.94      0.94      0.94      3091\n",
      "\n"
     ]
    }
   ],
   "source": [
    "print classification_report(y_true,val_preds,target_names=POSSIBLE_LABELS)"
   ]
  },
  {
   "cell_type": "code",
   "execution_count": 121,
   "metadata": {},
   "outputs": [
    {
     "name": "stdout",
     "output_type": "stream",
     "text": [
      "             precision    recall  f1-score   support\n",
      "\n",
      "        yes       1.00      0.95      0.97       261\n",
      "         no       0.95      0.91      0.93       270\n",
      "         up       0.93      0.92      0.93       260\n",
      "       down       0.98      0.95      0.96       264\n",
      "       left       0.95      0.97      0.96       247\n",
      "      right       0.98      0.91      0.94       256\n",
      "         on       0.96      0.94      0.95       257\n",
      "        off       0.91      0.92      0.92       256\n",
      "       stop       0.99      0.94      0.96       246\n",
      "         go       0.93      0.92      0.92       260\n",
      "    silence       0.98      1.00      0.99       257\n",
      "    unknown       0.77      0.96      0.85       257\n",
      "\n",
      "avg / total       0.94      0.94      0.94      3091\n",
      "\n"
     ]
    }
   ],
   "source": [
    "print classification_report(y_true,val_preds,target_names=POSSIBLE_LABELS)"
   ]
  },
  {
   "cell_type": "code",
   "execution_count": 45,
   "metadata": {
    "scrolled": true
   },
   "outputs": [
    {
     "name": "stdout",
     "output_type": "stream",
     "text": [
      "             precision    recall  f1-score   support\n",
      "\n",
      "        yes       0.99      0.93      0.96       261\n",
      "         no       0.90      0.92      0.91       270\n",
      "         up       0.89      0.94      0.91       260\n",
      "       down       0.95      0.88      0.91       264\n",
      "       left       0.94      0.95      0.95       247\n",
      "      right       0.98      0.94      0.96       256\n",
      "         on       0.93      0.94      0.94       257\n",
      "        off       0.94      0.92      0.93       256\n",
      "       stop       1.00      0.92      0.96       246\n",
      "         go       0.90      0.87      0.88       260\n",
      "    silence       0.95      1.00      0.97       257\n",
      "    unknown       0.78      0.90      0.84       257\n",
      "\n",
      "avg / total       0.93      0.93      0.93      3091\n",
      "\n"
     ]
    }
   ],
   "source": [
    "print classification_report(y_true,val_preds,target_names=POSSIBLE_LABELS)"
   ]
  },
  {
   "cell_type": "code",
   "execution_count": 391,
   "metadata": {},
   "outputs": [
    {
     "name": "stdout",
     "output_type": "stream",
     "text": [
      "             precision    recall  f1-score   support\n",
      "\n",
      "        yes       0.95      0.94      0.95       261\n",
      "         no       0.82      0.85      0.84       270\n",
      "         up       0.89      0.91      0.90       260\n",
      "       down       0.92      0.88      0.90       264\n",
      "       left       0.92      0.90      0.91       247\n",
      "      right       0.97      0.86      0.91       256\n",
      "         on       0.96      0.86      0.91       257\n",
      "        off       0.92      0.88      0.90       256\n",
      "       stop       0.96      0.87      0.91       246\n",
      "         go       0.86      0.76      0.81       260\n",
      "    silence       0.98      0.99      0.98       257\n",
      "    unknown       0.62      0.92      0.74       257\n",
      "\n",
      "avg / total       0.90      0.89      0.89      3091\n",
      "\n"
     ]
    }
   ],
   "source": [
    "print classification_report(y_true,val_preds,target_names=POSSIBLE_LABELS)"
   ]
  },
  {
   "cell_type": "code",
   "execution_count": 56,
   "metadata": {},
   "outputs": [
    {
     "name": "stdout",
     "output_type": "stream",
     "text": [
      "             precision    recall  f1-score   support\n",
      "\n",
      "        yes       0.93      0.95      0.94       261\n",
      "         no       0.84      0.81      0.82       270\n",
      "         up       0.88      0.90      0.89       260\n",
      "       down       0.83      0.91      0.87       264\n",
      "       left       0.92      0.88      0.90       247\n",
      "      right       0.93      0.89      0.91       256\n",
      "         on       0.89      0.89      0.89       257\n",
      "        off       0.93      0.86      0.89       256\n",
      "       stop       0.89      0.89      0.89       246\n",
      "         go       0.81      0.78      0.79       260\n",
      "    silence       1.00      1.00      1.00       257\n",
      "    unknown       0.71      0.78      0.74       257\n",
      "\n",
      "avg / total       0.88      0.88      0.88      3091\n",
      "\n"
     ]
    }
   ],
   "source": [
    "print classification_report(y_true,val_preds,target_names=POSSIBLE_LABELS)"
   ]
  },
  {
   "cell_type": "markdown",
   "metadata": {},
   "source": [
    "### submission\n"
   ]
  },
  {
   "cell_type": "code",
   "execution_count": 46,
   "metadata": {
    "ExecuteTime": {
     "end_time": "2017-11-17T10:28:14.451612Z",
     "start_time": "2017-11-17T10:28:13.307142Z"
    },
    "_cell_guid": "72f27090-c0d1-4d0b-8027-34c915429a79",
    "_uuid": "1007977fccadecdae582ec5d8d52dd3c4c3010aa"
   },
   "outputs": [],
   "source": [
    "test_paths = glob(os.path.join('./data/', 'test/audio/*wav'))"
   ]
  },
  {
   "cell_type": "code",
   "execution_count": 47,
   "metadata": {},
   "outputs": [
    {
     "data": {
      "text/plain": [
       "158538"
      ]
     },
     "execution_count": 47,
     "metadata": {},
     "output_type": "execute_result"
    }
   ],
   "source": [
    "len(test_paths)"
   ]
  },
  {
   "cell_type": "code",
   "execution_count": 48,
   "metadata": {},
   "outputs": [],
   "source": [
    "test_df = pickle.load( open(\"cache/test_df.pik\",\"rb\"))\n"
   ]
  },
  {
   "cell_type": "code",
   "execution_count": 49,
   "metadata": {
    "ExecuteTime": {
     "end_time": "2017-11-17T10:32:14.882322Z",
     "start_time": "2017-11-17T10:32:14.863617Z"
    },
    "_cell_guid": "c6d9b369-9979-4bcd-8540-4653e6544f84",
    "_uuid": "6a0bb3c22b7b5c43db0ec5673333ab3de8f08724"
   },
   "outputs": [],
   "source": [
    "def test_generator(test_batch_size,augment=False):\n",
    "    while True:\n",
    "        ids = list(range(test_df.shape[0]))\n",
    "        \n",
    "        for start in range(0, len(ids), test_batch_size):\n",
    "            x_batch = []\n",
    "            end = min(start + test_batch_size, len(ids))\n",
    "            i_test_batch = ids[start:end]\n",
    "#             this_paths = test_paths[start:end]\n",
    "#             for x in this_paths:\n",
    "            for i in i_test_batch:\n",
    "            #WATCHOUT > NO AUG\n",
    "#                 x_batch.append(process_wav_file(x).T) #,reshape=False,augment=augment,pval=0.5))\n",
    "                x_batch.append(test_df.loc[i,'raw'].T)\n",
    "\n",
    "            x_batch = np.array(x_batch)\n",
    "            x_batch = 1.- np.array(x_batch)/-80.\n",
    "            \n",
    "            yield x_batch"
   ]
  },
  {
   "cell_type": "code",
   "execution_count": 257,
   "metadata": {
    "ExecuteTime": {
     "start_time": "2017-11-17T10:32:45.947Z"
    },
    "_cell_guid": "1fb8aed4-de12-43c5-84bf-b803e3d640fa",
    "_uuid": "631a38cb0013e5772f6987854145ad76ecf6c430"
   },
   "outputs": [
    {
     "name": "stdout",
     "output_type": "stream",
     "text": [
      "620/620 [==============================] - 9s     \n"
     ]
    }
   ],
   "source": [
    "predictions = model.predict_generator(test_generator(256,augment=False), int(np.ceil(len(test_paths)/256.)), verbose=1)"
   ]
  },
  {
   "cell_type": "code",
   "execution_count": 258,
   "metadata": {},
   "outputs": [],
   "source": [
    "np.save(\"cache/predictions_{}.npy\".format(exp_name),predictions)"
   ]
  },
  {
   "cell_type": "code",
   "execution_count": 259,
   "metadata": {},
   "outputs": [
    {
     "data": {
      "text/plain": [
       "(158538, 12)"
      ]
     },
     "execution_count": 259,
     "metadata": {},
     "output_type": "execute_result"
    }
   ],
   "source": [
    "predictions.shape"
   ]
  },
  {
   "cell_type": "markdown",
   "metadata": {},
   "source": [
    "#### blending"
   ]
  },
  {
   "cell_type": "code",
   "execution_count": 260,
   "metadata": {},
   "outputs": [],
   "source": [
    "# predictions_pyramid_noaug = np.load('cache/predictions_pyramid_noaug.npy')\n",
    "# predictions_model_with_ae_base_drp2_1 = np.load('cache/predictions_model_with_ae_base_drp2_1.npy')\n",
    "predictions_conv_n_lstm = np.load(\"cache/predictions_dilated_conv_n_lstm.npy\")"
   ]
  },
  {
   "cell_type": "code",
   "execution_count": 261,
   "metadata": {},
   "outputs": [],
   "source": [
    "predictions = np.mean([predictions,predictions_conv_n_lstm], axis=0)\n"
   ]
  },
  {
   "cell_type": "code",
   "execution_count": 156,
   "metadata": {},
   "outputs": [
    {
     "name": "stdout",
     "output_type": "stream",
     "text": [
      "2477/2478 [============================>.] - ETA: 0s"
     ]
    }
   ],
   "source": [
    "# num_aug = 2 \n",
    "# for i in range(num_aug):\n",
    "#     predictions +=  model.predict_generator(test_generator(64,augment=True), int(np.ceil(len(test_paths)/64.)), verbose=1)\n",
    "    \n",
    "\n",
    "# predictions = predictions/(num_aug + 1.0)"
   ]
  },
  {
   "cell_type": "markdown",
   "metadata": {},
   "source": [
    "#### class assignment"
   ]
  },
  {
   "cell_type": "code",
   "execution_count": 262,
   "metadata": {
    "ExecuteTime": {
     "end_time": "2017-11-17T11:30:44.236246Z",
     "start_time": "2017-11-17T11:30:44.21858Z"
    },
    "_cell_guid": "b1cdab5c-9816-4690-87d8-de2c97cf0e7d",
    "_uuid": "24eb7e512eace4567494e0a8e356a826f4283c4d"
   },
   "outputs": [],
   "source": [
    "classes = np.argmax(predictions, axis=1)"
   ]
  },
  {
   "cell_type": "code",
   "execution_count": 263,
   "metadata": {},
   "outputs": [
    {
     "data": {
      "text/plain": [
       "((158538,), 158538)"
      ]
     },
     "execution_count": 263,
     "metadata": {},
     "output_type": "execute_result"
    }
   ],
   "source": [
    "classes.shape, len(test_paths)"
   ]
  },
  {
   "cell_type": "code",
   "execution_count": 264,
   "metadata": {},
   "outputs": [
    {
     "data": {
      "text/plain": [
       "(array([ 13585.,   6830.,   5294.,   6261.,   5404.,   7593.,   6554.,\n",
       "          5604.,   7395.,  94018.]),\n",
       " array([  0. ,   1.1,   2.2,   3.3,   4.4,   5.5,   6.6,   7.7,   8.8,\n",
       "          9.9,  11. ]),\n",
       " <a list of 10 Patch objects>)"
      ]
     },
     "execution_count": 264,
     "metadata": {},
     "output_type": "execute_result"
    },
    {
     "data": {
      "image/png": "[encoded data removed]",
      "text/plain": [
       "<matplotlib.figure.Figure at 0x7fd4a541a050>"
      ]
     },
     "metadata": {},
     "output_type": "display_data"
    }
   ],
   "source": [
    "plt.hist(classes,bins=10)"
   ]
  },
  {
   "cell_type": "code",
   "execution_count": 128,
   "metadata": {},
   "outputs": [
    {
     "data": {
      "text/plain": [
       "(array([ 13577.,   6145.,   5559.,   6245.,   5493.,   7181.,   6768.,\n",
       "          5664.,   7460.,  94446.]),\n",
       " array([  0. ,   1.1,   2.2,   3.3,   4.4,   5.5,   6.6,   7.7,   8.8,\n",
       "          9.9,  11. ]),\n",
       " <a list of 10 Patch objects>)"
      ]
     },
     "execution_count": 128,
     "metadata": {},
     "output_type": "execute_result"
    },
    {
     "data": {
      "image/png": "[encoded data removed]",
      "text/plain": [
       "<matplotlib.figure.Figure at 0x7fd4c5513150>"
      ]
     },
     "metadata": {},
     "output_type": "display_data"
    }
   ],
   "source": [
    "plt.hist(classes,bins=10)"
   ]
  },
  {
   "cell_type": "code",
   "execution_count": 55,
   "metadata": {},
   "outputs": [
    {
     "data": {
      "text/plain": [
       "(array([ 14616.,   7273.,   5042.,   6670.,   5905.,  10269.,   7025.,\n",
       "          5734.,   9826.,  86178.]),\n",
       " array([  0. ,   1.1,   2.2,   3.3,   4.4,   5.5,   6.6,   7.7,   8.8,\n",
       "          9.9,  11. ]),\n",
       " <a list of 10 Patch objects>)"
      ]
     },
     "execution_count": 55,
     "metadata": {},
     "output_type": "execute_result"
    },
    {
     "data": {
      "image/png": "[encoded data removed]",
      "text/plain": [
       "<matplotlib.figure.Figure at 0x7fd54e0449d0>"
      ]
     },
     "metadata": {},
     "output_type": "display_data"
    }
   ],
   "source": [
    "plt.hist(classes,bins=10)"
   ]
  },
  {
   "cell_type": "code",
   "execution_count": 411,
   "metadata": {},
   "outputs": [
    {
     "data": {
      "text/plain": [
       "(array([ 12769.,   6288.,   7058.,   6322.,   6488.,   7524.,   5727.,\n",
       "          6044.,   7517.,  92801.]),\n",
       " array([  0. ,   1.1,   2.2,   3.3,   4.4,   5.5,   6.6,   7.7,   8.8,\n",
       "          9.9,  11. ]),\n",
       " <a list of 10 Patch objects>)"
      ]
     },
     "execution_count": 411,
     "metadata": {},
     "output_type": "execute_result"
    },
    {
     "data": {
      "image/png": "[encoded data removed]",
      "text/plain": [
       "<matplotlib.figure.Figure at 0x7f61b65e2a90>"
      ]
     },
     "metadata": {},
     "output_type": "display_data"
    }
   ],
   "source": [
    "plt.hist(classes,bins=10)"
   ]
  },
  {
   "cell_type": "code",
   "execution_count": 403,
   "metadata": {},
   "outputs": [
    {
     "data": {
      "text/plain": [
       "(array([ 12482.,   6260.,   6059.,   6403.,   5591.,   7249.,   6102.,\n",
       "          6070.,   7064.,  95258.]),\n",
       " array([  0. ,   1.1,   2.2,   3.3,   4.4,   5.5,   6.6,   7.7,   8.8,\n",
       "          9.9,  11. ]),\n",
       " <a list of 10 Patch objects>)"
      ]
     },
     "execution_count": 403,
     "metadata": {},
     "output_type": "execute_result"
    },
    {
     "data": {
      "image/png": "[encoded data removed]",
      "text/plain": [
       "<matplotlib.figure.Figure at 0x7f621de23090>"
      ]
     },
     "metadata": {},
     "output_type": "display_data"
    }
   ],
   "source": [
    "plt.hist(classes,bins=10)"
   ]
  },
  {
   "cell_type": "code",
   "execution_count": 69,
   "metadata": {},
   "outputs": [
    {
     "data": {
      "text/plain": [
       "(array([ 13909.,   6442.,  10015.,   6507.,   8567.,   8867.,   5738.,\n",
       "          6198.,   9714.,  82581.]),\n",
       " array([  0. ,   1.1,   2.2,   3.3,   4.4,   5.5,   6.6,   7.7,   8.8,\n",
       "          9.9,  11. ]),\n",
       " <a list of 10 Patch objects>)"
      ]
     },
     "execution_count": 69,
     "metadata": {},
     "output_type": "execute_result"
    },
    {
     "data": {
      "image/png": "[encoded data removed]",
      "text/plain": [
       "<matplotlib.figure.Figure at 0x7fed01ff2e90>"
      ]
     },
     "metadata": {},
     "output_type": "display_data"
    }
   ],
   "source": [
    "plt.hist(classes,bins=10)"
   ]
  },
  {
   "cell_type": "code",
   "execution_count": 122,
   "metadata": {},
   "outputs": [
    {
     "data": {
      "text/plain": [
       "(array([ 14037.,   7124.,  12571.,   6486.,  10360.,  11502.,   6549.,\n",
       "          6624.,  10275.,  73010.]),\n",
       " array([  0. ,   1.1,   2.2,   3.3,   4.4,   5.5,   6.6,   7.7,   8.8,\n",
       "          9.9,  11. ]),\n",
       " <a list of 10 Patch objects>)"
      ]
     },
     "execution_count": 122,
     "metadata": {},
     "output_type": "execute_result"
    },
    {
     "data": {
      "image/png": "[encoded data removed]",
      "text/plain": [
       "<matplotlib.figure.Figure at 0x7f1cad211550>"
      ]
     },
     "metadata": {},
     "output_type": "display_data"
    }
   ],
   "source": [
    "plt.hist(classes,bins=10)"
   ]
  },
  {
   "cell_type": "markdown",
   "metadata": {},
   "source": [
    "### blending"
   ]
  },
  {
   "cell_type": "markdown",
   "metadata": {},
   "source": [
    "### submission"
   ]
  },
  {
   "cell_type": "code",
   "execution_count": 265,
   "metadata": {
    "ExecuteTime": {
     "end_time": "2017-11-17T11:31:11.212517Z",
     "start_time": "2017-11-17T11:31:10.786357Z"
    },
    "_cell_guid": "1da523cf-fdbf-4ab1-9300-0147155aa247",
    "_uuid": "f25d4e626202aa115bd0460f4de8d07f9727c83e"
   },
   "outputs": [],
   "source": [
    "### last batch will contain padding, so remove duplicates\n",
    "submission = dict()\n",
    "for i in range(len(test_paths)):\n",
    "    fname, label = os.path.basename(test_paths[i]), id2name[classes[i]]\n",
    "    submission[fname] = label"
   ]
  },
  {
   "cell_type": "code",
   "execution_count": 266,
   "metadata": {
    "ExecuteTime": {
     "end_time": "2017-11-17T11:32:05.154527Z",
     "start_time": "2017-11-17T11:32:04.983371Z"
    },
    "_cell_guid": "9a95d147-3f4b-4386-8597-5fa60be43542",
    "_uuid": "bdf63bce43a0525a02ac18ca3f90aeba06ce6e99"
   },
   "outputs": [],
   "source": [
    "with open('subm/submission_{}_.csv'.format(exp_name), 'w') as fout:\n",
    "    fout.write('fname,label\\n')\n",
    "    for fname, label in submission.items():\n",
    "        fout.write('{},{}\\n'.format(fname, label))"
   ]
  },
  {
   "cell_type": "code",
   "execution_count": 267,
   "metadata": {
    "_cell_guid": "8bea6850-15c6-44e7-bdb4-9555ad196f85",
    "_uuid": "555315ef622793711ff5643928dac874c8cb0ed2"
   },
   "outputs": [
    {
     "data": {
      "text/html": [
       "<a href='subm/submission_dilated_conv_varying_filter_size123_blend_convnlstm.csv' target='_blank'>subm/submission_dilated_conv_varying_filter_size123_blend_convnlstm.csv</a><br>"
      ],
      "text/plain": [
       "/home/ubuntu/keyword_spotting/subm/submission_dilated_conv_varying_filter_size123_blend_convnlstm.csv"
      ]
     },
     "execution_count": 267,
     "metadata": {},
     "output_type": "execute_result"
    }
   ],
   "source": [
    "from IPython.lib.display import FileLink\n",
    "\n",
    "FileLink('subm/submission_{}_blend_convnlstm.csv'.format(exp_name))\n"
   ]
  },
  {
   "cell_type": "code",
   "execution_count": null,
   "metadata": {},
   "outputs": [],
   "source": []
  }
 ],
 "metadata": {
  "anaconda-cloud": {},
  "kernelspec": {
   "display_name": "Python [conda root]",
   "language": "python",
   "name": "conda-root-py"
  },
  "language_info": {
   "codemirror_mode": {
    "name": "ipython",
    "version": 2
   },
   "file_extension": ".py",
   "mimetype": "text/x-python",
   "name": "python",
   "nbconvert_exporter": "python",
   "pygments_lexer": "ipython2",
   "version": "2.7.14"
  },
  "toc": {
   "nav_menu": {},
   "number_sections": true,
   "sideBar": true,
   "skip_h1_title": false,
   "toc_cell": false,
   "toc_position": {},
   "toc_section_display": "block",
   "toc_window_display": true
  }
 },
 "nbformat": 4,
 "nbformat_minor": 1
}
