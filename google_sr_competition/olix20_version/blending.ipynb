{
 "cells": [
  {
   "cell_type": "code",
   "execution_count": 1,
   "metadata": {},
   "outputs": [],
   "source": [
    "from utils import *\n",
    "import scipy\n"
   ]
  },
  {
   "cell_type": "code",
   "execution_count": 6,
   "metadata": {},
   "outputs": [
    {
     "name": "stdout",
     "output_type": "stream",
     "text": [
      "predictions_freqconvs1d_8_51_3_173_183_0.25_72_3-0.0996399012933.npy\n",
      "predictions_freqconvs1d_7_63_3_180_145_0.30_77_3-0.10206483749.npy\n",
      "predictions_freqconvs1d_8_60_3_196_152_0.24_92_2-0.116883278354.npy\n",
      "predictions_freqconvs1d_8_57_3_130_151_0.29_92_1-0.125770319626.npy\n",
      "predictions_freqconvs1d_9_45_3_170_172_0.23_117_3-0.0941048009355.npy\n",
      "predictions_freqconvs1d_9_47_3_166_180_0.28_101_2-0.0991737373303.npy\n",
      "predictions_freqconvs1d_9_42_2_194_173_0.27_120_3-0.114463884747.npy\n",
      "predictions_freqconvs1d_8_63_3_173_143_0.30_72_3-0.105653040254.npy\n",
      "predictions_freqconvs1d_7_33_3_159_188_0.29_104_3-0.0973006736766.npy\n",
      "predictions_freqconvs1d_7_47_2_139_174_0.23_95_2-0.136381656819.npy\n",
      "predictions_freqconvs1d_9_33_3_148_197_0.29_84_2-0.107463196739.npy\n",
      "predictions_freqconvs1d_9_53_2_190_149_0.29_87_3-0.110806304283.npy\n",
      "predictions_freqconvs1d_7_62_3_153_188_0.24_124_1-0.132502203663.npy\n"
     ]
    }
   ],
   "source": [
    "preds = []\n",
    "exp_name= \"nn_massive_2dconvlstm\"\n",
    "for p in os.listdir(\"cache/{}/\".format(exp_name)):\n",
    "    loss =  float(p.split(\"-\")[-1][:5])\n",
    "#     if not \"3-0\" in p:#loss < 0.09:\n",
    "#         continue\n",
    "    print p\n",
    "        \n",
    "    preds.append(np.load(\"cache/{}/{}\".format(exp_name,p)))  \n",
    "        "
   ]
  },
  {
   "cell_type": "code",
   "execution_count": 7,
   "metadata": {},
   "outputs": [
    {
     "data": {
      "text/plain": [
       "13"
      ]
     },
     "execution_count": 7,
     "metadata": {},
     "output_type": "execute_result"
    }
   ],
   "source": [
    "len(preds)"
   ]
  },
  {
   "cell_type": "code",
   "execution_count": 7,
   "metadata": {},
   "outputs": [],
   "source": [
    "conv1dblend=np.load(\"cache/predictions_frqmaxpool256_plus_longblend1.npy\")"
   ]
  },
  {
   "cell_type": "code",
   "execution_count": 8,
   "metadata": {},
   "outputs": [],
   "source": [
    "conv2d_256=np.load(\"cache/predictions_conv2d_wlstm.npy\")"
   ]
  },
  {
   "cell_type": "code",
   "execution_count": 9,
   "metadata": {},
   "outputs": [],
   "source": [
    "conv2d_128 = np.load(\"cache/predictions_conv2d_wlstm_on_64x128_kernel5x7.npy\")\n"
   ]
  },
  {
   "cell_type": "code",
   "execution_count": 12,
   "metadata": {},
   "outputs": [],
   "source": [
    "best_blend = np.load(\"cache/predictions_conv2dlstm_plus_longblend1.npy\")\n"
   ]
  },
  {
   "cell_type": "code",
   "execution_count": 22,
   "metadata": {},
   "outputs": [],
   "source": [
    "predictions = np.mean([conv1dblend,conv2d_256,conv2d_128],axis=0)"
   ]
  },
  {
   "cell_type": "code",
   "execution_count": 30,
   "metadata": {},
   "outputs": [],
   "source": [
    "np.save(\"cache/predictions_conv2d_128_n_256_plus_1dconvensemble.npy\",predictions)"
   ]
  },
  {
   "cell_type": "code",
   "execution_count": 23,
   "metadata": {},
   "outputs": [],
   "source": [
    "classes = np.argmax(predictions, axis=1)"
   ]
  },
  {
   "cell_type": "code",
   "execution_count": 24,
   "metadata": {},
   "outputs": [
    {
     "data": {
      "text/plain": [
       "4288"
      ]
     },
     "execution_count": 24,
     "metadata": {},
     "output_type": "execute_result"
    }
   ],
   "source": [
    "(classes != np.argmax(best_blend, axis=1)).sum()"
   ]
  },
  {
   "cell_type": "code",
   "execution_count": 25,
   "metadata": {},
   "outputs": [
    {
     "data": {
      "text/plain": [
       "(array([12106.,  5982.,  5465.,  6486.,  5747.,  6247.,  6789.,  5802.,\n",
       "         5750., 98164.]),\n",
       " array([ 0. ,  1.1,  2.2,  3.3,  4.4,  5.5,  6.6,  7.7,  8.8,  9.9, 11. ]),\n",
       " <a list of 10 Patch objects>)"
      ]
     },
     "execution_count": 25,
     "metadata": {},
     "output_type": "execute_result"
    },
    {
     "data": {
      "image/png": "[encoded data removed]",
      "text/plain": [
       "<matplotlib.figure.Figure at 0x7efc1b06bb10>"
      ]
     },
     "metadata": {},
     "output_type": "display_data"
    }
   ],
   "source": [
    "plt.hist(classes,bins=10)"
   ]
  },
  {
   "cell_type": "code",
   "execution_count": 12,
   "metadata": {},
   "outputs": [
    {
     "data": {
      "text/plain": [
       "(array([ 12004.,   5908.,   5609.,   6549.,   5711.,   6283.,   6505.,\n",
       "          5783.,   5894.,  98292.]),\n",
       " array([  0. ,   1.1,   2.2,   3.3,   4.4,   5.5,   6.6,   7.7,   8.8,\n",
       "          9.9,  11. ]),\n",
       " <a list of 10 Patch objects>)"
      ]
     },
     "execution_count": 12,
     "metadata": {},
     "output_type": "execute_result"
    }
   ],
   "source": [
    "plt.hist(classes,bins=10)"
   ]
  },
  {
   "cell_type": "code",
   "execution_count": 8,
   "metadata": {},
   "outputs": [
    {
     "data": {
      "text/plain": [
       "(array([ 12528.,   5839.,   5328.,   6245.,   5689.,   6509.,   6553.,\n",
       "          5613.,   5599.,  98635.]),\n",
       " array([  0. ,   1.1,   2.2,   3.3,   4.4,   5.5,   6.6,   7.7,   8.8,\n",
       "          9.9,  11. ]),\n",
       " <a list of 10 Patch objects>)"
      ]
     },
     "execution_count": 8,
     "metadata": {},
     "output_type": "execute_result"
    }
   ],
   "source": [
    "plt.hist(classes,bins=10)"
   ]
  },
  {
   "cell_type": "code",
   "execution_count": 46,
   "metadata": {},
   "outputs": [
    {
     "data": {
      "text/plain": [
       "(array([ 12558.,   5750.,   5475.,   6201.,   5803.,   6507.,   6886.,\n",
       "          5816.,   5804.,  97738.]),\n",
       " array([  0. ,   1.1,   2.2,   3.3,   4.4,   5.5,   6.6,   7.7,   8.8,\n",
       "          9.9,  11. ]),\n",
       " <a list of 10 Patch objects>)"
      ]
     },
     "execution_count": 46,
     "metadata": {},
     "output_type": "execute_result"
    }
   ],
   "source": [
    "plt.hist(classes,bins=10)"
   ]
  },
  {
   "cell_type": "code",
   "execution_count": 19,
   "metadata": {},
   "outputs": [
    {
     "data": {
      "text/plain": [
       "(array([ 12394.,   6282.,   5300.,   6231.,   5642.,   6381.,   6483.,\n",
       "          5548.,   5569.,  98708.]),\n",
       " array([  0. ,   1.1,   2.2,   3.3,   4.4,   5.5,   6.6,   7.7,   8.8,\n",
       "          9.9,  11. ]),\n",
       " <a list of 10 Patch objects>)"
      ]
     },
     "execution_count": 19,
     "metadata": {},
     "output_type": "execute_result"
    }
   ],
   "source": [
    "plt.hist(classes,bins=10)"
   ]
  },
  {
   "cell_type": "code",
   "execution_count": 10,
   "metadata": {},
   "outputs": [
    {
     "data": {
      "text/plain": [
       "(array([ 12435.,   6745.,   5424.,   6269.,   5763.,   6397.,   6935.,\n",
       "          5690.,   5718.,  97162.]),\n",
       " array([  0. ,   1.1,   2.2,   3.3,   4.4,   5.5,   6.6,   7.7,   8.8,\n",
       "          9.9,  11. ]),\n",
       " <a list of 10 Patch objects>)"
      ]
     },
     "execution_count": 10,
     "metadata": {},
     "output_type": "execute_result"
    }
   ],
   "source": [
    "plt.hist(classes,bins=10)"
   ]
  },
  {
   "cell_type": "code",
   "execution_count": 26,
   "metadata": {},
   "outputs": [],
   "source": [
    "test_paths = glob(os.path.join('./data/', 'test/audio/*wav'))"
   ]
  },
  {
   "cell_type": "code",
   "execution_count": 31,
   "metadata": {},
   "outputs": [
    {
     "data": {
      "text/plain": [
       "12"
      ]
     },
     "execution_count": 31,
     "metadata": {},
     "output_type": "execute_result"
    }
   ],
   "source": [
    "POSSIBLE_LABELS = 'yes no up down left right on off stop go silence unknown'.split()\n",
    "id2name = {i: name for i, name in enumerate(POSSIBLE_LABELS)}\n",
    "name2id = {name: i for i, name in id2name.items()}\n",
    "len(id2name)"
   ]
  },
  {
   "cell_type": "code",
   "execution_count": 32,
   "metadata": {
    "scrolled": true
   },
   "outputs": [],
   "source": [
    "submission = dict()\n",
    "for i in range(len(test_paths)):\n",
    "    fname, label = os.path.basename(test_paths[i]), id2name[classes[i]]\n",
    "    submission[fname] = label"
   ]
  },
  {
   "cell_type": "code",
   "execution_count": 33,
   "metadata": {},
   "outputs": [],
   "source": [
    "# timeconvlstm-2xunk_plus_blend2_87\n",
    "with open('subm/{}.csv'.format(\"conv2d_128_n_256_plus_1dconvensemble\"), 'w') as fout: #_blend_conv1dlstm_and_aebased_conv2d_finetuned\n",
    "    fout.write('fname,label\\n')\n",
    "    for fname, label in submission.items():\n",
    "        fout.write('{},{}\\n'.format(fname, label))"
   ]
  },
  {
   "cell_type": "code",
   "execution_count": 34,
   "metadata": {},
   "outputs": [
    {
     "data": {
      "text/html": [
       "<a href='subm/conv2d_128_n_256_plus_1dconvensemble.csv' target='_blank'>subm/conv2d_128_n_256_plus_1dconvensemble.csv</a><br>"
      ],
      "text/plain": [
       "/home/ubuntu/keyword_spotting/subm/conv2d_128_n_256_plus_1dconvensemble.csv"
      ]
     },
     "execution_count": 34,
     "metadata": {},
     "output_type": "execute_result"
    }
   ],
   "source": [
    "from IPython.lib.display import FileLink\n",
    "\n",
    "FileLink('subm/{}.csv'.format(\"conv2d_128_n_256_plus_1dconvensemble\"))\n"
   ]
  },
  {
   "cell_type": "markdown",
   "metadata": {},
   "source": [
    "### create logits\n"
   ]
  },
  {
   "cell_type": "code",
   "execution_count": 19,
   "metadata": {},
   "outputs": [],
   "source": [
    "test_preds = np.load(\"cache/predictions_frqmaxpool256_plus_longblend1.npy\")\n"
   ]
  },
  {
   "cell_type": "code",
   "execution_count": 20,
   "metadata": {},
   "outputs": [],
   "source": [
    "classes = np.argmax(test_preds, axis=1)"
   ]
  },
  {
   "cell_type": "code",
   "execution_count": 21,
   "metadata": {},
   "outputs": [],
   "source": [
    "\n",
    "test_preds = scipy.special.logit(test_preds)"
   ]
  },
  {
   "cell_type": "code",
   "execution_count": 22,
   "metadata": {},
   "outputs": [],
   "source": [
    "class_labels = []\n",
    "\n",
    "for i in range(len(test_paths)):\n",
    "    class_labels.append(id2name[classes[i]])\n",
    "    \n"
   ]
  },
  {
   "cell_type": "code",
   "execution_count": 23,
   "metadata": {},
   "outputs": [],
   "source": [
    "test_file_names = []\n",
    "for i in range(len(test_paths)):\n",
    "    test_file_names.append(os.path.basename(test_paths[i]))\n"
   ]
  },
  {
   "cell_type": "code",
   "execution_count": 24,
   "metadata": {},
   "outputs": [],
   "source": [
    "logits = pd.concat([pd.DataFrame(data=test_file_names,columns=[\"fname\"]) ,\n",
    "                    pd.DataFrame(data=class_labels,columns=[\"label\"]), \n",
    "           pd.DataFrame(data = test_preds, columns=POSSIBLE_LABELS)],axis=1)"
   ]
  },
  {
   "cell_type": "code",
   "execution_count": 25,
   "metadata": {},
   "outputs": [
    {
     "data": {
      "text/html": [
       "<div>\n",
       "<style scoped>\n",
       "    .dataframe tbody tr th:only-of-type {\n",
       "        vertical-align: middle;\n",
       "    }\n",
       "\n",
       "    .dataframe tbody tr th {\n",
       "        vertical-align: top;\n",
       "    }\n",
       "\n",
       "    .dataframe thead th {\n",
       "        text-align: right;\n",
       "    }\n",
       "</style>\n",
       "<table border=\"1\" class=\"dataframe\">\n",
       "  <thead>\n",
       "    <tr style=\"text-align: right;\">\n",
       "      <th></th>\n",
       "      <th>fname</th>\n",
       "      <th>label</th>\n",
       "      <th>yes</th>\n",
       "      <th>no</th>\n",
       "      <th>up</th>\n",
       "      <th>down</th>\n",
       "      <th>left</th>\n",
       "      <th>right</th>\n",
       "      <th>on</th>\n",
       "      <th>off</th>\n",
       "      <th>stop</th>\n",
       "      <th>go</th>\n",
       "      <th>silence</th>\n",
       "      <th>unknown</th>\n",
       "    </tr>\n",
       "  </thead>\n",
       "  <tbody>\n",
       "    <tr>\n",
       "      <th>158533</th>\n",
       "      <td>clip_46e677bad.wav</td>\n",
       "      <td>off</td>\n",
       "      <td>-17.883478</td>\n",
       "      <td>-21.249763</td>\n",
       "      <td>-12.713349</td>\n",
       "      <td>-21.058153</td>\n",
       "      <td>-15.936786</td>\n",
       "      <td>-14.514083</td>\n",
       "      <td>-4.806983</td>\n",
       "      <td>4.768320</td>\n",
       "      <td>-15.348779</td>\n",
       "      <td>-19.979322</td>\n",
       "      <td>-26.929863</td>\n",
       "      <td>-8.068913</td>\n",
       "    </tr>\n",
       "    <tr>\n",
       "      <th>158534</th>\n",
       "      <td>clip_13f4f3999.wav</td>\n",
       "      <td>off</td>\n",
       "      <td>-15.249692</td>\n",
       "      <td>-17.718536</td>\n",
       "      <td>-11.080694</td>\n",
       "      <td>-19.296045</td>\n",
       "      <td>-12.004621</td>\n",
       "      <td>-14.046903</td>\n",
       "      <td>-8.365038</td>\n",
       "      <td>7.689873</td>\n",
       "      <td>-13.875666</td>\n",
       "      <td>-17.927799</td>\n",
       "      <td>-24.729733</td>\n",
       "      <td>-8.512548</td>\n",
       "    </tr>\n",
       "    <tr>\n",
       "      <th>158535</th>\n",
       "      <td>clip_74cb41418.wav</td>\n",
       "      <td>unknown</td>\n",
       "      <td>-1.910422</td>\n",
       "      <td>-3.078889</td>\n",
       "      <td>-7.269076</td>\n",
       "      <td>-4.086558</td>\n",
       "      <td>-3.981898</td>\n",
       "      <td>-4.756974</td>\n",
       "      <td>-6.770249</td>\n",
       "      <td>-5.908035</td>\n",
       "      <td>-7.388863</td>\n",
       "      <td>-3.725363</td>\n",
       "      <td>-10.148592</td>\n",
       "      <td>1.125390</td>\n",
       "    </tr>\n",
       "    <tr>\n",
       "      <th>158536</th>\n",
       "      <td>clip_ffac8a06e.wav</td>\n",
       "      <td>on</td>\n",
       "      <td>-14.398467</td>\n",
       "      <td>-14.194149</td>\n",
       "      <td>-12.014897</td>\n",
       "      <td>-9.314014</td>\n",
       "      <td>-14.595246</td>\n",
       "      <td>-10.409236</td>\n",
       "      <td>3.590081</td>\n",
       "      <td>-8.156230</td>\n",
       "      <td>-14.061340</td>\n",
       "      <td>-11.908450</td>\n",
       "      <td>-20.673233</td>\n",
       "      <td>-3.606370</td>\n",
       "    </tr>\n",
       "    <tr>\n",
       "      <th>158537</th>\n",
       "      <td>clip_c6798b35f.wav</td>\n",
       "      <td>no</td>\n",
       "      <td>-5.837054</td>\n",
       "      <td>0.657193</td>\n",
       "      <td>-7.522390</td>\n",
       "      <td>-3.525701</td>\n",
       "      <td>-6.148783</td>\n",
       "      <td>-6.430878</td>\n",
       "      <td>-5.568509</td>\n",
       "      <td>-7.185807</td>\n",
       "      <td>-6.772242</td>\n",
       "      <td>-1.738820</td>\n",
       "      <td>-11.917267</td>\n",
       "      <td>-1.731314</td>\n",
       "    </tr>\n",
       "  </tbody>\n",
       "</table>\n",
       "</div>"
      ],
      "text/plain": [
       "                     fname    label        yes         no         up  \\\n",
       "158533  clip_46e677bad.wav      off -17.883478 -21.249763 -12.713349   \n",
       "158534  clip_13f4f3999.wav      off -15.249692 -17.718536 -11.080694   \n",
       "158535  clip_74cb41418.wav  unknown  -1.910422  -3.078889  -7.269076   \n",
       "158536  clip_ffac8a06e.wav       on -14.398467 -14.194149 -12.014897   \n",
       "158537  clip_c6798b35f.wav       no  -5.837054   0.657193  -7.522390   \n",
       "\n",
       "             down       left      right        on       off       stop  \\\n",
       "158533 -21.058153 -15.936786 -14.514083 -4.806983  4.768320 -15.348779   \n",
       "158534 -19.296045 -12.004621 -14.046903 -8.365038  7.689873 -13.875666   \n",
       "158535  -4.086558  -3.981898  -4.756974 -6.770249 -5.908035  -7.388863   \n",
       "158536  -9.314014 -14.595246 -10.409236  3.590081 -8.156230 -14.061340   \n",
       "158537  -3.525701  -6.148783  -6.430878 -5.568509 -7.185807  -6.772242   \n",
       "\n",
       "               go    silence   unknown  \n",
       "158533 -19.979322 -26.929863 -8.068913  \n",
       "158534 -17.927799 -24.729733 -8.512548  \n",
       "158535  -3.725363 -10.148592  1.125390  \n",
       "158536 -11.908450 -20.673233 -3.606370  \n",
       "158537  -1.738820 -11.917267 -1.731314  "
      ]
     },
     "execution_count": 25,
     "metadata": {},
     "output_type": "execute_result"
    }
   ],
   "source": [
    "logits.tail()"
   ]
  },
  {
   "cell_type": "code",
   "execution_count": 26,
   "metadata": {},
   "outputs": [],
   "source": [
    "logits.to_csv(\"cache/armin_logits_1dconv_ensemble_87.csv\",index=False)"
   ]
  },
  {
   "cell_type": "code",
   "execution_count": null,
   "metadata": {},
   "outputs": [],
   "source": []
  }
 ],
 "metadata": {
  "kernelspec": {
   "display_name": "Python [conda root]",
   "language": "python",
   "name": "conda-root-py"
  },
  "language_info": {
   "codemirror_mode": {
    "name": "ipython",
    "version": 2
   },
   "file_extension": ".py",
   "mimetype": "text/x-python",
   "name": "python",
   "nbconvert_exporter": "python",
   "pygments_lexer": "ipython2",
   "version": "2.7.14"
  }
 },
 "nbformat": 4,
 "nbformat_minor": 2
}
