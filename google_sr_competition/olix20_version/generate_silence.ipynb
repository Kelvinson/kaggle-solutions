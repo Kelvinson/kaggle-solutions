{
 "cells": [
  {
   "cell_type": "code",
   "execution_count": 1,
   "metadata": {},
   "outputs": [],
   "source": [
    "from pydub import AudioSegment\n",
    "import os \n",
    "import glob \n",
    "import scipy\n",
    "import numpy as np \n",
    "from scipy.io import wavfile"
   ]
  },
  {
   "cell_type": "code",
   "execution_count": 8,
   "metadata": {},
   "outputs": [],
   "source": [
    "all_files = glob.glob('data/train/audio/_background_noise_/*.wav')\n"
   ]
  },
  {
   "cell_type": "code",
   "execution_count": 9,
   "metadata": {},
   "outputs": [
    {
     "data": {
      "text/plain": [
       "['data/train/audio/_background_noise_/white_noise.wav',\n",
       " 'data/train/audio/_background_noise_/dude_miaowing.wav',\n",
       " 'data/train/audio/_background_noise_/exercise_bike.wav',\n",
       " 'data/train/audio/_background_noise_/pink_noise.wav',\n",
       " 'data/train/audio/_background_noise_/doing_the_dishes.wav',\n",
       " 'data/train/audio/_background_noise_/running_tap.wav']"
      ]
     },
     "execution_count": 9,
     "metadata": {},
     "output_type": "execute_result"
    }
   ],
   "source": [
    "all_files"
   ]
  },
  {
   "cell_type": "code",
   "execution_count": 10,
   "metadata": {},
   "outputs": [
    {
     "data": {
      "text/plain": [
       "'white_noise'"
      ]
     },
     "execution_count": 10,
     "metadata": {},
     "output_type": "execute_result"
    }
   ],
   "source": [
    "all_files[0].split(\"/\")[-1][:-4]"
   ]
  },
  {
   "cell_type": "code",
   "execution_count": 11,
   "metadata": {},
   "outputs": [
    {
     "data": {
      "text/plain": [
       "['data/train/audio/_background_noise_/doing_the_dishes.wav',\n",
       " 'data/train/audio/_background_noise_/running_tap.wav']"
      ]
     },
     "execution_count": 11,
     "metadata": {},
     "output_type": "execute_result"
    }
   ],
   "source": [
    "all_files[4:9]"
   ]
  },
  {
   "cell_type": "code",
   "execution_count": 12,
   "metadata": {},
   "outputs": [],
   "source": [
    "def split_to_chunks(file_name):\n",
    "    wav = AudioSegment.from_wav(file_name)\n",
    "    step = 1000\n",
    "    \n",
    "    for i in range(len(wav)//step):\n",
    "        tmp = wav[i*step:i*step + 1000]\n",
    "        \n",
    "        if len(tmp)<1000:\n",
    "            continue\n",
    "            \n",
    "#         tmp_reverse = tmp.reverse()\n",
    "        \n",
    "        tmp = np.array(tmp.get_array_of_samples()).astype(np.int16)\n",
    "#         tmp_reverse = np.array(tmp_reverse.get_array_of_samples()).astype(np.int16)\n",
    "        \n",
    "        \n",
    "        \n",
    "        wavfile.write(\"data/train/audio/silence_no_overlap/\"+file_name.split(\"/\")[-1][:-4]+str(i)+\".wav\",data=tmp,rate=16000)\n",
    "#         wavfile.write(\"data/train/audio/silence/\"+file_name.split(\"/\")[-1][:-4]+str(i)+\"_reverse.wav\",data=tmp_reverse,rate=16000)        "
   ]
  },
  {
   "cell_type": "code",
   "execution_count": 14,
   "metadata": {},
   "outputs": [],
   "source": [
    "for f in all_files:\n",
    "    w= split_to_chunks(f)\n"
   ]
  },
  {
   "cell_type": "code",
   "execution_count": 15,
   "metadata": {},
   "outputs": [
    {
     "data": {
      "text/html": [
       "\n",
       "                    <audio controls>\n",
       "                        <source src=\"data:audio/mpeg;base64,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\" type=\"audio/mpeg\"/>\n",
       "                        Your browser does not support the audio element.\n",
       "                    </audio>\n",
       "                  "
      ],
      "text/plain": [
       "<pydub.audio_segment.AudioSegment at 0x7f3d83b0a850>"
      ]
     },
     "execution_count": 15,
     "metadata": {},
     "output_type": "execute_result"
    }
   ],
   "source": [
    "AudioSegment.from_wav(file=\"data/train/audio/silence_no_overlap/doing_the_dishes63.wav\")"
   ]
  },
  {
   "cell_type": "code",
   "execution_count": null,
   "metadata": {},
   "outputs": [],
   "source": []
  }
 ],
 "metadata": {
  "kernelspec": {
   "display_name": "Python [conda root]",
   "language": "python",
   "name": "conda-root-py"
  },
  "language_info": {
   "codemirror_mode": {
    "name": "ipython",
    "version": 2
   },
   "file_extension": ".py",
   "mimetype": "text/x-python",
   "name": "python",
   "nbconvert_exporter": "python",
   "pygments_lexer": "ipython2",
   "version": "2.7.14"
  }
 },
 "nbformat": 4,
 "nbformat_minor": 2
}
